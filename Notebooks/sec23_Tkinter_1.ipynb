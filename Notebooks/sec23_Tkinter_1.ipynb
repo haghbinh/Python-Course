{
 "cells": [
  {
   "cell_type": "markdown",
   "id": "c635b7e2-1661-4a60-adb7-914a02aef725",
   "metadata": {},
   "source": [
    "<div style=\"direction:rtl;line-height:300%;\">\n",
    "    <font face=\"Zar_Bd.ttf\" size=5>\n",
    "        <div align=center>\n",
    "            <font face=\"IranNastaliq\" size=10>\n",
    "                <p dir=\"rtl\" style=\"text-align: justify;\"></p>\n",
    "                <p dir=\"rtl\" style=\"text-align: justify;\"></p>\n",
    "به نام خدا\n",
    "                <p dir=\"rtl\" style=\"text-align: justify;\"></p>\n",
    "            </font>\n",
    "               <font color=#FF7500 face=\"IranNastaliq\" size=30> \n",
    "                    <h3>درس بیست و سوم: رابط کاربری گرافیکی 1     </h3> \n",
    "               </font>\n",
    "        </div>\n",
    "        <hr />\n",
    "        <style type=\"text/css\" scoped>\n",
    "        p{\n",
    "        border: 1px solid #a2a9b1;background-color: #f8f9fa;display: inline-block;\n",
    "        };\n",
    "        </style>\n",
    "    </font>\n",
    "</div>"
   ]
  },
  {
   "cell_type": "markdown",
   "id": "3d2e75c4-f8ef-47e1-88d6-c89696cf7924",
   "metadata": {},
   "source": [
    "<h2 dir=\"rtl\" style=\"text-align: justify;\">مقدمه‌ای بر GUI در پایتون با Tkinter</h2>\n",
    "\n",
    "<p dir=\"rtl\" style=\"text-align: justify;\">\n",
    "Tkinter کتابخانه استاندارد پایتون برای ساخت برنامه‌های گرافیکی (GUI) است. با Tkinter می‌توان پنجره‌ها، دکمه‌ها، لیبل‌ها، فیلدهای متنی و دیگر ویجت‌ها را ایجاد کرد و تعامل با کاربر را پیاده‌سازی نمود.\n",
    "</p>\n",
    "\n",
    "<h2 dir=\"rtl\" style=\"text-align: justify;\">بخش ۱: ایجاد پنجره ساده</h2>\n",
    "\n",
    "<p dir=\"rtl\" style=\"text-align: justify;\">\n",
    "برای شروع، ابتدا Tkinter را وارد کرده و یک پنجره ساده ایجاد می‌کنیم.\n",
    "</p>"
   ]
  },
  {
   "cell_type": "code",
   "execution_count": 2,
   "id": "3176f21d-7717-46c0-8f6d-334066b95931",
   "metadata": {},
   "outputs": [],
   "source": [
    "import tkinter as tk\n",
    "\n",
    "# ایجاد پنجره اصلی\n",
    "root = tk.Tk()\n",
    "root.title(\"پنجره ساده\")\n",
    "root.geometry(\"300x200\")  # عرض 300 و ارتفاع 200\n",
    "\n",
    "# نمایش پنجره\n",
    "root.mainloop()\n"
   ]
  },
  {
   "cell_type": "markdown",
   "id": "1b6af02d-299f-4445-a768-b9799a2fede5",
   "metadata": {},
   "source": [
    "\n",
    "<p dir=\"rtl\" style=\"text-align: justify;\"> در کد بالا: <ul dir=\"rtl\" style=\"text-align: justify;\"> <li><code>Tk()</code> پنجره اصلی را ایجاد می‌کند.</li> <li><code>title()</code> عنوان پنجره را مشخص می‌کند.</li> <li><code>geometry()</code> اندازه پنجره را تعیین می‌کند.</li> <li><code>mainloop()</code> باعث می‌شود پنجره در حالت اجرا باقی بماند.</li> </ul> </p> <h2 dir=\"rtl\" style=\"text-align: justify;\">بخش ۲: ویجت‌ها و تعامل با کاربر</h2> <p dir=\"rtl\" style=\"text-align: justify;\"> ویجت‌ها عناصر گرافیکی پنجره هستند، مثل لیبل، دکمه و فیلد متنی. می‌توانیم با آن‌ها تعامل داشته باشیم. </p>"
   ]
  },
  {
   "cell_type": "code",
   "execution_count": 3,
   "id": "a41c37ac-5741-4eea-b0dd-002ce6201927",
   "metadata": {},
   "outputs": [],
   "source": [
    "import tkinter as tk\n",
    "\n",
    "def greet():\n",
    "    name = entry_name.get()\n",
    "    label_result.config(text=f\"سلام {name}!\")\n",
    "\n",
    "root = tk.Tk()\n",
    "root.title(\"تعامل با کاربر\")\n",
    "root.geometry(\"400x200\")\n",
    "\n",
    "# لیبل\n",
    "label_prompt = tk.Label(root, text=\"نام خود را وارد کنید:\")\n",
    "label_prompt.pack(pady=10)\n",
    "\n",
    "# فیلد متنی\n",
    "entry_name = tk.Entry(root)\n",
    "entry_name.pack(pady=5)\n",
    "\n",
    "# دکمه\n",
    "button_greet = tk.Button(root, text=\"سلام\", command=greet)\n",
    "button_greet.pack(pady=10)\n",
    "\n",
    "# لیبل نمایش نتیجه\n",
    "label_result = tk.Label(root, text=\"\")\n",
    "label_result.pack(pady=10)\n",
    "\n",
    "root.mainloop()\n"
   ]
  },
  {
   "cell_type": "markdown",
   "id": "c20d0653-f04a-428f-9344-a2a0be0b01ac",
   "metadata": {},
   "source": [
    "\n",
    "<p dir=\"rtl\" style=\"text-align: justify;\"> در این مثال: <ul dir=\"rtl\" style=\"text-align: justify;\"> <li><code>Label</code> برای نمایش متن استفاده می‌شود.</li> <li><code>Entry</code> برای دریافت ورودی کاربر است.</li> <li><code>Button</code> با پارامتر <code>command</code> متدی را فراخوانی می‌کند.</li> <li><code>config()</code> برای تغییر متن لیبل در زمان اجرا استفاده می‌شود.</li> </ul> </p> <h2 dir=\"rtl\" style=\"text-align: justify;\">تمرین</h2> <p dir=\"rtl\" style=\"text-align: justify;\"> ۱. پنجره‌ای با عنوان و اندازه دلخواه بسازید. </p> <p dir=\"rtl\" style=\"text-align: justify;\"> ۲. دو فیلد متنی برای نام و سن ایجاد کنید و دکمه‌ای برای نمایش پیام سلام و سن بسازید. </p> <p dir=\"rtl\" style=\"text-align: justify;\"> ۳. یک دکمه دیگر بسازید که متن لیبل را پاک کند. </p> <p dir=\"rtl\" style=\"text-align: justify;\"> ۴. رنگ پس‌زمینه پنجره و لیبل‌ها را تغییر دهید. </p> <p dir=\"rtl\" style=\"text-align: justify;\"> ۵. چند ویجت دیگر مثل Checkbutton و Radiobutton اضافه کنید و با دکمه مقدار انتخاب‌ها را چاپ کنید. </p>"
   ]
  }
 ],
 "metadata": {
  "kernelspec": {
   "display_name": "Python 3",
   "language": "python",
   "name": "python3"
  },
  "language_info": {
   "codemirror_mode": {
    "name": "ipython",
    "version": 3
   },
   "file_extension": ".py",
   "mimetype": "text/x-python",
   "name": "python",
   "nbconvert_exporter": "python",
   "pygments_lexer": "ipython3",
   "version": "3.12.7"
  }
 },
 "nbformat": 4,
 "nbformat_minor": 5
}
