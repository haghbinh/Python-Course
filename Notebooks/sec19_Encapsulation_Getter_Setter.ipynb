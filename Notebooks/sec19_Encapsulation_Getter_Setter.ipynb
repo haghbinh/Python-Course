{
 "cells": [
  {
   "cell_type": "markdown",
   "id": "c635b7e2-1661-4a60-adb7-914a02aef725",
   "metadata": {},
   "source": [
    "<div style=\"direction:rtl;line-height:300%;\">\n",
    "    <font face=\"Zar_Bd.ttf\" size=5>\n",
    "        <div align=center>\n",
    "            <font face=\"IranNastaliq\" size=10>\n",
    "                <p dir=\"rtl\" style=\"text-align: justify;\"></p>\n",
    "                <p dir=\"rtl\" style=\"text-align: justify;\"></p>\n",
    "به نام خدا\n",
    "                <p dir=\"rtl\" style=\"text-align: justify;\"></p>\n",
    "            </font>\n",
    "               <font color=#FF7500 face=\"IranNastaliq\" size=30> \n",
    "                    <h3>درس نوزدهم: کپسوله‌سازی    </h3> \n",
    "               </font>\n",
    "        </div>\n",
    "        <hr />\n",
    "        <style type=\"text/css\" scoped>\n",
    "        p{\n",
    "        border: 1px solid #a2a9b1;background-color: #f8f9fa;display: inline-block;\n",
    "        };\n",
    "        </style>\n",
    "    </font>\n",
    "</div>"
   ]
  },
  {
   "cell_type": "markdown",
   "id": "3d2e75c4-f8ef-47e1-88d6-c89696cf7924",
   "metadata": {},
   "source": [
    "<h2 dir=\"rtl\" style=\"text-align: justify;\">Encapsulation در پایتون و Getter / Setter</h2>\n",
    "\n",
    "<p dir=\"rtl\" style=\"text-align: justify;\">\n",
    "<b>Encapsulation</b> یا کپسوله‌سازی یکی از اصول برنامه‌نویسی شیءگرا است که به شما اجازه می‌دهد داده‌ها (ویژگی‌ها) را در داخل کلاس مخفی کنید و تنها از طریق متدهای مشخص به آن‌ها دسترسی داشته باشید.  \n",
    "در پایتون این کار با تعریف ویژگی‌های خصوصی (private) و استفاده از <b>Getter</b> و <b>Setter</b> انجام می‌شود.\n",
    "</p>\n",
    "\n",
    "<h2 dir=\"rtl\" style=\"text-align: justify;\">۱. ویژگی‌های خصوصی با __</h2>\n",
    "\n",
    "<p dir=\"rtl\" style=\"text-align: justify;\">\n",
    "با استفاده از دو underscore (<code>__</code>) در ابتدای نام ویژگی، آن را خصوصی می‌کنیم. این ویژگی‌ها نمی‌توانند به صورت مستقیم از خارج کلاس دسترسی داشته باشند.\n",
    "</p>"
   ]
  },
  {
   "cell_type": "code",
   "execution_count": 1,
   "id": "3176f21d-7717-46c0-8f6d-334066b95931",
   "metadata": {},
   "outputs": [],
   "source": [
    "class Product:\n",
    "    def __init__(self, name, price):\n",
    "        self.name = name\n",
    "        self.__price = price  # private attribute\n",
    "\n",
    "p = Product(\"Laptop\", 1500)"
   ]
  },
  {
   "cell_type": "code",
   "execution_count": 2,
   "id": "e9f7d762",
   "metadata": {},
   "outputs": [
    {
     "ename": "AttributeError",
     "evalue": "'Product' object has no attribute '__price'",
     "output_type": "error",
     "traceback": [
      "\u001b[1;31m---------------------------------------------------------------------------\u001b[0m",
      "\u001b[1;31mAttributeError\u001b[0m                            Traceback (most recent call last)",
      "Cell \u001b[1;32mIn[2], line 1\u001b[0m\n\u001b[1;32m----> 1\u001b[0m \u001b[38;5;28mprint\u001b[39m(\u001b[43mp\u001b[49m\u001b[38;5;241;43m.\u001b[39;49m\u001b[43m__price\u001b[49m)  \u001b[38;5;66;03m# AttributeError\u001b[39;00m\n",
      "\u001b[1;31mAttributeError\u001b[0m: 'Product' object has no attribute '__price'"
     ]
    }
   ],
   "source": [
    "print(p.__price)  # AttributeError\n"
   ]
  },
  {
   "cell_type": "code",
   "execution_count": 4,
   "id": "89ee5b3b",
   "metadata": {},
   "outputs": [
    {
     "name": "stdout",
     "output_type": "stream",
     "text": [
      "1500\n"
     ]
    }
   ],
   "source": [
    "\n",
    "print(p._Product__price)  # دسترسی با Name Mangling"
   ]
  },
  {
   "cell_type": "markdown",
   "id": "1b6af02d-299f-4445-a768-b9799a2fede5",
   "metadata": {},
   "source": [
    "<h2 dir=\"rtl\" style=\"text-align: justify;\">۲. Getter و Setter با property</h2> <p dir=\"rtl\" style=\"text-align: justify;\"> در پایتون می‌توان با دکوراتور <code>@property</code> یک Getter تعریف کرد و با <code>@attribute_name.setter</code> یک Setter برای ویژگی خصوصی ایجاد نمود. </p>"
   ]
  },
  {
   "cell_type": "code",
   "execution_count": 5,
   "id": "a41c37ac-5741-4eea-b0dd-002ce6201927",
   "metadata": {},
   "outputs": [
    {
     "name": "stdout",
     "output_type": "stream",
     "text": [
      "1500\n"
     ]
    }
   ],
   "source": [
    "class Product:\n",
    "    def __init__(self, name, price):\n",
    "        self.name = name\n",
    "        self.__price = price\n",
    "\n",
    "    @property\n",
    "    def price(self):\n",
    "        return self.__price\n",
    "\n",
    "    @price.setter\n",
    "    def price(self, value):\n",
    "        if value < 0:\n",
    "            print(\"قیمت نمی‌تواند منفی باشد!\")\n",
    "        else:\n",
    "            self.__price = value\n",
    "\n",
    "p = Product(\"Laptop\", 1500)\n",
    "print(p.price)  \n"
   ]
  },
  {
   "cell_type": "code",
   "execution_count": 6,
   "id": "bd677c56",
   "metadata": {},
   "outputs": [
    {
     "name": "stdout",
     "output_type": "stream",
     "text": [
      "2000\n"
     ]
    }
   ],
   "source": [
    "\n",
    "p.price = 2000\n",
    "print(p.price) \n"
   ]
  },
  {
   "cell_type": "code",
   "execution_count": 7,
   "id": "918998f6",
   "metadata": {},
   "outputs": [
    {
     "name": "stdout",
     "output_type": "stream",
     "text": [
      "قیمت نمی‌تواند منفی باشد!\n"
     ]
    }
   ],
   "source": [
    "p.price = -500 "
   ]
  },
  {
   "cell_type": "markdown",
   "id": "c20d0653-f04a-428f-9344-a2a0be0b01ac",
   "metadata": {},
   "source": [
    "<h2 dir=\"rtl\" style=\"text-align: justify;\">۳. ویژگی‌ها (Attributes)</h2> <p dir=\"rtl\" style=\"text-align: justify;\"> ویژگی‌ها می‌توانند عمومی (public) یا خصوصی (private) باشند. ویژگی‌های خصوصی با <code>_</code> یا <code>__</code> مشخص می‌شوند. </p>"
   ]
  },
  {
   "cell_type": "code",
   "execution_count": 3,
   "id": "a650f531-8f55-4785-ad89-b02266ed9fb5",
   "metadata": {},
   "outputs": [
    {
     "name": "stdout",
     "output_type": "stream",
     "text": [
      "Laptop\n"
     ]
    }
   ],
   "source": [
    "class Product:\n",
    "    def __init__(self, name, price):\n",
    "        self.name = name          # public attribute\n",
    "        self._internal_code = 101 # internal use\n",
    "        self.__private_info = \"secret\"  # private attribute\n",
    "\n",
    "p1 = Product(\"Laptop\", 1500)\n",
    "print(p1.name)    "
   ]
  },
  {
   "cell_type": "code",
   "execution_count": 4,
   "id": "5effd57f",
   "metadata": {},
   "outputs": [
    {
     "name": "stdout",
     "output_type": "stream",
     "text": [
      "101\n"
     ]
    }
   ],
   "source": [
    "print(p1._internal_code) "
   ]
  },
  {
   "cell_type": "code",
   "execution_count": 5,
   "id": "15243eb8",
   "metadata": {},
   "outputs": [
    {
     "name": "stdout",
     "output_type": "stream",
     "text": [
      "secret\n"
     ]
    }
   ],
   "source": [
    "print(p1._Product__private_info) "
   ]
  },
  {
   "cell_type": "markdown",
   "id": "5d546446-395f-45ad-9e24-f80943ad135a",
   "metadata": {},
   "source": [
    "\n",
    "<h2 dir=\"rtl\" style=\"text-align: justify;\">۳. مزایای Encapsulation</h2> <ul dir=\"rtl\" style=\"text-align: justify;\"> <li>محافظت از داده‌ها در برابر تغییرات ناخواسته</li> <li>کنترل دسترسی به ویژگی‌ها</li> <li>امکان افزودن منطق در Setter برای اعتبارسنجی</li> <li>افزایش خوانایی و نگهداری برنامه</li> </ul> <h2 dir=\"rtl\" style=\"text-align: justify;\">تمرین</h2> <p dir=\"rtl\" style=\"text-align: justify;\"> ۱. یک کلاس Product بسازید با ویژگی خصوصی قیمت و یک Getter برای دسترسی به آن. </p> <p dir=\"rtl\" style=\"text-align: justify;\"> ۲. یک Setter برای ویژگی قیمت بسازید که مقدار منفی را قبول نکند. </p> <p dir=\"rtl\" style=\"text-align: justify;\"> ۳. ویژگی خصوصی دیگری برای تعداد موجودی بسازید و Getter و Setter مناسب تعریف کنید. </p> <p dir=\"rtl\" style=\"text-align: justify;\"> ۴. چند شیء از کلاس بسازید و تغییرات ویژگی‌ها را با Setter تست کنید. </p> <p dir=\"rtl\" style=\"text-align: justify;\"> ۵. تلاش کنید با دسترسی مستقیم به ویژگی خصوصی مقدار آن را تغییر دهید و نتیجه را مشاهده کنید. </p>"
   ]
  }
 ],
 "metadata": {
  "kernelspec": {
   "display_name": "Python 3",
   "language": "python",
   "name": "python3"
  },
  "language_info": {
   "codemirror_mode": {
    "name": "ipython",
    "version": 3
   },
   "file_extension": ".py",
   "mimetype": "text/x-python",
   "name": "python",
   "nbconvert_exporter": "python",
   "pygments_lexer": "ipython3",
   "version": "3.12.7"
  }
 },
 "nbformat": 4,
 "nbformat_minor": 5
}
