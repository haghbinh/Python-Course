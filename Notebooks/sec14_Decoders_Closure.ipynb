{
 "cells": [
  {
   "cell_type": "markdown",
   "id": "c635b7e2-1661-4a60-adb7-914a02aef725",
   "metadata": {},
   "source": [
    "<div style=\"direction:rtl;line-height:300%;\">\n",
    "    <font face=\"Zar_Bd.ttf\" size=5>\n",
    "        <div align=center>\n",
    "            <font face=\"IranNastaliq\" size=10>\n",
    "                <p dir=\"rtl\" style=\"text-align: justify;\"></p>\n",
    "                <p dir=\"rtl\" style=\"text-align: justify;\"></p>\n",
    "به نام خدا\n",
    "                <p dir=\"rtl\" style=\"text-align: justify;\"></p>\n",
    "            </font>\n",
    "               <font color=#FF7500 face=\"IranNastaliq\" size=30> \n",
    "                    <h3>درس چهاردهم: دکوراتورها - بستارها    </h3> \n",
    "               </font>\n",
    "        </div>\n",
    "        <hr />\n",
    "        <style type=\"text/css\" scoped>\n",
    "        p{\n",
    "        border: 1px solid #a2a9b1;background-color: #f8f9fa;display: inline-block;\n",
    "        };\n",
    "        </style>\n",
    "    </font>\n",
    "</div>"
   ]
  },
  {
   "cell_type": "markdown",
   "id": "3d2e75c4-f8ef-47e1-88d6-c89696cf7924",
   "metadata": {},
   "source": [
    "<h2 dir=\"rtl\" style=\"text-align: justify;\">دکوراتور (Decorator) و بستار (Closure) ها در پایتون</h2>\n",
    "\n",
    "<p dir=\"rtl\" style=\"text-align: justify;\">\n",
    "Decorators و Closureها ابزارهای قدرتمندی برای مدیریت توابع و افزودن قابلیت‌های جدید به آن‌ها بدون تغییر کد اصلی هستند.  \n",
    "این مفاهیم به ویژه در برنامه‌نویسی حرفه‌ای و فریمورک‌ها بسیار کاربردی هستند.\n",
    "</p>\n",
    "\n",
    "<h2 dir=\"rtl\" style=\"text-align: justify;\">۱. Closureها</h2>\n",
    "\n",
    "<p dir=\"rtl\" style=\"text-align: justify;\">\n",
    "Closure تابعی است که یک تابع دیگر را درون خود دارد و می‌تواند به متغیرهای آن تابع بیرونی دسترسی داشته باشد.  \n",
    "این ویژگی باعث می‌شود که بتوان وضعیت (state) را بدون استفاده از متغیرهای سراسری نگه داشت.\n",
    "</p>"
   ]
  },
  {
   "cell_type": "code",
   "execution_count": 1,
   "id": "3176f21d-7717-46c0-8f6d-334066b95931",
   "metadata": {},
   "outputs": [
    {
     "name": "stdout",
     "output_type": "stream",
     "text": [
      "15\n"
     ]
    }
   ],
   "source": [
    "def outer(x):\n",
    "    def inner(y):\n",
    "        return x + y\n",
    "    return inner\n",
    "\n",
    "add5 = outer(5)  # inner function remembers x=5\n",
    "print(add5(10))  "
   ]
  },
  {
   "cell_type": "code",
   "execution_count": 2,
   "id": "eb1b1592-03a1-4cc2-947f-6b99c29b89bc",
   "metadata": {},
   "outputs": [
    {
     "name": "stdout",
     "output_type": "stream",
     "text": [
      "17\n"
     ]
    }
   ],
   "source": [
    "add10 = outer(10)\n",
    "print(add10(7))  "
   ]
  },
  {
   "cell_type": "markdown",
   "id": "1b6af02d-299f-4445-a768-b9799a2fede5",
   "metadata": {},
   "source": [
    "<h2 dir=\"rtl\" style=\"text-align: justify;\">۲. Decorators</h2> <p dir=\"rtl\" style=\"text-align: justify;\"> Decorator تابعی است که یک تابع دیگر را دریافت می‌کند و قابلیت‌های اضافی به آن اضافه می‌کند بدون اینکه تابع اصلی تغییر کند. به کمک Decorator می‌توان کدهای تکراری مثل ثبت ورود، زمان‌سنجی و اعتبارسنجی را به راحتی مدیریت کرد. </p>"
   ]
  },
  {
   "cell_type": "code",
   "execution_count": 4,
   "id": "a41c37ac-5741-4eea-b0dd-002ce6201927",
   "metadata": {},
   "outputs": [],
   "source": [
    "# Simple decorator\n",
    "def decorator(func):\n",
    "    def wrapper():\n",
    "        print(\"Before function call\")\n",
    "        func()\n",
    "        print(\"After function call\")\n",
    "    return wrapper\n",
    "\n",
    "def say_hello():\n",
    "    print(\"Hello!\")\n",
    "\n",
    "# Apply decorator manually\n",
    "say_hello = decorator(say_hello)"
   ]
  },
  {
   "cell_type": "code",
   "execution_count": 5,
   "id": "58200637-90c3-4bac-9773-f309692f2ee6",
   "metadata": {},
   "outputs": [
    {
     "name": "stdout",
     "output_type": "stream",
     "text": [
      "Before function call\n",
      "Hello!\n",
      "After function call\n"
     ]
    }
   ],
   "source": [
    "say_hello()"
   ]
  },
  {
   "cell_type": "markdown",
   "id": "c20d0653-f04a-428f-9344-a2a0be0b01ac",
   "metadata": {},
   "source": [
    "<h2 dir=\"rtl\" style=\"text-align: justify;\">۳. استفاده از @ برای Decorator</h2> <p dir=\"rtl\" style=\"text-align: justify;\"> می‌توان به جای اعمال دستی decorator، از نماد @ برای تزریق استفاده کرد. </p>"
   ]
  },
  {
   "cell_type": "code",
   "execution_count": 6,
   "id": "a650f531-8f55-4785-ad89-b02266ed9fb5",
   "metadata": {},
   "outputs": [
    {
     "name": "stdout",
     "output_type": "stream",
     "text": [
      "Before function call\n",
      "Hello!\n",
      "After function call\n"
     ]
    }
   ],
   "source": [
    "def decorator(func):\n",
    "    def wrapper():\n",
    "        print(\"Before function call\")\n",
    "        func()\n",
    "        print(\"After function call\")\n",
    "    return wrapper\n",
    "\n",
    "@decorator\n",
    "def say_hello():\n",
    "    print(\"Hello!\")\n",
    "\n",
    "say_hello()"
   ]
  },
  {
   "cell_type": "markdown",
   "id": "5d546446-395f-45ad-9e24-f80943ad135a",
   "metadata": {},
   "source": [
    "<h2 dir=\"rtl\" style=\"text-align: justify;\">۴. Decorator با آرگومان</h2> <p dir=\"rtl\" style=\"text-align: justify;\"> می‌توان Decoratorها را به گونه‌ای نوشت که توابع با پارامتر را نیز پشتیبانی کنند. </p>"
   ]
  },
  {
   "cell_type": "code",
   "execution_count": 7,
   "id": "d5fab07a-c1b7-441b-8b50-5938fdfba61a",
   "metadata": {},
   "outputs": [
    {
     "name": "stdout",
     "output_type": "stream",
     "text": [
      "Before function call\n",
      "Hello, Ali!\n",
      "After function call\n"
     ]
    }
   ],
   "source": [
    "def decorator(func):\n",
    "    def wrapper(*args, **kwargs):\n",
    "        print(\"Before function call\")\n",
    "        result = func(*args, **kwargs)\n",
    "        print(\"After function call\")\n",
    "        return result\n",
    "    return wrapper\n",
    "\n",
    "@decorator\n",
    "def greet(name):\n",
    "    print(f\"Hello, {name}!\")\n",
    "\n",
    "greet(\"Ali\")"
   ]
  },
  {
   "cell_type": "markdown",
   "id": "e33091ac-250f-4a17-9c34-8f6b068c1877",
   "metadata": {},
   "source": [
    "<h2 dir=\"rtl\" style=\"text-align: justify;\">تمرین</h2> <p dir=\"rtl\" style=\"text-align: justify;\"> ۱. یک تابع ساده بسازید و یک Closure بنویسید که مقدار ورودی آن را دو برابر کند. </p> <p dir=\"rtl\" style=\"text-align: justify;\"> ۲. یک Decorator بنویسید که قبل و بعد اجرای تابع پیغام چاپ کند. </p> <p dir=\"rtl\" style=\"text-align: justify;\"> ۳. تابعی بسازید که یک نام دریافت کند و با Decorator قبل و بعد از آن پیغام چاپ شود. </p> <p dir=\"rtl\" style=\"text-align: justify;\"> ۴. یک Closure بسازید که مجموع چند عدد را نگه دارد و هر بار مقدار جدید اضافه کند. </p> <p dir=\"rtl\" style=\"text-align: justify;\"> ۵. یک Decorator بنویسید که زمان اجرای تابع را محاسبه و چاپ کند. </p>"
   ]
  }
 ],
 "metadata": {
  "kernelspec": {
   "display_name": "Python 3 (ipykernel)",
   "language": "python",
   "name": "python3"
  },
  "language_info": {
   "codemirror_mode": {
    "name": "ipython",
    "version": 3
   },
   "file_extension": ".py",
   "mimetype": "text/x-python",
   "name": "python",
   "nbconvert_exporter": "python",
   "pygments_lexer": "ipython3",
   "version": "3.12.7"
  }
 },
 "nbformat": 4,
 "nbformat_minor": 5
}
