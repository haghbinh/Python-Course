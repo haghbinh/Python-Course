{
 "cells": [
  {
   "cell_type": "markdown",
   "id": "c635b7e2-1661-4a60-adb7-914a02aef725",
   "metadata": {},
   "source": [
    "<div style=\"direction:rtl;line-height:300%;\">\n",
    "    <font face=\"Zar_Bd.ttf\" size=5>\n",
    "        <div align=center>\n",
    "            <font face=\"IranNastaliq\" size=10>\n",
    "                <p dir=\"rtl\" style=\"text-align: justify;\"></p>\n",
    "                <p dir=\"rtl\" style=\"text-align: justify;\"></p>\n",
    "به نام خدا\n",
    "                <p dir=\"rtl\" style=\"text-align: justify;\"></p>\n",
    "            </font>\n",
    "               <font color=#FF7500 face=\"IranNastaliq\" size=30> \n",
    "                    <h3>درس پانزدهم: ماژول‌ها و کتابخانه‌ها    </h3> \n",
    "               </font>\n",
    "        </div>\n",
    "        <hr />\n",
    "        <style type=\"text/css\" scoped>\n",
    "        p{\n",
    "        border: 1px solid #a2a9b1;background-color: #f8f9fa;display: inline-block;\n",
    "        };\n",
    "        </style>\n",
    "    </font>\n",
    "</div>"
   ]
  },
  {
   "cell_type": "markdown",
   "id": "3d2e75c4-f8ef-47e1-88d6-c89696cf7924",
   "metadata": {},
   "source": [
    "<h2 dir=\"rtl\" style=\"text-align: justify;\">ماژول‌ها و کتابخانه‌ها در پایتون (Modules & Libraries)</h2>\n",
    "\n",
    "<p dir=\"rtl\" style=\"text-align: justify;\">\n",
    "ماژول‌ها فایل‌هایی شامل کد پایتون هستند که می‌توان آن‌ها را وارد (import) کرد تا از توابع، کلاس‌ها و متغیرهای آن‌ها استفاده کرد.  \n",
    "کتابخانه‌ها مجموعه‌ای از ماژول‌ها هستند که قابلیت‌های بیشتری را در اختیار برنامه‌نویس قرار می‌دهند.  \n",
    "استفاده از ماژول‌ها و کتابخانه‌ها باعث می‌شود کد شما سازمان‌دهی شده، قابل استفاده مجدد و کوتاه‌تر باشد.\n",
    "</p>\n",
    "\n",
    "<h2 dir=\"rtl\" style=\"text-align: justify;\">۱. وارد کردن ماژول‌ها (import)</h2>\n",
    "\n",
    "<p dir=\"rtl\" style=\"text-align: justify;\">\n",
    "برای استفاده از ماژول‌ها از دستور <code>import</code> استفاده می‌کنیم.\n",
    "</p>"
   ]
  },
  {
   "cell_type": "code",
   "execution_count": 1,
   "id": "3176f21d-7717-46c0-8f6d-334066b95931",
   "metadata": {},
   "outputs": [
    {
     "name": "stdout",
     "output_type": "stream",
     "text": [
      "4.0\n"
     ]
    }
   ],
   "source": [
    "# Import entire module\n",
    "import math\n",
    "\n",
    "print(math.sqrt(16))  "
   ]
  },
  {
   "cell_type": "code",
   "execution_count": 3,
   "id": "eb1b1592-03a1-4cc2-947f-6b99c29b89bc",
   "metadata": {},
   "outputs": [
    {
     "name": "stdout",
     "output_type": "stream",
     "text": [
      "3.141592653589793\n"
     ]
    }
   ],
   "source": [
    "print(math.pi)      "
   ]
  },
  {
   "cell_type": "code",
   "execution_count": 4,
   "id": "5154a800-6722-490f-a200-d3222a0d0bbf",
   "metadata": {},
   "outputs": [
    {
     "name": "stdout",
     "output_type": "stream",
     "text": [
      "120\n"
     ]
    }
   ],
   "source": [
    "# Import specific function\n",
    "from math import factorial\n",
    "print(factorial(5))   "
   ]
  },
  {
   "cell_type": "code",
   "execution_count": 5,
   "id": "b3ea8a53-dd22-4e40-8fde-f7d0a6547246",
   "metadata": {},
   "outputs": [
    {
     "name": "stdout",
     "output_type": "stream",
     "text": [
      "1.0\n"
     ]
    }
   ],
   "source": [
    "# Import with alias\n",
    "import math as m\n",
    "print(m.sin(m.pi/2))  "
   ]
  },
  {
   "cell_type": "markdown",
   "id": "1b6af02d-299f-4445-a768-b9799a2fede5",
   "metadata": {},
   "source": [
    "<h2 dir=\"rtl\" style=\"text-align: justify;\">۲. ماژول‌های استاندارد پایتون</h2> <p dir=\"rtl\" style=\"text-align: justify;\"> پایتون دارای ماژول‌های استاندارد فراوانی است که نیاز به نصب جداگانه ندارند. چند مثال معروف: </p>"
   ]
  },
  {
   "cell_type": "code",
   "execution_count": 6,
   "id": "a41c37ac-5741-4eea-b0dd-002ce6201927",
   "metadata": {},
   "outputs": [
    {
     "name": "stdout",
     "output_type": "stream",
     "text": [
      "3\n"
     ]
    }
   ],
   "source": [
    "import random\n",
    "\n",
    "# Generate random number between 1 and 10\n",
    "print(random.randint(1, 10))"
   ]
  },
  {
   "cell_type": "code",
   "execution_count": 7,
   "id": "58200637-90c3-4bac-9773-f309692f2ee6",
   "metadata": {},
   "outputs": [
    {
     "name": "stdout",
     "output_type": "stream",
     "text": [
      "[5, 3, 1, 2, 4]\n"
     ]
    }
   ],
   "source": [
    "# Shuffle a list\n",
    "numbers = [1, 2, 3, 4, 5]\n",
    "random.shuffle(numbers)\n",
    "print(numbers)"
   ]
  },
  {
   "cell_type": "code",
   "execution_count": 8,
   "id": "2e95f644-941a-472f-be68-ce4843ffe0fb",
   "metadata": {},
   "outputs": [
    {
     "name": "stdout",
     "output_type": "stream",
     "text": [
      "2025-08-25 14:47:32.849006\n"
     ]
    }
   ],
   "source": [
    "import datetime\n",
    "\n",
    "# Get current date and time\n",
    "now = datetime.datetime.now()\n",
    "print(now)"
   ]
  },
  {
   "cell_type": "markdown",
   "id": "c20d0653-f04a-428f-9344-a2a0be0b01ac",
   "metadata": {},
   "source": [
    "\n",
    "<h2 dir=\"rtl\" style=\"text-align: justify;\">۳. نصب و استفاده از کتابخانه‌های خارجی</h2> <p dir=\"rtl\" style=\"text-align: justify;\"> می‌توان کتابخانه‌های خارجی را با ابزار <code>pip</code> نصب کرد و سپس استفاده نمود. </p>"
   ]
  },
  {
   "cell_type": "code",
   "execution_count": 10,
   "id": "a650f531-8f55-4785-ad89-b02266ed9fb5",
   "metadata": {},
   "outputs": [
    {
     "name": "stdout",
     "output_type": "stream",
     "text": [
      "200\n"
     ]
    }
   ],
   "source": [
    "# Example: installing requests library\n",
    "# pip install requests\n",
    "\n",
    "import requests\n",
    "\n",
    "response = requests.get(\"https://api.github.com\")\n",
    "print(response.status_code)  \n"
   ]
  },
  {
   "cell_type": "code",
   "execution_count": 11,
   "id": "12e55bb0-227e-48d6-80d1-0ec69fab7f1a",
   "metadata": {},
   "outputs": [
    {
     "name": "stdout",
     "output_type": "stream",
     "text": [
      "application/json; charset=utf-8\n"
     ]
    }
   ],
   "source": [
    "print(response.headers['Content-Type'])"
   ]
  },
  {
   "cell_type": "markdown",
   "id": "5d546446-395f-45ad-9e24-f80943ad135a",
   "metadata": {},
   "source": [
    "<h2 dir=\"rtl\" style=\"text-align: justify;\">۴. ایجاد ماژول اختصاصی</h2> <p dir=\"rtl\" style=\"text-align: justify;\"> می‌توان خودمان فایل پایتون بسازیم و آن را به عنوان ماژول وارد برنامه کنیم. </p>\n",
    "\n",
    "```python\n",
    "# File: mymodule.py\n",
    "def greet(name):\n",
    "    return f\"Hello, {name}!\"\n",
    "\n",
    "def add(x, y):\n",
    "    return x + y\n",
    "\n",
    "# Main program\n",
    "import mymodule\n",
    "\n",
    "print(mymodule.greet(\"Ali\"))  # Output: Hello, Ali!\n",
    "print(mymodule.add(5, 7))     # Output: 12\n",
    "```"
   ]
  },
  {
   "cell_type": "markdown",
   "id": "e33091ac-250f-4a17-9c34-8f6b068c1877",
   "metadata": {},
   "source": [
    "<h2 dir=\"rtl\" style=\"text-align: justify;\">تمرین</h2> <p dir=\"rtl\" style=\"text-align: justify;\"> ۱. از ماژول math تابع pow را برای محاسبه توان یک عدد استفاده کنید. </p> <p dir=\"rtl\" style=\"text-align: justify;\"> ۲. لیستی از اعداد بسازید و با ماژول random یک عدد تصادفی از آن انتخاب کنید. </p> <p dir=\"rtl\" style=\"text-align: justify;\"> ۳. با استفاده از ماژول datetime تاریخ و زمان فعلی را چاپ کنید. </p> <p dir=\"rtl\" style=\"text-align: justify;\"> ۴. یک فایل پایتون بسازید و توابع دلخواه ایجاد کنید، سپس آن را به عنوان ماژول وارد برنامه اصلی کنید. </p> <p dir=\"rtl\" style=\"text-align: justify;\"> ۵. یک کتابخانه خارجی مثل requests یا numpy نصب کنید و از یک قابلیت آن استفاده کنید. </p> <p dir=\"rtl\" style=\"text-align: justify;\"> ۶. با import as یک ماژول را با نام مستعار وارد کنید و یک تابع آن را فراخوانی کنید. </p>"
   ]
  }
 ],
 "metadata": {
  "kernelspec": {
   "display_name": "Python 3 (ipykernel)",
   "language": "python",
   "name": "python3"
  },
  "language_info": {
   "codemirror_mode": {
    "name": "ipython",
    "version": 3
   },
   "file_extension": ".py",
   "mimetype": "text/x-python",
   "name": "python",
   "nbconvert_exporter": "python",
   "pygments_lexer": "ipython3",
   "version": "3.12.7"
  }
 },
 "nbformat": 4,
 "nbformat_minor": 5
}
