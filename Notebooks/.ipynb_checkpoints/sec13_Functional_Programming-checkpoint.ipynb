{
 "cells": [
  {
   "cell_type": "markdown",
   "id": "c635b7e2-1661-4a60-adb7-914a02aef725",
   "metadata": {},
   "source": [
    "<div style=\"direction:rtl;line-height:300%;\">\n",
    "    <font face=\"Zar_Bd.ttf\" size=5>\n",
    "        <div align=center>\n",
    "            <font face=\"IranNastaliq\" size=10>\n",
    "                <p dir=\"rtl\" style=\"text-align: justify;\"></p>\n",
    "                <p dir=\"rtl\" style=\"text-align: justify;\"></p>\n",
    "به نام خدا\n",
    "                <p dir=\"rtl\" style=\"text-align: justify;\"></p>\n",
    "            </font>\n",
    "               <font color=#FF7500 face=\"IranNastaliq\" size=30> \n",
    "                    <h3>درس سیزدهم: توابع پیشرفته   </h3> \n",
    "               </font>\n",
    "        </div>\n",
    "        <hr />\n",
    "        <style type=\"text/css\" scoped>\n",
    "        p{\n",
    "        border: 1px solid #a2a9b1;background-color: #f8f9fa;display: inline-block;\n",
    "        };\n",
    "        </style>\n",
    "    </font>\n",
    "</div>"
   ]
  },
  {
   "cell_type": "markdown",
   "id": "3d2e75c4-f8ef-47e1-88d6-c89696cf7924",
   "metadata": {},
   "source": [
    "<h2 dir=\"rtl\" style=\"text-align: justify;\">توابع پیشرفته در پایتون (Functional Programming)</h2>\n",
    "\n",
    "<p dir=\"rtl\" style=\"text-align: justify;\">\n",
    "در برنامه‌نویسی تابعی (Functional Programming) توابع به عنوان موجودیت‌های درجه یک (first-class) در نظر گرفته می‌شوند.  \n",
    "یعنی می‌توان توابع را به متغیرها نسبت داد، به توابع دیگر ارسال کرد و یا از توابع دیگر بازگرداند.  \n",
    "این سبک برنامه‌نویسی به شما کمک می‌کند تا کدهای کوتاه، واضح و قدرتمند بنویسید.\n",
    "</p>\n",
    "\n",
    "<h2 dir=\"rtl\" style=\"text-align: justify;\">۱. توابع Lambda</h2>\n",
    "\n",
    "<p dir=\"rtl\" style=\"text-align: justify;\">\n",
    "توابع Lambda توابع کوچک و ناشناس هستند که می‌توانند چندین ورودی داشته باشند ولی تنها یک خروجی تولید می‌کنند.  \n",
    "از Lambda معمولاً در مواقعی استفاده می‌کنیم که نیاز به یک تابع کوتاه داریم.\n",
    "</p>"
   ]
  },
  {
   "cell_type": "code",
   "execution_count": 28,
   "id": "3176f21d-7717-46c0-8f6d-334066b95931",
   "metadata": {},
   "outputs": [
    {
     "name": "stdout",
     "output_type": "stream",
     "text": [
      "5\n"
     ]
    }
   ],
   "source": [
    "def add(x, y):\n",
    "    return x + y\n",
    "\n",
    "print(add(2, 3))   "
   ]
  },
  {
   "cell_type": "code",
   "execution_count": 12,
   "id": "eb1b1592-03a1-4cc2-947f-6b99c29b89bc",
   "metadata": {},
   "outputs": [
    {
     "name": "stdout",
     "output_type": "stream",
     "text": [
      "5\n"
     ]
    }
   ],
   "source": [
    "# Same with lambda\n",
    "add_lambda = lambda x, y: x + y\n",
    "print(add_lambda(2, 3))   "
   ]
  },
  {
   "cell_type": "code",
   "execution_count": 9,
   "id": "639e172f-764f-4cce-99e9-cba44564643a",
   "metadata": {},
   "outputs": [
    {
     "name": "stdout",
     "output_type": "stream",
     "text": [
      "36\n"
     ]
    }
   ],
   "source": [
    "# Lambda with one argument\n",
    "square = lambda x: x**2\n",
    "print(square(6))  "
   ]
  },
  {
   "cell_type": "code",
   "execution_count": 10,
   "id": "610de706-5444-4ce2-ac69-2700e5e69c84",
   "metadata": {},
   "outputs": [
    {
     "name": "stdout",
     "output_type": "stream",
     "text": [
      "Hello!\n"
     ]
    }
   ],
   "source": [
    "# Lambda with no arguments\n",
    "greet = lambda: \"Hello!\"\n",
    "print(greet()) "
   ]
  },
  {
   "cell_type": "markdown",
   "id": "1b6af02d-299f-4445-a768-b9799a2fede5",
   "metadata": {},
   "source": [
    "\n",
    "<h2 dir=\"rtl\" style=\"text-align: justify;\">۲. تابع map()</h2> <p dir=\"rtl\" style=\"text-align: justify;\"> تابع map یک تابع را روی همه عناصر یک Iterable مانند لیست یا Tuple اعمال می‌کند و نتیجه را بازمی‌گرداند. </p>"
   ]
  },
  {
   "cell_type": "code",
   "execution_count": 13,
   "id": "a41c37ac-5741-4eea-b0dd-002ce6201927",
   "metadata": {},
   "outputs": [
    {
     "name": "stdout",
     "output_type": "stream",
     "text": [
      "[1, 4, 9, 16, 25]\n"
     ]
    }
   ],
   "source": [
    "numbers = [1, 2, 3, 4, 5]\n",
    "\n",
    "# Square each number using map and lambda\n",
    "squares = list(map(lambda x: x**2, numbers))\n",
    "print(squares)   "
   ]
  },
  {
   "cell_type": "code",
   "execution_count": 14,
   "id": "58200637-90c3-4bac-9773-f309692f2ee6",
   "metadata": {},
   "outputs": [
    {
     "name": "stdout",
     "output_type": "stream",
     "text": [
      "[1, 2, 3]\n"
     ]
    }
   ],
   "source": [
    "# Convert list of strings to integers\n",
    "str_numbers = [\"1\", \"2\", \"3\"]\n",
    "int_numbers = list(map(int, str_numbers))\n",
    "print(int_numbers) "
   ]
  },
  {
   "cell_type": "code",
   "execution_count": 15,
   "id": "4ef50576-639a-4fd6-ac11-0efd01e8e18a",
   "metadata": {},
   "outputs": [
    {
     "name": "stdout",
     "output_type": "stream",
     "text": [
      "[5, 7, 9]\n"
     ]
    }
   ],
   "source": [
    "# Add corresponding elements of two lists\n",
    "a = [1, 2, 3]\n",
    "b = [4, 5, 6]\n",
    "summed = list(map(lambda x, y: x + y, a, b))\n",
    "print(summed)  "
   ]
  },
  {
   "cell_type": "markdown",
   "id": "c20d0653-f04a-428f-9344-a2a0be0b01ac",
   "metadata": {},
   "source": [
    "\n",
    "<h2 dir=\"rtl\" style=\"text-align: justify;\">۳. تابع filter()</h2> <p dir=\"rtl\" style=\"text-align: justify;\"> تابع filter عناصر یک Iterable را بر اساس یک شرط (تابعی که True یا False برمی‌گرداند) فیلتر می‌کند. </p>"
   ]
  },
  {
   "cell_type": "code",
   "execution_count": 16,
   "id": "a650f531-8f55-4785-ad89-b02266ed9fb5",
   "metadata": {},
   "outputs": [
    {
     "name": "stdout",
     "output_type": "stream",
     "text": [
      "[10, 20, 30]\n"
     ]
    }
   ],
   "source": [
    "numbers = [10, 15, 20, 25, 30]\n",
    "\n",
    "# Get even numbers using filter and lambda\n",
    "evens = list(filter(lambda x: x % 2 == 0, numbers))\n",
    "print(evens)   # Output: [10, 20, 30]"
   ]
  },
  {
   "cell_type": "code",
   "execution_count": 18,
   "id": "42b6a78d-cfc2-467a-b7fa-7ce42f1d2260",
   "metadata": {},
   "outputs": [
    {
     "name": "stdout",
     "output_type": "stream",
     "text": [
      "[20, 25, 30]\n"
     ]
    }
   ],
   "source": [
    "# Filter numbers greater than 18\n",
    "greater_than_18 = list(filter(lambda x: x > 18, numbers))\n",
    "print(greater_than_18)  # Output: [20, 25, 30]"
   ]
  },
  {
   "cell_type": "code",
   "execution_count": 19,
   "id": "859c7944-c826-473c-b1e5-87ed79cccf70",
   "metadata": {},
   "outputs": [
    {
     "name": "stdout",
     "output_type": "stream",
     "text": [
      "['apple', 'avocado']\n"
     ]
    }
   ],
   "source": [
    "# Filter strings starting with 'a'\n",
    "words = [\"apple\", \"banana\", \"avocado\", \"cherry\"]\n",
    "a_words = list(filter(lambda w: w[0] == 'a', words))\n",
    "print(a_words)  # Output: ['apple', 'avocado']"
   ]
  },
  {
   "cell_type": "markdown",
   "id": "5d546446-395f-45ad-9e24-f80943ad135a",
   "metadata": {},
   "source": [
    "\n",
    "<h2 dir=\"rtl\" style=\"text-align: justify;\">۴. تابع zip()</h2> <p dir=\"rtl\" style=\"text-align: justify;\"> تابع zip چند Iterable را با هم ترکیب می‌کند و یک Iterable از Tupleها ایجاد می‌کند. </p>"
   ]
  },
  {
   "cell_type": "code",
   "execution_count": 21,
   "id": "d5fab07a-c1b7-441b-8b50-5938fdfba61a",
   "metadata": {},
   "outputs": [
    {
     "name": "stdout",
     "output_type": "stream",
     "text": [
      "[('Alice', 85), ('Bob', 90), ('Charlie', 78)]\n"
     ]
    }
   ],
   "source": [
    "names = [\"Alice\", \"Bob\", \"Charlie\"]\n",
    "scores = [85, 90, 78]\n",
    "ages = [20, 21, 19]\n",
    "\n",
    "# Combine two lists\n",
    "result = list(zip(names, scores))\n",
    "print(result)  "
   ]
  },
  {
   "cell_type": "code",
   "execution_count": 22,
   "id": "9d69b707-5e69-4e62-9d04-9b4d39e57b38",
   "metadata": {},
   "outputs": [
    {
     "name": "stdout",
     "output_type": "stream",
     "text": [
      "[('Alice', 85, 20), ('Bob', 90, 21), ('Charlie', 78, 19)]\n"
     ]
    }
   ],
   "source": [
    "# Combine three lists\n",
    "result3 = list(zip(names, scores, ages))\n",
    "print(result3)"
   ]
  },
  {
   "cell_type": "code",
   "execution_count": 24,
   "id": "edc13047-045d-46aa-b794-3406260b5e85",
   "metadata": {},
   "outputs": [
    {
     "name": "stdout",
     "output_type": "stream",
     "text": [
      "('Alice', 'Bob', 'Charlie')\n"
     ]
    }
   ],
   "source": [
    "# Unzip a list of tuples\n",
    "zipped = [('Alice', 85), ('Bob', 90), ('Charlie', 78)]\n",
    "names2, scores2 = zip(*zipped)\n",
    "print(names2)   "
   ]
  },
  {
   "cell_type": "code",
   "execution_count": 25,
   "id": "81932ca0-4f6c-4283-8d14-30f7e97a0a45",
   "metadata": {},
   "outputs": [
    {
     "name": "stdout",
     "output_type": "stream",
     "text": [
      "(85, 90, 78)\n"
     ]
    }
   ],
   "source": [
    "print(scores2)"
   ]
  },
  {
   "cell_type": "markdown",
   "id": "e33091ac-250f-4a17-9c34-8f6b068c1877",
   "metadata": {},
   "source": [
    "\n",
    "<h2 dir=\"rtl\" style=\"text-align: justify;\">۵. ترکیب map، filter و zip</h2> <p dir=\"rtl\" style=\"text-align: justify;\"> می‌توان این توابع را با هم ترکیب کرد تا کدهای کوتاه و خوانا نوشت. </p>"
   ]
  },
  {
   "cell_type": "code",
   "execution_count": 26,
   "id": "8e71d3b7-e0e6-44c8-9286-4bb4ca69201f",
   "metadata": {},
   "outputs": [
    {
     "name": "stdout",
     "output_type": "stream",
     "text": [
      "[4, 16, 36]\n"
     ]
    }
   ],
   "source": [
    "numbers = [1, 2, 3, 4, 5, 6]\n",
    "\n",
    "# Filter even numbers\n",
    "evens = list(filter(lambda x: x % 2 == 0, numbers))\n",
    "\n",
    "# Square the filtered numbers\n",
    "squared_evens = list(map(lambda x: x**2, evens))\n",
    "print(squared_evens)   "
   ]
  },
  {
   "cell_type": "code",
   "execution_count": 27,
   "id": "efc69ca1-0af3-404b-b585-e6145dcd2320",
   "metadata": {},
   "outputs": [
    {
     "name": "stdout",
     "output_type": "stream",
     "text": [
      "[4, 16]\n"
     ]
    }
   ],
   "source": [
    "# Combine two lists, filter and square\n",
    "a = [1, 2, 3, 4]\n",
    "b = [5, 6, 7, 8]\n",
    "result = list(map(lambda x: x**2, filter(lambda x: x % 2 == 0, a)))\n",
    "print(result)  "
   ]
  },
  {
   "cell_type": "markdown",
   "id": "67c58609-6df8-4e76-9062-5132a2a79b5e",
   "metadata": {},
   "source": [
    "<h2 dir=\"rtl\" style=\"text-align: justify;\">تمرین</h2> <p dir=\"rtl\" style=\"text-align: justify;\"> ۱. یک Lambda بنویسید که دو عدد را با هم جمع کند و نتیجه را چاپ کند. </p> <p dir=\"rtl\" style=\"text-align: justify;\"> ۲. لیستی از اعداد بسازید و با map هر عدد را سه برابر کنید. </p> <p dir=\"rtl\" style=\"text-align: justify;\"> ۳. لیستی از اعداد بسازید و با filter فقط اعداد فرد را انتخاب کنید. </p> <p dir=\"rtl\" style=\"text-align: justify;\"> ۴. دو لیست بسازید و با zip آن‌ها را به یک لیست از Tupleها تبدیل کنید. </p> <p dir=\"rtl\" style=\"text-align: justify;\"> ۵. با ترکیب map و filter لیستی از اعداد ایجاد کنید و ابتدا اعداد بزرگتر از ۵ را فیلتر کنید و سپس هر عدد را به توان دو برسانید. </p> <p dir=\"rtl\" style=\"text-align: justify;\"> ۶. یک لیست از رشته‌ها بسازید و با filter فقط رشته‌هایی که با حرف 'a' شروع می‌شوند انتخاب کنید. </p> <p dir=\"rtl\" style=\"text-align: justify;\"> ۷. دو لیست بسازید و با map مجموع عناصر متناظر آن‌ها را محاسبه کنید. </p> <p dir=\"rtl\" style=\"text-align: justify;\"> ۸. یک لیست از Tuple بسازید و با unzip (استفاده از *) دوباره به دو لیست جداگانه تبدیل کنید. </p>"
   ]
  },
  {
   "cell_type": "code",
   "execution_count": null,
   "id": "b87ffbf9-fbcd-49e6-afd5-7c6d8f971100",
   "metadata": {},
   "outputs": [],
   "source": []
  }
 ],
 "metadata": {
  "kernelspec": {
   "display_name": "Python 3 (ipykernel)",
   "language": "python",
   "name": "python3"
  },
  "language_info": {
   "codemirror_mode": {
    "name": "ipython",
    "version": 3
   },
   "file_extension": ".py",
   "mimetype": "text/x-python",
   "name": "python",
   "nbconvert_exporter": "python",
   "pygments_lexer": "ipython3",
   "version": "3.12.7"
  }
 },
 "nbformat": 4,
 "nbformat_minor": 5
}
