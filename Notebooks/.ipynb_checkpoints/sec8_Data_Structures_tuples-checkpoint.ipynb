{
 "cells": [
  {
   "cell_type": "markdown",
   "id": "c635b7e2-1661-4a60-adb7-914a02aef725",
   "metadata": {},
   "source": [
    "<div style=\"direction:rtl;line-height:300%;\">\n",
    "    <font face=\"Zar_Bd.ttf\" size=5>\n",
    "        <div align=center>\n",
    "            <font face=\"IranNastaliq\" size=10>\n",
    "                <p dir=\"rtl\" style=\"text-align: justify;\"></p>\n",
    "                <p dir=\"rtl\" style=\"text-align: justify;\"></p>\n",
    "به نام خدا\n",
    "                <p dir=\"rtl\" style=\"text-align: justify;\"></p>\n",
    "            </font>\n",
    "               <font color=#FF7500 face=\"IranNastaliq\" size=30> \n",
    "                    <h3>درس هشتم: ساختار داده‌ها در پایتون  </h3> \n",
    "                    <h4>چندتایی‌ها  </h4> \n",
    "               </font>\n",
    "        </div>\n",
    "        <hr />\n",
    "        <style type=\"text/css\" scoped>\n",
    "        p{\n",
    "        border: 1px solid #a2a9b1;background-color: #f8f9fa;display: inline-block;\n",
    "        };\n",
    "        </style>\n",
    "    </font>\n",
    "</div>"
   ]
  },
  {
   "cell_type": "markdown",
   "id": "65942d52-729d-4d9a-8824-9e32b9534bff",
   "metadata": {},
   "source": [
    "<h2 dir=\"rtl\" style=\"text-align: justify;\">ساختار داده‌ها در پایتون: چندتایی‌ها (Tuples)</h2>\n",
    "\n",
    "<p dir=\"rtl\" style=\"text-align: justify;\">\n",
    "چندتایی‌ها یا Tupleها مشابه لیست‌ها هستند اما **غیرقابل تغییر (immutable)** می‌باشند. \n",
    "پس بعد از ایجاد یک Tuple نمی‌توان عناصر آن را تغییر داد، اضافه یا حذف کرد. این ویژگی باعث می‌شود برای داده‌هایی که تغییر نمی‌کنند مناسب باشند.\n",
    "</p>\n",
    "\n",
    "<h2 dir=\"rtl\" style=\"text-align: justify;\">۱. ایجاد Tuple</h2>\n",
    "\n",
    "<p dir=\"rtl\" style=\"text-align: justify;\">\n",
    "چندتایی با استفاده از پرانتز `()` تعریف می‌شود و عناصر آن با کاما جدا می‌شوند.\n",
    "</p>\n"
   ]
  },
  {
   "cell_type": "code",
   "execution_count": 15,
   "id": "a0681d7a-d7dd-4c67-85e9-6cd2a366090f",
   "metadata": {},
   "outputs": [
    {
     "name": "stdout",
     "output_type": "stream",
     "text": [
      "(1, 2, 3, 4)\n",
      "('apple', 'banana', 'cherry')\n",
      "(1, 'hello', 3.14, True)\n"
     ]
    }
   ],
   "source": [
    "# Creating tuples\n",
    "t1 = (1, 2, 3, 4)\n",
    "t2 = (\"apple\", \"banana\", \"cherry\")\n",
    "t3 = (1, \"hello\", 3.14, True)\n",
    "\n",
    "print(t1)\n",
    "print(t2)\n",
    "print(t3)"
   ]
  },
  {
   "cell_type": "markdown",
   "id": "f5f069a6-26cf-497b-84f9-dba2cb552d3e",
   "metadata": {},
   "source": [
    "<h2 dir=\"rtl\" style=\"text-align: justify;\">۲. دسترسی به عناصر</h2> <p dir=\"rtl\" style=\"text-align: justify;\"> برای دسترسی به عناصر Tuple از اندیس استفاده می‌کنیم. اندیس‌ها از صفر شروع می‌شوند و می‌توان از اندیس منفی برای دسترسی از انتهای Tuple استفاده کرد. </p>"
   ]
  },
  {
   "cell_type": "code",
   "execution_count": 16,
   "id": "bf7c65b9-4662-497b-ac02-a45b56b4d04a",
   "metadata": {},
   "outputs": [
    {
     "name": "stdout",
     "output_type": "stream",
     "text": [
      "10\n",
      "30\n",
      "40\n"
     ]
    }
   ],
   "source": [
    "t = (10, 20, 30, 40)\n",
    "\n",
    "print(t[0])   # First element\n",
    "print(t[2])   # Third element\n",
    "print(t[-1])  # Last element\n"
   ]
  },
  {
   "cell_type": "markdown",
   "id": "2f3c9ee6-dbcd-4c48-8910-e2039532af6a",
   "metadata": {},
   "source": [
    "\n",
    "<h2 dir=\"rtl\" style=\"text-align: justify;\">۳. غیرقابل تغییر بودن Tuple</h2> <p dir=\"rtl\" style=\"text-align: justify;\"> چندتایی غیرقابل تغییر است، پس اگر تلاش کنید عنصر آن را تغییر دهید، پایتون خطا می‌دهد. </p>"
   ]
  },
  {
   "cell_type": "code",
   "execution_count": 17,
   "id": "7389be64-6eb4-45f4-815d-2432bf6de988",
   "metadata": {},
   "outputs": [
    {
     "ename": "TypeError",
     "evalue": "'tuple' object does not support item assignment",
     "output_type": "error",
     "traceback": [
      "\u001b[1;31m---------------------------------------------------------------------------\u001b[0m",
      "\u001b[1;31mTypeError\u001b[0m                                 Traceback (most recent call last)",
      "Cell \u001b[1;32mIn[17], line 4\u001b[0m\n\u001b[0;32m      1\u001b[0m t \u001b[38;5;241m=\u001b[39m (\u001b[38;5;241m1\u001b[39m, \u001b[38;5;241m2\u001b[39m, \u001b[38;5;241m3\u001b[39m)\n\u001b[0;32m      3\u001b[0m \u001b[38;5;66;03m# Trying to modify an element\u001b[39;00m\n\u001b[1;32m----> 4\u001b[0m \u001b[43mt\u001b[49m\u001b[43m[\u001b[49m\u001b[38;5;241;43m0\u001b[39;49m\u001b[43m]\u001b[49m \u001b[38;5;241m=\u001b[39m \u001b[38;5;241m100\u001b[39m  \u001b[38;5;66;03m# Uncommenting this will raise an error\u001b[39;00m\n",
      "\u001b[1;31mTypeError\u001b[0m: 'tuple' object does not support item assignment"
     ]
    }
   ],
   "source": [
    "t = (1, 2, 3)\n",
    "\n",
    "# Trying to modify an element\n",
    "t[0] = 100  # Uncommenting this will raise an error\n"
   ]
  },
  {
   "cell_type": "markdown",
   "id": "89684500-fe3e-4168-97d8-bc1a7e7fa7e6",
   "metadata": {},
   "source": [
    "\n",
    "<h2 dir=\"rtl\" style=\"text-align: justify;\">۴. الحاق و تکرار</h2> <p dir=\"rtl\" style=\"text-align: justify;\"> می‌توانیم چندتایی‌ها را به هم الحاق کنیم یا تکرار کنیم. </p>"
   ]
  },
  {
   "cell_type": "code",
   "execution_count": 18,
   "id": "9842e201-f60c-45aa-8069-9db7b3969167",
   "metadata": {},
   "outputs": [
    {
     "name": "stdout",
     "output_type": "stream",
     "text": [
      "(1, 2, 3, 4, 5, 6)\n",
      "(1, 2, 3, 1, 2, 3, 1, 2, 3)\n"
     ]
    }
   ],
   "source": [
    "t1 = (1, 2, 3)\n",
    "t2 = (4, 5, 6)\n",
    "\n",
    "# Concatenation\n",
    "t3 = t1 + t2\n",
    "print(t3)\n",
    "\n",
    "# Repetition\n",
    "t4 = t1 * 3\n",
    "print(t4)\n"
   ]
  },
  {
   "cell_type": "markdown",
   "id": "dfc110ce-d629-42c0-b59f-6bb67f47ec35",
   "metadata": {},
   "source": [
    "\n",
    "<h2 dir=\"rtl\" style=\"text-align: justify;\">۵. Tuple تو در تو</h2> <p dir=\"rtl\" style=\"text-align: justify;\"> چندتایی‌ها می‌توانند شامل چندتایی‌های دیگر باشند و با دو اندیس به عناصر داخلی دسترسی پیدا کنیم. </p>"
   ]
  },
  {
   "cell_type": "code",
   "execution_count": 19,
   "id": "d9059b5a-c44a-4000-a1e8-06b16059ba72",
   "metadata": {},
   "outputs": [
    {
     "name": "stdout",
     "output_type": "stream",
     "text": [
      "(1, 2)\n",
      "4\n"
     ]
    }
   ],
   "source": [
    "nested = ((1, 2), (3, 4), (5, 6))\n",
    "print(nested[0])\n",
    "print(nested[1][1])\n"
   ]
  },
  {
   "cell_type": "markdown",
   "id": "9357fcf2-e984-4d47-a15a-633fbb31a31b",
   "metadata": {},
   "source": [
    "<h2 dir=\"rtl\" style=\"text-align: justify;\">۶. تبدیل بین لیست و Tuple</h2> <p dir=\"rtl\" style=\"text-align: justify;\"> می‌توان لیست را به Tuple و Tuple را به لیست تبدیل کرد. </p>"
   ]
  },
  {
   "cell_type": "code",
   "execution_count": 20,
   "id": "33d2b644-894c-46f8-9cbe-9f705a2f2bf6",
   "metadata": {},
   "outputs": [
    {
     "name": "stdout",
     "output_type": "stream",
     "text": [
      "(1, 2, 3)\n",
      "[1, 2, 3]\n"
     ]
    }
   ],
   "source": [
    "lst = [1, 2, 3]\n",
    "tpl = tuple(lst)\n",
    "print(tpl)\n",
    "\n",
    "new_list = list(tpl)\n",
    "print(new_list)\n"
   ]
  },
  {
   "cell_type": "markdown",
   "id": "6fac55a7-9f94-45fb-b6fe-c2121b485171",
   "metadata": {},
   "source": [
    "<h2 dir=\"rtl\" style=\"text-align: justify;\">۷. توابع مفید برای Tuple</h2> <p dir=\"rtl\" style=\"text-align: justify;\"> چندتایی‌ها متدهای محدودی دارند اما می‌توان از توابع عمومی پایتون روی آن‌ها استفاده کرد. </p>"
   ]
  },
  {
   "cell_type": "code",
   "execution_count": 21,
   "id": "484cfe22-82be-4e96-ba54-0f02c681dfbb",
   "metadata": {},
   "outputs": [
    {
     "name": "stdout",
     "output_type": "stream",
     "text": [
      "5\n",
      "40\n",
      "10\n",
      "2\n",
      "2\n"
     ]
    }
   ],
   "source": [
    "t = (10, 20, 30, 40, 20)\n",
    "\n",
    "print(len(t))       # Length\n",
    "print(max(t))       # Maximum\n",
    "print(min(t))       # Minimum\n",
    "print(t.count(20))  # Count of element\n",
    "print(t.index(30))  # Index of element\n"
   ]
  },
  {
   "cell_type": "markdown",
   "id": "31bb9cc2-63de-43f9-939d-49c4d44566d6",
   "metadata": {},
   "source": [
    "\n",
    "<h2 dir=\"rtl\" style=\"text-align: justify;\">۸. استفاده از Tuple برای چند مقدار بازگشتی</h2> <p dir=\"rtl\" style=\"text-align: justify;\"> توابع می‌توانند چند مقدار را همزمان با استفاده از Tuple بازگردانند. </p>"
   ]
  },
  {
   "cell_type": "code",
   "execution_count": 22,
   "id": "36520bb7-65e0-4d1a-92a0-3e8da0cdaee1",
   "metadata": {},
   "outputs": [
    {
     "name": "stdout",
     "output_type": "stream",
     "text": [
      "(1, 9)\n"
     ]
    }
   ],
   "source": [
    "def min_max(values):\n",
    "    return (min(values), max(values))\n",
    "\n",
    "result = min_max([4, 7, 1, 9, 3])\n",
    "print(result)\n"
   ]
  },
  {
   "cell_type": "markdown",
   "id": "ac7f1839-ac4f-4666-a37b-02552c6b5093",
   "metadata": {},
   "source": [
    "<h2 dir=\"rtl\" style=\"text-align: justify;\">تمرین</h2> \n",
    "<p dir=\"rtl\" style=\"text-align: justify;\"> ۱. یک Tuple شامل نام، نام خانوادگی و سن خود بسازید. </p> \n",
    "<p dir=\"rtl\" style=\"text-align: justify;\"> ۲. یک لیست از نمرات درسی تعریف کنید و آن را به Tuple تبدیل کنید. </p> \n",
    "<p dir=\"rtl\" style=\"text-align: justify;\"> ۳. تابعی بنویسید که هم مجموع و هم میانگین یک لیست از اعداد را برگرداند (به صورت Tuple). </p>\n",
    "<p dir=\"rtl\" style=\"text-align: justify;\"> ۴. یک Tuple تو در تو بسازید و با استفاده از اندیس به یکی از عناصر داخلی دسترسی پیدا کنید. </p>\n",
    "<p dir=\"rtl\" style=\"text-align: justify;\"> ۵. یک Tuple شامل چند نوع داده مختلف بسازید و تعداد و موقعیت یک عنصر خاص را با استفاده از توابع count و index پیدا کنید. </p>\n"
   ]
  },
  {
   "cell_type": "code",
   "execution_count": null,
   "id": "1d078043-2b73-4a7a-a2c0-f12484fcf549",
   "metadata": {},
   "outputs": [],
   "source": []
  }
 ],
 "metadata": {
  "kernelspec": {
   "display_name": "Python 3 (ipykernel)",
   "language": "python",
   "name": "python3"
  },
  "language_info": {
   "codemirror_mode": {
    "name": "ipython",
    "version": 3
   },
   "file_extension": ".py",
   "mimetype": "text/x-python",
   "name": "python",
   "nbconvert_exporter": "python",
   "pygments_lexer": "ipython3",
   "version": "3.12.7"
  }
 },
 "nbformat": 4,
 "nbformat_minor": 5
}
