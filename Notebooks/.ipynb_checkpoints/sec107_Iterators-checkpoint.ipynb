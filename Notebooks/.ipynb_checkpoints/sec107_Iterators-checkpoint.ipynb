{
 "cells": [
  {
   "cell_type": "markdown",
   "id": "c635b7e2-1661-4a60-adb7-914a02aef725",
   "metadata": {},
   "source": [
    "<div style=\"direction:rtl;line-height:300%;\">\n",
    "    <font face=\"Zar_Bd.ttf\" size=5>\n",
    "        <div align=center>\n",
    "            <font face=\"IranNastaliq\" size=10>\n",
    "                <p dir=\"rtl\" style=\"text-align: justify;\"></p>\n",
    "                <p dir=\"rtl\" style=\"text-align: justify;\"></p>\n",
    "به نام خدا\n",
    "                <p dir=\"rtl\" style=\"text-align: justify;\"></p>\n",
    "            </font>\n",
    "               <font color=#FF7500 face=\"IranNastaliq\" size=30> \n",
    "                    <h3>درس هفدهم: تکرارکننده‌ها و تکرارشونده‌ها    </h3> \n",
    "               </font>\n",
    "        </div>\n",
    "        <hr />\n",
    "        <style type=\"text/css\" scoped>\n",
    "        p{\n",
    "        border: 1px solid #a2a9b1;background-color: #f8f9fa;display: inline-block;\n",
    "        };\n",
    "        </style>\n",
    "    </font>\n",
    "</div>"
   ]
  },
  {
   "cell_type": "markdown",
   "id": "3d2e75c4-f8ef-47e1-88d6-c89696cf7924",
   "metadata": {},
   "source": [
    "<h2 dir=\"rtl\" style=\"text-align: justify;\">Iterables و Iterators در پایتون</h2>\n",
    "\n",
    "<p dir=\"rtl\" style=\"text-align: justify;\">\n",
    "در پایتون، بسیاری از اشیاء قابل تکرار هستند؛ مانند لیست‌ها، تاپل‌ها، رشته‌ها و دیکشنری‌ها.  \n",
    "به این اشیاء <b>Iterable</b> می‌گوییم، زیرا می‌توانیم آن‌ها را تکرار کنیم (با حلقه for یا سایر توابع).  \n",
    "Iterator ابزاری است که روی یک Iterable حرکت می‌کند و عنصر بعدی را برمی‌گرداند.\n",
    "</p>\n",
    "\n",
    "<h2 dir=\"rtl\" style=\"text-align: justify;\">۱. Iterable چیست؟</h2>\n",
    "\n",
    "<p dir=\"rtl\" style=\"text-align: justify;\">\n",
    "یک شئ Iterable باید متد <code>__iter__()</code> داشته باشد. لیست‌ها، تاپل‌ها، رشته‌ها و دیکشنری‌ها نمونه‌هایی از Iterable هستند.\n",
    "</p>"
   ]
  },
  {
   "cell_type": "code",
   "execution_count": 1,
   "id": "3176f21d-7717-46c0-8f6d-334066b95931",
   "metadata": {},
   "outputs": [
    {
     "name": "stdout",
     "output_type": "stream",
     "text": [
      "1\n",
      "2\n",
      "3\n",
      "4\n",
      "P\n",
      "y\n",
      "t\n",
      "h\n",
      "o\n",
      "n\n"
     ]
    }
   ],
   "source": [
    "# List is an iterable\n",
    "numbers = [1, 2, 3, 4]\n",
    "for num in numbers:\n",
    "    print(num)\n",
    "\n",
    "# String is also iterable\n",
    "text = \"Python\"\n",
    "for char in text:\n",
    "    print(char)"
   ]
  },
  {
   "cell_type": "markdown",
   "id": "1b6af02d-299f-4445-a768-b9799a2fede5",
   "metadata": {},
   "source": [
    "<h2 dir=\"rtl\" style=\"text-align: justify;\">۲. Iterator چیست؟</h2> <p dir=\"rtl\" style=\"text-align: justify;\"> Iterator یک شئ است که متد <code>__next__()</code> دارد و با آن می‌توان عناصر یک Iterable را یکی‌یکی دریافت کرد. برای دریافت Iterator از یک Iterable، از تابع <code>iter()</code> استفاده می‌کنیم. </p>"
   ]
  },
  {
   "cell_type": "code",
   "execution_count": 2,
   "id": "a41c37ac-5741-4eea-b0dd-002ce6201927",
   "metadata": {},
   "outputs": [
    {
     "name": "stdout",
     "output_type": "stream",
     "text": [
      "10\n"
     ]
    }
   ],
   "source": [
    "numbers = [10, 20, 30]\n",
    "it = iter(numbers)\n",
    "\n",
    "print(next(it))  "
   ]
  },
  {
   "cell_type": "code",
   "execution_count": 3,
   "id": "d3cf3f1d-8bbf-4901-b9ed-19ea95e1f663",
   "metadata": {},
   "outputs": [
    {
     "name": "stdout",
     "output_type": "stream",
     "text": [
      "20\n"
     ]
    }
   ],
   "source": [
    "print(next(it))  "
   ]
  },
  {
   "cell_type": "code",
   "execution_count": 4,
   "id": "18ee64cf-5c16-4465-8382-d43bcb9bc770",
   "metadata": {},
   "outputs": [
    {
     "name": "stdout",
     "output_type": "stream",
     "text": [
      "30\n"
     ]
    }
   ],
   "source": [
    "print(next(it))  "
   ]
  },
  {
   "cell_type": "code",
   "execution_count": 5,
   "id": "6d4e91e3-7c40-40bd-a94a-8125c6fadc6b",
   "metadata": {},
   "outputs": [
    {
     "ename": "StopIteration",
     "evalue": "",
     "output_type": "error",
     "traceback": [
      "\u001b[1;31m---------------------------------------------------------------------------\u001b[0m",
      "\u001b[1;31mStopIteration\u001b[0m                             Traceback (most recent call last)",
      "Cell \u001b[1;32mIn[5], line 1\u001b[0m\n\u001b[1;32m----> 1\u001b[0m \u001b[38;5;28mprint\u001b[39m(\u001b[38;5;28;43mnext\u001b[39;49m\u001b[43m(\u001b[49m\u001b[43mit\u001b[49m\u001b[43m)\u001b[49m)\n",
      "\u001b[1;31mStopIteration\u001b[0m: "
     ]
    }
   ],
   "source": [
    "print(next(it))"
   ]
  },
  {
   "cell_type": "markdown",
   "id": "c20d0653-f04a-428f-9344-a2a0be0b01ac",
   "metadata": {},
   "source": [
    "<h2 dir=\"rtl\" style=\"text-align: justify;\">۳. حلقه for و Iterators</h2> <p dir=\"rtl\" style=\"text-align: justify;\"> حلقه for به صورت خودکار از Iterable یک Iterator می‌سازد و با <code>next()</code> عناصر را دریافت می‌کند. بنابراین کد کوتاه و خوانا می‌شود. </p>"
   ]
  },
  {
   "cell_type": "code",
   "execution_count": 6,
   "id": "a650f531-8f55-4785-ad89-b02266ed9fb5",
   "metadata": {},
   "outputs": [
    {
     "name": "stdout",
     "output_type": "stream",
     "text": [
      "1\n",
      "2\n",
      "3\n",
      "4\n",
      "5\n"
     ]
    }
   ],
   "source": [
    "numbers = [1, 2, 3, 4, 5]\n",
    "for num in numbers:\n",
    "    print(num)"
   ]
  },
  {
   "cell_type": "markdown",
   "id": "5d546446-395f-45ad-9e24-f80943ad135a",
   "metadata": {},
   "source": [
    "<h2 dir=\"rtl\" style=\"text-align: justify;\">۴. ساخت Iterator اختصاصی</h2> <p dir=\"rtl\" style=\"text-align: justify;\"> می‌توان کلاس‌هایی ساخت که خودشان Iterator باشند. برای این کار باید متدهای <code>__iter__()</code> و <code>__next__()</code> را تعریف کنیم. </p>"
   ]
  },
  {
   "cell_type": "code",
   "execution_count": 7,
   "id": "d11b9c9f-fec6-40b3-8940-aae71f2ad105",
   "metadata": {},
   "outputs": [
    {
     "name": "stdout",
     "output_type": "stream",
     "text": [
      "5\n",
      "6\n",
      "7\n",
      "8\n",
      "9\n"
     ]
    }
   ],
   "source": [
    "class MyRange:\n",
    "    def __init__(self, start, end):\n",
    "        self.current = start\n",
    "        self.end = end\n",
    "    \n",
    "    def __iter__(self):\n",
    "        return self\n",
    "    \n",
    "    def __next__(self):\n",
    "        if self.current >= self.end:\n",
    "            raise StopIteration\n",
    "        value = self.current\n",
    "        self.current += 1\n",
    "        return value\n",
    "\n",
    "for i in MyRange(5, 10):\n",
    "    print(i)\n"
   ]
  },
  {
   "cell_type": "markdown",
   "id": "e33091ac-250f-4a17-9c34-8f6b068c1877",
   "metadata": {},
   "source": [
    "<h2 dir=\"rtl\" style=\"text-align: justify;\">۵. توابع کمکی با Iterators</h2> <p dir=\"rtl\" style=\"text-align: justify;\"> پایتون توابعی مانند <code>enumerate()</code>، <code>zip()</code> و <code>reversed()</code> تولید Iterator می‌کنند و می‌توان از آن‌ها در حلقه for استفاده کرد. </p>"
   ]
  },
  {
   "cell_type": "code",
   "execution_count": 9,
   "id": "150d5c6a-3f3c-4414-9b34-0e8c3f8ca7f2",
   "metadata": {},
   "outputs": [
    {
     "name": "stdout",
     "output_type": "stream",
     "text": [
      "0 apple\n",
      "1 banana\n",
      "2 cherry\n",
      "1 a\n",
      "2 b\n",
      "3 c\n"
     ]
    }
   ],
   "source": [
    "# enumerate example\n",
    "words = [\"apple\", \"banana\", \"cherry\"]\n",
    "for idx, word in enumerate(words):\n",
    "    print(idx, word)\n",
    "\n",
    "# zip returns iterator\n",
    "numbers = [1, 2, 3]\n",
    "letters = ['a', 'b', 'c']\n",
    "for n, l in zip(numbers, letters):\n",
    "    print(n, l)"
   ]
  },
  {
   "cell_type": "code",
   "execution_count": 10,
   "id": "964f9935-aead-46ec-83af-a24d92117335",
   "metadata": {},
   "outputs": [
    {
     "name": "stdout",
     "output_type": "stream",
     "text": [
      "3\n",
      "2\n",
      "1\n"
     ]
    }
   ],
   "source": [
    "# reversed returns iterator\n",
    "for n in reversed(numbers):\n",
    "    print(n)"
   ]
  },
  {
   "cell_type": "markdown",
   "id": "ca2b0097-a04c-4d21-9549-844c6d6146d0",
   "metadata": {},
   "source": [
    "<h2 dir=\"rtl\" style=\"text-align: justify;\">تمرین</h2> <p dir=\"rtl\" style=\"text-align: justify;\"> ۱. یک لیست بسازید و با حلقه for تمام عناصر آن را چاپ کنید. </p> <p dir=\"rtl\" style=\"text-align: justify;\"> ۲. یک Iterator از یک رشته بسازید و با next() عناصر آن را یکی‌یکی چاپ کنید. </p> <p dir=\"rtl\" style=\"text-align: justify;\"> ۳. یک کلاس بسازید که یک محدوده عددی را به صورت Iterator برگرداند. </p> <p dir=\"rtl\" style=\"text-align: justify;\"> ۴. با استفاده از enumerate، ایندکس و مقدار عناصر یک لیست را چاپ کنید. </p> <p dir=\"rtl\" style=\"text-align: justify;\"> ۵. دو لیست بسازید و با zip آن‌ها را ترکیب کرده و عناصر آن را چاپ کنید. </p> <p dir=\"rtl\" style=\"text-align: justify;\"> ۶. یک Iterator بسازید و در یک حلقه while با next() تمام عناصر آن را چاپ کنید تا StopIteration رخ دهد. </p>"
   ]
  },
  {
   "cell_type": "code",
   "execution_count": null,
   "id": "22aba823-3b63-4a2a-a564-0e20204794ad",
   "metadata": {},
   "outputs": [],
   "source": []
  }
 ],
 "metadata": {
  "kernelspec": {
   "display_name": "Python 3 (ipykernel)",
   "language": "python",
   "name": "python3"
  },
  "language_info": {
   "codemirror_mode": {
    "name": "ipython",
    "version": 3
   },
   "file_extension": ".py",
   "mimetype": "text/x-python",
   "name": "python",
   "nbconvert_exporter": "python",
   "pygments_lexer": "ipython3",
   "version": "3.12.7"
  }
 },
 "nbformat": 4,
 "nbformat_minor": 5
}
