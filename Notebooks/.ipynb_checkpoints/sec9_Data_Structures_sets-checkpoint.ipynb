{
 "cells": [
  {
   "cell_type": "markdown",
   "id": "c635b7e2-1661-4a60-adb7-914a02aef725",
   "metadata": {},
   "source": [
    "<div style=\"direction:rtl;line-height:300%;\">\n",
    "    <font face=\"Zar_Bd.ttf\" size=5>\n",
    "        <div align=center>\n",
    "            <font face=\"IranNastaliq\" size=10>\n",
    "                <p dir=\"rtl\" style=\"text-align: justify;\"></p>\n",
    "                <p dir=\"rtl\" style=\"text-align: justify;\"></p>\n",
    "به نام خدا\n",
    "                <p dir=\"rtl\" style=\"text-align: justify;\"></p>\n",
    "            </font>\n",
    "               <font color=#FF7500 face=\"IranNastaliq\" size=30> \n",
    "                    <h3>درس هشتم: ساختار داده‌ها در پایتون  </h3> \n",
    "                    <h4>مجموعه‌ها  </h4> \n",
    "               </font>\n",
    "        </div>\n",
    "        <hr />\n",
    "        <style type=\"text/css\" scoped>\n",
    "        p{\n",
    "        border: 1px solid #a2a9b1;background-color: #f8f9fa;display: inline-block;\n",
    "        };\n",
    "        </style>\n",
    "    </font>\n",
    "</div>"
   ]
  },
  {
   "cell_type": "markdown",
   "id": "3d2e75c4-f8ef-47e1-88d6-c89696cf7924",
   "metadata": {},
   "source": [
    "<h2 dir=\"rtl\" style=\"text-align: justify;\">ساختار داده‌ها در پایتون: مجموعه‌ها (Sets)</h2>\n",
    "\n",
    "<p dir=\"rtl\" style=\"text-align: justify;\">\n",
    "مجموعه‌ها (Sets) یکی دیگر از ساختارهای داده‌ای مهم در پایتون هستند. \n",
    "ویژگی اصلی مجموعه‌ها این است که **تکراری‌ها حذف می‌شوند** و ترتیب عناصر مشخص نیست.  \n",
    "همچنین مجموعه‌ها **قابل تغییر (mutable)** هستند، بنابراین می‌توان عناصر آن‌ها را اضافه یا حذف کرد.\n",
    "</p>\n",
    "\n",
    "<h2 dir=\"rtl\" style=\"text-align: justify;\">۱. ایجاد مجموعه</h2>\n",
    "\n",
    "<p dir=\"rtl\" style=\"text-align: justify;\">\n",
    "مجموعه‌ها با استفاده از آکولاد `{}` یا تابع `set()` ساخته می‌شوند.\n",
    "</p>"
   ]
  },
  {
   "cell_type": "code",
   "execution_count": 1,
   "id": "5cc7867e-df43-42da-a2d7-496843d2a24a",
   "metadata": {},
   "outputs": [
    {
     "name": "stdout",
     "output_type": "stream",
     "text": [
      "{1, 2, 3, 4}\n",
      "{1, 2, 3, 4}\n",
      "{'banana', 'apple', 'cherry'}\n"
     ]
    }
   ],
   "source": [
    "# Creating sets\n",
    "s1 = {1, 2, 3, 4}\n",
    "s2 = set([1, 2, 2, 3, 4])\n",
    "s3 = {\"apple\", \"banana\", \"cherry\"}\n",
    "\n",
    "print(s1)\n",
    "print(s2)  # duplicates removed\n",
    "print(s3)"
   ]
  },
  {
   "cell_type": "markdown",
   "id": "b95972f2-52a1-439c-83bc-1f3e2286b185",
   "metadata": {},
   "source": [
    "<h2 dir=\"rtl\" style=\"text-align: justify;\">۲. افزودن و حذف عناصر</h2> <p dir=\"rtl\" style=\"text-align: justify;\"> برای اضافه کردن عنصر از متد `add` و برای حذف از `remove` یا `discard` استفاده می‌کنیم. </p>"
   ]
  },
  {
   "cell_type": "code",
   "execution_count": 2,
   "id": "5de84b86-b338-435c-a4ac-bdee51ac814f",
   "metadata": {},
   "outputs": [
    {
     "name": "stdout",
     "output_type": "stream",
     "text": [
      "{'banana', 'apple', 'cherry'}\n",
      "{'apple', 'cherry'}\n",
      "{'apple', 'cherry'}\n"
     ]
    }
   ],
   "source": [
    "fruits = {\"apple\", \"banana\"}\n",
    "\n",
    "# Add element\n",
    "fruits.add(\"cherry\")\n",
    "print(fruits)\n",
    "\n",
    "# Remove element\n",
    "fruits.remove(\"banana\")\n",
    "print(fruits)\n",
    "\n",
    "# Discard element (does not raise error if not present)\n",
    "fruits.discard(\"kiwi\")\n",
    "print(fruits)\n"
   ]
  },
  {
   "cell_type": "markdown",
   "id": "66dfa888-cbc1-4fe5-acdf-41c0faf51374",
   "metadata": {},
   "source": [
    "<h2 dir=\"rtl\" style=\"text-align: justify;\">۳. عملیات مجموعه‌ها</h2> <p dir=\"rtl\" style=\"text-align: justify;\"> مجموعه‌ها عملیات ریاضی مانند اجتماع، اشتراک و تفاوت دارند. </p>"
   ]
  },
  {
   "cell_type": "code",
   "execution_count": 3,
   "id": "0fbe4def-1456-432b-86ce-76255d57dafe",
   "metadata": {},
   "outputs": [
    {
     "name": "stdout",
     "output_type": "stream",
     "text": [
      "Union: {1, 2, 3, 4, 5, 6}\n",
      "Intersection: {3, 4}\n",
      "Difference: {1, 2}\n",
      "Symmetric Difference: {1, 2, 5, 6}\n"
     ]
    }
   ],
   "source": [
    "A = {1, 2, 3, 4}\n",
    "B = {3, 4, 5, 6}\n",
    "\n",
    "print(\"Union:\", A | B)          # اجتماع\n",
    "print(\"Intersection:\", A & B)   # اشتراک\n",
    "print(\"Difference:\", A - B)     # تفاوت\n",
    "print(\"Symmetric Difference:\", A ^ B)  # تفاوت متقابل\n"
   ]
  },
  {
   "cell_type": "markdown",
   "id": "054d72aa-9a4d-4743-80b8-41edd2f62513",
   "metadata": {},
   "source": [
    "<h2 dir=\"rtl\" style=\"text-align: justify;\">۴. بررسی وجود عنصر</h2> <p dir=\"rtl\" style=\"text-align: justify;\"> برای بررسی اینکه یک عنصر در مجموعه وجود دارد یا نه، از `in` استفاده می‌کنیم. </p>"
   ]
  },
  {
   "cell_type": "code",
   "execution_count": 4,
   "id": "32421bc0-fbf8-4337-a0dc-420c3696b76e",
   "metadata": {},
   "outputs": [
    {
     "name": "stdout",
     "output_type": "stream",
     "text": [
      "True\n",
      "True\n"
     ]
    }
   ],
   "source": [
    "fruits = {\"apple\", \"banana\", \"cherry\"}\n",
    "print(\"apple\" in fruits)   # True\n",
    "print(\"kiwi\" not in fruits) # True\n"
   ]
  },
  {
   "cell_type": "markdown",
   "id": "e643d243-0287-4058-9a50-3ea21aec0e57",
   "metadata": {},
   "source": [
    "<h2 dir=\"rtl\" style=\"text-align: justify;\">۵. طول مجموعه و تبدیل به لیست</h2> <p dir=\"rtl\" style=\"text-align: justify;\"> می‌توان طول مجموعه را با `len()` گرفت و مجموعه را به لیست یا چندتایی تبدیل کرد. </p>"
   ]
  },
  {
   "cell_type": "code",
   "execution_count": 5,
   "id": "d903d331-1a4b-40ad-84a7-43335be15361",
   "metadata": {},
   "outputs": [
    {
     "name": "stdout",
     "output_type": "stream",
     "text": [
      "5\n",
      "[1, 2, 3, 4, 5]\n",
      "(1, 2, 3, 4, 5)\n"
     ]
    }
   ],
   "source": [
    "numbers = {1, 2, 3, 4, 5}\n",
    "print(len(numbers))\n",
    "\n",
    "# Convert to list\n",
    "numbers_list = list(numbers)\n",
    "print(numbers_list)\n",
    "\n",
    "# Convert to tuple\n",
    "numbers_tuple = tuple(numbers)\n",
    "print(numbers_tuple)\n"
   ]
  },
  {
   "cell_type": "markdown",
   "id": "2796187f-c3cd-461a-ad4a-743f5f921706",
   "metadata": {},
   "source": [
    "<h2 dir=\"rtl\" style=\"text-align: justify;\">تمرین</h2> <p dir=\"rtl\" style=\"text-align: justify;\"> ۱. یک مجموعه از اعداد بسازید و تعداد عناصر آن را چاپ کنید. </p> <p dir=\"rtl\" style=\"text-align: justify;\"> ۲. یک مجموعه شامل چند رشته بسازید و یک عنصر جدید به آن اضافه کنید. </p> <p dir=\"rtl\" style=\"text-align: justify;\"> ۳. دو مجموعه بسازید و اجتماع، اشتراک و تفاوت آن‌ها را محاسبه کنید. </p> <p dir=\"rtl\" style=\"text-align: justify;\"> ۴. مجموعه‌ای بسازید که شامل برخی عناصر تکراری باشد و نشان دهید که تکراری‌ها حذف می‌شوند. </p> <p dir=\"rtl\" style=\"text-align: justify;\"> ۵. یک مجموعه بسازید و بررسی کنید آیا یک عنصر مشخص در آن وجود دارد یا خیر. </p>"
   ]
  },
  {
   "cell_type": "code",
   "execution_count": null,
   "id": "a63a58df-f979-4bc0-b91c-72d79d207564",
   "metadata": {},
   "outputs": [],
   "source": []
  }
 ],
 "metadata": {
  "kernelspec": {
   "display_name": "Python 3 (ipykernel)",
   "language": "python",
   "name": "python3"
  },
  "language_info": {
   "codemirror_mode": {
    "name": "ipython",
    "version": 3
   },
   "file_extension": ".py",
   "mimetype": "text/x-python",
   "name": "python",
   "nbconvert_exporter": "python",
   "pygments_lexer": "ipython3",
   "version": "3.12.7"
  }
 },
 "nbformat": 4,
 "nbformat_minor": 5
}
