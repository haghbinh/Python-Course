{
 "cells": [
  {
   "cell_type": "markdown",
   "id": "c635b7e2-1661-4a60-adb7-914a02aef725",
   "metadata": {},
   "source": [
    "<div style=\"direction:rtl;line-height:300%;\">\n",
    "    <font face=\"Zar_Bd.ttf\" size=5>\n",
    "        <div align=center>\n",
    "            <font face=\"IranNastaliq\" size=10>\n",
    "                <p dir=\"rtl\" style=\"text-align: justify;\"></p>\n",
    "                <p dir=\"rtl\" style=\"text-align: justify;\"></p>\n",
    "به نام خدا\n",
    "                <p dir=\"rtl\" style=\"text-align: justify;\"></p>\n",
    "            </font>\n",
    "               <font color=#FF7500 face=\"IranNastaliq\" size=30> \n",
    "                    <h3>درس یازدهم: رشته‌ها  </h3> \n",
    "               </font>\n",
    "        </div>\n",
    "        <hr />\n",
    "        <style type=\"text/css\" scoped>\n",
    "        p{\n",
    "        border: 1px solid #a2a9b1;background-color: #f8f9fa;display: inline-block;\n",
    "        };\n",
    "        </style>\n",
    "    </font>\n",
    "</div>"
   ]
  },
  {
   "cell_type": "markdown",
   "id": "3d2e75c4-f8ef-47e1-88d6-c89696cf7924",
   "metadata": {},
   "source": [
    "<h2 dir=\"rtl\" style=\"text-align: justify;\">رشته‌ها (Strings) در پایتون</h2>\n",
    "\n",
    "<p dir=\"rtl\" style=\"text-align: justify;\">\n",
    "رشته‌ها یکی از پرکاربردترین ساختارهای داده‌ای در پایتون هستند.  \n",
    "رشته‌ها توالی‌ای از کاراکترها هستند و می‌توان روی آن‌ها عملیات مختلفی مانند دسترسی به کاراکتر، برش (slicing)، ترکیب و فرمت‌بندی انجام داد.\n",
    "</p>\n",
    "\n",
    "<h2 dir=\"rtl\" style=\"text-align: justify;\">۱. ایجاد رشته</h2>\n",
    "\n",
    "<p dir=\"rtl\" style=\"text-align: justify;\">\n",
    "رشته‌ها می‌توانند با استفاده از کوتیشن‌های تک `'...'` یا دوتایی `\"...\"` ساخته شوند.\n",
    "</p>"
   ]
  },
  {
   "cell_type": "code",
   "execution_count": 1,
   "id": "68cca0e0-31f3-4fc7-9705-15e68aba41ca",
   "metadata": {},
   "outputs": [
    {
     "name": "stdout",
     "output_type": "stream",
     "text": [
      "Hello\n",
      "World\n",
      "Python 3.11\n"
     ]
    }
   ],
   "source": [
    "# Creating strings\n",
    "s1 = \"Hello\"\n",
    "s2 = 'World'\n",
    "s3 = \"Python 3.11\"\n",
    "\n",
    "print(s1)\n",
    "print(s2)\n",
    "print(s3)"
   ]
  },
  {
   "cell_type": "markdown",
   "id": "10c17762-1117-4f72-8ea2-2ab04996caad",
   "metadata": {},
   "source": [
    "<h2 dir=\"rtl\" style=\"text-align: justify;\">۲. دسترسی به کاراکترها و برش (Indexing & Slicing)</h2> <p dir=\"rtl\" style=\"text-align: justify;\"> می‌توان با استفاده از اندیس به کاراکترها دسترسی داشت و با slicing بخش‌هایی از رشته را استخراج کرد. </p>"
   ]
  },
  {
   "cell_type": "code",
   "execution_count": 2,
   "id": "d5e8f1b7-5528-4f2b-9c79-98e175b71fb3",
   "metadata": {},
   "outputs": [
    {
     "name": "stdout",
     "output_type": "stream",
     "text": [
      "P\n",
      "n\n",
      "Pyth\n",
      "thon\n",
      "Pyt\n"
     ]
    }
   ],
   "source": [
    "text = \"Python\"\n",
    "\n",
    "print(text[0])    # First character\n",
    "print(text[-1])   # Last character\n",
    "print(text[0:4])  # Characters from index 0 to 3\n",
    "print(text[2:])   # Characters from index 2 to end\n",
    "print(text[:3])   # Characters from start to index 2\n"
   ]
  },
  {
   "cell_type": "markdown",
   "id": "61c50644-7b74-4103-9ae8-a40b8ac08ac5",
   "metadata": {},
   "source": [
    "<h2 dir=\"rtl\" style=\"text-align: justify;\">۳. عملیات روی رشته‌ها</h2> <p dir=\"rtl\" style=\"text-align: justify;\"> می‌توان رشته‌ها را به هم متصل کرد یا تکرار کرد. </p>"
   ]
  },
  {
   "cell_type": "code",
   "execution_count": 3,
   "id": "0f8a6c12-6029-4325-86d7-f9453c787d22",
   "metadata": {},
   "outputs": [
    {
     "name": "stdout",
     "output_type": "stream",
     "text": [
      "Hello World\n",
      "HelloHelloHello\n"
     ]
    }
   ],
   "source": [
    "s1 = \"Hello\"\n",
    "s2 = \"World\"\n",
    "\n",
    "# Concatenation\n",
    "s3 = s1 + \" \" + s2\n",
    "print(s3)\n",
    "\n",
    "# Repetition\n",
    "s4 = s1 * 3\n",
    "print(s4)\n"
   ]
  },
  {
   "cell_type": "markdown",
   "id": "62e06e3b-85b1-475c-8d86-20fdb230a6ab",
   "metadata": {},
   "source": [
    "\n",
    "<h2 dir=\"rtl\" style=\"text-align: justify;\">۴. توابع و متدهای مفید</h2> <p dir=\"rtl\" style=\"text-align: justify;\"> رشته‌ها متدهای زیادی دارند که کار با آن‌ها را آسان می‌کند. </p>"
   ]
  },
  {
   "cell_type": "code",
   "execution_count": 4,
   "id": "c2b5206a-86f2-4718-8148-2f35dfdada23",
   "metadata": {},
   "outputs": [
    {
     "name": "stdout",
     "output_type": "stream",
     "text": [
      "  python programming  \n",
      "  PYTHON PROGRAMMING  \n",
      "Python Programming\n",
      "  Java Programming  \n",
      "['Python', 'Programming']\n",
      "True\n"
     ]
    }
   ],
   "source": [
    "s = \"  Python Programming  \"\n",
    "\n",
    "print(s.lower())     # Convert to lowercase\n",
    "print(s.upper())     # Convert to uppercase\n",
    "print(s.strip())     # Remove leading and trailing spaces\n",
    "print(s.replace(\"Python\", \"Java\"))  # Replace substring\n",
    "print(s.split())     # Split into list of words\n",
    "print(\"Python\" in s) # Check if substring exists\n"
   ]
  },
  {
   "cell_type": "markdown",
   "id": "c668a052-c58a-416a-ae46-863d411be8a8",
   "metadata": {},
   "source": [
    "<h2 dir=\"rtl\" style=\"text-align: justify;\">۵. قالب‌بندی رشته‌ها (f-string و format)</h2> <p dir=\"rtl\" style=\"text-align: justify;\"> می‌توان از f-string یا متد `format` برای قراردادن متغیرها در رشته استفاده کرد. </p>"
   ]
  },
  {
   "cell_type": "code",
   "execution_count": 5,
   "id": "df746adb-1249-40ba-b1c9-5b82265da43b",
   "metadata": {},
   "outputs": [
    {
     "name": "stdout",
     "output_type": "stream",
     "text": [
      "My name is Ali and I am 25 years old.\n",
      "My name is Ali and I am 25 years old.\n"
     ]
    }
   ],
   "source": [
    "name = \"Ali\"\n",
    "age = 25\n",
    "\n",
    "# Using f-string\n",
    "print(f\"My name is {name} and I am {age} years old.\")\n",
    "\n",
    "# Using format()\n",
    "print(\"My name is {} and I am {} years old.\".format(name, age))\n"
   ]
  },
  {
   "cell_type": "markdown",
   "id": "1e7946f7-c127-4fb5-9158-39ca7f867b09",
   "metadata": {},
   "source": [
    "<h2 dir=\"rtl\" style=\"text-align: justify;\">تمرین</h2> <p dir=\"rtl\" style=\"text-align: justify;\"> ۱. یک رشته شامل نام و نام خانوادگی بسازید و با استفاده از slicing نام را جدا کنید. </p> <p dir=\"rtl\" style=\"text-align: justify;\"> ۲. یک رشته با چند فاصله و کاراکتر اضافه بسازید و با استفاده از متد strip آن‌ها را حذف کنید. </p> <p dir=\"rtl\" style=\"text-align: justify;\"> ۳. دو رشته را با هم ترکیب کنید و چاپ کنید. </p> <p dir=\"rtl\" style=\"text-align: justify;\"> ۴. یک رشته بسازید و با استفاده از متد replace قسمتی از آن را تغییر دهید. </p> <p dir=\"rtl\" style=\"text-align: justify;\"> ۵. یک رشته بسازید و با f-string و format مقداری از متغیرها را در آن قرار دهید. </p>"
   ]
  },
  {
   "cell_type": "code",
   "execution_count": null,
   "id": "3f13aeb9-d2d0-4232-84f2-a26434474858",
   "metadata": {},
   "outputs": [],
   "source": []
  }
 ],
 "metadata": {
  "kernelspec": {
   "display_name": "Python 3 (ipykernel)",
   "language": "python",
   "name": "python3"
  },
  "language_info": {
   "codemirror_mode": {
    "name": "ipython",
    "version": 3
   },
   "file_extension": ".py",
   "mimetype": "text/x-python",
   "name": "python",
   "nbconvert_exporter": "python",
   "pygments_lexer": "ipython3",
   "version": "3.12.7"
  }
 },
 "nbformat": 4,
 "nbformat_minor": 5
}
