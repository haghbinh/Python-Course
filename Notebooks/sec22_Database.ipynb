{
 "cells": [
  {
   "cell_type": "markdown",
   "id": "c635b7e2-1661-4a60-adb7-914a02aef725",
   "metadata": {},
   "source": [
    "<div style=\"direction:rtl;line-height:300%;\">\n",
    "    <font face=\"Zar_Bd.ttf\" size=5>\n",
    "        <div align=center>\n",
    "            <font face=\"IranNastaliq\" size=10>\n",
    "                <p dir=\"rtl\" style=\"text-align: justify;\"></p>\n",
    "                <p dir=\"rtl\" style=\"text-align: justify;\"></p>\n",
    "به نام خدا\n",
    "                <p dir=\"rtl\" style=\"text-align: justify;\"></p>\n",
    "            </font>\n",
    "               <font color=#FF7500 face=\"IranNastaliq\" size=30> \n",
    "                    <h3>درس بیست و دوم: پایگاه داده در پایتون     </h3> \n",
    "               </font>\n",
    "        </div>\n",
    "        <hr />\n",
    "        <style type=\"text/css\" scoped>\n",
    "        p{\n",
    "        border: 1px solid #a2a9b1;background-color: #f8f9fa;display: inline-block;\n",
    "        };\n",
    "        </style>\n",
    "    </font>\n",
    "</div>"
   ]
  },
  {
   "cell_type": "markdown",
   "id": "3d2e75c4-f8ef-47e1-88d6-c89696cf7924",
   "metadata": {},
   "source": [
    "<h2 dir=\"rtl\" style=\"text-align: justify;\">مقدمه‌ای بر پایگاه داده در پایتون</h2>\n",
    "\n",
    "<p dir=\"rtl\" style=\"text-align: justify;\">\n",
    "پایگاه داده‌ها بخش مهمی از اکثر برنامه‌ها هستند و برای ذخیره‌سازی، بازیابی و مدیریت داده‌ها استفاده می‌شوند.  \n",
    "پایتون امکانات گسترده‌ای برای کار با پایگاه داده‌ها دارد، از پایگاه داده‌های سبک و محلی مثل <b>SQLite</b> تا پایگاه‌های داده قدرتمند سروری مثل <b>MySQL</b> و <b>PostgreSQL</b>.\n",
    "</p>\n",
    "\n",
    "<h2 dir=\"rtl\" style=\"text-align: justify;\">۱. پایگاه داده SQLite در پایتون</h2>\n",
    "\n",
    "<p dir=\"rtl\" style=\"text-align: justify;\">\n",
    "SQLite یک پایگاه داده سبک و فایل محور است که با پایتون به راحتی کار می‌کند. ما از کتابخانه داخلی <code>sqlite3</code> استفاده می‌کنیم.\n",
    "</p>\n"
   ]
  },
  {
   "cell_type": "code",
   "execution_count": 1,
   "id": "3176f21d-7717-46c0-8f6d-334066b95931",
   "metadata": {},
   "outputs": [],
   "source": [
    "import sqlite3\n",
    "\n",
    "# ایجاد اتصال به پایگاه داده (در صورت نبودن فایل، ایجاد می‌شود)\n",
    "conn = sqlite3.connect(\"shop.db\")\n",
    "\n",
    "# ایجاد یک cursor برای اجرای دستورات SQL\n",
    "cursor = conn.cursor()\n",
    "\n",
    "# ایجاد جدول محصولات\n",
    "cursor.execute(\"\"\"\n",
    "CREATE TABLE IF NOT EXISTS products (\n",
    "    id INTEGER PRIMARY KEY AUTOINCREMENT,\n",
    "    name TEXT NOT NULL,\n",
    "    price REAL NOT NULL\n",
    ")\n",
    "\"\"\")\n",
    "\n",
    "# ذخیره تغییرات و بستن اتصال\n",
    "conn.commit()\n",
    "conn.close()"
   ]
  },
  {
   "cell_type": "markdown",
   "id": "1b6af02d-299f-4445-a768-b9799a2fede5",
   "metadata": {},
   "source": [
    "<h2 dir=\"rtl\" style=\"text-align: justify;\">۲. درج و بازیابی داده‌ها</h2>"
   ]
  },
  {
   "cell_type": "code",
   "execution_count": 2,
   "id": "a41c37ac-5741-4eea-b0dd-002ce6201927",
   "metadata": {},
   "outputs": [
    {
     "name": "stdout",
     "output_type": "stream",
     "text": [
      "(1, 'Laptop', 1500.0)\n",
      "(2, 'Phone', 800.0)\n"
     ]
    }
   ],
   "source": [
    "import sqlite3\n",
    "\n",
    "conn = sqlite3.connect(\"shop.db\")\n",
    "cursor = conn.cursor()\n",
    "\n",
    "# افزودن محصول\n",
    "cursor.execute(\"INSERT INTO products (name, price) VALUES (?, ?)\", (\"Laptop\", 1500))\n",
    "cursor.execute(\"INSERT INTO products (name, price) VALUES (?, ?)\", (\"Phone\", 800))\n",
    "\n",
    "# ذخیره تغییرات\n",
    "conn.commit()\n",
    "\n",
    "# بازیابی محصولات\n",
    "cursor.execute(\"SELECT * FROM products\")\n",
    "products = cursor.fetchall()\n",
    "for product in products:\n",
    "    print(product)\n",
    "\n",
    "conn.close()\n"
   ]
  },
  {
   "cell_type": "markdown",
   "id": "c20d0653-f04a-428f-9344-a2a0be0b01ac",
   "metadata": {},
   "source": [
    "<h2 dir=\"rtl\" style=\"text-align: justify;\">۳. مزایای استفاده از پایگاه داده در پایتون</h2> <ul dir=\"rtl\" style=\"text-align: justify;\"> <li>ذخیره‌سازی دائمی داده‌ها به جای نگهداری در حافظه</li> <li>امکان انجام جستجو و فیلتر روی داده‌ها با دستورات SQL</li> <li>سازگاری با اکثر پایگاه داده‌های معروف</li> <li>ایجاد برنامه‌های مقیاس‌پذیر و حرفه‌ای</li> </ul> <h2 dir=\"rtl\" style=\"text-align: justify;\">تمرین</h2> <p dir=\"rtl\" style=\"text-align: justify;\"> ۱. یک پایگاه داده SQLite بسازید و جدول محصولات ایجاد کنید. </p> <p dir=\"rtl\" style=\"text-align: justify;\"> ۲. حداقل ۵ محصول با نام و قیمت متفاوت به جدول اضافه کنید. </p> <p dir=\"rtl\" style=\"text-align: justify;\"> ۳. تمام محصولات را از پایگاه داده بازیابی کرده و چاپ کنید. </p> <p dir=\"rtl\" style=\"text-align: justify;\"> ۴. یک محصول جدید اضافه کنید و دوباره تمام محصولات را چاپ کنید تا تغییرات را مشاهده کنید. </p> <p dir=\"rtl\" style=\"text-align: justify;\"> ۵. با استفاده از یک شرط WHERE محصولاتی با قیمت بیشتر از 1000 را بازیابی و چاپ کنید. </p>"
   ]
  }
 ],
 "metadata": {
  "kernelspec": {
   "display_name": "Python 3",
   "language": "python",
   "name": "python3"
  },
  "language_info": {
   "codemirror_mode": {
    "name": "ipython",
    "version": 3
   },
   "file_extension": ".py",
   "mimetype": "text/x-python",
   "name": "python",
   "nbconvert_exporter": "python",
   "pygments_lexer": "ipython3",
   "version": "3.12.7"
  }
 },
 "nbformat": 4,
 "nbformat_minor": 5
}
