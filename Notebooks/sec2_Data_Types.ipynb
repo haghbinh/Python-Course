{
 "cells": [
  {
   "cell_type": "markdown",
   "id": "c635b7e2-1661-4a60-adb7-914a02aef725",
   "metadata": {},
   "source": [
    "<div style=\"direction:rtl;line-height:300%;\">\n",
    "    <font face=\"Zar_Bd.ttf\" size=5>\n",
    "        <div align=center>\n",
    "            <font face=\"IranNastaliq\" size=10>\n",
    "                <p dir=\"rtl\" style=\"text-align: justify;\"></p>\n",
    "                <p dir=\"rtl\" style=\"text-align: justify;\"></p>\n",
    "به نام خدا\n",
    "                <p dir=\"rtl\" style=\"text-align: justify;\"></p>\n",
    "            </font>\n",
    "               <font color=#FF7500 face=\"IranNastaliq\" size=30>   <h3>درس دوم: متغیرها و انواع داده در پایتون</h3>  </font>\n",
    "        </div>\n",
    "        <hr />\n",
    "        <style type=\"text/css\" scoped>\n",
    "        p{\n",
    "        border: 1px solid #a2a9b1;background-color: #f8f9fa;display: inline-block;\n",
    "        };\n",
    "        </style>\n",
    "    </font>\n",
    "</div>"
   ]
  },
  {
   "cell_type": "markdown",
   "id": "2cb8ffcd-7c50-4e84-9d01-6d70e13590c2",
   "metadata": {},
   "source": [
    "<p dir=\"rtl\" style=\"text-align: justify;\">\n",
    "در این درس با مفهوم متغیرها و انواع داده پایه در پایتون آشنا می‌شویم.\n",
    "</p>"
   ]
  },
  {
   "cell_type": "markdown",
   "id": "24e655ae-2f7a-4cb7-a9aa-9771b9fcb9e0",
   "metadata": {},
   "source": [
    "<h2 dir=\"rtl\" style=\"text-align: justify;\">\n",
    "\n",
    "</h2>\n",
    "<p dir=\"rtl\" style=\"text-align: justify;\">\n",
    "\n",
    "</p>"
   ]
  },
  {
   "cell_type": "markdown",
   "id": "9c4660ad-4a4d-484f-9af7-78607e9d3be4",
   "metadata": {},
   "source": [
    "<h2 dir=\"rtl\" style=\"text-align: justify;\">\n",
    "    متغیر چیست؟\n",
    "</h2>\n",
    "<p dir=\"rtl\" style=\"text-align: justify;\">\n",
    "متغیر (Variable) محفظه‌ای است برای نگهداری داده‌ها. در پایتون، نیازی به تعیین نوع متغیر نیست و نوع آن به صورت خودکار با توجه به مقدار تعیین می‌شود.\n",
    "</p>"
   ]
  },
  {
   "cell_type": "code",
   "execution_count": 1,
   "id": "ace24de0",
   "metadata": {},
   "outputs": [
    {
     "name": "stdout",
     "output_type": "stream",
     "text": [
      "5 3.14 Ali True\n"
     ]
    }
   ],
   "source": [
    "x = 5        # عدد صحیح (int)\n",
    "pi = 3.14    # عدد اعشاری (float)\n",
    "name = 'Ali' # رشته (string)\n",
    "flag = True  # مقدار بولی (bool)\n",
    "\n",
    "print(x, pi, name, flag)"
   ]
  },
  {
   "cell_type": "markdown",
   "id": "772f8598",
   "metadata": {},
   "source": [
    "<h2 dir=\"rtl\" style=\"text-align: justify;\">\n",
    " بررسی نوع داده\n",
    "</h2>\n",
    "<p dir=\"rtl\" style=\"text-align: justify;\">\n",
    "برای بررسی نوع یک متغیر می‌توان از تابع `type` استفاده کرد:\n",
    "</p>"
   ]
  },
  {
   "cell_type": "code",
   "execution_count": 2,
   "id": "105324c2",
   "metadata": {},
   "outputs": [
    {
     "name": "stdout",
     "output_type": "stream",
     "text": [
      "<class 'int'>\n",
      "<class 'float'>\n",
      "<class 'str'>\n",
      "<class 'bool'>\n"
     ]
    }
   ],
   "source": [
    "print(type(x))\n",
    "print(type(pi))\n",
    "print(type(name))\n",
    "print(type(flag))"
   ]
  },
  {
   "cell_type": "markdown",
   "id": "cc88e4d4",
   "metadata": {},
   "source": [
    "<h2 dir=\"rtl\" style=\"text-align: justify;\">\n",
    "انواع داده عددی در پایتون\n",
    "</h2>"
   ]
  },
  {
   "cell_type": "code",
   "execution_count": 3,
   "id": "ae7fb9ef",
   "metadata": {},
   "outputs": [
    {
     "name": "stdout",
     "output_type": "stream",
     "text": [
      "<class 'int'> <class 'float'> <class 'complex'>\n"
     ]
    }
   ],
   "source": [
    "a = 10       # int\n",
    "b = 3.5      # float\n",
    "c = 1 + 2j   # complex\n",
    "\n",
    "print(type(a), type(b), type(c))"
   ]
  },
  {
   "cell_type": "markdown",
   "id": "49793b58",
   "metadata": {},
   "source": [
    "<h2 dir=\"rtl\" style=\"text-align: justify;\">\n",
    "رشته‌ها (Strings)\n",
    "</h2>\n",
    "<p dir=\"rtl\" style=\"text-align: justify;\">\n",
    "رشته‌ها مجموعه‌ای از کاراکترها هستند که در داخل کوتیشن ('' یا \"\") قرار می‌گیرند.\n",
    "</p>"
   ]
  },
  {
   "cell_type": "code",
   "execution_count": 4,
   "id": "3601c564",
   "metadata": {},
   "outputs": [
    {
     "name": "stdout",
     "output_type": "stream",
     "text": [
      "Hello\n",
      "HELLO\n",
      "hello\n",
      "H\n"
     ]
    }
   ],
   "source": [
    "text = \"Hello\"\n",
    "print(text)\n",
    "print(text.upper())\n",
    "print(text.lower())\n",
    "print(text[0])"
   ]
  },
  {
   "cell_type": "markdown",
   "id": "5129036a",
   "metadata": {},
   "source": [
    "<h2 dir=\"rtl\" style=\"text-align: justify;\">\n",
    "مقادیر بولی (Boolean)\n",
    "</h2>\n",
    "<p dir=\"rtl\" style=\"text-align: justify;\">\n",
    "نوع `bool` دو مقدار دارد: `True` و `False`. این نوع در تصمیم‌گیری‌ها و شرط‌ها استفاده می‌شود.\n",
    "</p>"
   ]
  },
  {
   "cell_type": "code",
   "execution_count": 5,
   "id": "e1052fee",
   "metadata": {},
   "outputs": [
    {
     "name": "stdout",
     "output_type": "stream",
     "text": [
      "True\n",
      "False\n"
     ]
    }
   ],
   "source": [
    "a = 10\n",
    "b = 5\n",
    "print(a > b)    # True\n",
    "print(a == b)   # False"
   ]
  },
  {
   "cell_type": "markdown",
   "id": "b1550871",
   "metadata": {},
   "source": [
    "<h2 dir=\"rtl\" style=\"text-align: justify;\">\n",
    "پویایی نوع داده در پایتون\n",
    "</h2>\n",
    "<p dir=\"rtl\" style=\"text-align: justify;\">\n",
    "در پایتون می‌توان مقدار یک متغیر را در هر زمان تغییر داد و نوع آن نیز به‌روزرسانی خواهد شد.\n",
    "</p>"
   ]
  },
  {
   "cell_type": "code",
   "execution_count": 6,
   "id": "14d97f86",
   "metadata": {},
   "outputs": [
    {
     "name": "stdout",
     "output_type": "stream",
     "text": [
      "<class 'int'>\n",
      "<class 'str'>\n"
     ]
    }
   ],
   "source": [
    "x = 42\n",
    "print(type(x))\n",
    "x = 'Now I am a string!'\n",
    "print(type(x))"
   ]
  },
  {
   "cell_type": "markdown",
   "id": "2f4468fa",
   "metadata": {},
   "source": [
    "<h2 dir=\"rtl\" style=\"text-align: justify;\">\n",
    "تمرین  📝\n",
    "</h2>\n",
    "<p dir=\"rtl\" style=\"text-align: justify;\">\n",
    "یک اسکریپت بنویسید که موارد زیر را انجام دهد:\n",
    "</p>\n",
    "<ul dir=\"rtl\" style=\"text-align: justify;\">\n",
    "  <li>\n",
    "     از کاربر یک عدد صحیح دریافت کند.\n",
    "  </li>\n",
    "\n",
    " <li>\n",
    "     از کاربر یک عدد اعشاری دریافت کند.\n",
    "  </li>\n",
    " <li>\n",
    "     از کاربر یک رشته (نام کاربر) دریافت کند.\n",
    "  </li>\n",
    "   <li>\n",
    "     نوع داده هر ورودی را با استفاده از تابع `type` چاپ کند.\n",
    "  </li>\n",
    "</ul>\n",
    "<p dir=\"rtl\" style=\"text-align: justify;\">\n",
    "در نهایت مقدار عدد صحیح را با عدد اعشاری جمع کرده و همراه با نام کاربر چاپ کنید.\n",
    "</p>\n",
    "\n",
    "\n",
    "\n",
    "\n"
   ]
  }
 ],
 "metadata": {
  "kernelspec": {
   "display_name": "Python 3 (ipykernel)",
   "language": "python",
   "name": "python3"
  },
  "language_info": {
   "codemirror_mode": {
    "name": "ipython",
    "version": 3
   },
   "file_extension": ".py",
   "mimetype": "text/x-python",
   "name": "python",
   "nbconvert_exporter": "python",
   "pygments_lexer": "ipython3",
   "version": "3.12.7"
  }
 },
 "nbformat": 4,
 "nbformat_minor": 5
}
