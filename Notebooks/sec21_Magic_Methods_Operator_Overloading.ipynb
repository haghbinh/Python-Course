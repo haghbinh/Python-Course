{
 "cells": [
  {
   "cell_type": "markdown",
   "id": "c635b7e2-1661-4a60-adb7-914a02aef725",
   "metadata": {},
   "source": [
    "<div style=\"direction:rtl;line-height:300%;\">\n",
    "    <font face=\"Zar_Bd.ttf\" size=5>\n",
    "        <div align=center>\n",
    "            <font face=\"IranNastaliq\" size=10>\n",
    "                <p dir=\"rtl\" style=\"text-align: justify;\"></p>\n",
    "                <p dir=\"rtl\" style=\"text-align: justify;\"></p>\n",
    "به نام خدا\n",
    "                <p dir=\"rtl\" style=\"text-align: justify;\"></p>\n",
    "            </font>\n",
    "               <font color=#FF7500 face=\"IranNastaliq\" size=30> \n",
    "                    <h3>درس بیست و یکم: متدهای جادویی و سربارگذاری عملگرها     </h3> \n",
    "               </font>\n",
    "        </div>\n",
    "        <hr />\n",
    "        <style type=\"text/css\" scoped>\n",
    "        p{\n",
    "        border: 1px solid #a2a9b1;background-color: #f8f9fa;display: inline-block;\n",
    "        };\n",
    "        </style>\n",
    "    </font>\n",
    "</div>"
   ]
  },
  {
   "cell_type": "markdown",
   "id": "3d2e75c4-f8ef-47e1-88d6-c89696cf7924",
   "metadata": {},
   "source": [
    "<h2 dir=\"rtl\" style=\"text-align: justify;\">متدهای جادویی (Magic Methods) و بازتعریف عملگرها (Operator Overloading)</h2>\n",
    "\n",
    "<p dir=\"rtl\" style=\"text-align: justify;\">\n",
    "<p dir=\"rtl\" style=\"text-align: justify;\">\n",
    "<p dir=\"rtl\" style=\"text-align: justify;\">\n",
    "<p dir=\"rtl\" style=\"text-align: justify;\">\n",
    "<p dir=\"rtl\" style=\"text-align: justify;\">\n",
    "<p dir=\"rtl\" style=\"text-align: justify;\">\n",
    "<p dir=\"rtl\" style=\"text-align: justify;\">\n",
    "در پایتون، متدهای جادویی (<b>Magic Methods</b>) متدهایی هستند که با دو underscore قبل و بعد از نام تعریف می‌شوند و رفتارهای داخلی اشیاء را کنترل می‌کنند.  \n",
    "با استفاده از این متدها می‌توان عملگرها را برای کلاس‌های خود بازتعریف کرد (<b>Operator Overloading</b>).\n",
    "</p>\n",
    "\n",
    "<h2 dir=\"rtl\" style=\"text-align: justify;\">۱. مثال __str__ و __repr__</h2>\n"
   ]
  },
  {
   "cell_type": "code",
   "execution_count": null,
   "id": "3176f21d-7717-46c0-8f6d-334066b95931",
   "metadata": {},
   "outputs": [
    {
     "name": "stdout",
     "output_type": "stream",
     "text": [
      "Product: Laptop, Price: 1500\n"
     ]
    }
   ],
   "source": [
    "class Product:\n",
    "    def __init__(self, name, price):\n",
    "        self.name = name\n",
    "        self.price = price\n",
    "\n",
    "    def __str__(self):\n",
    "        return f\"Product: {self.name}, Price: {self.price}\"\n",
    "\n",
    "    def __repr__(self):\n",
    "        return f\"Product('{self.name}', {self.price})\"\n",
    "\n",
    "p = Product(\"Laptop\", 1500)\n",
    "print(p) # __str__ فراخوانی می‌شود"
   ]
  },
  {
   "cell_type": "code",
   "execution_count": 2,
   "id": "c2279dfe",
   "metadata": {},
   "outputs": [
    {
     "name": "stdout",
     "output_type": "stream",
     "text": [
      "Product('Laptop', 1500)\n"
     ]
    }
   ],
   "source": [
    "print(repr(p)) # __repr__ فراخوانی می‌شود"
   ]
  },
  {
   "cell_type": "markdown",
   "id": "1b6af02d-299f-4445-a768-b9799a2fede5",
   "metadata": {},
   "source": [
    "<h2 dir=\"rtl\" style=\"text-align: justify;\">۲. بازتعریف عملگر جمع</h2> <p dir=\"rtl\" style=\"text-align: justify;\"> می‌توانیم رفتار عملگر <code>+</code> را برای کلاس خود تعریف کنیم. </p>"
   ]
  },
  {
   "cell_type": "code",
   "execution_count": 3,
   "id": "a41c37ac-5741-4eea-b0dd-002ce6201927",
   "metadata": {},
   "outputs": [
    {
     "name": "stdout",
     "output_type": "stream",
     "text": [
      "2300\n"
     ]
    }
   ],
   "source": [
    "class Product:\n",
    "    def __init__(self, name, price):\n",
    "        self.name = name\n",
    "        self.price = price\n",
    "\n",
    "    def __add__(self, other):\n",
    "        # جمع قیمت دو محصول\n",
    "        return self.price + other.price\n",
    "\n",
    "p1 = Product(\"Laptop\", 1500)\n",
    "p2 = Product(\"Phone\", 800)\n",
    "total = p1 + p2\n",
    "print(total)  "
   ]
  },
  {
   "cell_type": "markdown",
   "id": "c20d0653-f04a-428f-9344-a2a0be0b01ac",
   "metadata": {},
   "source": [
    "\n",
    "<h2 dir=\"rtl\" style=\"text-align: justify;\">۳. متدهای مقایسه</h2> <p dir=\"rtl\" style=\"text-align: justify;\"> می‌توانیم عملگرهای مقایسه را بازتعریف کنیم: </p>"
   ]
  },
  {
   "cell_type": "code",
   "execution_count": 4,
   "id": "685dd4cc",
   "metadata": {},
   "outputs": [
    {
     "name": "stdout",
     "output_type": "stream",
     "text": [
      "False\n"
     ]
    }
   ],
   "source": [
    "class Product:\n",
    "    def __init__(self, name, price):\n",
    "        self.name = name\n",
    "        self.price = price\n",
    "\n",
    "    def __lt__(self, other):  # less than\n",
    "        return self.price < other.price\n",
    "\n",
    "    def __eq__(self, other):  # equal\n",
    "        return self.price == other.price\n",
    "\n",
    "p1 = Product(\"Laptop\", 1500)\n",
    "p2 = Product(\"Phone\", 800)\n",
    "print(p1 < p2)  "
   ]
  },
  {
   "cell_type": "code",
   "execution_count": 5,
   "id": "ee1a7404",
   "metadata": {},
   "outputs": [
    {
     "name": "stdout",
     "output_type": "stream",
     "text": [
      "False\n"
     ]
    }
   ],
   "source": [
    "print(p1 == p2) "
   ]
  },
  {
   "cell_type": "markdown",
   "id": "17ebd46a",
   "metadata": {},
   "source": [
    "<h2 dir=\"rtl\" style=\"text-align: justify;\">۴. مزایای استفاده از Magic Methods</h2> <ul dir=\"rtl\" style=\"text-align: justify;\"> <li>کنترل رفتار اشیاء هنگام چاپ و نمایش</li> <li>امکان استفاده از عملگرهای ریاضی و مقایسه‌ای برای کلاس‌ها</li> <li>خوانایی بهتر و سازگاری با عملیات داخلی پایتون</li> <li>ایجاد کلاس‌های حرفه‌ای و قدرتمند با قابلیت تعامل با توابع و عملگرهای پایتون</li> </ul> <h2 dir=\"rtl\" style=\"text-align: justify;\">تمرین</h2> <p dir=\"rtl\" style=\"text-align: justify;\"> ۱. یک کلاس Product بسازید و متد __str__ و __repr__ را برای نمایش شیء تعریف کنید. </p> <p dir=\"rtl\" style=\"text-align: justify;\"> ۲. عملگر <code>+</code> را برای جمع قیمت دو محصول بازتعریف کنید. </p> <p dir=\"rtl\" style=\"text-align: justify;\"> ۳. عملگرهای مقایسه (<, >, ==) را برای مقایسه قیمت دو محصول بازتعریف کنید. </p> <p dir=\"rtl\" style=\"text-align: justify;\"> ۴. چند شیء از کلاس بسازید و همه متدهای جادویی و عملگرهای بازتعریف شده را تست کنید. </p> <p dir=\"rtl\" style=\"text-align: justify;\"> ۵. با استفاده از __add__ مجموع قیمت چند محصول را محاسبه کنید. </p>"
   ]
  }
 ],
 "metadata": {
  "kernelspec": {
   "display_name": "Python 3",
   "language": "python",
   "name": "python3"
  },
  "language_info": {
   "codemirror_mode": {
    "name": "ipython",
    "version": 3
   },
   "file_extension": ".py",
   "mimetype": "text/x-python",
   "name": "python",
   "nbconvert_exporter": "python",
   "pygments_lexer": "ipython3",
   "version": "3.12.7"
  }
 },
 "nbformat": 4,
 "nbformat_minor": 5
}
