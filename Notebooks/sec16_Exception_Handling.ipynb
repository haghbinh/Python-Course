{
 "cells": [
  {
   "cell_type": "markdown",
   "id": "c635b7e2-1661-4a60-adb7-914a02aef725",
   "metadata": {},
   "source": [
    "<div style=\"direction:rtl;line-height:300%;\">\n",
    "    <font face=\"Zar_Bd.ttf\" size=5>\n",
    "        <div align=center>\n",
    "            <font face=\"IranNastaliq\" size=10>\n",
    "                <p dir=\"rtl\" style=\"text-align: justify;\"></p>\n",
    "                <p dir=\"rtl\" style=\"text-align: justify;\"></p>\n",
    "به نام خدا\n",
    "                <p dir=\"rtl\" style=\"text-align: justify;\"></p>\n",
    "            </font>\n",
    "               <font color=#FF7500 face=\"IranNastaliq\" size=30> \n",
    "                    <h3>درس شانزدهم: مدیریت استثناها    </h3> \n",
    "               </font>\n",
    "        </div>\n",
    "        <hr />\n",
    "        <style type=\"text/css\" scoped>\n",
    "        p{\n",
    "        border: 1px solid #a2a9b1;background-color: #f8f9fa;display: inline-block;\n",
    "        };\n",
    "        </style>\n",
    "    </font>\n",
    "</div>"
   ]
  },
  {
   "cell_type": "markdown",
   "id": "3d2e75c4-f8ef-47e1-88d6-c89696cf7924",
   "metadata": {},
   "source": [
    "<h2 dir=\"rtl\" style=\"text-align: justify;\">مدیریت استثناها در پایتون (Exception Handling)</h2>\n",
    "\n",
    "<p dir=\"rtl\" style=\"text-align: justify;\">\n",
    "هنگام اجرای برنامه ممکن است خطاهایی رخ دهد که برنامه را متوقف کنند.  \n",
    "پایتون امکان مدیریت این خطاها را با استفاده از ساختار <code>try-except</code> فراهم می‌کند تا برنامه بدون توقف ادامه یابد.\n",
    "</p>\n",
    "\n",
    "<h2 dir=\"rtl\" style=\"text-align: justify;\">۱. ساختار try-except</h2>\n",
    "\n",
    "<p dir=\"rtl\" style=\"text-align: justify;\">\n",
    "با قرار دادن کد حساس در بلاک <code>try</code> و مدیریت خطا در بلاک <code>except</code> می‌توان از توقف برنامه جلوگیری کرد.\n",
    "</p>"
   ]
  },
  {
   "cell_type": "code",
   "execution_count": 2,
   "id": "3176f21d-7717-46c0-8f6d-334066b95931",
   "metadata": {},
   "outputs": [
    {
     "name": "stdin",
     "output_type": "stream",
     "text": [
      "یک عدد وارد کنید:  12.1\n"
     ]
    },
    {
     "name": "stdout",
     "output_type": "stream",
     "text": [
      "خطا: شما یک عدد صحیح وارد نکردید!\n"
     ]
    }
   ],
   "source": [
    "try:\n",
    "    num = int(input(\"یک عدد وارد کنید: \"))\n",
    "    print(f\"عدد وارد شده: {num}\")\n",
    "except ValueError:\n",
    "    print(\"خطا: شما یک عدد صحیح وارد نکردید!\")"
   ]
  },
  {
   "cell_type": "markdown",
   "id": "1b6af02d-299f-4445-a768-b9799a2fede5",
   "metadata": {},
   "source": [
    "<h2 dir=\"rtl\" style=\"text-align: justify;\">۲. مدیریت چند نوع خطا</h2> <p dir=\"rtl\" style=\"text-align: justify;\"> می‌توان برای هر نوع خطا یک بلاک except جداگانه نوشت. </p>"
   ]
  },
  {
   "cell_type": "code",
   "execution_count": 3,
   "id": "a41c37ac-5741-4eea-b0dd-002ce6201927",
   "metadata": {},
   "outputs": [
    {
     "name": "stdin",
     "output_type": "stream",
     "text": [
      "عدد اول:  2.3\n"
     ]
    },
    {
     "name": "stdout",
     "output_type": "stream",
     "text": [
      "خطا: فقط عدد صحیح مجاز است!\n"
     ]
    }
   ],
   "source": [
    "try:\n",
    "    a = int(input(\"عدد اول: \"))\n",
    "    b = int(input(\"عدد دوم: \"))\n",
    "    result = a / b\n",
    "except ValueError:\n",
    "    print(\"خطا: فقط عدد صحیح مجاز است!\")\n",
    "except ZeroDivisionError:\n",
    "    print(\"خطا: تقسیم بر صفر امکان‌پذیر نیست!\")\n",
    "else:\n",
    "    print(f\"نتیجه تقسیم: {result}\")\n"
   ]
  },
  {
   "cell_type": "markdown",
   "id": "c20d0653-f04a-428f-9344-a2a0be0b01ac",
   "metadata": {},
   "source": [
    "<h2 dir=\"rtl\" style=\"text-align: justify;\">۳. استفاده از finally</h2> <p dir=\"rtl\" style=\"text-align: justify;\"> بلاک <code>finally</code> همواره اجرا می‌شود، چه خطایی رخ دهد و چه ندهد. معمولاً برای بستن فایل یا آزادسازی منابع استفاده می‌شود. </p>"
   ]
  },
  {
   "cell_type": "code",
   "execution_count": 4,
   "id": "a650f531-8f55-4785-ad89-b02266ed9fb5",
   "metadata": {},
   "outputs": [
    {
     "name": "stdout",
     "output_type": "stream",
     "text": [
      "خطا: فایل پیدا نشد!\n"
     ]
    },
    {
     "ename": "NameError",
     "evalue": "name 'file' is not defined",
     "output_type": "error",
     "traceback": [
      "\u001b[1;31m---------------------------------------------------------------------------\u001b[0m",
      "\u001b[1;31mNameError\u001b[0m                                 Traceback (most recent call last)",
      "Cell \u001b[1;32mIn[4], line 7\u001b[0m\n\u001b[0;32m      5\u001b[0m     \u001b[38;5;28mprint\u001b[39m(\u001b[38;5;124m\"\u001b[39m\u001b[38;5;124mخطا: فایل پیدا نشد!\u001b[39m\u001b[38;5;124m\"\u001b[39m)\n\u001b[0;32m      6\u001b[0m \u001b[38;5;28;01mfinally\u001b[39;00m:\n\u001b[1;32m----> 7\u001b[0m     \u001b[43mfile\u001b[49m\u001b[38;5;241m.\u001b[39mclose()\n\u001b[0;32m      8\u001b[0m     \u001b[38;5;28mprint\u001b[39m(\u001b[38;5;124m\"\u001b[39m\u001b[38;5;124mفایل بسته شد.\u001b[39m\u001b[38;5;124m\"\u001b[39m)\n",
      "\u001b[1;31mNameError\u001b[0m: name 'file' is not defined"
     ]
    }
   ],
   "source": [
    "try:\n",
    "    file = open(\"data.txt\", \"r\")\n",
    "    content = file.read()\n",
    "except FileNotFoundError:\n",
    "    print(\"خطا: فایل پیدا نشد!\")\n",
    "finally:\n",
    "    file.close()\n",
    "    print(\"فایل بسته شد.\")\n"
   ]
  },
  {
   "cell_type": "markdown",
   "id": "5d546446-395f-45ad-9e24-f80943ad135a",
   "metadata": {},
   "source": [
    "\n",
    "<h2 dir=\"rtl\" style=\"text-align: justify;\">۴. پرتاب خطا با raise</h2> <p dir=\"rtl\" style=\"text-align: justify;\"> می‌توان خودمان خطا پرتاب کنیم تا رفتار خاصی را در شرایط خاص داشته باشیم. </p>"
   ]
  },
  {
   "cell_type": "code",
   "execution_count": 5,
   "id": "d11b9c9f-fec6-40b3-8940-aae71f2ad105",
   "metadata": {},
   "outputs": [
    {
     "name": "stdout",
     "output_type": "stream",
     "text": [
      "خطا: سن نمی‌تواند منفی باشد!\n"
     ]
    }
   ],
   "source": [
    "def check_age(age):\n",
    "    if age < 0:\n",
    "        raise ValueError(\"سن نمی‌تواند منفی باشد!\")\n",
    "    print(f\"سن وارد شده: {age}\")\n",
    "\n",
    "try:\n",
    "    check_age(-5)\n",
    "except ValueError as e:\n",
    "    print(f\"خطا: {e}\")\n"
   ]
  },
  {
   "cell_type": "markdown",
   "id": "e33091ac-250f-4a17-9c34-8f6b068c1877",
   "metadata": {},
   "source": [
    "<h2 dir=\"rtl\" style=\"text-align: justify;\">تمرین</h2> <p dir=\"rtl\" style=\"text-align: justify;\"> ۱. برنامه‌ای بنویسید که یک عدد از کاربر دریافت کند و خطای ورودی غیرعددی را مدیریت کند. </p> <p dir=\"rtl\" style=\"text-align: justify;\"> ۲. دو عدد از کاربر دریافت کنید و خطای تقسیم بر صفر را مدیریت کنید. </p> <p dir=\"rtl\" style=\"text-align: justify;\"> ۳. یک فایل متنی باز کنید و خطای عدم وجود فایل را مدیریت کنید. </p> <p dir=\"rtl\" style=\"text-align: justify;\"> ۴. با استفاده از finally، کاری انجام دهید که حتی در صورت خطا اجرا شود (مثلاً چاپ یک پیام). </p> <p dir=\"rtl\" style=\"text-align: justify;\"> ۵. تابعی بسازید که ورودی نامعتبر داشته باشد و با raise خطای مناسب پرتاب کند. </p>"
   ]
  },
  {
   "cell_type": "code",
   "execution_count": null,
   "id": "150d5c6a-3f3c-4414-9b34-0e8c3f8ca7f2",
   "metadata": {},
   "outputs": [],
   "source": []
  }
 ],
 "metadata": {
  "kernelspec": {
   "display_name": "Python 3 (ipykernel)",
   "language": "python",
   "name": "python3"
  },
  "language_info": {
   "codemirror_mode": {
    "name": "ipython",
    "version": 3
   },
   "file_extension": ".py",
   "mimetype": "text/x-python",
   "name": "python",
   "nbconvert_exporter": "python",
   "pygments_lexer": "ipython3",
   "version": "3.12.7"
  }
 },
 "nbformat": 4,
 "nbformat_minor": 5
}
