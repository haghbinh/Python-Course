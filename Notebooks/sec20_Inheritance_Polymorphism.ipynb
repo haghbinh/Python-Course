{
 "cells": [
  {
   "cell_type": "markdown",
   "id": "c635b7e2-1661-4a60-adb7-914a02aef725",
   "metadata": {},
   "source": [
    "<div style=\"direction:rtl;line-height:300%;\">\n",
    "    <font face=\"Zar_Bd.ttf\" size=5>\n",
    "        <div align=center>\n",
    "            <font face=\"IranNastaliq\" size=10>\n",
    "                <p dir=\"rtl\" style=\"text-align: justify;\"></p>\n",
    "                <p dir=\"rtl\" style=\"text-align: justify;\"></p>\n",
    "به نام خدا\n",
    "                <p dir=\"rtl\" style=\"text-align: justify;\"></p>\n",
    "            </font>\n",
    "               <font color=#FF7500 face=\"IranNastaliq\" size=30> \n",
    "                    <h3>درس بیستم: وراثت و چندریختی     </h3> \n",
    "               </font>\n",
    "        </div>\n",
    "        <hr />\n",
    "        <style type=\"text/css\" scoped>\n",
    "        p{\n",
    "        border: 1px solid #a2a9b1;background-color: #f8f9fa;display: inline-block;\n",
    "        };\n",
    "        </style>\n",
    "    </font>\n",
    "</div>"
   ]
  },
  {
   "cell_type": "markdown",
   "id": "3d2e75c4-f8ef-47e1-88d6-c89696cf7924",
   "metadata": {},
   "source": [
    "<h2 dir=\"rtl\" style=\"text-align: justify;\">وراثت (Inheritance) و چندریختی (Polymorphism) در پایتون</h2>\n",
    "\n",
    "<p dir=\"rtl\" style=\"text-align: justify;\">\n",
    "وراثت و چندریختی از اصول مهم برنامه‌نویسی شیءگرا هستند.  \n",
    "- <b>وراثت (Inheritance)</b> به شما اجازه می‌دهد یک کلاس جدید از کلاس موجود بسازید و ویژگی‌ها و متدهای آن را به ارث ببرید.  \n",
    "- <b>چندریختی (Polymorphism)</b> به شما اجازه می‌دهد متدها یا عملیات مشابه برای کلاس‌های مختلف رفتار متفاوتی داشته باشند.\n",
    "</p>\n",
    "\n",
    "<h2 dir=\"rtl\" style=\"text-align: justify;\">۱. تعریف کلاس پایه و کلاس فرزند</h2>\n"
   ]
  },
  {
   "cell_type": "code",
   "execution_count": 1,
   "id": "3176f21d-7717-46c0-8f6d-334066b95931",
   "metadata": {},
   "outputs": [
    {
     "name": "stdout",
     "output_type": "stream",
     "text": [
      "نام محصول: Laptop, قیمت: 1500\n",
      "مدت گارانتی: 24 ماه\n"
     ]
    }
   ],
   "source": [
    "class Product:\n",
    "    def __init__(self, name, price):\n",
    "        self.name = name\n",
    "        self.price = price\n",
    "\n",
    "    def display_info(self):\n",
    "        print(f\"نام محصول: {self.name}, قیمت: {self.price}\")\n",
    "\n",
    "# کلاس فرزند از Product ارث می‌برد\n",
    "class Electronic(Product):\n",
    "    def __init__(self, name, price, warranty):\n",
    "        super().__init__(name, price)  # فراخوانی سازنده کلاس پایه\n",
    "        self.warranty = warranty\n",
    "\n",
    "    def display_info(self):\n",
    "        super().display_info()\n",
    "        print(f\"مدت گارانتی: {self.warranty} ماه\")\n",
    "\n",
    "e1 = Electronic(\"Laptop\", 1500, 24)\n",
    "e1.display_info()"
   ]
  },
  {
   "cell_type": "markdown",
   "id": "1b6af02d-299f-4445-a768-b9799a2fede5",
   "metadata": {},
   "source": [
    "<h2 dir=\"rtl\" style=\"text-align: justify;\">۲. Polymorphism با متدهای هم‌نام</h2> <p dir=\"rtl\" style=\"text-align: justify;\"> متد <code>display_info</code> در کلاس Electronic رفتار متفاوتی نسبت به کلاس Product دارد. این نمونه‌ای از چندریختی (Polymorphism) است. </p>"
   ]
  },
  {
   "cell_type": "code",
   "execution_count": 2,
   "id": "a41c37ac-5741-4eea-b0dd-002ce6201927",
   "metadata": {},
   "outputs": [
    {
     "name": "stdout",
     "output_type": "stream",
     "text": [
      "نام محصول: Book, قیمت: 30\n",
      "------\n",
      "نام محصول: Phone, قیمت: 800\n",
      "مدت گارانتی: 12 ماه\n",
      "------\n"
     ]
    }
   ],
   "source": [
    "products = [\n",
    "    Product(\"Book\", 30),\n",
    "    Electronic(\"Phone\", 800, 12)\n",
    "]\n",
    "\n",
    "for p in products:\n",
    "    p.display_info()\n",
    "    print(\"------\")\n",
    "# متد display_info هر شیء به صورت متفاوت اجرا می‌شود"
   ]
  },
  {
   "cell_type": "markdown",
   "id": "c20d0653-f04a-428f-9344-a2a0be0b01ac",
   "metadata": {},
   "source": [
    "<h2 dir=\"rtl\" style=\"text-align: justify;\">۳. مزایای وراثت و چندریختی</h2> <ul dir=\"rtl\" style=\"text-align: justify;\"> <li>کدهای تکراری کمتر می‌شود.</li> <li>امکان توسعه و تغییر برنامه بدون بازنویسی کدها وجود دارد.</li> <li>متدهای مشترک در کلاس‌های مختلف به شکل یکسان فراخوانی می‌شوند.</li> <li>سازماندهی بهتر کلاس‌ها و قابلیت نگهداری بالاتر.</li> </ul> <h2 dir=\"rtl\" style=\"text-align: justify;\">تمرین</h2> <p dir=\"rtl\" style=\"text-align: justify;\"> ۱. یک کلاس پایه Product بسازید و ویژگی‌های نام و قیمت داشته باشد. </p> <p dir=\"rtl\" style=\"text-align: justify;\"> ۲. یک کلاس فرزند Book از Product بسازید و ویژگی نویسنده اضافه کنید. </p> <p dir=\"rtl\" style=\"text-align: justify;\"> ۳. یک کلاس فرزند Electronic از Product بسازید و ویژگی گارانتی اضافه کنید. </p> <p dir=\"rtl\" style=\"text-align: justify;\"> ۴. متد display_info را در هر کلاس بازنویسی کنید و اطلاعات مخصوص هر نوع محصول را چاپ کنید. </p> <p dir=\"rtl\" style=\"text-align: justify;\"> ۵. چند شیء از هر کلاس بسازید و با یک حلقه polymorphic متد display_info را فراخوانی کنید. </p>"
   ]
  }
 ],
 "metadata": {
  "kernelspec": {
   "display_name": "Python 3",
   "language": "python",
   "name": "python3"
  },
  "language_info": {
   "codemirror_mode": {
    "name": "ipython",
    "version": 3
   },
   "file_extension": ".py",
   "mimetype": "text/x-python",
   "name": "python",
   "nbconvert_exporter": "python",
   "pygments_lexer": "ipython3",
   "version": "3.12.7"
  }
 },
 "nbformat": 4,
 "nbformat_minor": 5
}
