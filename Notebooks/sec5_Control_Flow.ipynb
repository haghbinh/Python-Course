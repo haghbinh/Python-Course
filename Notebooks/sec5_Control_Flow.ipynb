{
 "cells": [
  {
   "cell_type": "markdown",
   "id": "c635b7e2-1661-4a60-adb7-914a02aef725",
   "metadata": {},
   "source": [
    "<div style=\"direction:rtl;line-height:300%;\">\n",
    "    <font face=\"Zar_Bd.ttf\" size=5>\n",
    "        <div align=center>\n",
    "            <font face=\"IranNastaliq\" size=10>\n",
    "                <p dir=\"rtl\" style=\"text-align: justify;\"></p>\n",
    "                <p dir=\"rtl\" style=\"text-align: justify;\"></p>\n",
    "به نام خدا\n",
    "                <p dir=\"rtl\" style=\"text-align: justify;\"></p>\n",
    "            </font>\n",
    "               <font color=#FF7500 face=\"IranNastaliq\" size=30>   <h3>درس پنجم: کنترل جریان  </h3>  </font>\n",
    "        </div>\n",
    "        <hr />\n",
    "        <style type=\"text/css\" scoped>\n",
    "        p{\n",
    "        border: 1px solid #a2a9b1;background-color: #f8f9fa;display: inline-block;\n",
    "        };\n",
    "        </style>\n",
    "    </font>\n",
    "</div>"
   ]
  },
  {
   "cell_type": "markdown",
   "id": "d03e970c-92bd-4a54-9511-e0341dd1089c",
   "metadata": {},
   "source": [
    "<h2 dir=\"rtl\" style=\"text-align: justify;\">کنترل جریان (Control Flow)</h2>\n",
    "\n",
    "<p dir=\"rtl\" style=\"text-align: justify;\">\n",
    "در برنامه‌نویسی، <b>کنترل جریان</b> به تصمیم‌گیری و تکرار در اجرای دستورات گفته می‌شود. با استفاده از شرط‌ها، حلقه‌ها و دستورات <b>break</b> و <b>continue</b> می‌توان مسیر اجرای برنامه را کنترل کرد.\n",
    "</p>\n",
    "\n",
    "<h2 dir=\"rtl\" style=\"text-align: justify;\">۱. شرط‌ها (if, elif, else)</h2>\n",
    "\n",
    "<p dir=\"rtl\" style=\"text-align: justify;\">\n",
    "با دستور <b>if</b> می‌توانیم بر اساس یک شرط تصمیم بگیریم که بخش خاصی از کد اجرا شود. از <b>elif</b> و <b>else</b> برای بررسی شرایط دیگر یا حالت پیش‌فرض استفاده می‌کنیم.\n",
    "</p>"
   ]
  },
  {
   "cell_type": "code",
   "execution_count": 1,
   "id": "201ed3c5-63a1-40e4-af06-251e2ae72d44",
   "metadata": {},
   "outputs": [
    {
     "name": "stdout",
     "output_type": "stream",
     "text": [
      "x is exactly 15\n"
     ]
    }
   ],
   "source": [
    "x = 15\n",
    "\n",
    "if x > 20:\n",
    "    print(\"x is greater than 20\")\n",
    "elif x == 15:\n",
    "    print(\"x is exactly 15\")\n",
    "else:\n",
    "    print(\"x is less than 15\")"
   ]
  },
  {
   "cell_type": "markdown",
   "id": "6e254cd8-2205-456a-8e23-ad251386e584",
   "metadata": {},
   "source": [
    "####  Conditional Expressions (Ternary Operator)\n"
   ]
  },
  {
   "cell_type": "code",
   "execution_count": 5,
   "id": "c15da0a2-edd9-41dd-b4bf-8c153a5f6e1c",
   "metadata": {},
   "outputs": [
    {
     "name": "stdin",
     "output_type": "stream",
     "text": [
      "Enter an x:  6\n"
     ]
    },
    {
     "name": "stdout",
     "output_type": "stream",
     "text": [
      "new x = 36\n"
     ]
    }
   ],
   "source": [
    "x = eval(input('Enter an x: '))\n",
    "if x % 2 == 0:\n",
    "    x = x ** 2\n",
    "else:\n",
    "    x = x ** 3\n",
    "print(f'new x = {x}')"
   ]
  },
  {
   "cell_type": "code",
   "execution_count": 6,
   "id": "ed17f870-2d23-485a-9492-3b77d5707f9c",
   "metadata": {},
   "outputs": [
    {
     "name": "stdin",
     "output_type": "stream",
     "text": [
      "Enter an x:  6\n"
     ]
    },
    {
     "name": "stdout",
     "output_type": "stream",
     "text": [
      "new x = 36\n"
     ]
    }
   ],
   "source": [
    "# Using conditional expression (ternary operator)\n",
    "x = eval(input('Enter an x: '))\n",
    "x = x ** 2 if x % 2 == 0 else x ** 3\n",
    "print(f'new x = {x}')"
   ]
  },
  {
   "cell_type": "markdown",
   "id": "bcffd0c0-9807-4ee0-9b73-e3fb637c1be5",
   "metadata": {},
   "source": [
    "<h2 dir=\"rtl\" style=\"text-align: justify;\">۲. حلقه‌ها (Loops)</h2> <p dir=\"rtl\" style=\"text-align: justify;\"> در پایتون دو نوع حلقه داریم: <b>for</b> و <b>while</b>. - حلقه <b>for</b> برای تکرار روی یک مجموعه (لیست، رشته، یا رنج عددی) استفاده می‌شود. - حلقه <b>while</b> تا زمانی که شرط برقرار است، اجرا می‌شود. </p>"
   ]
  },
  {
   "cell_type": "code",
   "execution_count": 2,
   "id": "bb4f9c3c-d89f-43ea-b037-c0c53e9d250f",
   "metadata": {},
   "outputs": [
    {
     "name": "stdout",
     "output_type": "stream",
     "text": [
      "Iteration: 0\n",
      "Iteration: 1\n",
      "Iteration: 2\n",
      "Iteration: 3\n",
      "Iteration: 4\n",
      "Count is 0\n",
      "Count is 1\n",
      "Count is 2\n"
     ]
    }
   ],
   "source": [
    "# for loop example\n",
    "for i in range(5):\n",
    "    print(\"Iteration:\", i)\n",
    "\n",
    "# while loop example\n",
    "count = 0\n",
    "while count < 3:\n",
    "    print(\"Count is\", count)\n",
    "    count += 1\n"
   ]
  },
  {
   "cell_type": "markdown",
   "id": "8094b83c-b8a4-4e71-a1db-477e416c1770",
   "metadata": {},
   "source": [
    "<h2 dir=\"rtl\" style=\"text-align: justify;\">۳. دستور <code>break</code></h2> <p dir=\"rtl\" style=\"text-align: justify;\"> با دستور <b>break</b> می‌توان اجرای حلقه را قبل از اتمام کامل آن متوقف کرد. </p>"
   ]
  },
  {
   "cell_type": "code",
   "execution_count": 3,
   "id": "69efb9e6-9bc1-43ac-a4d3-3413885d759d",
   "metadata": {},
   "outputs": [
    {
     "name": "stdout",
     "output_type": "stream",
     "text": [
      "Value: 0\n",
      "Value: 1\n",
      "Value: 2\n",
      "Value: 3\n",
      "Value: 4\n"
     ]
    }
   ],
   "source": [
    "for i in range(10):\n",
    "    if i == 5:\n",
    "        break\n",
    "    print(\"Value:\", i)\n"
   ]
  },
  {
   "cell_type": "markdown",
   "id": "f3fc0d60-ced2-4692-a86b-102339f39dbc",
   "metadata": {},
   "source": [
    "<h2 dir=\"rtl\" style=\"text-align: justify;\">۴. دستور <code>continue</code></h2> <p dir=\"rtl\" style=\"text-align: justify;\"> با دستور <b>continue</b> می‌توان اجرای حلقه را در همان تکرار متوقف کرد و به تکرار بعدی رفت. </p>"
   ]
  },
  {
   "cell_type": "code",
   "execution_count": 4,
   "id": "89151176-4c4f-451b-ad8a-ae7ec4dbf844",
   "metadata": {},
   "outputs": [
    {
     "name": "stdout",
     "output_type": "stream",
     "text": [
      "Number: 0\n",
      "Number: 1\n",
      "Number: 3\n",
      "Number: 4\n"
     ]
    }
   ],
   "source": [
    "for i in range(5):\n",
    "    if i == 2:\n",
    "        continue\n",
    "    print(\"Number:\", i)\n"
   ]
  },
  {
   "cell_type": "markdown",
   "id": "704cdff6-2afc-46c9-8faf-a749deeec87f",
   "metadata": {},
   "source": [
    "<h2 dir=\"rtl\" style=\"text-align: justify;\">تمرین</h2> <p dir=\"rtl\" style=\"text-align: justify;\"> ۱. برنامه‌ای بنویسید که عددی از کاربر دریافت کند و بررسی کند که عدد مثبت، منفی یا صفر است. </p> <p dir=\"rtl\" style=\"text-align: justify;\"> ۲. با استفاده از حلقه for، اعداد ۱ تا ۱۰ را چاپ کنید اما وقتی عدد ۷ رسید، حلقه را با break متوقف کنید. </p> <p dir=\"rtl\" style=\"text-align: justify;\"> ۳. با استفاده از حلقه while، اعداد ۰ تا ۵ را چاپ کنید اما اگر عدد ۳ شد، با continue آن را رد کنید و چاپ نشود. </p>"
   ]
  },
  {
   "cell_type": "code",
   "execution_count": null,
   "id": "97ed3127-7a6d-4cc0-b680-82200afbe32b",
   "metadata": {},
   "outputs": [],
   "source": []
  }
 ],
 "metadata": {
  "kernelspec": {
   "display_name": "Python 3 (ipykernel)",
   "language": "python",
   "name": "python3"
  },
  "language_info": {
   "codemirror_mode": {
    "name": "ipython",
    "version": 3
   },
   "file_extension": ".py",
   "mimetype": "text/x-python",
   "name": "python",
   "nbconvert_exporter": "python",
   "pygments_lexer": "ipython3",
   "version": "3.12.7"
  }
 },
 "nbformat": 4,
 "nbformat_minor": 5
}
