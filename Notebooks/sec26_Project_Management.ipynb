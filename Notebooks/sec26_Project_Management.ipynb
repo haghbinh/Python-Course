{
 "cells": [
  {
   "cell_type": "markdown",
   "id": "c635b7e2-1661-4a60-adb7-914a02aef725",
   "metadata": {},
   "source": [
    "<div style=\"direction:rtl;line-height:300%;\">\n",
    "    <font face=\"Zar_Bd.ttf\" size=5>\n",
    "        <div align=center>\n",
    "            <font face=\"IranNastaliq\" size=10>\n",
    "                <p dir=\"rtl\" style=\"text-align: justify;\"></p>\n",
    "                <p dir=\"rtl\" style=\"text-align: justify;\"></p>\n",
    "به نام خدا\n",
    "                <p dir=\"rtl\" style=\"text-align: justify;\"></p>\n",
    "            </font>\n",
    "               <font color=#FF7500 face=\"IranNastaliq\" size=30> \n",
    "                    <h3>درس بیست و ششم: مدیریت پروژه     </h3> \n",
    "               </font>\n",
    "        </div>\n",
    "        <hr />\n",
    "        <style type=\"text/css\" scoped>\n",
    "        p{\n",
    "        border: 1px solid #a2a9b1;background-color: #f8f9fa;display: inline-block;\n",
    "        };\n",
    "        </style>\n",
    "    </font>\n",
    "</div>"
   ]
  },
  {
   "cell_type": "markdown",
   "id": "3d2e75c4-f8ef-47e1-88d6-c89696cf7924",
   "metadata": {},
   "source": [
    "<h2 dir=\"rtl\" style=\"text-align: justify;\">مدیریت پروژه در پایتون</h2>\n",
    "\n",
    "<p dir=\"rtl\" style=\"text-align: justify;\">\n",
    "برای توسعه برنامه‌های حرفه‌ای پایتون، رعایت اصول مدیریت پروژه ضروری است. این شامل استفاده از محیط‌های مجازی، ساختاردهی پروژه و مدیریت وابستگی‌ها می‌باشد.\n",
    "</p>\n",
    "\n",
    "<h2 dir=\"rtl\" style=\"text-align: justify;\">۱. محیط مجازی (venv)</h2>\n",
    "\n",
    "<p dir=\"rtl\" style=\"text-align: justify;\">\n",
    "محیط مجازی به شما اجازه می‌دهد تا بسته‌ها و کتابخانه‌های پروژه را جدا از پایتون سیستم نصب و مدیریت کنید. این باعث جلوگیری از تداخل بسته‌ها بین پروژه‌ها می‌شود.\n",
    "</p>\n",
    "\n",
    "```bash\n",
    "# ایجاد محیط مجازی\n",
    "python -m venv myenv\n",
    "\n",
    "# فعال‌سازی محیط مجازی\n",
    "# در ویندوز\n",
    "myenv\\Scripts\\activate\n",
    "\n",
    "# در لینوکس / مک\n",
    "source myenv/bin/activate\n",
    "\n",
    "# نصب بسته‌ها در محیط مجازی\n",
    "pip install requests\n",
    "```"
   ]
  },
  {
   "cell_type": "markdown",
   "id": "1b6af02d-299f-4445-a768-b9799a2fede5",
   "metadata": {},
   "source": [
    "\n",
    "<h2 dir=\"rtl\" style=\"text-align: justify;\">۲. ساختار پروژه</h2> <p dir=\"rtl\" style=\"text-align: justify;\"> یک ساختار استاندارد پروژه باعث خوانایی و نگهداری آسان می‌شود. نمونه ساختار: </p>"
   ]
  },
  {
   "cell_type": "markdown",
   "id": "8513f64f",
   "metadata": {},
   "source": [
    "```bash\n",
    "project_name/\n",
    "│\n",
    "├── myenv/               # محیط مجازی\n",
    "├── src/                 # کدهای پروژه\n",
    "│   ├── main.py\n",
    "│   └── utils.py\n",
    "├── tests/               # فایل‌های تست\n",
    "│   └── test_main.py\n",
    "├── requirements.txt     # لیست وابستگی‌ها\n",
    "└── README.md\n",
    "```"
   ]
  },
  {
   "cell_type": "markdown",
   "id": "a795f2ac",
   "metadata": {},
   "source": [
    "\n",
    "<h2 dir=\"rtl\" style=\"text-align: justify;\">۳. مدیریت وابستگی‌ها با requirements.txt</h2> <p dir=\"rtl\" style=\"text-align: justify;\"> با استفاده از فایل <code>requirements.txt</code> می‌توان تمام بسته‌های مورد نیاز پروژه را ثبت کرد و به راحتی توسط <code>pip</code> نصب نمود. </p>"
   ]
  },
  {
   "cell_type": "markdown",
   "id": "c20d0653-f04a-428f-9344-a2a0be0b01ac",
   "metadata": {},
   "source": [
    "```bash\n",
    "# ذخیره بسته‌های نصب شده در فایل\n",
    "pip freeze > requirements.txt\n",
    "\n",
    "# نصب بسته‌ها از فایل\n",
    "pip install -r requirements.txt\n",
    "```"
   ]
  },
  {
   "cell_type": "markdown",
   "id": "ace1bc83",
   "metadata": {},
   "source": [
    "<h2 dir=\"rtl\" style=\"text-align: justify;\">۴. مزایای مدیریت پروژه</h2> <ul dir=\"rtl\" style=\"text-align: justify;\"> <li>جلوگیری از تداخل بسته‌ها بین پروژه‌ها</li> <li>خوانایی و ساختار مناسب برای توسعه تیمی</li> <li>قابلیت نصب سریع وابستگی‌ها روی سیستم‌های دیگر</li> <li>سهولت نگهداری و به‌روزرسانی پروژه</li> </ul> <h2 dir=\"rtl\" style=\"text-align: justify;\">تمرین</h2> <p dir=\"rtl\" style=\"text-align: justify;\"> ۱. یک محیط مجازی بسازید و فعال کنید. </p> <p dir=\"rtl\" style=\"text-align: justify;\"> ۲. چند بسته مثل requests و pandas را نصب کنید. </p> <p dir=\"rtl\" style=\"text-align: justify;\"> ۳. ساختار پروژه‌ای مانند نمونه ایجاد کنید و فایل‌های خالی main.py و utils.py بسازید. </p> <p dir=\"rtl\" style=\"text-align: justify;\"> ۴. بسته‌های نصب شده را در requirements.txt ذخیره کنید. </p> <p dir=\"rtl\" style=\"text-align: justify;\"> ۵. پروژه را روی یک سیستم دیگر اجرا کنید و وابستگی‌ها را با pip نصب نمایید. </p>"
   ]
  }
 ],
 "metadata": {
  "kernelspec": {
   "display_name": "Python 3",
   "language": "python",
   "name": "python3"
  },
  "language_info": {
   "codemirror_mode": {
    "name": "ipython",
    "version": 3
   },
   "file_extension": ".py",
   "mimetype": "text/x-python",
   "name": "python",
   "nbconvert_exporter": "python",
   "pygments_lexer": "ipython3",
   "version": "3.12.7"
  }
 },
 "nbformat": 4,
 "nbformat_minor": 5
}
