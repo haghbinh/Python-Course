{
 "cells": [
  {
   "cell_type": "markdown",
   "id": "c635b7e2-1661-4a60-adb7-914a02aef725",
   "metadata": {},
   "source": [
    "<div style=\"direction:rtl;line-height:300%;\">\n",
    "    <font face=\"Zar_Bd.ttf\" size=5>\n",
    "        <div align=center>\n",
    "            <font face=\"IranNastaliq\" size=10>\n",
    "                <p dir=\"rtl\" style=\"text-align: justify;\"></p>\n",
    "                <p dir=\"rtl\" style=\"text-align: justify;\"></p>\n",
    "به نام خدا\n",
    "                <p dir=\"rtl\" style=\"text-align: justify;\"></p>\n",
    "            </font>\n",
    "               <font color=#FF7500 face=\"IranNastaliq\" size=30>   <h3>درس سوم: عملگرها در پایتون</h3>  </font>\n",
    "        </div>\n",
    "        <hr />\n",
    "        <style type=\"text/css\" scoped>\n",
    "        p{\n",
    "        border: 1px solid #a2a9b1;background-color: #f8f9fa;display: inline-block;\n",
    "        };\n",
    "        </style>\n",
    "    </font>\n",
    "</div>"
   ]
  },
  {
   "cell_type": "markdown",
   "id": "2cb8ffcd-7c50-4e84-9d01-6d70e13590c2",
   "metadata": {},
   "source": [
    "<h2 dir=\"rtl\" style=\"text-align: justify;\">انواع عملگرها در پایتون</h2>\n",
    "\n",
    "<p dir=\"rtl\" style=\"text-align: justify;\">\n",
    "در برنامه‌نویسی، <b>عملگرها (Operators)</b> نمادهایی هستند که برای انجام عملیات خاصی روی داده‌ها استفاده می‌شوند. در پایتون عملگرهای مختلفی وجود دارند که به دسته‌های گوناگون تقسیم می‌شوند.\n",
    "</p>\n",
    "\n",
    "<h2 dir=\"rtl\" style=\"text-align: justify;\">۱. عملگرهای ریاضی (Arithmetic Operators)</h2>\n",
    "\n",
    "<table dir=\"rtl\" style=\"width:100%; border:1px solid black; border-collapse: collapse; text-align: center;\">\n",
    "  <tr style=\"background-color:#f2f2f2;\">\n",
    "    <th style=\"border:1px solid black;\">عملگر</th>\n",
    "    <th style=\"border:1px solid black;\">توضیح</th>\n",
    "    <th style=\"border:1px solid black;\">مثال</th>\n",
    "  </tr>\n",
    "  <tr><td style=\"border:1px solid black;\">+</td><td>جمع</td><td>5 + 2 = 7</td></tr>\n",
    "  <tr><td style=\"border:1px solid black;\">-</td><td>تفریق</td><td>5 - 2 = 3</td></tr>\n",
    "  <tr><td style=\"border:1px solid black;\">*</td><td>ضرب</td><td>5 * 2 = 10</td></tr>\n",
    "  <tr><td style=\"border:1px solid black;\">/</td><td>تقسیم</td><td>5 / 2 = 2.5</td></tr>\n",
    "  <tr><td style=\"border:1px solid black;\">%</td><td>باقیمانده</td><td>5 % 2 = 1</td></tr>\n",
    "  <tr><td style=\"border:1px solid black;\">**</td><td>توان</td><td>5 ** 2 = 25</td></tr>\n",
    "  <tr><td style=\"border:1px solid black;\">//</td><td>تقسیم صحیح</td><td>5 // 2 = 2</td></tr>\n",
    "</table>\n"
   ]
  },
  {
   "cell_type": "code",
   "execution_count": 1,
   "id": "7568f614-70c0-46fa-8f14-db5bbdb70113",
   "metadata": {},
   "outputs": [
    {
     "name": "stdout",
     "output_type": "stream",
     "text": [
      "جمع: 13\n",
      "تفریق: 7\n",
      "ضرب: 30\n",
      "تقسیم: 3.3333333333333335\n",
      "باقیمانده: 1\n",
      "توان: 1000\n",
      "تقسیم صحیح: 3\n"
     ]
    }
   ],
   "source": [
    "a = 10\n",
    "b = 3\n",
    "\n",
    "print(\"جمع:\", a + b)       # 13\n",
    "print(\"تفریق:\", a - b)    # 7\n",
    "print(\"ضرب:\", a * b)      # 30\n",
    "print(\"تقسیم:\", a / b)    # 3.333...\n",
    "print(\"باقیمانده:\", a % b)  # 1\n",
    "print(\"توان:\", a ** b)    # 1000\n",
    "print(\"تقسیم صحیح:\", a // b)  # 3"
   ]
  },
  {
   "cell_type": "markdown",
   "id": "b236c316-6d2b-4b69-996b-d213d6687960",
   "metadata": {},
   "source": [
    "<h2 dir=\"rtl\" style=\"text-align: justify;\">۲. عملگرهای مقایسه‌ای (Comparison Operators)</h2> <table dir=\"rtl\" style=\"width:100%; border:1px solid black; border-collapse: collapse; text-align: center;\"> <tr style=\"background-color:#f2f2f2;\"> <th style=\"border:1px solid black;\">عملگر</th> <th style=\"border:1px solid black;\">توضیح</th> <th style=\"border:1px solid black;\">مثال</th> </tr> <tr><td style=\"border:1px solid black;\">==</td><td>مساوی</td><td>5 == 5 → True</td></tr> <tr><td style=\"border:1px solid black;\">!=</td><td>نامساوی</td><td>5 != 3 → True</td></tr> <tr><td style=\"border:1px solid black;\">></td><td>بزرگتر</td><td>5 > 3 → True</td></tr> <tr><td style=\"border:1px solid black;\"><</td><td>کوچکتر</td><td>5 < 3 → False</td></tr> <tr><td style=\"border:1px solid black;\">>=</td><td>بزرگتر یا مساوی</td><td>5 >= 5 → True</td></tr> <tr><td style=\"border:1px solid black;\"><=</td><td>کوچکتر یا مساوی</td><td>3 <= 5 → True</td></tr> </table>"
   ]
  },
  {
   "cell_type": "code",
   "execution_count": 3,
   "id": "be8de748-d091-4974-ae0e-901ad48b61bf",
   "metadata": {},
   "outputs": [
    {
     "name": "stdout",
     "output_type": "stream",
     "text": [
      "False\n",
      "True\n"
     ]
    }
   ],
   "source": [
    "x = 5\n",
    "y = 10\n",
    "print(x == y)\n",
    "print(x < y)\n"
   ]
  },
  {
   "cell_type": "markdown",
   "id": "acf3aace-25f7-4b03-baeb-7a7b06f2796a",
   "metadata": {},
   "source": [
    "<h2 dir=\"rtl\" style=\"text-align: justify;\">۳. عملگرهای منطقی (Logical Operators)</h2> <table dir=\"rtl\" style=\"width:100%; border:1px solid black; border-collapse: collapse; text-align: center;\"> <tr style=\"background-color:#f2f2f2;\"> <th style=\"border:1px solid black;\">عملگر</th> <th style=\"border:1px solid black;\">توضیح</th> <th style=\"border:1px solid black;\">مثال</th> </tr> <tr><td style=\"border:1px solid black;\">and</td><td>و (هر دو درست باشند)</td><td>True and False → False</td></tr> <tr><td style=\"border:1px solid black;\">or</td><td>یا (یکی درست باشد)</td><td>True or False → True</td></tr> <tr><td style=\"border:1px solid black;\">not</td><td>نفی</td><td>not True → False</td></tr> </table>"
   ]
  },
  {
   "cell_type": "code",
   "execution_count": 4,
   "id": "1019463f-d0c8-4812-8e8f-55cb4588ccd2",
   "metadata": {},
   "outputs": [
    {
     "name": "stdout",
     "output_type": "stream",
     "text": [
      "False\n",
      "False\n"
     ]
    }
   ],
   "source": [
    "a = True\n",
    "b = False\n",
    "print(a and b)\n",
    "print(not a)\n"
   ]
  },
  {
   "cell_type": "markdown",
   "id": "aa7d82b5-b126-4434-b7a9-53d9d366ce52",
   "metadata": {},
   "source": [
    "<h2 dir=\"rtl\" style=\"text-align: justify;\">۴. عملگرهای انتسابی (Assignment Operators)</h2> <table dir=\"rtl\" style=\"width:100%; border:1px solid black; border-collapse: collapse; text-align: center;\"> <tr style=\"background-color:#f2f2f2;\"> <th style=\"border:1px solid black;\">عملگر</th> <th style=\"border:1px solid black;\">توضیح</th> <th style=\"border:1px solid black;\">مثال</th> </tr> <tr><td style=\"border:1px solid black;\">=</td><td>انتساب</td><td>x = 5</td></tr> <tr><td style=\"border:1px solid black;\">+=</td><td>جمع و انتساب</td><td>x += 3 → x = x + 3</td></tr> <tr><td style=\"border:1px solid black;\">-=</td><td>تفریق و انتساب</td><td>x -= 2 → x = x - 2</td></tr> <tr><td style=\"border:1px solid black;\">*=</td><td>ضرب و انتساب</td><td>x *= 2 → x = x * 2</td></tr> <tr><td style=\"border:1px solid black;\">/=</td><td>تقسیم و انتساب</td><td>x /= 2 → x = x / 2</td></tr> </table>"
   ]
  },
  {
   "cell_type": "code",
   "execution_count": 7,
   "id": "f1451a39-cdb9-4dcf-b46e-d5c44462f9ce",
   "metadata": {},
   "outputs": [
    {
     "name": "stdout",
     "output_type": "stream",
     "text": [
      "15\n"
     ]
    }
   ],
   "source": [
    "x = 10\n",
    "x += 5\n",
    "print(x)\n"
   ]
  },
  {
   "cell_type": "markdown",
   "id": "e37dc675-35c2-4d62-b670-fc13c27eb7eb",
   "metadata": {},
   "source": [
    "<h2 dir=\"rtl\" style=\"text-align: justify;\">۵. عملگرهای عضویت (Membership Operators)</h2> <table dir=\"rtl\" style=\"width:100%; border:1px solid black; border-collapse: collapse; text-align: center;\"> <tr style=\"background-color:#f2f2f2;\"> <th style=\"border:1px solid black;\">عملگر</th> <th style=\"border:1px solid black;\">توضیح</th> <th style=\"border:1px solid black;\">مثال</th> </tr> <tr><td style=\"border:1px solid black;\">in</td><td>وجود داشتن</td><td>3 in [1,2,3] → True</td></tr> <tr><td style=\"border:1px solid black;\">not in</td><td>وجود نداشتن</td><td>5 not in [1,2,3] → True</td></tr> </table>"
   ]
  },
  {
   "cell_type": "code",
   "execution_count": 8,
   "id": "220a001f-ae8e-4fcf-93b9-70f1559f5422",
   "metadata": {},
   "outputs": [
    {
     "name": "stdout",
     "output_type": "stream",
     "text": [
      "True\n",
      "True\n"
     ]
    }
   ],
   "source": [
    "lst = [1, 2, 3]\n",
    "print(2 in lst)\n",
    "print(4 not in lst)\n"
   ]
  },
  {
   "cell_type": "markdown",
   "id": "5c899f87-59c0-4365-939c-8ebd8d045b36",
   "metadata": {},
   "source": [
    "<h2 dir=\"rtl\" style=\"text-align: justify;\">۶. عملگرهای بیتی (Bitwise Operators)</h2> <table dir=\"rtl\" style=\"width:100%; border:1px solid black; border-collapse: collapse; text-align: center;\"> <tr style=\"background-color:#f2f2f2;\"> <th style=\"border:1px solid black;\">عملگر</th> <th style=\"border:1px solid black;\">توضیح</th> <th style=\"border:1px solid black;\">مثال</th> </tr> <tr><td style=\"border:1px solid black;\">&</td><td>AND بیتی</td><td>6 & 3 = 2</td></tr> <tr><td style=\"border:1px solid black;\">|</td><td>OR بیتی</td><td>6 | 3 = 7</td></tr> <tr><td style=\"border:1px solid black;\">^</td><td>XOR بیتی</td><td>6 ^ 3 = 5</td></tr> <tr><td style=\"border:1px solid black;\">~</td><td>NOT بیتی</td><td>~6 = -7</td></tr> <tr><td style=\"border:1px solid black;\"><<</td><td>شیفت به چپ</td><td>6 << 1 = 12</td></tr> <tr><td style=\"border:1px solid black;\">>></td><td>شیفت به راست</td><td>6 >> 1 = 3</td></tr> </table>"
   ]
  },
  {
   "cell_type": "code",
   "execution_count": 9,
   "id": "6e7d7bdd-7a7e-4ad7-a1f5-0988c407038c",
   "metadata": {},
   "outputs": [
    {
     "name": "stdout",
     "output_type": "stream",
     "text": [
      "2\n",
      "12\n"
     ]
    }
   ],
   "source": [
    "a = 6\n",
    "b = 3\n",
    "print(a & b)\n",
    "print(a << 1)\n"
   ]
  },
  {
   "cell_type": "markdown",
   "id": "d51c0d46-61d9-484a-8388-f5ce11306cc8",
   "metadata": {},
   "source": [
    "<h2 dir=\"rtl\" style=\"text-align: justify;\">تمرین</h2> <p dir=\"rtl\" style=\"text-align: justify;\"> ۱. برنامه‌ای بنویسید که از کاربر دو عدد دریافت کند و نتایج چهار عمل اصلی را نمایش دهد. </p> <p dir=\"rtl\" style=\"text-align: justify;\"> ۲. لیستی از اعداد بسازید و بررسی کنید که آیا عدد ۱۰ در آن وجود دارد یا خیر. </p> <p dir=\"rtl\" style=\"text-align: justify;\"> ۳. متغیری به نام <b>x</b> تعریف کنید و با استفاده از عملگرهای انتسابی مقدار آن را تغییر دهید. </p> <p dir=\"rtl\" style=\"text-align: justify;\"> ۴. دو عدد انتخاب کنید و عملیات بیتی (&، |، ^) را روی آن‌ها انجام دهید. </p> ```"
   ]
  }
 ],
 "metadata": {
  "kernelspec": {
   "display_name": "Python 3 (ipykernel)",
   "language": "python",
   "name": "python3"
  },
  "language_info": {
   "codemirror_mode": {
    "name": "ipython",
    "version": 3
   },
   "file_extension": ".py",
   "mimetype": "text/x-python",
   "name": "python",
   "nbconvert_exporter": "python",
   "pygments_lexer": "ipython3",
   "version": "3.12.7"
  }
 },
 "nbformat": 4,
 "nbformat_minor": 5
}
