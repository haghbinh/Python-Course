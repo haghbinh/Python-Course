{
 "cells": [
  {
   "cell_type": "markdown",
   "id": "c635b7e2-1661-4a60-adb7-914a02aef725",
   "metadata": {},
   "source": [
    "<div style=\"direction:rtl;line-height:300%;\">\n",
    "    <font face=\"Zar_Bd.ttf\" size=5>\n",
    "        <div align=center>\n",
    "            <font face=\"IranNastaliq\" size=10>\n",
    "                <p dir=\"rtl\" style=\"text-align: justify;\"></p>\n",
    "                <p dir=\"rtl\" style=\"text-align: justify;\"></p>\n",
    "به نام خدا\n",
    "                <p dir=\"rtl\" style=\"text-align: justify;\"></p>\n",
    "            </font>\n",
    "               <font color=#FF7500 face=\"IranNastaliq\" size=30> \n",
    "                    <h3>درس هجدهم: متدها و ویژگی‌های کلاس‌ها    </h3> \n",
    "               </font>\n",
    "        </div>\n",
    "        <hr />\n",
    "        <style type=\"text/css\" scoped>\n",
    "        p{\n",
    "        border: 1px solid #a2a9b1;background-color: #f8f9fa;display: inline-block;\n",
    "        };\n",
    "        </style>\n",
    "    </font>\n",
    "</div>"
   ]
  },
  {
   "cell_type": "markdown",
   "id": "3d2e75c4-f8ef-47e1-88d6-c89696cf7924",
   "metadata": {},
   "source": [
    "<h2 dir=\"rtl\" style=\"text-align: justify;\">متدها و ویژگی‌های کلاس‌ها (Methods & Attributes)</h2>\n",
    "\n",
    "<p dir=\"rtl\" style=\"text-align: justify;\">\n",
    "در پایتون، کلاس‌ها می‌توانند شامل <b>ویژگی‌ها (Attributes)</b> و <b>متدها (Methods)</b> باشند:  \n",
    "- <b>ویژگی‌ها</b> داده‌هایی هستند که هر شیء از کلاس دارد.  \n",
    "- <b>متدها</b> توابعی هستند که روی شیء اعمال می‌شوند.\n",
    "</p>\n",
    "\n",
    "<h2 dir=\"rtl\" style=\"text-align: justify;\">۱. متد سازنده __init__</h2>\n",
    "\n",
    "<p dir=\"rtl\" style=\"text-align: justify;\">\n",
    "متد <code>__init__</code> هنگام ایجاد شیء به صورت خودکار فراخوانی می‌شود و برای مقداردهی اولیه ویژگی‌ها استفاده می‌شود.\n",
    "</p>"
   ]
  },
  {
   "cell_type": "code",
   "execution_count": 1,
   "id": "3176f21d-7717-46c0-8f6d-334066b95931",
   "metadata": {},
   "outputs": [
    {
     "name": "stdout",
     "output_type": "stream",
     "text": [
      "Laptop 1500\n"
     ]
    }
   ],
   "source": [
    "class Product:\n",
    "    def __init__(self, name, price):\n",
    "        self.name = name\n",
    "        self.price = price\n",
    "\n",
    "p1 = Product(\"Laptop\", 1500)\n",
    "print(p1.name, p1.price) "
   ]
  },
  {
   "cell_type": "markdown",
   "id": "1b6af02d-299f-4445-a768-b9799a2fede5",
   "metadata": {},
   "source": [
    "<h2 dir=\"rtl\" style=\"text-align: justify;\">۲. تعریف متدهای کلاس</h2> <p dir=\"rtl\" style=\"text-align: justify;\"> متدها توابعی هستند که ویژگی‌های شیء را پردازش می‌کنند و با <code>self</code> به آن‌ها دسترسی دارند. </p>"
   ]
  },
  {
   "cell_type": "code",
   "execution_count": 2,
   "id": "a41c37ac-5741-4eea-b0dd-002ce6201927",
   "metadata": {},
   "outputs": [
    {
     "name": "stdout",
     "output_type": "stream",
     "text": [
      "نام محصول: Laptop, قیمت: 1500\n"
     ]
    }
   ],
   "source": [
    "class Product:\n",
    "    def __init__(self, name, price):\n",
    "        self.name = name\n",
    "        self.price = price\n",
    "\n",
    "    def display_info(self):\n",
    "        print(f\"نام محصول: {self.name}, قیمت: {self.price}\")\n",
    "\n",
    "p1 = Product(\"Laptop\", 1500)\n",
    "p1.display_info()  "
   ]
  },
  {
   "cell_type": "markdown",
   "id": "c20d0653-f04a-428f-9344-a2a0be0b01ac",
   "metadata": {},
   "source": [
    "<h2 dir=\"rtl\" style=\"text-align: justify;\">۳. ویژگی‌ها (Attributes)</h2> <p dir=\"rtl\" style=\"text-align: justify;\"> ویژگی‌ها می‌توانند عمومی (public) یا خصوصی (private) باشند. ویژگی‌های خصوصی با <code>_</code> یا <code>__</code> مشخص می‌شوند. </p>"
   ]
  },
  {
   "cell_type": "code",
   "execution_count": 3,
   "id": "a650f531-8f55-4785-ad89-b02266ed9fb5",
   "metadata": {},
   "outputs": [
    {
     "name": "stdout",
     "output_type": "stream",
     "text": [
      "Laptop\n"
     ]
    }
   ],
   "source": [
    "class Product:\n",
    "    def __init__(self, name, price):\n",
    "        self.name = name          # public attribute\n",
    "        self._internal_code = 101 # internal use\n",
    "        self.__private_info = \"secret\"  # private attribute\n",
    "\n",
    "p1 = Product(\"Laptop\", 1500)\n",
    "print(p1.name)    "
   ]
  },
  {
   "cell_type": "code",
   "execution_count": 4,
   "id": "5effd57f",
   "metadata": {},
   "outputs": [
    {
     "name": "stdout",
     "output_type": "stream",
     "text": [
      "101\n"
     ]
    }
   ],
   "source": [
    "print(p1._internal_code) "
   ]
  },
  {
   "cell_type": "code",
   "execution_count": 5,
   "id": "15243eb8",
   "metadata": {},
   "outputs": [
    {
     "name": "stdout",
     "output_type": "stream",
     "text": [
      "secret\n"
     ]
    }
   ],
   "source": [
    "print(p1._Product__private_info) "
   ]
  },
  {
   "cell_type": "markdown",
   "id": "5d546446-395f-45ad-9e24-f80943ad135a",
   "metadata": {},
   "source": [
    "<h2 dir=\"rtl\" style=\"text-align: justify;\">۴. متدهای کلاس و شیء</h2> <p dir=\"rtl\" style=\"text-align: justify;\"> در پایتون متدها می‌توانند با انواع مختلف تعریف شوند: </p> <ul dir=\"rtl\" style=\"text-align: justify;\"> <li><b>متدهای نمونه (Instance Methods)</b> : متدهایی که با <code>self</code> کار می‌کنند.</li> <li><b>متدهای کلاس (Class Methods)</b> : با دکوراتور <code>@classmethod</code> تعریف می‌شوند و با <code>cls</code> کار می‌کنند.</li> <li><b>متدهای ایستا (Static Methods)</b> : با دکوراتور <code>@staticmethod</code> تعریف می‌شوند و به ویژگی‌های کلاس دسترسی ندارند.</li> </ul>"
   ]
  },
  {
   "cell_type": "code",
   "execution_count": 6,
   "id": "d11b9c9f-fec6-40b3-8940-aae71f2ad105",
   "metadata": {},
   "outputs": [
    {
     "name": "stdout",
     "output_type": "stream",
     "text": [
      "1350.0\n"
     ]
    }
   ],
   "source": [
    "class Product:\n",
    "    discount = 0.1  # ویژگی کلاس\n",
    "\n",
    "    def __init__(self, name, price):\n",
    "        self.name = name\n",
    "        self.price = price\n",
    "\n",
    "    def apply_discount(self):\n",
    "        self.price *= (1 - Product.discount)\n",
    "\n",
    "    @classmethod\n",
    "    def set_discount(cls, value):\n",
    "        cls.discount = value\n",
    "\n",
    "    @staticmethod\n",
    "    def info():\n",
    "        print(\"این کلاس برای مدیریت محصولات است.\")\n",
    "\n",
    "p1 = Product(\"Laptop\", 1500)\n",
    "p1.apply_discount()\n",
    "print(p1.price)  "
   ]
  },
  {
   "cell_type": "code",
   "execution_count": 7,
   "id": "98d04755",
   "metadata": {},
   "outputs": [
    {
     "name": "stdout",
     "output_type": "stream",
     "text": [
      "800.0\n"
     ]
    }
   ],
   "source": [
    "Product.set_discount(0.2)\n",
    "p2 = Product(\"Phone\", 1000)\n",
    "p2.apply_discount()\n",
    "print(p2.price)  "
   ]
  },
  {
   "cell_type": "code",
   "execution_count": 8,
   "id": "e69efeee",
   "metadata": {},
   "outputs": [
    {
     "name": "stdout",
     "output_type": "stream",
     "text": [
      "این کلاس برای مدیریت محصولات است.\n"
     ]
    }
   ],
   "source": [
    "Product.info()  "
   ]
  },
  {
   "cell_type": "markdown",
   "id": "e33091ac-250f-4a17-9c34-8f6b068c1877",
   "metadata": {},
   "source": [
    "<h2 dir=\"rtl\" style=\"text-align: justify;\">تمرین</h2> <p dir=\"rtl\" style=\"text-align: justify;\"> ۱. یک کلاس Product بسازید با ویژگی‌های نام و قیمت و یک متد نمایش اطلاعات محصول. </p> <p dir=\"rtl\" style=\"text-align: justify;\"> ۲. یک ویژگی خصوصی با Name Mangling بسازید و از خارج کلاس مقدار آن را چاپ کنید. </p> <p dir=\"rtl\" style=\"text-align: justify;\"> ۳. یک متد کلاس بسازید که مقدار تخفیف برای همه محصولات را تغییر دهد. </p> <p dir=\"rtl\" style=\"text-align: justify;\"> ۴. یک متد ایستا بسازید که پیغام مربوط به کلاس را چاپ کند. </p> <p dir=\"rtl\" style=\"text-align: justify;\"> ۵. چند شیء از کلاس بسازید و متدها و ویژگی‌های آن‌ها را تست کنید. </p>"
   ]
  }
 ],
 "metadata": {
  "kernelspec": {
   "display_name": "Python 3",
   "language": "python",
   "name": "python3"
  },
  "language_info": {
   "codemirror_mode": {
    "name": "ipython",
    "version": 3
   },
   "file_extension": ".py",
   "mimetype": "text/x-python",
   "name": "python",
   "nbconvert_exporter": "python",
   "pygments_lexer": "ipython3",
   "version": "3.12.7"
  }
 },
 "nbformat": 4,
 "nbformat_minor": 5
}
