{
 "cells": [
  {
   "cell_type": "markdown",
   "id": "c635b7e2-1661-4a60-adb7-914a02aef725",
   "metadata": {},
   "source": [
    "<div style=\"direction:rtl;line-height:300%;\">\n",
    "    <font face=\"Zar_Bd.ttf\" size=5>\n",
    "        <div align=center>\n",
    "            <font face=\"IranNastaliq\" size=10>\n",
    "                <p dir=\"rtl\" style=\"text-align: justify;\"></p>\n",
    "                <p dir=\"rtl\" style=\"text-align: justify;\"></p>\n",
    "به نام خدا\n",
    "                <p dir=\"rtl\" style=\"text-align: justify;\"></p>\n",
    "            </font>\n",
    "               <font color=#FF7500 face=\"IranNastaliq\" size=30> \n",
    "                    <h3>درس بیست و پنجم: رابط کاربری گرافیکی 3     </h3> \n",
    "               </font>\n",
    "        </div>\n",
    "        <hr />\n",
    "        <style type=\"text/css\" scoped>\n",
    "        p{\n",
    "        border: 1px solid #a2a9b1;background-color: #f8f9fa;display: inline-block;\n",
    "        };\n",
    "        </style>\n",
    "    </font>\n",
    "</div>"
   ]
  },
  {
   "cell_type": "markdown",
   "id": "3d2e75c4-f8ef-47e1-88d6-c89696cf7924",
   "metadata": {},
   "source": [
    "<h2 dir=\"rtl\" style=\"text-align: justify;\">ویجت‌های پیشرفته در Tkinter: Listbox، Combobox و Scrollbar</h2>\n",
    "\n",
    "<p dir=\"rtl\" style=\"text-align: justify;\">\n",
    "در برنامه‌های GUI بزرگ، گاهی نیاز به انتخاب از لیست طولانی، یا پیمایش محتوا داریم. Tkinter ویجت‌های پیشرفته‌ای برای این موارد دارد:\n",
    "<ul dir=\"rtl\" style=\"text-align: justify;\">\n",
    "<li><b>Listbox:</b> نمایش لیستی از آیتم‌ها و انتخاب یک یا چند مورد.</li>\n",
    "<li><b>Combobox:</b> یک منوی کشویی برای انتخاب یک گزینه.</li>\n",
    "<li><b>Scrollbar:</b> پیمایشگر برای Listbox یا Text.</li>\n",
    "</ul>\n",
    "</p>\n",
    "\n",
    "<h2 dir=\"rtl\" style=\"text-align: justify;\">۱. Listbox و Scrollbar</h2>\n"
   ]
  },
  {
   "cell_type": "code",
   "execution_count": 1,
   "id": "3176f21d-7717-46c0-8f6d-334066b95931",
   "metadata": {},
   "outputs": [],
   "source": [
    "import tkinter as tk\n",
    "\n",
    "root = tk.Tk()\n",
    "root.title(\"Listbox با Scrollbar\")\n",
    "root.geometry(\"300x250\")\n",
    "\n",
    "# ایجاد Scrollbar\n",
    "scrollbar = tk.Scrollbar(root)\n",
    "scrollbar.pack(side=\"right\", fill=\"y\")\n",
    "\n",
    "# ایجاد Listbox\n",
    "listbox = tk.Listbox(root, yscrollcommand=scrollbar.set)\n",
    "for item in range(1, 21):\n",
    "    listbox.insert(\"end\", f\"آیتم {item}\")\n",
    "listbox.pack(pady=20)\n",
    "\n",
    "# اتصال Scrollbar به Listbox\n",
    "scrollbar.config(command=listbox.yview)\n",
    "\n",
    "root.mainloop()"
   ]
  },
  {
   "cell_type": "markdown",
   "id": "1b6af02d-299f-4445-a768-b9799a2fede5",
   "metadata": {},
   "source": [
    "<p dir=\"rtl\" style=\"text-align: justify;\"> در این مثال، با Scrollbar می‌توان لیست طولانی را پیمایش کرد و انتخاب آیتم‌ها با Listbox انجام می‌شود. </p> <h2 dir=\"rtl\" style=\"text-align: justify;\">۲. Combobox</h2>"
   ]
  },
  {
   "cell_type": "code",
   "execution_count": 2,
   "id": "a41c37ac-5741-4eea-b0dd-002ce6201927",
   "metadata": {},
   "outputs": [],
   "source": [
    "import tkinter as tk\n",
    "from tkinter import ttk\n",
    "\n",
    "root = tk.Tk()\n",
    "root.title(\"Combobox مثال\")\n",
    "root.geometry(\"300x150\")\n",
    "\n",
    "def show_selection(event):\n",
    "    label_result.config(text=f\"انتخاب شما: {combo.get()}\")\n",
    "\n",
    "# Combobox\n",
    "combo = ttk.Combobox(root, values=[\"گزینه ۱\", \"گزینه ۲\", \"گزینه ۳\"])\n",
    "combo.pack(pady=20)\n",
    "combo.bind(\"<<ComboboxSelected>>\", show_selection)\n",
    "\n",
    "label_result = tk.Label(root, text=\"\")\n",
    "label_result.pack()\n",
    "\n",
    "root.mainloop()\n"
   ]
  },
  {
   "cell_type": "markdown",
   "id": "c20d0653-f04a-428f-9344-a2a0be0b01ac",
   "metadata": {},
   "source": [
    "<p dir=\"rtl\" style=\"text-align: justify;\"> Combobox برای انتخاب از یک منوی کشویی مناسب است و با رویداد <code>&lt;&lt;ComboboxSelected&gt;&gt;</code> می‌توان انتخاب کاربر را مدیریت کرد. </p> <h2 dir=\"rtl\" style=\"text-align: justify;\">۳. ترکیب ویجت‌ها برای یک فرم پیشرفته</h2>"
   ]
  },
  {
   "cell_type": "code",
   "execution_count": 3,
   "id": "a1e54a89",
   "metadata": {},
   "outputs": [],
   "source": [
    "import tkinter as tk\n",
    "from tkinter import ttk\n",
    "\n",
    "root = tk.Tk()\n",
    "root.title(\"فرم پیشرفته\")\n",
    "root.geometry(\"400x300\")\n",
    "\n",
    "tk.Label(root, text=\"انتخاب محصول:\").pack(pady=5)\n",
    "combo_product = ttk.Combobox(root, values=[\"Laptop\", \"Phone\", \"Tablet\"])\n",
    "combo_product.pack(pady=5)\n",
    "\n",
    "tk.Label(root, text=\"لیست موجودی:\").pack(pady=5)\n",
    "scrollbar = tk.Scrollbar(root)\n",
    "scrollbar.pack(side=\"right\", fill=\"y\")\n",
    "\n",
    "listbox_inventory = tk.Listbox(root, yscrollcommand=scrollbar.set)\n",
    "for i in range(1, 31):\n",
    "    listbox_inventory.insert(\"end\", f\"محصول شماره {i}\")\n",
    "listbox_inventory.pack(pady=5)\n",
    "\n",
    "scrollbar.config(command=listbox_inventory.yview)\n",
    "\n",
    "def show_selection():\n",
    "    selected = combo_product.get()\n",
    "    label_result.config(text=f\"محصول انتخابی: {selected}\")\n",
    "\n",
    "tk.Button(root, text=\"نمایش انتخاب\", command=show_selection).pack(pady=10)\n",
    "label_result = tk.Label(root, text=\"\")\n",
    "label_result.pack()\n",
    "\n",
    "root.mainloop()\n"
   ]
  },
  {
   "cell_type": "markdown",
   "id": "ace1bc83",
   "metadata": {},
   "source": [
    "<h2 dir=\"rtl\" style=\"text-align: justify;\">تمرین</h2> <p dir=\"rtl\" style=\"text-align: justify;\"> ۱. یک پنجره بسازید و Listbox با حداقل ۱۵ آیتم اضافه کنید. </p> <p dir=\"rtl\" style=\"text-align: justify;\"> ۲. یک Scrollbar به Listbox متصل کنید تا لیست قابل پیمایش باشد. </p> <p dir=\"rtl\" style=\"text-align: justify;\"> ۳. یک Combobox با ۵ گزینه ایجاد کنید و انتخاب آن را در یک Label نمایش دهید. </p> <p dir=\"rtl\" style=\"text-align: justify;\"> ۴. یک دکمه بسازید که آیتم انتخاب شده از Combobox را به Listbox اضافه کند. </p> <p dir=\"rtl\" style=\"text-align: justify;\"> ۵. ترکیبی از Listbox، Combobox و Scrollbar بسازید تا یک فرم تعاملی کامل ایجاد شود. </p>"
   ]
  }
 ],
 "metadata": {
  "kernelspec": {
   "display_name": "Python 3",
   "language": "python",
   "name": "python3"
  },
  "language_info": {
   "codemirror_mode": {
    "name": "ipython",
    "version": 3
   },
   "file_extension": ".py",
   "mimetype": "text/x-python",
   "name": "python",
   "nbconvert_exporter": "python",
   "pygments_lexer": "ipython3",
   "version": "3.12.7"
  }
 },
 "nbformat": 4,
 "nbformat_minor": 5
}
