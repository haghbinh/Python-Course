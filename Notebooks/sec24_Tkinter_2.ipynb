{
 "cells": [
  {
   "cell_type": "markdown",
   "id": "c635b7e2-1661-4a60-adb7-914a02aef725",
   "metadata": {},
   "source": [
    "<div style=\"direction:rtl;line-height:300%;\">\n",
    "    <font face=\"Zar_Bd.ttf\" size=5>\n",
    "        <div align=center>\n",
    "            <font face=\"IranNastaliq\" size=10>\n",
    "                <p dir=\"rtl\" style=\"text-align: justify;\"></p>\n",
    "                <p dir=\"rtl\" style=\"text-align: justify;\"></p>\n",
    "به نام خدا\n",
    "                <p dir=\"rtl\" style=\"text-align: justify;\"></p>\n",
    "            </font>\n",
    "               <font color=#FF7500 face=\"IranNastaliq\" size=30> \n",
    "                    <h3>درس بیست و چهارم: رابط کاربری گرافیکی 2     </h3> \n",
    "               </font>\n",
    "        </div>\n",
    "        <hr />\n",
    "        <style type=\"text/css\" scoped>\n",
    "        p{\n",
    "        border: 1px solid #a2a9b1;background-color: #f8f9fa;display: inline-block;\n",
    "        };\n",
    "        </style>\n",
    "    </font>\n",
    "</div>"
   ]
  },
  {
   "cell_type": "markdown",
   "id": "3d2e75c4-f8ef-47e1-88d6-c89696cf7924",
   "metadata": {},
   "source": [
    "<h2 dir=\"rtl\" style=\"text-align: justify;\">Frameها و مدیریت Layout در Tkinter</h2>\n",
    "\n",
    "<p dir=\"rtl\" style=\"text-align: justify;\">\n",
    "برای سازماندهی ویجت‌ها در پنجره‌های بزرگ، از <b>Frame</b> استفاده می‌کنیم. Frame یک قاب (container) است که می‌توان ویجت‌ها را داخل آن قرار داد.  \n",
    "همچنین مدیریت موقعیت ویجت‌ها با سه روش امکان‌پذیر است: <b>pack</b>, <b>grid</b>, <b>place</b>.\n",
    "</p>\n",
    "\n",
    "<h2 dir=\"rtl\" style=\"text-align: justify;\">۱. استفاده از Frame</h2>"
   ]
  },
  {
   "cell_type": "code",
   "execution_count": null,
   "id": "3176f21d-7717-46c0-8f6d-334066b95931",
   "metadata": {},
   "outputs": [],
   "source": [
    "import tkinter as tk\n",
    "\n",
    "root = tk.Tk()\n",
    "root.title(\"مثال Frame\")\n",
    "root.geometry(\"400x200\")\n",
    "\n",
    "# ایجاد یک Frame\n",
    "frame_top = tk.Frame(root, bg=\"lightblue\", pady=10)\n",
    "frame_top.pack(fill=\"x\")\n",
    "\n",
    "frame_bottom = tk.Frame(root, bg=\"lightgreen\", pady=10)\n",
    "frame_bottom.pack(fill=\"x\")\n",
    "\n",
    "# اضافه کردن ویجت‌ها به Frame\n",
    "label1 = tk.Label(frame_top, text=\"این ویجت در Frame بالا است\")\n",
    "label1.pack()\n",
    "\n",
    "label2 = tk.Label(frame_bottom, text=\"این ویجت در Frame پایین است\")\n",
    "label2.pack()\n",
    "\n",
    "root.mainloop()"
   ]
  },
  {
   "cell_type": "markdown",
   "id": "1b6af02d-299f-4445-a768-b9799a2fede5",
   "metadata": {},
   "source": [
    "<p dir=\"rtl\" style=\"text-align: justify;\"> در این مثال: <ul dir=\"rtl\" style=\"text-align: justify;\"> <li><code>Frame</code> برای گروه‌بندی ویجت‌ها استفاده شد.</li> <li>با <code>pack(fill=\"x\")</code> عرض Frame تمام پنجره را پوشش می‌دهد.</li> <li>ویجت‌ها داخل Frame با pack قرار گرفتند.</li> </ul> </p> <h2 dir=\"rtl\" style=\"text-align: justify;\">۲. مدیریت Layout با grid</h2>"
   ]
  },
  {
   "cell_type": "code",
   "execution_count": 1,
   "id": "a41c37ac-5741-4eea-b0dd-002ce6201927",
   "metadata": {},
   "outputs": [],
   "source": [
    "import tkinter as tk\n",
    "\n",
    "root = tk.Tk()\n",
    "root.title(\"مثال Grid\")\n",
    "root.geometry(\"300x150\")\n",
    "\n",
    "tk.Label(root, text=\"نام:\").grid(row=0, column=0, padx=5, pady=5)\n",
    "tk.Entry(root).grid(row=0, column=1, padx=5, pady=5)\n",
    "\n",
    "tk.Label(root, text=\"سن:\").grid(row=1, column=0, padx=5, pady=5)\n",
    "tk.Entry(root).grid(row=1, column=1, padx=5, pady=5)\n",
    "\n",
    "tk.Button(root, text=\"ثبت\").grid(row=2, column=0, columnspan=2, pady=10)\n",
    "\n",
    "root.mainloop()\n"
   ]
  },
  {
   "cell_type": "markdown",
   "id": "c20d0653-f04a-428f-9344-a2a0be0b01ac",
   "metadata": {},
   "source": [
    "<p dir=\"rtl\" style=\"text-align: justify;\"> روش <code>grid</code> به شما اجازه می‌دهد ویجت‌ها را در سطرها و ستون‌ها مرتب کنید و کنترل دقیق‌تری نسبت به <code>pack</code> دارد. </p> <h2 dir=\"rtl\" style=\"text-align: justify;\">۳. مدیریت رویدادها (Event Handling)</h2>"
   ]
  },
  {
   "cell_type": "code",
   "execution_count": 2,
   "id": "a1e54a89",
   "metadata": {},
   "outputs": [],
   "source": [
    "import tkinter as tk\n",
    "\n",
    "def on_click(event):\n",
    "    label_result.config(text=f\"شما روی پنجره کلیک کردید! مختصات: ({event.x}, {event.y})\")\n",
    "\n",
    "root = tk.Tk()\n",
    "root.title(\"مدیریت رویدادها\")\n",
    "root.geometry(\"400x200\")\n",
    "\n",
    "label_result = tk.Label(root, text=\"\")\n",
    "label_result.pack(pady=50)\n",
    "\n",
    "# اتصال رویداد کلیک موس به تابع\n",
    "root.bind(\"<Button-1>\", on_click)\n",
    "\n",
    "root.mainloop()\n"
   ]
  },
  {
   "cell_type": "markdown",
   "id": "ace1bc83",
   "metadata": {},
   "source": [
    "<p dir=\"rtl\" style=\"text-align: justify;\"> با <code>bind</code> می‌توان هر رویدادی مثل کلیک موس، فشردن کلید یا حرکت موس را به یک تابع متصل کرد و پاسخ دلخواه اجرا شود. </p> <h2 dir=\"rtl\" style=\"text-align: justify;\">تمرین</h2> <p dir=\"rtl\" style=\"text-align: justify;\"> ۱. پنجره‌ای با دو Frame بسازید و چند ویجت داخل هر Frame قرار دهید. </p> <p dir=\"rtl\" style=\"text-align: justify;\"> ۲. از روش grid برای مرتب کردن حداقل ۴ ویجت استفاده کنید. </p> <p dir=\"rtl\" style=\"text-align: justify;\"> ۳. یک دکمه بسازید و با bind به آن رویداد کلیک را متصل کنید. </p> <p dir=\"rtl\" style=\"text-align: justify;\"> ۴. وقتی روی پنجره کلیک می‌کنید، مختصات موس در یک لیبل نمایش داده شود. </p> <p dir=\"rtl\" style=\"text-align: justify;\"> ۵. ترکیبی از Frame، grid و bind را استفاده کنید تا یک فرم تعاملی ساده بسازید. </p>"
   ]
  }
 ],
 "metadata": {
  "kernelspec": {
   "display_name": "Python 3",
   "language": "python",
   "name": "python3"
  },
  "language_info": {
   "codemirror_mode": {
    "name": "ipython",
    "version": 3
   },
   "file_extension": ".py",
   "mimetype": "text/x-python",
   "name": "python",
   "nbconvert_exporter": "python",
   "pygments_lexer": "ipython3",
   "version": "3.12.7"
  }
 },
 "nbformat": 4,
 "nbformat_minor": 5
}
