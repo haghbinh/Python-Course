{
 "cells": [
  {
   "cell_type": "markdown",
   "id": "c635b7e2-1661-4a60-adb7-914a02aef725",
   "metadata": {},
   "source": [
    "<div style=\"direction:rtl;line-height:300%;\">\n",
    "    <font face=\"Zar_Bd.ttf\" size=5>\n",
    "        <div align=center>\n",
    "            <font face=\"IranNastaliq\" size=10>\n",
    "                <p dir=\"rtl\" style=\"text-align: justify;\"></p>\n",
    "                <p dir=\"rtl\" style=\"text-align: justify;\"></p>\n",
    "به نام خدا\n",
    "                <p dir=\"rtl\" style=\"text-align: justify;\"></p>\n",
    "            </font>\n",
    "               <font color=#FF7500 face=\"IranNastaliq\" size=30> \n",
    "                    <h3>درس نهم: ساختار داده‌ها در پایتون  </h3> \n",
    "                    <h4>دیکشنری‌ها  </h4> \n",
    "               </font>\n",
    "        </div>\n",
    "        <hr />\n",
    "        <style type=\"text/css\" scoped>\n",
    "        p{\n",
    "        border: 1px solid #a2a9b1;background-color: #f8f9fa;display: inline-block;\n",
    "        };\n",
    "        </style>\n",
    "    </font>\n",
    "</div>"
   ]
  },
  {
   "cell_type": "markdown",
   "id": "65942d52-729d-4d9a-8824-9e32b9534bff",
   "metadata": {},
   "source": [
    "<h2 dir=\"rtl\" style=\"text-align: justify;\">ساختار داده‌ها در پایتون: دیکشنری‌ها (Dictionaries)</h2>\n",
    "\n",
    "<p dir=\"rtl\" style=\"text-align: justify;\">\n",
    "دیکشنری‌ها یکی از پرکاربردترین ساختارهای داده‌ای در پایتون هستند.  \n",
    "هر دیکشنری شامل **کلید (Key)** و **مقدار (Value)** است.  \n",
    "ویژگی مهم دیکشنری‌ها این است که کلیدها یکتا هستند و به وسیله کلیدها به مقادیر دسترسی پیدا می‌کنیم.\n",
    "</p>\n",
    "\n",
    "<h2 dir=\"rtl\" style=\"text-align: justify;\">۱. ایجاد دیکشنری</h2>\n",
    "\n",
    "<p dir=\"rtl\" style=\"text-align: justify;\">\n",
    "برای تعریف دیکشنری از آکولاد `{}` استفاده می‌کنیم و هر کلید با مقدار مربوطه با دو نقطه `:` جدا می‌شود.\n",
    "</p>"
   ]
  },
  {
   "cell_type": "code",
   "execution_count": 9,
   "id": "1f352822-e5dd-4759-b7c5-ecce4c70bd74",
   "metadata": {},
   "outputs": [
    {
     "name": "stdout",
     "output_type": "stream",
     "text": [
      "{'name': 'Ali', 'age': 20, 'major': 'Physics'}\n",
      "{'math': 18, 'physics': 19, 'chemistry': 17}\n"
     ]
    }
   ],
   "source": [
    "# Creating dictionaries\n",
    "student = {\"name\": \"Ali\", \"age\": 20, \"major\": \"Physics\"}\n",
    "grades = {\"math\": 18, \"physics\": 19, \"chemistry\": 17}\n",
    "\n",
    "print(student)\n",
    "print(grades)\n"
   ]
  },
  {
   "cell_type": "markdown",
   "id": "4e1b04a9-65a8-4cb2-8b66-12ed03f6fc54",
   "metadata": {},
   "source": [
    "<h2 dir=\"rtl\" style=\"text-align: justify;\">۲. دسترسی به مقادیر</h2> <p dir=\"rtl\" style=\"text-align: justify;\"> برای دسترسی به مقدار مربوط به یک کلید از `[key]` یا متد `get()` استفاده می‌کنیم. </p>"
   ]
  },
  {
   "cell_type": "code",
   "execution_count": 10,
   "id": "c60a2e63-edb1-4d0e-add9-1521776c75fb",
   "metadata": {},
   "outputs": [
    {
     "name": "stdout",
     "output_type": "stream",
     "text": [
      "Ali\n",
      "20\n"
     ]
    }
   ],
   "source": [
    "student = {\"name\": \"Ali\", \"age\": 20, \"major\": \"Physics\"}\n",
    "\n",
    "print(student[\"name\"])      # Ali\n",
    "print(student.get(\"age\"))   # 20\n"
   ]
  },
  {
   "cell_type": "markdown",
   "id": "7c3dfaaf-3359-4884-aa89-1e3f4abe6932",
   "metadata": {},
   "source": [
    "<h2 dir=\"rtl\" style=\"text-align: justify;\">۳. اضافه کردن و تغییر مقادیر</h2> <p dir=\"rtl\" style=\"text-align: justify;\"> می‌توانیم یک کلید جدید اضافه کنیم یا مقدار یک کلید موجود را تغییر دهیم. </p>"
   ]
  },
  {
   "cell_type": "code",
   "execution_count": 11,
   "id": "f57bc6a2-595a-4a25-8378-397c3acb7c3b",
   "metadata": {},
   "outputs": [
    {
     "name": "stdout",
     "output_type": "stream",
     "text": [
      "{'name': 'Ali', 'age': 20, 'major': 'Physics'}\n",
      "{'name': 'Ali', 'age': 21, 'major': 'Physics'}\n"
     ]
    }
   ],
   "source": [
    "student = {\"name\": \"Ali\", \"age\": 20}\n",
    "\n",
    "# Adding a new key\n",
    "student[\"major\"] = \"Physics\"\n",
    "print(student)\n",
    "\n",
    "# Modifying an existing key\n",
    "student[\"age\"] = 21\n",
    "print(student)\n"
   ]
  },
  {
   "cell_type": "markdown",
   "id": "1acf379a-a6a0-4ee6-b26e-e0c1697baa0b",
   "metadata": {},
   "source": [
    "<h2 dir=\"rtl\" style=\"text-align: justify;\">۴. حذف عناصر</h2> <p dir=\"rtl\" style=\"text-align: justify;\"> برای حذف عناصر از `del` یا `pop` استفاده می‌کنیم. </p>"
   ]
  },
  {
   "cell_type": "code",
   "execution_count": 12,
   "id": "f5d56f62-e0d8-4f3a-b333-927ef1056bf3",
   "metadata": {},
   "outputs": [
    {
     "name": "stdout",
     "output_type": "stream",
     "text": [
      "{'name': 'Ali', 'age': 21}\n",
      "{'name': 'Ali'}\n",
      "Removed age: 21\n"
     ]
    }
   ],
   "source": [
    "student = {\"name\": \"Ali\", \"age\": 21, \"major\": \"Physics\"}\n",
    "\n",
    "# Remove by key\n",
    "del student[\"major\"]\n",
    "print(student)\n",
    "\n",
    "# Remove and return value\n",
    "age = student.pop(\"age\")\n",
    "print(student)\n",
    "print(\"Removed age:\", age)\n"
   ]
  },
  {
   "cell_type": "markdown",
   "id": "9c964d86-c505-45ee-af8d-ada660db6da7",
   "metadata": {},
   "source": [
    "\n",
    "<h2 dir=\"rtl\" style=\"text-align: justify;\">۵. حلقه روی دیکشنری</h2> <p dir=\"rtl\" style=\"text-align: justify;\"> می‌توانیم روی کلیدها، مقادیر یا هر دو با هم حلقه بزنیم. </p>"
   ]
  },
  {
   "cell_type": "code",
   "execution_count": 13,
   "id": "d7e72af6-934e-42cb-9551-10681006d381",
   "metadata": {},
   "outputs": [
    {
     "name": "stdout",
     "output_type": "stream",
     "text": [
      "math\n",
      "physics\n",
      "chemistry\n",
      "18\n",
      "19\n",
      "17\n",
      "math -> 18\n",
      "physics -> 19\n",
      "chemistry -> 17\n"
     ]
    }
   ],
   "source": [
    "grades = {\"math\": 18, \"physics\": 19, \"chemistry\": 17}\n",
    "\n",
    "# Loop over keys\n",
    "for subject in grades:\n",
    "    print(subject)\n",
    "\n",
    "# Loop over values\n",
    "for score in grades.values():\n",
    "    print(score)\n",
    "\n",
    "# Loop over key-value pairs\n",
    "for subject, score in grades.items():\n",
    "    print(subject, \"->\", score)\n"
   ]
  },
  {
   "cell_type": "markdown",
   "id": "50677e28-a867-486b-adef-8bb48a3a84f9",
   "metadata": {},
   "source": [
    "<h2 dir=\"rtl\" style=\"text-align: justify;\">۶. توابع و متدهای مفید</h2> <p dir=\"rtl\" style=\"text-align: justify;\"> دیکشنری‌ها متدهای متعددی دارند که بسیار مفید هستند. </p>"
   ]
  },
  {
   "cell_type": "code",
   "execution_count": 14,
   "id": "49e26bb8-45a4-4364-befb-1f9503443aac",
   "metadata": {},
   "outputs": [
    {
     "name": "stdout",
     "output_type": "stream",
     "text": [
      "dict_keys(['name', 'age', 'major'])\n",
      "dict_values(['Ali', 21, 'Physics'])\n",
      "dict_items([('name', 'Ali'), ('age', 21), ('major', 'Physics')])\n",
      "3\n"
     ]
    }
   ],
   "source": [
    "student = {\"name\": \"Ali\", \"age\": 21, \"major\": \"Physics\"}\n",
    "\n",
    "print(student.keys())    # List of keys\n",
    "print(student.values())  # List of values\n",
    "print(student.items())   # List of (key, value) tuples\n",
    "print(len(student))      # Number of items\n"
   ]
  },
  {
   "cell_type": "markdown",
   "id": "322a0f93-9a5f-434b-afe4-a029bfbde19d",
   "metadata": {},
   "source": [
    "<h2 dir=\"rtl\" style=\"text-align: justify;\">تمرین</h2> <p dir=\"rtl\" style=\"text-align: justify;\"> ۱. یک دیکشنری شامل نام و سن چند نفر بسازید و تعداد افراد را چاپ کنید. </p> <p dir=\"rtl\" style=\"text-align: justify;\"> ۲. دیکشنری‌ای بسازید و یک کلید جدید با مقدار دلخواه اضافه کنید. </p> <p dir=\"rtl\" style=\"text-align: justify;\"> ۳. دیکشنری‌ای بسازید و یک کلید مشخص را حذف کنید و مقدار آن را چاپ کنید. </p> <p dir=\"rtl\" style=\"text-align: justify;\"> ۴. دیکشنری‌ای بسازید و با استفاده از حلقه، کلیدها و مقادیر را جداگانه چاپ کنید. </p> <p dir=\"rtl\" style=\"text-align: justify;\"> ۵. یک دیکشنری بسازید و با استفاده از متدهای keys، values و items آن را بررسی کنید. </p>"
   ]
  },
  {
   "cell_type": "code",
   "execution_count": null,
   "id": "a0681d7a-d7dd-4c67-85e9-6cd2a366090f",
   "metadata": {},
   "outputs": [],
   "source": []
  }
 ],
 "metadata": {
  "kernelspec": {
   "display_name": "Python 3 (ipykernel)",
   "language": "python",
   "name": "python3"
  },
  "language_info": {
   "codemirror_mode": {
    "name": "ipython",
    "version": 3
   },
   "file_extension": ".py",
   "mimetype": "text/x-python",
   "name": "python",
   "nbconvert_exporter": "python",
   "pygments_lexer": "ipython3",
   "version": "3.12.7"
  }
 },
 "nbformat": 4,
 "nbformat_minor": 5
}
