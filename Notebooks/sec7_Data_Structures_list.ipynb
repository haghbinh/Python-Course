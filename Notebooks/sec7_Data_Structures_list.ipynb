{
 "cells": [
  {
   "cell_type": "markdown",
   "id": "c635b7e2-1661-4a60-adb7-914a02aef725",
   "metadata": {},
   "source": [
    "<div style=\"direction:rtl;line-height:300%;\">\n",
    "    <font face=\"Zar_Bd.ttf\" size=5>\n",
    "        <div align=center>\n",
    "            <font face=\"IranNastaliq\" size=10>\n",
    "                <p dir=\"rtl\" style=\"text-align: justify;\"></p>\n",
    "                <p dir=\"rtl\" style=\"text-align: justify;\"></p>\n",
    "به نام خدا\n",
    "                <p dir=\"rtl\" style=\"text-align: justify;\"></p>\n",
    "            </font>\n",
    "               <font color=#FF7500 face=\"IranNastaliq\" size=30>   <h3>درس هفتم: ساختار داده‌ها در پایتون  </h3>  </font>\n",
    "        </div>\n",
    "        <hr />\n",
    "        <style type=\"text/css\" scoped>\n",
    "        p{\n",
    "        border: 1px solid #a2a9b1;background-color: #f8f9fa;display: inline-block;\n",
    "        };\n",
    "        </style>\n",
    "    </font>\n",
    "</div>"
   ]
  },
  {
   "cell_type": "markdown",
   "id": "43ebcb09-3537-4e6d-ab07-8ed130da3837",
   "metadata": {},
   "source": [
    "<h2 dir=\"rtl\" style=\"text-align: justify;\">ساختار داده‌ها در پایتون: لیست‌ها (Lists)</h2>\n",
    "\n",
    "<p dir=\"rtl\" style=\"text-align: justify;\">\n",
    "لیست‌ها یکی از پرکاربردترین ساختارهای داده در پایتون هستند. لیست‌ها مجموعه‌ای از عناصر هستند که می‌توانند از انواع مختلف داده تشکیل شده باشند. ویژگی مهم لیست‌ها این است که <b>قابل تغییر (mutable)</b> هستند و می‌توان عناصر آن‌ها را اضافه، حذف یا تغییر داد.\n",
    "</p>\n",
    "\n",
    "<h2 dir=\"rtl\" style=\"text-align: justify;\">۱. تعریف لیست</h2>\n",
    "\n",
    "<p dir=\"rtl\" style=\"text-align: justify;\">\n",
    "لیست‌ها با استفاده از کروشه [] تعریف می‌شوند و عناصر با کاما جدا می‌شوند.\n",
    "</p>"
   ]
  },
  {
   "cell_type": "code",
   "execution_count": 1,
   "id": "29eee035-acf3-4c08-b2d0-96e8765c7cd3",
   "metadata": {},
   "outputs": [
    {
     "name": "stdout",
     "output_type": "stream",
     "text": [
      "[1, 2, 3, 4, 5]\n",
      "['apple', 'banana', 'cherry']\n",
      "[1, 'apple', True, 3.14]\n"
     ]
    }
   ],
   "source": [
    "numbers = [1, 2, 3, 4, 5]\n",
    "fruits = [\"apple\", \"banana\", \"cherry\"]\n",
    "mixed = [1, \"apple\", True, 3.14]\n",
    "\n",
    "print(numbers)\n",
    "print(fruits)\n",
    "print(mixed)"
   ]
  },
  {
   "cell_type": "markdown",
   "id": "65942d52-729d-4d9a-8824-9e32b9534bff",
   "metadata": {},
   "source": [
    "<h2 dir=\"rtl\" style=\"text-align: justify;\">۲. دسترسی به عناصر لیست</h2> <p dir=\"rtl\" style=\"text-align: justify;\"> برای دسترسی به عناصر لیست از اندیس (index) استفاده می‌کنیم. اندیس‌ها از صفر شروع می‌شوند و می‌توان از اندیس منفی برای دسترسی از انتهای لیست استفاده کرد. </p>"
   ]
  },
  {
   "cell_type": "code",
   "execution_count": 2,
   "id": "b1cdaa57-9c2f-451f-982a-a614febe5918",
   "metadata": {},
   "outputs": [
    {
     "name": "stdout",
     "output_type": "stream",
     "text": [
      "apple\n",
      "cherry\n"
     ]
    }
   ],
   "source": [
    "fruits = [\"apple\", \"banana\", \"cherry\"]\n",
    "print(fruits[0])   # اولین عنصر\n",
    "print(fruits[-1])  # آخرین عنصر\n"
   ]
  },
  {
   "cell_type": "markdown",
   "id": "6a943bd8-5c65-4ed1-9a77-0fe1d79c60fa",
   "metadata": {},
   "source": [
    "<h2 dir=\"rtl\" style=\"text-align: justify;\">۳. تغییر عناصر لیست</h2> <p dir=\"rtl\" style=\"text-align: justify;\"> می‌توانیم عناصر لیست را مستقیماً تغییر دهیم: </p>"
   ]
  },
  {
   "cell_type": "code",
   "execution_count": 3,
   "id": "ca1b8bc1-cdf1-4abb-8b80-a1d397841604",
   "metadata": {},
   "outputs": [
    {
     "name": "stdout",
     "output_type": "stream",
     "text": [
      "[1, 20, 3]\n"
     ]
    }
   ],
   "source": [
    "numbers = [1, 2, 3]\n",
    "numbers[1] = 20\n",
    "print(numbers)  # [1, 20, 3]\n"
   ]
  },
  {
   "cell_type": "markdown",
   "id": "665c5dee-05d1-4379-8f62-4799c7b7d805",
   "metadata": {},
   "source": [
    "<h2 dir=\"rtl\" style=\"text-align: justify;\">۴. افزودن عناصر به لیست</h2> <p dir=\"rtl\" style=\"text-align: justify;\"> روش‌های مختلفی برای اضافه کردن عنصر به لیست وجود دارد: </p>"
   ]
  },
  {
   "cell_type": "code",
   "execution_count": 4,
   "id": "a2b9b50e-ec12-4b5c-9f91-2613379869e4",
   "metadata": {},
   "outputs": [
    {
     "name": "stdout",
     "output_type": "stream",
     "text": [
      "['apple', 'banana', 'cherry']\n",
      "['apple', 'banana', 'cherry', 'orange', 'kiwi']\n",
      "['apple', 'mango', 'banana', 'cherry', 'orange', 'kiwi']\n"
     ]
    }
   ],
   "source": [
    "fruits = [\"apple\", \"banana\"]\n",
    "\n",
    "# اضافه کردن یک عنصر در انتهای لیست\n",
    "fruits.append(\"cherry\")\n",
    "print(fruits)\n",
    "\n",
    "# اضافه کردن چند عنصر\n",
    "fruits.extend([\"orange\", \"kiwi\"])\n",
    "print(fruits)\n",
    "\n",
    "# اضافه کردن عنصر در موقعیت مشخص\n",
    "fruits.insert(1, \"mango\")\n",
    "print(fruits)\n"
   ]
  },
  {
   "cell_type": "markdown",
   "id": "f32de68d-854f-4e4d-86a2-d7515f88cf49",
   "metadata": {},
   "source": [
    "<h2 dir=\"rtl\" style=\"text-align: justify;\">۵. حذف عناصر از لیست</h2>"
   ]
  },
  {
   "cell_type": "code",
   "execution_count": 5,
   "id": "148a6c4a-5434-4020-83ef-676e566bcf61",
   "metadata": {},
   "outputs": [
    {
     "name": "stdout",
     "output_type": "stream",
     "text": [
      "['apple', 'cherry', 'orange']\n",
      "['apple', 'orange']\n",
      "Removed: cherry\n",
      "['apple']\n"
     ]
    }
   ],
   "source": [
    "fruits = [\"apple\", \"banana\", \"cherry\", \"orange\"]\n",
    "\n",
    "# حذف با نام عنصر\n",
    "fruits.remove(\"banana\")\n",
    "print(fruits)\n",
    "\n",
    "# حذف با اندیس و دریافت مقدار حذف شده\n",
    "removed = fruits.pop(1)\n",
    "print(fruits)\n",
    "print(\"Removed:\", removed)\n",
    "\n",
    "# حذف آخرین عنصر\n",
    "fruits.pop()\n",
    "print(fruits)\n"
   ]
  },
  {
   "cell_type": "markdown",
   "id": "a35e0935-d60a-43ca-b3f6-78727b6a3249",
   "metadata": {},
   "source": [
    "<h2 dir=\"rtl\" style=\"text-align: justify;\">۶. بررسی وجود عنصر</h2>"
   ]
  },
  {
   "cell_type": "code",
   "execution_count": 6,
   "id": "fa3f6ec3-6a65-49e2-9485-e26c8c5d646f",
   "metadata": {},
   "outputs": [
    {
     "name": "stdout",
     "output_type": "stream",
     "text": [
      "True\n",
      "True\n"
     ]
    }
   ],
   "source": [
    "fruits = [\"apple\", \"banana\", \"cherry\"]\n",
    "print(\"apple\" in fruits)   # True\n",
    "print(\"kiwi\" not in fruits) # True\n"
   ]
  },
  {
   "cell_type": "markdown",
   "id": "f46a2162-f7bd-4a8a-aab0-5f0b8d5a3528",
   "metadata": {},
   "source": [
    "<h2 dir=\"rtl\" style=\"text-align: justify;\">۷. طول لیست</h2>"
   ]
  },
  {
   "cell_type": "code",
   "execution_count": 7,
   "id": "8fd7186f-1064-4ab1-b774-ab41cf31a945",
   "metadata": {},
   "outputs": [
    {
     "name": "stdout",
     "output_type": "stream",
     "text": [
      "5\n"
     ]
    }
   ],
   "source": [
    "numbers = [1, 2, 3, 4, 5]\n",
    "print(len(numbers))  # 5\n"
   ]
  },
  {
   "cell_type": "markdown",
   "id": "e1d2b65d-9cc4-4617-9118-a6a59cc59a75",
   "metadata": {},
   "source": [
    "<h2 dir=\"rtl\" style=\"text-align: justify;\">۸. حلقه روی لیست</h2>"
   ]
  },
  {
   "cell_type": "code",
   "execution_count": 8,
   "id": "9bca5314-90e5-4826-983d-c570aa5ab39e",
   "metadata": {},
   "outputs": [
    {
     "name": "stdout",
     "output_type": "stream",
     "text": [
      "apple\n",
      "banana\n",
      "cherry\n"
     ]
    }
   ],
   "source": [
    "fruits = [\"apple\", \"banana\", \"cherry\"]\n",
    "for fruit in fruits:\n",
    "    print(fruit)\n"
   ]
  },
  {
   "cell_type": "markdown",
   "id": "66956910-f355-494b-bf07-18b641cb8ff5",
   "metadata": {},
   "source": [
    "<h2 dir=\"rtl\" style=\"text-align: justify;\">۹. مرتب‌سازی و معکوس کردن</h2>"
   ]
  },
  {
   "cell_type": "code",
   "execution_count": 9,
   "id": "111af4ee-2c3a-4994-acae-faec63477a20",
   "metadata": {},
   "outputs": [
    {
     "name": "stdout",
     "output_type": "stream",
     "text": [
      "[1, 2, 5, 7, 9]\n",
      "[9, 7, 5, 2, 1]\n",
      "[1, 2, 5, 7, 9]\n"
     ]
    }
   ],
   "source": [
    "numbers = [5, 2, 9, 1, 7]\n",
    "\n",
    "# مرتب‌سازی صعودی\n",
    "numbers.sort()\n",
    "print(numbers)\n",
    "\n",
    "# مرتب‌سازی نزولی\n",
    "numbers.sort(reverse=True)\n",
    "print(numbers)\n",
    "\n",
    "# معکوس کردن لیست\n",
    "numbers.reverse()\n",
    "print(numbers)\n"
   ]
  },
  {
   "cell_type": "markdown",
   "id": "537bf4ef-ee62-4fbe-9db1-e88a8fd0134a",
   "metadata": {},
   "source": [
    "<h2 dir=\"rtl\" style=\"text-align: justify;\">۱۰. کپی و تکرار لیست</h2>"
   ]
  },
  {
   "cell_type": "code",
   "execution_count": 10,
   "id": "ef3dd1ad-bde9-4f0e-a326-a9ec5a9ac910",
   "metadata": {},
   "outputs": [
    {
     "name": "stdout",
     "output_type": "stream",
     "text": [
      "['apple', 'banana']\n",
      "[1, 2, 3, 1, 2, 3, 1, 2, 3]\n"
     ]
    }
   ],
   "source": [
    "fruits = [\"apple\", \"banana\"]\n",
    "fruits_copy = fruits.copy()\n",
    "print(fruits_copy)\n",
    "\n",
    "# تکرار عناصر\n",
    "numbers = [1, 2, 3] * 3\n",
    "print(numbers)\n"
   ]
  },
  {
   "cell_type": "markdown",
   "id": "e4f5953c-386a-4c12-b0d5-7e9dbd6d4b92",
   "metadata": {},
   "source": [
    "<h2 dir=\"rtl\" style=\"text-align: justify;\">۱۱. لیست‌های تو در تو</h2>"
   ]
  },
  {
   "cell_type": "code",
   "execution_count": 11,
   "id": "efea3454-5a98-43d8-925d-a41d37d514ce",
   "metadata": {},
   "outputs": [
    {
     "name": "stdout",
     "output_type": "stream",
     "text": [
      "2\n"
     ]
    }
   ],
   "source": [
    "matrix = [\n",
    "    [1, 2, 3],\n",
    "    [4, 5, 6],\n",
    "    [7, 8, 9]\n",
    "]\n",
    "\n",
    "print(matrix[0][1])  # 2\n"
   ]
  },
  {
   "cell_type": "markdown",
   "id": "bcfb75fa-c9cd-4d3d-89d7-9f2812d25736",
   "metadata": {},
   "source": [
    "<h2 dir=\"rtl\" style=\"text-align: justify;\">۱۲. تبدیل سایر داده‌ها به لیست</h2>"
   ]
  },
  {
   "cell_type": "code",
   "execution_count": 12,
   "id": "9df53e22-7f18-4c54-8a3a-0ef6184a4394",
   "metadata": {},
   "outputs": [
    {
     "name": "stdout",
     "output_type": "stream",
     "text": [
      "['h', 'e', 'l', 'l', 'o']\n",
      "[1, 2, 3]\n"
     ]
    }
   ],
   "source": [
    "string = \"hello\"\n",
    "list_from_string = list(string)\n",
    "print(list_from_string)\n",
    "\n",
    "tuple_data = (1, 2, 3)\n",
    "list_from_tuple = list(tuple_data)\n",
    "print(list_from_tuple)\n"
   ]
  },
  {
   "cell_type": "markdown",
   "id": "4836bb01-5902-454a-9455-bfd0048d775f",
   "metadata": {},
   "source": [
    "<h2 dir=\"rtl\" style=\"text-align: justify;\">۱۳. برش یا Slicing در لیست‌ها</h2>\n",
    "\n",
    "<p dir=\"rtl\" style=\"text-align: justify;\">\n",
    "با استفاده از <b>Slicing</b> می‌توانیم بخش خاصی از لیست را استخراج کنیم. قالب کلی به صورت <code>list[start:stop:step]</code> است:\n",
    "<ul>\n",
    "<li><b>start:</b> اندیس شروع (شامل آن عنصر)</li>\n",
    "<li><b>stop:</b> اندیس پایان (غیر شامل)</li>\n",
    "<li><b>step:</b> گام یا فاصله بین عناصر</li>\n",
    "</ul>\n",
    "</p>\n"
   ]
  },
  {
   "cell_type": "code",
   "execution_count": 13,
   "id": "482eb079-1146-4a4d-8e23-bc6c85c304c3",
   "metadata": {},
   "outputs": [
    {
     "name": "stdout",
     "output_type": "stream",
     "text": [
      "[2, 3, 4, 5]\n",
      "[0, 1, 2, 3, 4]\n",
      "[5, 6, 7, 8, 9]\n",
      "[0, 2, 4, 6, 8]\n",
      "[9, 8, 7, 6, 5, 4, 3, 2, 1, 0]\n"
     ]
    }
   ],
   "source": [
    "numbers = [0, 1, 2, 3, 4, 5, 6, 7, 8, 9]\n",
    "\n",
    "# استخراج عناصر از اندیس 2 تا 5 (شامل 2، 3، 4، 5)\n",
    "print(numbers[2:6])\n",
    "\n",
    "# استخراج از ابتدا تا اندیس 4\n",
    "print(numbers[:5])\n",
    "\n",
    "# استخراج از اندیس 5 تا انتها\n",
    "print(numbers[5:])\n",
    "\n",
    "# استخراج همه عناصر با گام 2\n",
    "print(numbers[::2])\n",
    "\n",
    "# معکوس کردن لیست با Slicing\n",
    "print(numbers[::-1])"
   ]
  },
  {
   "cell_type": "markdown",
   "id": "c34878ed-72b5-46b4-86a3-4122559b8de4",
   "metadata": {},
   "source": [
    "<h2 dir=\"rtl\" style=\"text-align: justify;\">تمرین</h2> <p dir=\"rtl\" style=\"text-align: justify;\"> ۱. لیستی از ۵ عدد بسازید و مجموع عناصر آن را محاسبه کنید. </p> <p dir=\"rtl\" style=\"text-align: justify;\"> ۲. برنامه‌ای بنویسید که از کاربر چند نام دریافت کند، آن‌ها را در یک لیست ذخیره کند و سپس چاپ نماید. </p> <p dir=\"rtl\" style=\"text-align: justify;\"> ۳. لیستی از اعداد داشته باشید. عناصر بزرگتر از ۵ را حذف کنید و لیست جدید را چاپ کنید. </p> <p dir=\"rtl\" style=\"text-align: justify;\"> ۴. یک لیست دو بعدی (matrix) بسازید و مجموع عناصر هر سطر را محاسبه کنید. </p>\n",
    "<p dir=\"rtl\" style=\"text-align: justify;\"> ۵. تابعی بنویسید که یک لیست طبیعی دریافت کند و مقادیر فرد آن را بصورت یک لیست برگرداند. </p>"
   ]
  },
  {
   "cell_type": "code",
   "execution_count": null,
   "id": "6706e9ca-24f3-493d-9aa9-c0c773de6d1d",
   "metadata": {},
   "outputs": [],
   "source": []
  }
 ],
 "metadata": {
  "kernelspec": {
   "display_name": "Python 3 (ipykernel)",
   "language": "python",
   "name": "python3"
  },
  "language_info": {
   "codemirror_mode": {
    "name": "ipython",
    "version": 3
   },
   "file_extension": ".py",
   "mimetype": "text/x-python",
   "name": "python",
   "nbconvert_exporter": "python",
   "pygments_lexer": "ipython3",
   "version": "3.12.7"
  }
 },
 "nbformat": 4,
 "nbformat_minor": 5
}
