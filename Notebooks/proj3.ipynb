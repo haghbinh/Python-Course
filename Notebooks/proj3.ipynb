{
 "cells": [
  {
   "cell_type": "markdown",
   "id": "c635b7e2-1661-4a60-adb7-914a02aef725",
   "metadata": {},
   "source": [
    "<div style=\"direction:rtl;line-height:300%;\">\n",
    "    <font face=\"Zar_Bd.ttf\" size=5>\n",
    "        <div align=center>\n",
    "            <font face=\"IranNastaliq\" size=10>\n",
    "                <p dir=\"rtl\" style=\"text-align: justify;\"></p>\n",
    "                <p dir=\"rtl\" style=\"text-align: justify;\"></p>\n",
    "به نام خدا\n",
    "                <p dir=\"rtl\" style=\"text-align: justify;\"></p>\n",
    "            </font>\n",
    "               <font color=#FF7500 face=\"IranNastaliq\" size=30> \n",
    "                    <h3>پروژه پایانی بخش پایتون پیشرفته    </h3> \n",
    "               </font>\n",
    "        </div>\n",
    "        <hr />\n",
    "        <style type=\"text/css\" scoped>\n",
    "        p{\n",
    "        border: 1px solid #a2a9b1;background-color: #f8f9fa;display: inline-block;\n",
    "        };\n",
    "        </style>\n",
    "    </font>\n",
    "</div>"
   ]
  },
  {
   "cell_type": "markdown",
   "id": "3d2e75c4-f8ef-47e1-88d6-c89696cf7924",
   "metadata": {},
   "source": [
    "<h2 dir=\"rtl\" style=\"text-align: justify;\">پروژه پایانی پایتون پیشرفته: مدیریت فروشگاه آنلاین</h2>\n",
    "\n",
    "<p dir=\"rtl\" style=\"text-align: justify;\">\n",
    "در این پروژه، یک فروشگاه آنلاین کوچک طراحی می‌کنید که شامل مدیریت محصولات، مشاهده موجودی و تعامل با کاربر از طریق پنجره گرافیکی باشد.  \n",
    "برای این پروژه، باید از مفاهیم کلاس و شی، مدیریت فایل و GUI با Tkinter استفاده کنید.\n",
    "</p>\n",
    "\n",
    "<h2 dir=\"rtl\" style=\"text-align: justify;\">۱. طراحی کلاس‌ها</h2>\n",
    "\n",
    "<p dir=\"rtl\" style=\"text-align: justify;\">\n",
    "دانشجو باید کلاس‌های زیر را کامل کند:\n",
    "<ul dir=\"rtl\" style=\"text-align: justify;\">\n",
    "<li><b>Product:</b> شامل ویژگی‌های id، name و price و متد نمایش اطلاعات.</li>\n",
    "<li><b>Inventory:</b> شامل لیست محصولات و متدهای اضافه کردن، حذف و جستجوی محصول.</li>\n",
    "</ul>\n",
    "</p>\n",
    "\n",
    "```python\n",
    "# کلاس محصول\n",
    "class Product:\n",
    "    def __init__(self, id, name, price):\n",
    "        self.id = id\n",
    "        self.name = name\n",
    "        self.price = price\n",
    "\n",
    "    def display_info(self):\n",
    "        # TODO: متد نمایش اطلاعات محصول را کامل کنید\n",
    "        pass\n",
    "\n",
    "# کلاس موجودی\n",
    "class Inventory:\n",
    "    def __init__(self):\n",
    "        self.products = []\n",
    "\n",
    "    def add_product(self, product):\n",
    "        # TODO: اضافه کردن محصول به لیست products\n",
    "        pass\n",
    "\n",
    "    def remove_product(self, product_id):\n",
    "        # TODO: حذف محصول بر اساس id\n",
    "        pass\n",
    "\n",
    "    def search_product(self, keyword):\n",
    "        # TODO: جستجوی محصول بر اساس نام\n",
    "        pass\n"
   ]
  },
  {
   "cell_type": "markdown",
   "id": "1969c50e-284d-46e2-9fce-c0a6832be06f",
   "metadata": {},
   "source": [
    "<h2 dir=\"rtl\" style=\"text-align: justify;\">توضیحات برای دانشجو</h2>\n",
    "\n",
    "<p dir=\"rtl\" style=\"text-align: justify;\">\n",
    "۱. توابع <code>add_product</code>، <code>show_products</code> و <code>update_quantity</code> را باید کامل کنید.\n",
    "</p>\n",
    "\n",
    "<p dir=\"rtl\" style=\"text-align: justify;\">\n",
    "۲. توابع <code>place_order</code> و <code>return_order</code> مربوط به سفارش و بازگرداندن محصول هستند و باید شامل مدیریت خطا و به‌روزرسانی موجودی شوند.\n",
    "</p>\n",
    "\n",
    "<p dir=\"rtl\" style=\"text-align: justify;\">\n",
    "۳. Closure <code>order_counter</code> را باید طوری تکمیل کنید که تعداد سفارش هر محصول را نگه دارد.\n",
    "</p>\n",
    "\n",
    "<p dir=\"rtl\" style=\"text-align: justify;\">\n",
    "۴. Decorator <code>transaction_log</code> را باید کامل کنید تا هر تراکنش قبل و بعد چاپ شود و توابع سفارش را تزریق کند.\n",
    "</p>\n",
    "\n",
    "<p dir=\"rtl\" style=\"text-align: justify;\">\n",
    "۵. در <code>main.py</code> رابط کاربری متنی بسازید تا بتوانید برنامه را تست کنید و گزینه‌های افزودن محصول، نمایش محصولات، ثبت سفارش، بازگرداندن محصول و خروج را پیاده کنید.\n",
    "</p>\n"
   ]
  },
  {
   "cell_type": "markdown",
   "id": "ce00f714",
   "metadata": {},
   "source": [
    "<h2 dir=\"rtl\" style=\"text-align: justify;\">۲. مدیریت فایل برای ذخیره و بازیابی داده‌ها</h2> <p dir=\"rtl\" style=\"text-align: justify;\"> دانشجو باید توابع زیر را کامل کند تا موجودی محصولات در فایل ذخیره و بازیابی شود. </p>"
   ]
  },
  {
   "cell_type": "code",
   "execution_count": 1,
   "id": "3ce6c5b1-cf98-45a9-98e1-e49f5bc68981",
   "metadata": {},
   "outputs": [],
   "source": [
    "import json\n",
    "\n",
    "def save_inventory(inventory, filename=\"inventory.json\"):\n",
    "    # TODO: تبدیل لیست محصولات به دیکشنری و ذخیره در فایل JSON\n",
    "    pass\n",
    "\n",
    "def load_inventory(filename=\"inventory.json\"):\n",
    "    # TODO: خواندن فایل JSON و بازسازی لیست محصولات\n",
    "    pass\n"
   ]
  },
  {
   "cell_type": "markdown",
   "id": "ef2c0c25",
   "metadata": {},
   "source": [
    "<h2 dir=\"rtl\" style=\"text-align: justify;\">۳. ایجاد رابط گرافیکی با Tkinter</h2> <p dir=\"rtl\" style=\"text-align: justify;\"> دانشجو باید پنجره اصلی فروشگاه و ویجت‌های زیر را ایجاد کند و متدهای مربوطه را کامل کند: <ul dir=\"rtl\" style=\"text-align: justify;\"> <li>لیست محصولات (Listbox) و Scrollbar برای مشاهده موجودی</li> <li>فیلدهای ورودی برای اضافه کردن محصول</li> <li>دکمه‌ها برای اضافه کردن، حذف و جستجوی محصول</li> <li>نمایش پیام‌ها و نتایج جستجو در Label</li> </ul> </p>"
   ]
  },
  {
   "cell_type": "code",
   "execution_count": null,
   "id": "5986eabd",
   "metadata": {},
   "outputs": [],
   "source": [
    "import tkinter as tk\n",
    "from tkinter import ttk\n",
    "\n",
    "# TODO: اتصال کلاس Inventory به GUI و کامل کردن رویدادها\n",
    "class ShopGUI:\n",
    "    def __init__(self, inventory):\n",
    "        self.inventory = inventory\n",
    "        self.root = tk.Tk()\n",
    "        self.root.title(\"فروشگاه آنلاین پیشرفته\")\n",
    "        self.root.geometry(\"500x400\")\n",
    "\n",
    "        # TODO: ایجاد ویجت‌ها و چیدمان آن‌ها\n",
    "        self.setup_widgets()\n",
    "\n",
    "    def setup_widgets(self):\n",
    "        # TODO: لیبل‌ها، فیلدهای متنی، Listbox و دکمه‌ها\n",
    "        pass\n",
    "\n",
    "    def run(self):\n",
    "        self.root.mainloop()\n",
    "\n",
    "# اجرای برنامه\n",
    "if __name__ == \"__main__\":\n",
    "    inventory = Inventory()\n",
    "    # TODO: بارگذاری موجودی از فایل\n",
    "    app = ShopGUI(inventory)\n",
    "    app.run()\n"
   ]
  },
  {
   "cell_type": "markdown",
   "id": "89f0134d",
   "metadata": {},
   "source": [
    "\n",
    "<h2 dir=\"rtl\" style=\"text-align: justify;\">تمرین‌ها و تکالیف پروژه</h2> <p dir=\"rtl\" style=\"text-align: justify;\"> ۱. کلاس‌های Product و Inventory را تکمیل کنید و متدهای نمایش، اضافه، حذف و جستجو را پیاده‌سازی نمایید. ۲. توابع save_inventory و load_inventory را برای ذخیره و بارگذاری موجودی به فایل JSON کامل کنید. ۳. GUI فروشگاه را با Tkinter بسازید و ویجت‌ها را به متدهای کلاس متصل کنید. ۴. اضافه کردن محصول جدید، حذف محصول بر اساس id و جستجوی محصول را از طریق GUI ممکن سازید. ۵. قابلیت ذخیره موجودی پس از هر تغییر و بارگذاری آن در شروع برنامه را اضافه کنید. ۶. طراحی فرم و چیدمان ویجت‌ها را به گونه‌ای انجام دهید که کاربر تجربه خوبی از فروشگاه آنلاین داشته باشد. </p>"
   ]
  }
 ],
 "metadata": {
  "kernelspec": {
   "display_name": "Python 3",
   "language": "python",
   "name": "python3"
  },
  "language_info": {
   "codemirror_mode": {
    "name": "ipython",
    "version": 3
   },
   "file_extension": ".py",
   "mimetype": "text/x-python",
   "name": "python",
   "nbconvert_exporter": "python",
   "pygments_lexer": "ipython3",
   "version": "3.12.7"
  }
 },
 "nbformat": 4,
 "nbformat_minor": 5
}
