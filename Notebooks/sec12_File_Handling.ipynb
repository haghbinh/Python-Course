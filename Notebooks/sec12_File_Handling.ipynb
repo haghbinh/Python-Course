{
 "cells": [
  {
   "cell_type": "markdown",
   "id": "c635b7e2-1661-4a60-adb7-914a02aef725",
   "metadata": {},
   "source": [
    "<div style=\"direction:rtl;line-height:300%;\">\n",
    "    <font face=\"Zar_Bd.ttf\" size=5>\n",
    "        <div align=center>\n",
    "            <font face=\"IranNastaliq\" size=10>\n",
    "                <p dir=\"rtl\" style=\"text-align: justify;\"></p>\n",
    "                <p dir=\"rtl\" style=\"text-align: justify;\"></p>\n",
    "به نام خدا\n",
    "                <p dir=\"rtl\" style=\"text-align: justify;\"></p>\n",
    "            </font>\n",
    "               <font color=#FF7500 face=\"IranNastaliq\" size=30> \n",
    "                    <h3>درس دوازدهم: کار با فایل‌ها   </h3> \n",
    "               </font>\n",
    "        </div>\n",
    "        <hr />\n",
    "        <style type=\"text/css\" scoped>\n",
    "        p{\n",
    "        border: 1px solid #a2a9b1;background-color: #f8f9fa;display: inline-block;\n",
    "        };\n",
    "        </style>\n",
    "    </font>\n",
    "</div>"
   ]
  },
  {
   "cell_type": "markdown",
   "id": "3d2e75c4-f8ef-47e1-88d6-c89696cf7924",
   "metadata": {},
   "source": [
    "<h2 dir=\"rtl\" style=\"text-align: justify;\">کار با فایل‌ها در پایتون (File Handling)</h2>\n",
    "\n",
    "<p dir=\"rtl\" style=\"text-align: justify;\">\n",
    "پایتون امکان خواندن و نوشتن فایل‌ها را به سادگی فراهم می‌کند.  \n",
    "می‌توان فایل‌ها را در حالت‌های مختلف باز کرد، اطلاعات داخل آن‌ها را خواند یا نوشته و سپس فایل را بست.\n",
    "</p>\n",
    "\n",
    "<h2 dir=\"rtl\" style=\"text-align: justify;\">۱. باز کردن فایل</h2>\n",
    "\n",
    "<p dir=\"rtl\" style=\"text-align: justify;\">\n",
    "برای باز کردن فایل از تابع `open()` استفاده می‌کنیم. حالت‌های مختلف شامل `r` برای خواندن، `w` برای نوشتن، `a` برای اضافه کردن و `rb/wb` برای حالت باینری هستند.\n",
    "</p>\n",
    "\n",
    "```python\n",
    "# Open file for reading\n",
    "file = open(\"example.txt\", \"r\")\n",
    "\n",
    "# Open file for writing (creates new file or overwrites)\n",
    "file = open(\"example.txt\", \"w\")\n",
    "\n",
    "# Open file for appending\n",
    "file = open(\"example.txt\", \"a\")\n",
    "\n",
    "# Always close the file after operation\n",
    "file.close()\n"
   ]
  },
  {
   "cell_type": "markdown",
   "id": "dd13a1cf-0e0c-4c9a-8adf-d8e37862d73d",
   "metadata": {},
   "source": [
    "<h2 dir=\"rtl\" style=\"text-align: justify;\">۲. خواندن فایل</h2> <p dir=\"rtl\" style=\"text-align: justify;\"> می‌توان محتویات فایل را به صورت کل فایل، خط به خط یا تعداد مشخصی از کاراکترها خواند. </p>"
   ]
  },
  {
   "cell_type": "code",
   "execution_count": 3,
   "id": "f094a758-fa76-4f16-8a30-10910f00e645",
   "metadata": {},
   "outputs": [
    {
     "name": "stdout",
     "output_type": "stream",
     "text": [
      "Hello, this is a sample file.\n",
      "This file is used to demonstrate file handling in Python.\n",
      "You can read this text, add new lines, or modify it using Python code.\n",
      "Each line represents a separate piece of information.\n",
      "Enjoy practicing Python!\n",
      "\n",
      "Hello, this is a sample file.\n",
      "\n",
      "['Hello, this is a sample file.\\n', 'This file is used to demonstrate file handling in Python.\\n', 'You can read this text, add new lines, or modify it using Python code.\\n', 'Each line represents a separate piece of information.\\n', 'Enjoy practicing Python!\\n']\n"
     ]
    }
   ],
   "source": [
    "file = open(\"example.txt\", \"r\")\n",
    "\n",
    "# Read entire file\n",
    "content = file.read()\n",
    "print(content)\n",
    "\n",
    "# Read one line at a time\n",
    "file.seek(0)  # Move pointer to start\n",
    "line = file.readline()\n",
    "print(line)\n",
    "\n",
    "# Read all lines into a list\n",
    "file.seek(0)\n",
    "lines = file.readlines()\n",
    "print(lines)\n",
    "\n",
    "file.close()\n"
   ]
  },
  {
   "cell_type": "markdown",
   "id": "7da2c34c-540d-4266-b014-dab064fdbc37",
   "metadata": {},
   "source": [
    "\n",
    "<h2 dir=\"rtl\" style=\"text-align: justify;\">۳. نوشتن در فایل</h2> <p dir=\"rtl\" style=\"text-align: justify;\"> برای نوشتن متن در فایل از متد `write()` استفاده می‌کنیم. اگر فایل وجود نداشته باشد ایجاد می‌شود. </p>"
   ]
  },
  {
   "cell_type": "code",
   "execution_count": 4,
   "id": "3c6fac4d-7bd5-4083-a2d8-9d056287fb78",
   "metadata": {},
   "outputs": [],
   "source": [
    "file = open(\"example_2.txt\", \"w\")\n",
    "file.write(\"Hello, World!\\n\")\n",
    "file.write(\"This is a sample file.\")\n",
    "file.close()\n"
   ]
  },
  {
   "cell_type": "markdown",
   "id": "466b8907-6b89-4c94-b985-e39b6958c32a",
   "metadata": {},
   "source": [
    "<h2 dir=\"rtl\" style=\"text-align: justify;\">۴. استفاده از with برای مدیریت خودکار فایل</h2> <p dir=\"rtl\" style=\"text-align: justify;\"> با استفاده از ساختار `with` نیاز به بستن فایل به صورت دستی نداریم، چون پایتون به صورت خودکار فایل را می‌بندد. </p>"
   ]
  },
  {
   "cell_type": "code",
   "execution_count": 5,
   "id": "4c18aac5-1988-4ab1-9d7c-0b4648efecb9",
   "metadata": {},
   "outputs": [
    {
     "name": "stdout",
     "output_type": "stream",
     "text": [
      "Hello, this is a sample file.\n",
      "This file is used to demonstrate file handling in Python.\n",
      "You can read this text, add new lines, or modify it using Python code.\n",
      "Each line represents a separate piece of information.\n",
      "Enjoy practicing Python!\n",
      "\n"
     ]
    }
   ],
   "source": [
    "with open(\"example.txt\", \"r\") as file:\n",
    "    content = file.read()\n",
    "    print(content)\n",
    "\n",
    "with open(\"example.txt\", \"a\") as file:\n",
    "    file.write(\"\\nAdding a new line.\")\n"
   ]
  },
  {
   "cell_type": "markdown",
   "id": "516dda50-310f-412e-ba8c-4457dbc03af3",
   "metadata": {},
   "source": [
    "<h2 dir=\"rtl\" style=\"text-align: justify;\">تمرین</h2> <p dir=\"rtl\" style=\"text-align: justify;\"> ۱. یک فایل متنی ایجاد کنید و چند خط متن داخل آن بنویسید. </p> <p dir=\"rtl\" style=\"text-align: justify;\"> ۲. فایل ایجاد شده را باز کرده و کل محتویات آن را چاپ کنید. </p> <p dir=\"rtl\" style=\"text-align: justify;\"> ۳. به فایل یک خط جدید اضافه کنید و دوباره محتویات فایل را چاپ کنید. </p> <p dir=\"rtl\" style=\"text-align: justify;\"> ۴. از ساختار with برای خواندن فایل استفاده کنید و محتویات آن را چاپ کنید. </p> <p dir=\"rtl\" style=\"text-align: justify;\"> ۵. یک فایل جدید ایجاد کنید و متن دلخواه را با استفاده از حلقه و write چندین بار در فایل ذخیره کنید. </p>"
   ]
  },
  {
   "cell_type": "code",
   "execution_count": null,
   "id": "3176f21d-7717-46c0-8f6d-334066b95931",
   "metadata": {},
   "outputs": [],
   "source": []
  }
 ],
 "metadata": {
  "kernelspec": {
   "display_name": "Python 3 (ipykernel)",
   "language": "python",
   "name": "python3"
  },
  "language_info": {
   "codemirror_mode": {
    "name": "ipython",
    "version": 3
   },
   "file_extension": ".py",
   "mimetype": "text/x-python",
   "name": "python",
   "nbconvert_exporter": "python",
   "pygments_lexer": "ipython3",
   "version": "3.12.7"
  }
 },
 "nbformat": 4,
 "nbformat_minor": 5
}
