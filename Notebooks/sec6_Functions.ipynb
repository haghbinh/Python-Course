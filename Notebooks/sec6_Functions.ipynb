{
 "cells": [
  {
   "cell_type": "markdown",
   "id": "c635b7e2-1661-4a60-adb7-914a02aef725",
   "metadata": {},
   "source": [
    "<div style=\"direction:rtl;line-height:300%;\">\n",
    "    <font face=\"Zar_Bd.ttf\" size=5>\n",
    "        <div align=center>\n",
    "            <font face=\"IranNastaliq\" size=10>\n",
    "                <p dir=\"rtl\" style=\"text-align: justify;\"></p>\n",
    "                <p dir=\"rtl\" style=\"text-align: justify;\"></p>\n",
    "به نام خدا\n",
    "                <p dir=\"rtl\" style=\"text-align: justify;\"></p>\n",
    "            </font>\n",
    "               <font color=#FF7500 face=\"IranNastaliq\" size=30>   <h3>درس ششم: تعریف توابع  </h3>  </font>\n",
    "        </div>\n",
    "        <hr />\n",
    "        <style type=\"text/css\" scoped>\n",
    "        p{\n",
    "        border: 1px solid #a2a9b1;background-color: #f8f9fa;display: inline-block;\n",
    "        };\n",
    "        </style>\n",
    "    </font>\n",
    "</div>"
   ]
  },
  {
   "cell_type": "markdown",
   "id": "6e9776eb-2642-4bfb-8c9b-f9287c55f001",
   "metadata": {},
   "source": [
    "<h2 dir=\"rtl\" style=\"text-align: justify;\">توابع در پایتون (Functions)</h2>\n",
    "\n",
    "<p dir=\"rtl\" style=\"text-align: justify;\">\n",
    "توابع بخش‌های مستقلی از کد هستند که یک کار مشخص را انجام می‌دهند. استفاده از توابع باعث می‌شود کد قابل فهم‌تر، کوتاه‌تر و قابل استفاده مجدد باشد.\n",
    "</p>\n",
    "\n",
    "<h2 dir=\"rtl\" style=\"text-align: justify;\">۱. تعریف تابع</h2>\n",
    "\n",
    "<p dir=\"rtl\" style=\"text-align: justify;\">\n",
    "برای تعریف تابع از کلمه کلیدی <b>def</b> استفاده می‌کنیم و پس از آن نام تابع و پرانتزهای پارامترها را می‌نویسیم. بدنه تابع با یک indentation مشخص می‌شود.\n",
    "</p>"
   ]
  },
  {
   "cell_type": "code",
   "execution_count": 1,
   "id": "26db0217-b00c-4cdf-8b83-bbe96b483580",
   "metadata": {},
   "outputs": [
    {
     "name": "stdout",
     "output_type": "stream",
     "text": [
      "Hello, welcome to Python functions!\n"
     ]
    }
   ],
   "source": [
    "def greet():\n",
    "    print(\"Hello, welcome to Python functions!\")\n",
    "    \n",
    "greet()\n"
   ]
  },
  {
   "cell_type": "markdown",
   "id": "67a9f473-2e6f-43cd-b184-9669c9e6e948",
   "metadata": {},
   "source": [
    "<h2 dir=\"rtl\" style=\"text-align: justify;\">۲. پارامترها (Parameters)</h2> <p dir=\"rtl\" style=\"text-align: justify;\"> توابع می‌توانند داده‌هایی را به عنوان ورودی دریافت کنند. این داده‌ها <b>پارامتر</b> نامیده می‌شوند. </p>"
   ]
  },
  {
   "cell_type": "code",
   "execution_count": 3,
   "id": "cec63989-a148-49f9-bcdb-4b9c197ff96d",
   "metadata": {},
   "outputs": [
    {
     "name": "stdout",
     "output_type": "stream",
     "text": [
      "Hello, Ali!\n",
      "Hello, Zahra!\n"
     ]
    }
   ],
   "source": [
    "def greet_user(name):\n",
    "    print(f\"Hello, {name}!\")\n",
    "    \n",
    "greet_user(\"Ali\")\n",
    "greet_user(\"Zahra\")\n"
   ]
  },
  {
   "cell_type": "markdown",
   "id": "a620438d-f68a-4c59-9bce-a65186fd2884",
   "metadata": {},
   "source": [
    "<h2 dir=\"rtl\" style=\"text-align: justify;\">۳. مقدار بازگشتی (Return Value)</h2> <p dir=\"rtl\" style=\"text-align: justify;\"> توابع می‌توانند مقداری را به برنامه بازگردانند. برای این کار از دستور <b>return</b> استفاده می‌کنیم. </p>"
   ]
  },
  {
   "cell_type": "code",
   "execution_count": 4,
   "id": "6817e8de-a54b-439c-a677-f17e45cfdf36",
   "metadata": {},
   "outputs": [
    {
     "name": "stdout",
     "output_type": "stream",
     "text": [
      "Sum is: 12\n"
     ]
    }
   ],
   "source": [
    "def add(a, b):\n",
    "    return a + b\n",
    "\n",
    "result = add(5, 7)\n",
    "print(\"Sum is:\", result)\n"
   ]
  },
  {
   "cell_type": "markdown",
   "id": "d69bf14b-7def-46fe-8649-7c809617342f",
   "metadata": {},
   "source": [
    "<h2 dir=\"rtl\" style=\"text-align: justify;\">۴. استفاده از ماژول <code>math</code></h2> <p dir=\"rtl\" style=\"text-align: justify;\"> پایتون کتابخانه‌ای به نام <b>math</b> دارد که توابع ریاضی مختلفی مانند توان، ریشه دوم، سینوس و کسینوس ارائه می‌دهد. </p>"
   ]
  },
  {
   "cell_type": "code",
   "execution_count": 5,
   "id": "fc2234f8-d458-439f-8452-ff2b458cc63a",
   "metadata": {},
   "outputs": [
    {
     "name": "stdout",
     "output_type": "stream",
     "text": [
      "Square root of 16 is: 4.0\n",
      "Cosine of 0 is: 1.0\n",
      "Value of pi: 3.141592653589793\n",
      "2 raised to 3: 8.0\n"
     ]
    }
   ],
   "source": [
    "import math\n",
    "\n",
    "print(\"Square root of 16 is:\", math.sqrt(16))\n",
    "print(\"Cosine of 0 is:\", math.cos(0))\n",
    "print(\"Value of pi:\", math.pi)\n",
    "print(\"2 raised to 3:\", math.pow(2, 3))\n"
   ]
  },
  {
   "cell_type": "markdown",
   "id": "66ffd7d0-16f8-492b-952c-25e091db72b7",
   "metadata": {},
   "source": [
    "<h2 dir=\"rtl\" style=\"text-align: justify;\">تمرین</h2> <p dir=\"rtl\" style=\"text-align: justify;\"> ۱. تابعی بنویسید که نام و سن کاربر را دریافت کند و پیامی مانند \"سلام [نام]! شما [سن] ساله هستید.\" چاپ کند. </p> <p dir=\"rtl\" style=\"text-align: justify;\"> ۲. تابعی بنویسید که دو عدد را به عنوان ورودی بگیرد و جمع، تفریق و ضرب آن‌ها را بازگرداند. </p> <p dir=\"rtl\" style=\"text-align: justify;\"> ۳. از ماژول <b>math</b> استفاده کنید تا تابعی بسازید که ریشه دوم یک عدد و توان آن را محاسبه کند و چاپ نماید. </p>"
   ]
  },
  {
   "cell_type": "code",
   "execution_count": null,
   "id": "f65625eb-a5ef-4ff8-8930-2e6689e40966",
   "metadata": {},
   "outputs": [],
   "source": []
  }
 ],
 "metadata": {
  "kernelspec": {
   "display_name": "Python 3 (ipykernel)",
   "language": "python",
   "name": "python3"
  },
  "language_info": {
   "codemirror_mode": {
    "name": "ipython",
    "version": 3
   },
   "file_extension": ".py",
   "mimetype": "text/x-python",
   "name": "python",
   "nbconvert_exporter": "python",
   "pygments_lexer": "ipython3",
   "version": "3.12.7"
  }
 },
 "nbformat": 4,
 "nbformat_minor": 5
}
