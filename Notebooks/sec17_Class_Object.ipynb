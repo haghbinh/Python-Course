{
 "cells": [
  {
   "cell_type": "markdown",
   "id": "c635b7e2-1661-4a60-adb7-914a02aef725",
   "metadata": {},
   "source": [
    "<div style=\"direction:rtl;line-height:300%;\">\n",
    "    <font face=\"Zar_Bd.ttf\" size=5>\n",
    "        <div align=center>\n",
    "            <font face=\"IranNastaliq\" size=10>\n",
    "                <p dir=\"rtl\" style=\"text-align: justify;\"></p>\n",
    "                <p dir=\"rtl\" style=\"text-align: justify;\"></p>\n",
    "به نام خدا\n",
    "                <p dir=\"rtl\" style=\"text-align: justify;\"></p>\n",
    "            </font>\n",
    "               <font color=#FF7500 face=\"IranNastaliq\" size=30> \n",
    "                    <h3>درس هفدهم: کلاس‌ها - اشیاء    </h3> \n",
    "               </font>\n",
    "        </div>\n",
    "        <hr />\n",
    "        <style type=\"text/css\" scoped>\n",
    "        p{\n",
    "        border: 1px solid #a2a9b1;background-color: #f8f9fa;display: inline-block;\n",
    "        };\n",
    "        </style>\n",
    "    </font>\n",
    "</div>"
   ]
  },
  {
   "cell_type": "markdown",
   "id": "3d2e75c4-f8ef-47e1-88d6-c89696cf7924",
   "metadata": {},
   "source": [
    "<h2 dir=\"rtl\" style=\"text-align: justify;\">کلاس و شیء در پایتون (Class & Object)</h2>\n",
    "\n",
    "<p dir=\"rtl\" style=\"text-align: justify;\">\n",
    "در پایتون، برنامه‌نویسی شیءگرا به شما اجازه می‌دهد داده‌ها و رفتارها را در قالب **کلاس‌ها** و **شیءها** سازمان‌دهی کنید.  \n",
    "- <b>کلاس (Class)</b> الگوی تعریف یک نوع شیء است.  \n",
    "- <b>شیء (Object)</b> نمونه واقعی از کلاس است که در حافظه ایجاد می‌شود.\n",
    "</p>\n",
    "\n",
    "<h2 dir=\"rtl\" style=\"text-align: justify;\">۱. تعریف کلاس و ایجاد شیء</h2>\n",
    "\n",
    "<p dir=\"rtl\" style=\"text-align: justify;\">\n",
    "برای تعریف یک کلاس از کلمه کلیدی <code>class</code> استفاده می‌کنیم و برای ایجاد شیء، کلاس را فراخوانی می‌کنیم.\n",
    "</p>"
   ]
  },
  {
   "cell_type": "code",
   "execution_count": 1,
   "id": "3176f21d-7717-46c0-8f6d-334066b95931",
   "metadata": {},
   "outputs": [
    {
     "name": "stdout",
     "output_type": "stream",
     "text": [
      "Laptop 1500\n"
     ]
    }
   ],
   "source": [
    "# تعریف کلاس\n",
    "class Product:\n",
    "    def __init__(self, name, price):\n",
    "        self.name = name\n",
    "        self.price = price\n",
    "\n",
    "# ایجاد شیء\n",
    "p1 = Product(\"Laptop\", 1500)\n",
    "p2 = Product(\"Phone\", 800)\n",
    "\n",
    "print(p1.name, p1.price)  "
   ]
  },
  {
   "cell_type": "code",
   "execution_count": 2,
   "id": "7a66689f",
   "metadata": {},
   "outputs": [
    {
     "name": "stdout",
     "output_type": "stream",
     "text": [
      "Phone 800\n"
     ]
    }
   ],
   "source": [
    "print(p2.name, p2.price)  "
   ]
  },
  {
   "cell_type": "markdown",
   "id": "1b6af02d-299f-4445-a768-b9799a2fede5",
   "metadata": {},
   "source": [
    "<h2 dir=\"rtl\" style=\"text-align: justify;\">۲. Name Mangling و استفاده از Under Score</h2> <p dir=\"rtl\" style=\"text-align: justify;\"> - در پایتون، نام‌گذاری با یک یا دو <code>_</code> در ابتدای نام متغیرها یا توابع، معنی خاصی دارد: </p> <ul dir=\"rtl\" style=\"text-align: justify;\"> <li><code>_var</code> : نشان‌دهنده متغیر یا تابع داخلی است (convention) و به صورت خصوصی در نظر گرفته می‌شود ولی قابل دسترسی است.</li> <li><code>__var</code> : Name Mangling باعث می‌شود نام واقعی متغیر تغییر کند تا از دسترسی تصادفی از خارج کلاس جلوگیری شود.</li> <li><code>__var__</code> : Double underscore قبل و بعد، برای متدها و متغیرهای خاص پایتون (Magic Methods) استفاده می‌شود.</li> </ul> <p dir=\"rtl\" style=\"text-align: justify;\"> مثال Name Mangling: </p>"
   ]
  },
  {
   "cell_type": "code",
   "execution_count": 5,
   "id": "a41c37ac-5741-4eea-b0dd-002ce6201927",
   "metadata": {},
   "outputs": [
    {
     "ename": "AttributeError",
     "evalue": "'Test' object has no attribute '__private_var'",
     "output_type": "error",
     "traceback": [
      "\u001b[1;31m---------------------------------------------------------------------------\u001b[0m",
      "\u001b[1;31mAttributeError\u001b[0m                            Traceback (most recent call last)",
      "Cell \u001b[1;32mIn[5], line 6\u001b[0m\n\u001b[0;32m      3\u001b[0m         \u001b[38;5;28mself\u001b[39m\u001b[38;5;241m.\u001b[39m__private_var \u001b[38;5;241m=\u001b[39m \u001b[38;5;241m10\u001b[39m  \u001b[38;5;66;03m# Name Mangling\u001b[39;00m\n\u001b[0;32m      5\u001b[0m t \u001b[38;5;241m=\u001b[39m Test()\n\u001b[1;32m----> 6\u001b[0m \u001b[38;5;28mprint\u001b[39m(\u001b[43mt\u001b[49m\u001b[38;5;241;43m.\u001b[39;49m\u001b[43m__private_var\u001b[49m)  \u001b[38;5;66;03m# خطا: AttributeError\u001b[39;00m\n",
      "\u001b[1;31mAttributeError\u001b[0m: 'Test' object has no attribute '__private_var'"
     ]
    }
   ],
   "source": [
    "class Test:\n",
    "    def __init__(self):\n",
    "        self.__private_var = 10  # Name Mangling\n",
    "\n",
    "t = Test()\n",
    "print(t.__private_var)  # خطا: AttributeError"
   ]
  },
  {
   "cell_type": "code",
   "execution_count": 6,
   "id": "5c18db7a",
   "metadata": {},
   "outputs": [
    {
     "name": "stdout",
     "output_type": "stream",
     "text": [
      "10\n"
     ]
    }
   ],
   "source": [
    "# دسترسی با نام واقعی تغییر یافته\n",
    "print(t._Test__private_var)  # Output: 10"
   ]
  },
  {
   "cell_type": "markdown",
   "id": "c20d0653-f04a-428f-9344-a2a0be0b01ac",
   "metadata": {},
   "source": [
    "<p dir=\"rtl\" style=\"text-align: justify;\"> مثال استفاده از <code>_</code> : </p>"
   ]
  },
  {
   "cell_type": "code",
   "execution_count": 8,
   "id": "a650f531-8f55-4785-ad89-b02266ed9fb5",
   "metadata": {},
   "outputs": [
    {
     "name": "stdout",
     "output_type": "stream",
     "text": [
      "5\n"
     ]
    }
   ],
   "source": [
    "class Demo:\n",
    "    def __init__(self):\n",
    "        self._internal_var = 5  # convention: internal use\n",
    "\n",
    "d = Demo()\n",
    "print(d._internal_var)  "
   ]
  },
  {
   "cell_type": "markdown",
   "id": "5d546446-395f-45ad-9e24-f80943ad135a",
   "metadata": {},
   "source": [
    "<p dir=\"rtl\" style=\"text-align: justify;\"> مثال Magic Method: </p>"
   ]
  },
  {
   "cell_type": "code",
   "execution_count": 9,
   "id": "d11b9c9f-fec6-40b3-8940-aae71f2ad105",
   "metadata": {},
   "outputs": [
    {
     "name": "stdout",
     "output_type": "stream",
     "text": [
      "Item name: Table\n"
     ]
    }
   ],
   "source": [
    "class Item:\n",
    "    def __init__(self, name):\n",
    "        self.name = name\n",
    "\n",
    "    def __str__(self):\n",
    "        return f\"Item name: {self.name}\"\n",
    "\n",
    "i = Item(\"Table\")\n",
    "print(i)  "
   ]
  },
  {
   "cell_type": "markdown",
   "id": "e33091ac-250f-4a17-9c34-8f6b068c1877",
   "metadata": {},
   "source": [
    "<h2 dir=\"rtl\" style=\"text-align: justify;\">تمرین</h2> <p dir=\"rtl\" style=\"text-align: justify;\"> ۱. یک کلاس به نام Product بسازید که دارای نام و قیمت باشد و شیءهای مختلف ایجاد کنید. </p> <p dir=\"rtl\" style=\"text-align: justify;\"> ۲. یک متغیر خصوصی در کلاس بسازید و با Name Mangling مقدار آن را چاپ کنید. </p> <p dir=\"rtl\" style=\"text-align: justify;\"> ۳. یک متغیر با یک underscore بسازید و از خارج کلاس مقدار آن را بخوانید و چاپ کنید. </p> <p dir=\"rtl\" style=\"text-align: justify;\"> ۴. یک Magic Method <code>__str__</code> برای کلاس خود تعریف کنید تا چاپ شیء به صورت دلخواه باشد. </p> <p dir=\"rtl\" style=\"text-align: justify;\"> ۵. چند شیء مختلف از کلاس بسازید و ویژگی‌ها و متدهای آن‌ها را تست کنید. </p>"
   ]
  }
 ],
 "metadata": {
  "kernelspec": {
   "display_name": "Python 3",
   "language": "python",
   "name": "python3"
  },
  "language_info": {
   "codemirror_mode": {
    "name": "ipython",
    "version": 3
   },
   "file_extension": ".py",
   "mimetype": "text/x-python",
   "name": "python",
   "nbconvert_exporter": "python",
   "pygments_lexer": "ipython3",
   "version": "3.12.7"
  }
 },
 "nbformat": 4,
 "nbformat_minor": 5
}
