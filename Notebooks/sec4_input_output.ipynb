{
 "cells": [
  {
   "cell_type": "markdown",
   "id": "c635b7e2-1661-4a60-adb7-914a02aef725",
   "metadata": {},
   "source": [
    "<div style=\"direction:rtl;line-height:300%;\">\n",
    "    <font face=\"Zar_Bd.ttf\" size=5>\n",
    "        <div align=center>\n",
    "            <font face=\"IranNastaliq\" size=10>\n",
    "                <p dir=\"rtl\" style=\"text-align: justify;\"></p>\n",
    "                <p dir=\"rtl\" style=\"text-align: justify;\"></p>\n",
    "به نام خدا\n",
    "                <p dir=\"rtl\" style=\"text-align: justify;\"></p>\n",
    "            </font>\n",
    "               <font color=#FF7500 face=\"IranNastaliq\" size=30>   <h3>درس چهارم: ورودی‌ها و خروجی‌ها در پایتون</h3>  </font>\n",
    "        </div>\n",
    "        <hr />\n",
    "        <style type=\"text/css\" scoped>\n",
    "        p{\n",
    "        border: 1px solid #a2a9b1;background-color: #f8f9fa;display: inline-block;\n",
    "        };\n",
    "        </style>\n",
    "    </font>\n",
    "</div>"
   ]
  },
  {
   "cell_type": "markdown",
   "id": "144be58b-d9d3-47aa-b526-9cbd4d6d5c71",
   "metadata": {},
   "source": [
    "<p dir=\"rtl\" style=\"text-align: justify;\">\n",
    "در برنامه‌نویسی، یکی از مهم‌ترین بخش‌ها <b>ورودی و خروجی</b> است. ما باید بتوانیم از کاربر داده دریافت کنیم و نتیجه را به او نمایش دهیم. در پایتون چند روش ساده برای انجام این کار وجود دارد.\n",
    "</p>\n",
    "\n",
    "<h2 dir=\"rtl\" style=\"text-align: justify;\">۱. تابع <code>input()</code></h2>\n",
    "\n",
    "<p dir=\"rtl\" style=\"text-align: justify;\">\n",
    "تابع <b>input()</b> برای دریافت داده از کاربر استفاده می‌شود. هر چیزی که کاربر وارد کند به صورت <b>رشته (string)</b> دریافت می‌شود.\n",
    "</p>"
   ]
  },
  {
   "cell_type": "code",
   "execution_count": 5,
   "id": "0e4e7690-d3db-4a3e-8100-09078ee2a257",
   "metadata": {},
   "outputs": [
    {
     "name": "stdin",
     "output_type": "stream",
     "text": [
      "لطفاً نام خود را وارد کنید:  حسین\n"
     ]
    },
    {
     "name": "stdout",
     "output_type": "stream",
     "text": [
      "سلام، حسین\n"
     ]
    }
   ],
   "source": [
    "name = input(\"لطفاً نام خود را وارد کنید: \")\n",
    "print(\"سلام،\", name)"
   ]
  },
  {
   "cell_type": "markdown",
   "id": "3f2d73e8-7837-4dbe-940d-a0e0d61b2ebe",
   "metadata": {},
   "source": [
    "<p dir=\"rtl\" style=\"text-align: justify;\"> اگر بخواهیم عدد دریافت کنیم، باید رشته را به نوع عددی تبدیل کنیم: </p>"
   ]
  },
  {
   "cell_type": "code",
   "execution_count": 6,
   "id": "5e4a7945-6797-4d63-a489-568fbc61fe14",
   "metadata": {},
   "outputs": [
    {
     "name": "stdin",
     "output_type": "stream",
     "text": [
      "سن خود را وارد کنید:  44\n"
     ]
    },
    {
     "name": "stdout",
     "output_type": "stream",
     "text": [
      "شما 44 سال دارید.\n"
     ]
    }
   ],
   "source": [
    "age = int(input(\"سن خود را وارد کنید: \"))\n",
    "print(\"شما\", age, \"سال دارید.\")\n"
   ]
  },
  {
   "cell_type": "markdown",
   "id": "37658a43-c4e0-4d7a-8cc8-be91c69851bd",
   "metadata": {},
   "source": [
    "<h2 dir=\"rtl\" style=\"text-align: justify;\">۲. تابع <code>print()</code></h2> <p dir=\"rtl\" style=\"text-align: justify;\"> تابع <b>print()</b> برای نمایش خروجی در کنسول استفاده می‌شود. می‌توان چند مقدار را با کاما جدا کرد یا متن و متغیر را با هم چاپ کرد. </p>"
   ]
  },
  {
   "cell_type": "code",
   "execution_count": 7,
   "id": "0943a985-ae06-4b43-ab62-c2930ff2a83e",
   "metadata": {},
   "outputs": [
    {
     "name": "stdout",
     "output_type": "stream",
     "text": [
      "جمع a و b برابر است با: 15\n"
     ]
    }
   ],
   "source": [
    "a = 5\n",
    "b = 10\n",
    "print(\"جمع a و b برابر است با:\", a + b)\n"
   ]
  },
  {
   "cell_type": "markdown",
   "id": "4aa9ea65-a317-4da5-b994-341b61de8ab6",
   "metadata": {},
   "source": [
    "<h2 dir=\"rtl\" style=\"text-align: justify;\">۳. f-string</h2> <p dir=\"rtl\" style=\"text-align: justify;\"> از نسخه‌ی پایتون ۳.۶ به بعد، می‌توانیم از <b>f-string</b> برای ترکیب متن و متغیرها به صورت ساده و خوانا استفاده کنیم. </p>"
   ]
  },
  {
   "cell_type": "code",
   "execution_count": 8,
   "id": "0cbddf54-54d2-4228-90a2-be8ec69a1b54",
   "metadata": {},
   "outputs": [
    {
     "name": "stdout",
     "output_type": "stream",
     "text": [
      "سلام علی! شما 25 ساله هستید.\n"
     ]
    }
   ],
   "source": [
    "name = \"علی\"\n",
    "age = 25\n",
    "print(f\"سلام {name}! شما {age} ساله هستید.\")\n"
   ]
  },
  {
   "cell_type": "markdown",
   "id": "0b59d61f-c52e-4ded-acc7-595329cbea0f",
   "metadata": {},
   "source": [
    "<h2 dir=\"rtl\" style=\"text-align: justify;\">۴. متد <code>format()</code></h2> <p dir=\"rtl\" style=\"text-align: justify;\"> روش قدیمی‌تر برای درج متغیر در متن، استفاده از متد <b>format()</b> است. </p>"
   ]
  },
  {
   "cell_type": "code",
   "execution_count": 9,
   "id": "c912e1bb-4473-4ed4-b02f-f451c4f8c336",
   "metadata": {},
   "outputs": [
    {
     "name": "stdout",
     "output_type": "stream",
     "text": [
      "سلام زهرا! شما 30 ساله هستید.\n"
     ]
    }
   ],
   "source": [
    "name = \"زهرا\"\n",
    "age = 30\n",
    "print(\"سلام {}! شما {} ساله هستید.\".format(name, age))\n"
   ]
  },
  {
   "cell_type": "markdown",
   "id": "982f208f-9f5e-4011-856c-8c91bf9fba1e",
   "metadata": {},
   "source": [
    "<h2 dir=\"rtl\" style=\"text-align: justify;\">تمرین</h2> <p dir=\"rtl\" style=\"text-align: justify;\"> ۱. برنامه‌ای بنویسید که نام و سن کاربر را دریافت کند و پیامی مانند \"سلام [نام]! شما [سن] ساله هستید.\" چاپ کند. </p> <p dir=\"rtl\" style=\"text-align: justify;\"> ۲. برنامه‌ای بسازید که دو عدد از کاربر دریافت کرده و مجموع آن‌ها را نمایش دهد. </p> <p dir=\"rtl\" style=\"text-align: justify;\"> ۳. از f-string و متد format() برای نمایش یک جمله با حداقل دو متغیر مختلف استفاده کنید و خروجی را مقایسه کنید. </p> "
   ]
  },
  {
   "cell_type": "code",
   "execution_count": null,
   "id": "72a2ee02-85e4-40e1-9392-f798e508a1b5",
   "metadata": {},
   "outputs": [],
   "source": []
  }
 ],
 "metadata": {
  "kernelspec": {
   "display_name": "Python 3 (ipykernel)",
   "language": "python",
   "name": "python3"
  },
  "language_info": {
   "codemirror_mode": {
    "name": "ipython",
    "version": 3
   },
   "file_extension": ".py",
   "mimetype": "text/x-python",
   "name": "python",
   "nbconvert_exporter": "python",
   "pygments_lexer": "ipython3",
   "version": "3.12.7"
  }
 },
 "nbformat": 4,
 "nbformat_minor": 5
}
