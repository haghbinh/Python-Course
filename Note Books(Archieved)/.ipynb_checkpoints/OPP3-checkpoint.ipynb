{
 "cells": [
  {
   "cell_type": "code",
   "execution_count": 1,
   "id": "dd89690f",
   "metadata": {},
   "outputs": [],
   "source": [
    "class pride():\n",
    "    n_of_door = 4\n",
    "    weight= 915\n",
    "    f = 6.44\n",
    "    color=''\n",
    "    number=''\n",
    "    name=''\n",
    "    def set_color(self,col):\n",
    "        self.color = col\n",
    "    def register(self,na,nu):\n",
    "        self.name=na\n",
    "        self.number=nu\n",
    "    def display(self):\n",
    "        print(\"Car owner:\", self.name)\n",
    "        print(\"Color: \", self.color)\n",
    "        print(\"Number: \",self.number)"
   ]
  },
  {
   "cell_type": "code",
   "execution_count": 3,
   "id": "76cea880",
   "metadata": {},
   "outputs": [],
   "source": [
    "p1 = pride()"
   ]
  },
  {
   "cell_type": "code",
   "execution_count": 4,
   "id": "df6ea453",
   "metadata": {},
   "outputs": [
    {
     "name": "stdout",
     "output_type": "stream",
     "text": [
      "Car owner: \n",
      "Color:  \n",
      "Number:  \n"
     ]
    }
   ],
   "source": [
    "p1.display()"
   ]
  },
  {
   "cell_type": "code",
   "execution_count": 5,
   "id": "eb1a3539",
   "metadata": {},
   "outputs": [],
   "source": [
    "p1.register(\"Ali Rezaie\",'48-254874')"
   ]
  },
  {
   "cell_type": "code",
   "execution_count": 6,
   "id": "e4e98131",
   "metadata": {},
   "outputs": [
    {
     "name": "stdout",
     "output_type": "stream",
     "text": [
      "Car owner: Ali Rezaie\n",
      "Color:  \n",
      "Number:  48-254874\n"
     ]
    }
   ],
   "source": [
    "p1.display()"
   ]
  },
  {
   "cell_type": "code",
   "execution_count": 7,
   "id": "19270839",
   "metadata": {},
   "outputs": [],
   "source": [
    "p1.set_color('White')"
   ]
  },
  {
   "cell_type": "code",
   "execution_count": 8,
   "id": "f4382604",
   "metadata": {},
   "outputs": [
    {
     "name": "stdout",
     "output_type": "stream",
     "text": [
      "Car owner: Ali Rezaie\n",
      "Color:  White\n",
      "Number:  48-254874\n"
     ]
    }
   ],
   "source": [
    "p1.display()"
   ]
  },
  {
   "cell_type": "code",
   "execution_count": 9,
   "id": "3d01266c",
   "metadata": {},
   "outputs": [
    {
     "data": {
      "text/plain": [
       "['__class__',\n",
       " '__delattr__',\n",
       " '__dict__',\n",
       " '__dir__',\n",
       " '__doc__',\n",
       " '__eq__',\n",
       " '__format__',\n",
       " '__ge__',\n",
       " '__getattribute__',\n",
       " '__gt__',\n",
       " '__hash__',\n",
       " '__init__',\n",
       " '__init_subclass__',\n",
       " '__le__',\n",
       " '__lt__',\n",
       " '__module__',\n",
       " '__ne__',\n",
       " '__new__',\n",
       " '__reduce__',\n",
       " '__reduce_ex__',\n",
       " '__repr__',\n",
       " '__setattr__',\n",
       " '__sizeof__',\n",
       " '__str__',\n",
       " '__subclasshook__',\n",
       " '__weakref__',\n",
       " 'color',\n",
       " 'display',\n",
       " 'f',\n",
       " 'n_of_door',\n",
       " 'name',\n",
       " 'number',\n",
       " 'register',\n",
       " 'set_color',\n",
       " 'weight']"
      ]
     },
     "execution_count": 9,
     "metadata": {},
     "output_type": "execute_result"
    }
   ],
   "source": [
    "dir(p1)"
   ]
  },
  {
   "cell_type": "code",
   "execution_count": 10,
   "id": "d7ed821c",
   "metadata": {},
   "outputs": [
    {
     "name": "stdout",
     "output_type": "stream",
     "text": [
      "<__main__.pride object at 0x0000027511425BA0>\n"
     ]
    }
   ],
   "source": [
    "print(p1)"
   ]
  },
  {
   "cell_type": "code",
   "execution_count": 11,
   "id": "6242ac2a",
   "metadata": {},
   "outputs": [
    {
     "data": {
      "text/plain": [
       "['__class__',\n",
       " '__delattr__',\n",
       " '__dict__',\n",
       " '__dir__',\n",
       " '__doc__',\n",
       " '__eq__',\n",
       " '__format__',\n",
       " '__ge__',\n",
       " '__getattribute__',\n",
       " '__gt__',\n",
       " '__hash__',\n",
       " '__init__',\n",
       " '__init_subclass__',\n",
       " '__le__',\n",
       " '__lt__',\n",
       " '__module__',\n",
       " '__ne__',\n",
       " '__new__',\n",
       " '__reduce__',\n",
       " '__reduce_ex__',\n",
       " '__repr__',\n",
       " '__setattr__',\n",
       " '__sizeof__',\n",
       " '__str__',\n",
       " '__subclasshook__',\n",
       " '__weakref__',\n",
       " 'color',\n",
       " 'display',\n",
       " 'f',\n",
       " 'n_of_door',\n",
       " 'name',\n",
       " 'number',\n",
       " 'register',\n",
       " 'set_color',\n",
       " 'weight']"
      ]
     },
     "execution_count": 11,
     "metadata": {},
     "output_type": "execute_result"
    }
   ],
   "source": [
    "dir(pride)"
   ]
  },
  {
   "cell_type": "code",
   "execution_count": 14,
   "id": "deb2f8e2",
   "metadata": {},
   "outputs": [
    {
     "data": {
      "text/plain": [
       "mappingproxy({'__module__': '__main__',\n",
       "              'n_of_door': 4,\n",
       "              'weight': 915,\n",
       "              'f': 6.44,\n",
       "              'color': '',\n",
       "              'number': '',\n",
       "              'name': '',\n",
       "              'set_color': <function __main__.pride.set_color(self, col)>,\n",
       "              'register': <function __main__.pride.register(self, na, nu)>,\n",
       "              'display': <function __main__.pride.display(self)>,\n",
       "              '__dict__': <attribute '__dict__' of 'pride' objects>,\n",
       "              '__weakref__': <attribute '__weakref__' of 'pride' objects>,\n",
       "              '__doc__': None})"
      ]
     },
     "execution_count": 14,
     "metadata": {},
     "output_type": "execute_result"
    }
   ],
   "source": [
    "pride.__dict__"
   ]
  },
  {
   "cell_type": "code",
   "execution_count": 19,
   "id": "54d94a17",
   "metadata": {},
   "outputs": [],
   "source": [
    "class pride():\n",
    "    n_of_door = 4\n",
    "    weight= 915\n",
    "    f = 6.44\n",
    "    color=''\n",
    "    number=''\n",
    "    name=''\n",
    "    def __init__(self,col):\n",
    "        self.color = col\n",
    "    def register(self,na,nu):\n",
    "        self.name=na\n",
    "        self.number=nu\n",
    "    def display(self):\n",
    "        print(\"Car owner:\", self.name)\n",
    "        print(\"Color: \", self.color)\n",
    "        print(\"Number: \",self.number)"
   ]
  },
  {
   "cell_type": "code",
   "execution_count": 17,
   "id": "249c3465",
   "metadata": {},
   "outputs": [],
   "source": [
    "p2=pride('Black')"
   ]
  },
  {
   "cell_type": "code",
   "execution_count": 18,
   "id": "10868500",
   "metadata": {},
   "outputs": [
    {
     "name": "stdout",
     "output_type": "stream",
     "text": [
      "Car owner: \n",
      "Color:  Black\n",
      "Number:  \n"
     ]
    }
   ],
   "source": [
    "p2.display()"
   ]
  },
  {
   "cell_type": "code",
   "execution_count": 25,
   "id": "cea661a8",
   "metadata": {},
   "outputs": [],
   "source": [
    "class member:\n",
    "    def __init__(self,name,member_number,student_id):\n",
    "        self.name = name\n",
    "        self.member_number = member_number\n",
    "        self.student_id=student_id\n",
    "    def display(self):\n",
    "        print(\"Name:\", self.name)\n",
    "        print(\"Member Number: \", self.member_number)\n",
    "        print(\"Student id: \",self.student_id)\n",
    "        "
   ]
  },
  {
   "cell_type": "code",
   "execution_count": 29,
   "id": "92db1758",
   "metadata": {},
   "outputs": [
    {
     "name": "stdout",
     "output_type": "stream",
     "text": [
      "Name: Zahra Karami\n",
      "Member Number:  140125\n",
      "Student id:  9987543\n"
     ]
    }
   ],
   "source": [
    "s1 = member('Zahra Karami','140125','9987543')\n",
    "s1.display()"
   ]
  },
  {
   "cell_type": "code",
   "execution_count": 31,
   "id": "71ad39ff",
   "metadata": {},
   "outputs": [],
   "source": [
    "s1.student_id ='99875400'"
   ]
  },
  {
   "cell_type": "code",
   "execution_count": 32,
   "id": "caed93f9",
   "metadata": {},
   "outputs": [
    {
     "name": "stdout",
     "output_type": "stream",
     "text": [
      "Name: Zahra Karami\n",
      "Member Number:  140125\n",
      "Student id:  99875400\n"
     ]
    }
   ],
   "source": [
    "s1.display()"
   ]
  },
  {
   "cell_type": "code",
   "execution_count": 33,
   "id": "866dc072",
   "metadata": {},
   "outputs": [],
   "source": [
    "class member:\n",
    "    def __init__(self,name,member_number,student_id):\n",
    "        self.name = name\n",
    "        self.member_number = member_number\n",
    "        self.__student_id=student_id\n",
    "    def display(self):\n",
    "        print(\"Name:\", self.name)\n",
    "        print(\"Member Number: \", self.member_number)\n",
    "        print(\"Student id: \",self.__student_id)"
   ]
  },
  {
   "cell_type": "code",
   "execution_count": 34,
   "id": "3c771d4c",
   "metadata": {},
   "outputs": [
    {
     "name": "stdout",
     "output_type": "stream",
     "text": [
      "Name: Zahra Karami\n",
      "Member Number:  140125\n",
      "Student id:  9987543\n"
     ]
    }
   ],
   "source": [
    "s1 = member('Zahra Karami','140125','9987543')\n",
    "s1.display()"
   ]
  },
  {
   "cell_type": "code",
   "execution_count": 38,
   "id": "d1aa7548",
   "metadata": {},
   "outputs": [],
   "source": [
    "s1.student_id ='99875400'"
   ]
  },
  {
   "cell_type": "code",
   "execution_count": 39,
   "id": "2ef09dd3",
   "metadata": {},
   "outputs": [
    {
     "name": "stdout",
     "output_type": "stream",
     "text": [
      "Name: Zahra Karami\n",
      "Member Number:  140125\n",
      "Student id:  9987543\n"
     ]
    }
   ],
   "source": [
    "s1.display()"
   ]
  },
  {
   "cell_type": "code",
   "execution_count": 42,
   "id": "ac46a574",
   "metadata": {},
   "outputs": [
    {
     "ename": "AttributeError",
     "evalue": "'member' object has no attribute '__student_id'",
     "output_type": "error",
     "traceback": [
      "\u001b[1;31m---------------------------------------------------------------------------\u001b[0m",
      "\u001b[1;31mAttributeError\u001b[0m                            Traceback (most recent call last)",
      "Cell \u001b[1;32mIn [42], line 1\u001b[0m\n\u001b[1;32m----> 1\u001b[0m \u001b[43ms1\u001b[49m\u001b[38;5;241;43m.\u001b[39;49m\u001b[43m__student_id\u001b[49m\n",
      "\u001b[1;31mAttributeError\u001b[0m: 'member' object has no attribute '__student_id'"
     ]
    }
   ],
   "source": [
    "s1.__student_id"
   ]
  },
  {
   "cell_type": "code",
   "execution_count": 43,
   "id": "8852b9a8",
   "metadata": {},
   "outputs": [
    {
     "data": {
      "text/plain": [
       "'Zahra Karami'"
      ]
     },
     "execution_count": 43,
     "metadata": {},
     "output_type": "execute_result"
    }
   ],
   "source": [
    "s1.name"
   ]
  },
  {
   "cell_type": "markdown",
   "id": "750d41e0",
   "metadata": {},
   "source": [
    "class member:\n",
    "    amanat = list()\n",
    "    def __init__(self,name,member_number,student_id):\n",
    "        self.name = name\n",
    "        self.member_number = member_number\n",
    "        self.__student_id=student_id\n",
    "    def display(self):\n",
    "        print(\"Name:\", self.name)\n",
    "        print(\"Member Number: \", self.member_number)\n",
    "        print(\"Student id: \",self.__student_id)\n",
    "    def request(self,l1):       # example: l1=['book1','book2']\n",
    "        ???\n",
    "    چطور می توان لیست کتاب های سفارش داده شده توسط کاربر را به لیست کتاب های امانت گرفته شده اضافه کنیم؟"
   ]
  },
  {
   "cell_type": "code",
   "execution_count": null,
   "id": "4167060d",
   "metadata": {},
   "outputs": [],
   "source": [
    "m1 = member('Zahra Karami','140125','9987543')\n",
    "m1.request(['book1','book2'])\n",
    "print(m1.amanat)\n",
    "\n",
    "#['book1','book2']\n",
    "\n",
    "\n",
    "m1.request(['book3','book4'])\n",
    "print(m1.amanat)\n",
    "#['book1','book2','book3','book4']"
   ]
  }
 ],
 "metadata": {
  "kernelspec": {
   "display_name": "Python 3 (ipykernel)",
   "language": "python",
   "name": "python3"
  },
  "language_info": {
   "codemirror_mode": {
    "name": "ipython",
    "version": 3
   },
   "file_extension": ".py",
   "mimetype": "text/x-python",
   "name": "python",
   "nbconvert_exporter": "python",
   "pygments_lexer": "ipython3",
   "version": "3.10.7"
  }
 },
 "nbformat": 4,
 "nbformat_minor": 5
}
