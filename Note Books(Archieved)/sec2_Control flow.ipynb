{
 "cells": [
  {
   "cell_type": "markdown",
   "metadata": {
    "collapsed": true
   },
   "source": [
    "# Lesson 2: Control Flow\n",
    "\n",
    "*In this lesson, you will learn how to control the execution flow of your Python programs using conditional statements and loops.*"
   ]
  },
  {
   "cell_type": "markdown",
   "metadata": {},
   "source": [
    "## Conditional Expressions\n",
    "\n",
    "Conditional expressions allow your program to execute certain blocks of code only if specific conditions are met."
   ]
  },
  {
   "cell_type": "code",
   "execution_count": 3,
   "metadata": {},
   "outputs": [
    {
     "data": {
      "text/plain": [
       "True"
      ]
     },
     "execution_count": 3,
     "metadata": {},
     "output_type": "execute_result"
    }
   ],
   "source": [
    "# Check if x equals 5\n",
    "x = 5\n",
    "x == 5"
   ]
  },
  {
   "cell_type": "markdown",
   "metadata": {},
   "source": [
    "## Logical Operators\n",
    "\n",
    "Python has three main logical operators:\n",
    "\n",
    "- `and`  (logical AND)\n",
    "- `or`   (logical OR)\n",
    "- `not`  (logical NOT)"
   ]
  },
  {
   "cell_type": "code",
   "execution_count": 9,
   "metadata": {},
   "outputs": [
    {
     "data": {
      "text/plain": [
       "True"
      ]
     },
     "execution_count": 9,
     "metadata": {},
     "output_type": "execute_result"
    }
   ],
   "source": [
    "# x is divisible by 3 AND greater or equal to 10\n",
    "x = 24\n",
    "(x % 3 == 0) and (x >= 10)"
   ]
  },
  {
   "cell_type": "code",
   "execution_count": 2,
   "metadata": {},
   "outputs": [
    {
     "data": {
      "text/plain": [
       "True"
      ]
     },
     "execution_count": 2,
     "metadata": {},
     "output_type": "execute_result"
    }
   ],
   "source": [
    "# Check if x is between 1 and 5 (exclusive)\n",
    "x = 4\n",
    "0 < x and x <= 5"
   ]
  },
  {
   "cell_type": "code",
   "execution_count": 3,
   "metadata": {},
   "outputs": [
    {
     "data": {
      "text/plain": [
       "True"
      ]
     },
     "execution_count": 3,
     "metadata": {},
     "output_type": "execute_result"
    }
   ],
   "source": [
    "# Python supports chained comparisons\n",
    "x = 4\n",
    "0 < x <= 5"
   ]
  },
  {
   "cell_type": "markdown",
   "metadata": {},
   "source": [
    "## Conditional Statements\n",
    "\n",
    "Conditional statements control which blocks of code are executed based on conditions."
   ]
  },
  {
   "cell_type": "markdown",
   "metadata": {},
   "source": [
    "### if Statement"
   ]
  },
  {
   "cell_type": "code",
   "execution_count": 1,
   "metadata": {},
   "outputs": [
    {
     "name": "stdout",
     "output_type": "stream",
     "text": [
      "Enter First Number: 4\n",
      "Enter Second Number: 5\n"
     ]
    }
   ],
   "source": [
    "num1 = eval(input('Enter First Number: '))\n",
    "num2 = eval(input('Enter Second Number: '))\n",
    "if num1 - num2 == 0:\n",
    "    print('Both the numbers entered are Equal')"
   ]
  },
  {
   "cell_type": "markdown",
   "metadata": {},
   "source": [
    "### if-else Statement"
   ]
  },
  {
   "cell_type": "code",
   "execution_count": 2,
   "metadata": {},
   "outputs": [
    {
     "name": "stdout",
     "output_type": "stream",
     "text": [
      "Enter the First Number:3\n",
      "Enter the Second Number:4\n",
      "3 < 4\n"
     ]
    }
   ],
   "source": [
    "num1 = int(input('Enter the First Number: '))\n",
    "num2 = int(input('Enter the Second Number: '))\n",
    "if num1 > num2:\n",
    "    print(num1, ' > ', num2)\n",
    "else:\n",
    "    print(num1, '<', num2)"
   ]
  },
  {
   "cell_type": "code",
   "execution_count": 3,
   "metadata": {},
   "outputs": [
    {
     "name": "stdout",
     "output_type": "stream",
     "text": [
      "number:45\n",
      "yes\n"
     ]
    }
   ],
   "source": [
    "x = int(input(\"number:\"))\n",
    "if x % 5 == 0:\n",
    "    print(\"yes\")\n",
    "else:\n",
    "    print(\"no\")"
   ]
  },
  {
   "cell_type": "markdown",
   "metadata": {},
   "source": [
    "### if-elif-else Statement\n",
    "\n",
    "Used for multiple conditional branches."
   ]
  },
  {
   "cell_type": "code",
   "execution_count": 4,
   "metadata": {},
   "outputs": [
    {
     "name": "stdout",
     "output_type": "stream",
     "text": [
      "Enter your score: 14\n",
      "Your grade is C.\n"
     ]
    }
   ],
   "source": [
    "x = eval(input('Enter your score: '))\n",
    "if x < 10:\n",
    "    y = 'D'\n",
    "elif 10 <= x < 16:\n",
    "    y = 'C'\n",
    "elif 16 <= x < 18:\n",
    "    y = 'B'\n",
    "else:\n",
    "    y = 'A'\n",
    "print(f'Your grade is {y}.')"
   ]
  },
  {
   "cell_type": "markdown",
   "metadata": {},
   "source": [
    "### Conditional Expressions (Ternary Operator)\n",
    "\n",
    "Syntax:\n",
    "`Expression1 if condition else Expression2`"
   ]
  },
  {
   "cell_type": "code",
   "execution_count": 7,
   "metadata": {},
   "outputs": [
    {
     "name": "stdout",
     "output_type": "stream",
     "text": [
      "Enter an x: 3\n",
      "new x =27\n"
     ]
    }
   ],
   "source": [
    "x = eval(input('Enter an x: '))\n",
    "if x % 2 == 0:\n",
    "    x = x ** 2\n",
    "else:\n",
    "    x = x ** 3\n",
    "print(f'new x = {x}')"
   ]
  },
  {
   "cell_type": "code",
   "execution_count": 8,
   "metadata": {},
   "outputs": [
    {
     "name": "stdout",
     "output_type": "stream",
     "text": [
      "Enter an x: 3\n",
      "new x =27\n"
     ]
    }
   ],
   "source": [
    "# Using conditional expression (ternary operator)\n",
    "x = eval(input('Enter an x: '))\n",
    "x = x ** 2 if x % 2 == 0 else x ** 3\n",
    "print(f'new x = {x}')"
   ]
  },
  {
   "cell_type": "code",
   "execution_count": 10,
   "metadata": {},
   "outputs": [
    {
     "name": "stdout",
     "output_type": "stream",
     "text": [
      "Enter your age: 34\n",
      "You are  old\n"
     ]
    }
   ],
   "source": [
    "age = eval(input('Enter your age: '))\n",
    "if age < 30:\n",
    "    z = 'young'\n",
    "else:\n",
    "    z = 'old'\n",
    "print('You are', z)"
   ]
  },
  {
   "cell_type": "code",
   "execution_count": 11,
   "metadata": {},
   "outputs": [
    {
     "name": "stdout",
     "output_type": "stream",
     "text": [
      "Enter your age: 34\n",
      "You are  old\n"
     ]
    }
   ],
   "source": [
    "# Conditional expression equivalent\n",
    "age = eval(input('Enter your age: '))\n",
    "z = 'young' if age < 30 else 'old'\n",
    "print('You are', z)"
   ]
  },
  {
   "cell_type": "markdown",
   "metadata": {},
   "source": [
    "## Loops\n",
    "\n",
    "Loops allow us to execute a block of code repeatedly."
   ]
  },
  {
   "cell_type": "markdown",
   "metadata": {},
   "source": [
    "### while Loop"
   ]
  },
  {
   "cell_type": "code",
   "execution_count": 6,
   "metadata": {},
   "outputs": [
    {
     "name": "stdout",
     "output_type": "stream",
     "text": [
      "1\n",
      "2\n",
      "3\n",
      "4\n",
      "5\n"
     ]
    }
   ],
   "source": [
    "i = 1\n",
    "while i <= 5:\n",
    "    print(i)\n",
    "    i += 1"
   ]
  },
  {
   "cell_type": "markdown",
   "metadata": {},
   "source": [
    "### for Loop"
   ]
  },
  {
   "cell_type": "code",
   "execution_count": 4,
   "metadata": {},
   "outputs": [
    {
     "name": "stdout",
     "output_type": "stream",
     "text": [
      "0\n",
      "1\n",
      "2\n",
      "3\n",
      "4\n"
     ]
    }
   ],
   "source": [
    "for i in range(5):\n",
    "    print(i)"
   ]
  },
  {
   "cell_type": "markdown",
   "metadata": {},
   "source": [
    "### for Loop with list\n",
    "You can iterate over elements in a list using a for loop."
   ]
  },
  {
   "cell_type": "code",
   "execution_count": 5,
   "metadata": {},
   "outputs": [
    {
     "name": "stdout",
     "output_type": "stream",
     "text": [
      "1\n",
      "2\n",
      "3\n",
      "4\n",
      "5\n"
     ]
    }
   ],
   "source": [
    "mylist = [1, 2, 3, 4, 5]\n",
    "for i in mylist:\n",
    "    print(i)"
   ]
  },
  {
   "cell_type": "markdown",
   "metadata": {},
   "source": [
    "### Nested Loops"
   ]
  },
  {
   "cell_type": "code",
   "execution_count": 7,
   "metadata": {},
   "outputs": [
    {
     "name": "stdout",
     "output_type": "stream",
     "text": [
      "1 10\n",
      "1 20\n",
      "1 30\n",
      "2 10\n",
      "2 20\n",
      "2 30\n"
     ]
    }
   ],
   "source": [
    "for i in [1, 2]:\n",
    "    for j in [10, 20, 30]:\n",
    "        print(i, j)"
   ]
  },
  {
   "cell_type": "markdown",
   "metadata": {},
   "source": [
    "### break and continue Statements\n",
    "\n",
    "- `break` exits the nearest enclosing loop.\n",
    "- `continue` skips the current iteration and moves to the next."
   ]
  },
  {
   "cell_type": "code",
   "execution_count": 8,
   "metadata": {},
   "outputs": [
    {
     "name": "stdout",
     "output_type": "stream",
     "text": [
      "1\n",
      "2\n",
      "3\n"
     ]
    }
   ],
   "source": [
    "for i in range(10):\n",
    "    if i > 3:\n",
    "        break\n",
    "    print(i)"
   ]
  },
  {
   "cell_type": "code",
   "execution_count": 9,
   "metadata": {},
   "outputs": [
    {
     "name": "stdout",
     "output_type": "stream",
     "text": [
      "0\n",
      "2\n",
      "4\n",
      "6\n",
      "8\n"
     ]
    }
   ],
   "source": [
    "for i in range(10):\n",
    "    if i % 2 != 0:\n",
    "        continue\n",
    "    print(i)"
   ]
  },
  {
   "cell_type": "markdown",
   "metadata": {},
   "source": [
    "## Summary\n",
    "\n",
    "- Conditional statements (`if`, `if-else`, `if-elif-else`) let you make decisions in your program.\n",
    "- Logical operators (`and`, `or`, `not`) help combine conditions.\n",
    "- Loops (`while` and `for`) allow repetitive execution.\n",
    "- Use `break` to exit loops early and `continue` to skip iterations."
   ]
  }
 ],
 "metadata": {
  "kernelspec": {
   "display_name": "Python 3",
   "language": "python",
   "name": "python3"
  },
  "language_info": {
   "codemirror_mode": {
    "name": "ipython",
    "version": 3
   },
   "file_extension": ".py",
   "mimetype": "text/x-python",
   "name": "python",
   "nbconvert_exporter": "python",
   "pygments_lexer": "ipython3",
   "version": "3.10.6"
  }
 },
 "nbformat": 4,
 "nbformat_minor": 5
}
