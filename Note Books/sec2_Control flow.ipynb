# Re-running the previous code after code execution environment reset

import json

# The JSON content for the notebook
notebook_content = {
 "cells": [
  {
   "cell_type": "markdown",
   "metadata": {"collapsed": True},
   "source": ["<h1 style=\"text-align: justify; direction:rtl\"> \n", "    درس دوم: کنترل جریان\n", "</h1>"]
  },
  {
   "cell_type": "markdown",
   "metadata": {},
   "source": ["<h2 style=\"text-align: justify; direction:rtl\"> \n", "     عبارات شرطی\n", "</h2>"]
  },
  {
   "cell_type": "code",
   "execution_count": 3,
   "metadata": {},
   "outputs": [{"data": {"text/plain": ["True"]}, "execution_count": 3, "metadata": {}, "output_type": "execute_result"}],
   "source": ["x = 5\n", "x == 5"]
  },
  {
   "cell_type": "markdown",
   "metadata": {},
   "source": ["<h2 style=\"text-align: justify; direction:rtl\"> \n", "    عملگرهاي منطقی\n", "</h2>"]
  },
  {
   "cell_type": "markdown",
   "metadata": {},
   "source": ["در پایتون سه عملگر منطقی وجود دارد\n", "\n", "and, or, not."]
  },
  {
   "cell_type": "code",
   "execution_count": 9,
   "metadata": {},
   "outputs": [{"data": {"text/plain": ["True"]}, "execution_count": 9, "metadata": {}, "output_type": "execute_result"}],
   "source": ["x = 24\n", "(x % 3 == 0) and (x >= 10)"]
  },
  {
   "cell_type": "code",
   "execution_count": 2,
   "metadata": {},
   "outputs": [{"data": {"text/plain": ["True"]}, "execution_count": 2, "metadata": {}, "output_type": "execute_result"}],
   "source": ["x=4\n", "0 < x and x <= 5"]
  },
  {
   "cell_type": "code",
   "execution_count": 3,
   "metadata": {},
   "outputs": [{"data": {"text/plain": ["True"]}, "execution_count": 3, "metadata": {}, "output_type": "execute_result"}],
   "source": ["x = 4\n", "0 < x <= 5"]
  },
  {
   "cell_type": "markdown",
   "metadata": {},
   "source": ["<h2 style=\"text-align: justify; direction:rtl\"> \n", "    دستورات شرطی\n", "</h2>"]
  }
  # Additional cells would be included here if provided
 ],
 "metadata": {
  "kernelspec": {
   "display_name": "Python 3",
   "language": "python",
   "name": "python3"
  },
  "language_info": {
   "codemirror_mode": {"name": "ipython", "version": 3},
   "file_extension": ".py",
   "mimetype": "text/x-python",
   "name": "python",
   "nbconvert_exporter": "python",
   "pygments_lexer": "ipython3",
   "version": "3.10.12"
  }
 },
 "nbformat": 4,
 "nbformat_minor": 2
}

# Save the notebook as a .ipynb file
file_path = "/mnt/data/lesson2_flow_control.ipynb"
with open(file_path, "w", encoding="utf-8") as f:
    json.dump(notebook_content, f, ensure_ascii=False, indent=1)

file_path
