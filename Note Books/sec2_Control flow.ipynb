{
 "cells": [
  {
   "cell_type": "markdown",
   "metadata": {
    "collapsed": true
   },
   "source": [
    "<h1 style=\"text-align: justify; direction:rtl\"> \n",
    "    درس دوم: کنترل جریان\n",
    "</h1>"
   ]
  },
  {
   "cell_type": "markdown",
   "metadata": {},
   "source": [
    "<h2 style=\"text-align: justify; direction:rtl\"> \n",
    "     عبارات شرطی\n",
    "</h2>"
   ]
  },
  {
   "cell_type": "code",
   "execution_count": 3,
   "metadata": {},
   "outputs": [
    {
     "data": {
      "text/plain": [
       "True"
      ]
     },
     "execution_count": 3,
     "metadata": {},
     "output_type": "execute_result"
    }
   ],
   "source": [
    "x = 5\n",
    "x == 5"
   ]
  },
  {
   "cell_type": "markdown",
   "metadata": {},
   "source": [
    "<h2 style=\"text-align: justify; direction:rtl\"> \n",
    "    عملگرهاي منطقی\n",
    "</h2>"
   ]
  },
  {
   "cell_type": "markdown",
   "metadata": {},
   "source": [
    "در پایتون سه عملگر منطقی وجود دارد\n",
    "\n",
    "and, or, not."
   ]
  },
  {
   "cell_type": "code",
   "execution_count": 9,
   "metadata": {},
   "outputs": [
    {
     "data": {
      "text/plain": [
       "True"
      ]
     },
     "execution_count": 9,
     "metadata": {},
     "output_type": "execute_result"
    }
   ],
   "source": [
    "x = 24\n",
    "(x % 3 == 0) and (x >= 10)"
   ]
  },
  {
   "cell_type": "code",
   "execution_count": 2,
   "metadata": {},
   "outputs": [
    {
     "data": {
      "text/plain": [
       "True"
      ]
     },
     "execution_count": 2,
     "metadata": {},
     "output_type": "execute_result"
    }
   ],
   "source": [
    "x=4\n",
    "0 < x and x <= 5"
   ]
  },
  {
   "cell_type": "code",
   "execution_count": 3,
   "metadata": {},
   "outputs": [
    {
     "data": {
      "text/plain": [
       "True"
      ]
     },
     "execution_count": 3,
     "metadata": {},
     "output_type": "execute_result"
    }
   ],
   "source": [
    "x = 4\n",
    "0 < x <= 5"
   ]
  },
  {
   "cell_type": "markdown",
   "metadata": {},
   "source": [
    "<h2 style=\"text-align: justify; direction:rtl\"> \n",
    "    دستورات شرطی\n",
    "</h2>"
   ]
  },
  {
   "cell_type": "markdown",
   "metadata": {},
   "source": [
    "## if"
   ]
  },
  {
   "cell_type": "code",
   "execution_count": 1,
   "metadata": {},
   "outputs": [
    {
     "name": "stdout",
     "output_type": "stream",
     "text": [
      "Enter First Number: 4\n",
      "Enter Second Number: 5\n"
     ]
    }
   ],
   "source": [
    "num1=eval(input('Enter First Number: '))\n",
    "num2=eval(input('Enter Second Number: '))\n",
    "if num1-num2==0:\n",
    "    print('Both the numbers entered are Equal')"
   ]
  },
  {
   "cell_type": "markdown",
   "metadata": {},
   "source": [
    "## if-else:"
   ]
  },
  {
   "cell_type": "code",
   "execution_count": 2,
   "metadata": {},
   "outputs": [
    {
     "name": "stdout",
     "output_type": "stream",
     "text": [
      "Enter the First Number:3\n",
      "Enter the Second Number:4\n",
      "3 < 4\n"
     ]
    }
   ],
   "source": [
    "num1=int(input('Enter the First Number:'))\n",
    "num2=int(input('Enter the Second Number:'))\n",
    "if num1>num2:\n",
    "    print(num1,' > ',num2)\n",
    "else:\n",
    "    print(num1,'<',num2)"
   ]
  },
  {
   "cell_type": "code",
   "execution_count": 3,
   "metadata": {},
   "outputs": [
    {
     "name": "stdout",
     "output_type": "stream",
     "text": [
      "number:45\n",
      "yes\n"
     ]
    }
   ],
   "source": [
    "x=int(input(\"number:\"))\n",
    "if x%5 == 0:\n",
    "    print(\"yes\")\n",
    "else:\n",
    "    print(\"no\")"
   ]
  },
  {
   "cell_type": "markdown",
   "metadata": {},
   "source": [
    "## if-elif-else\n"
   ]
  },
  {
   "cell_type": "code",
   "execution_count": 4,
   "metadata": {},
   "outputs": [
    {
     "name": "stdout",
     "output_type": "stream",
     "text": [
      "Enter yor score: 14\n",
      "Your grade is C.\n"
     ]
    }
   ],
   "source": [
    "x = eval(input('Enter yor score: '))\n",
    "if x<10:\n",
    "    y='D'\n",
    "elif 10<=x<16:\n",
    "    y='C'\n",
    "elif 16<=x<18:\n",
    "    y='B'\n",
    "else:\n",
    "    y='A'\n",
    "print(f'Your grade is {y}.')"
   ]
  },
  {
   "cell_type": "markdown",
   "metadata": {},
   "source": [
    "### CONDITIONAL EXPRESSIONS"
   ]
  },
  {
   "cell_type": "markdown",
   "metadata": {},
   "source": [
    "#### Expression1 if condition else Expression2"
   ]
  },
  {
   "cell_type": "code",
   "execution_count": 7,
   "metadata": {},
   "outputs": [
    {
     "name": "stdout",
     "output_type": "stream",
     "text": [
      "Enter an x: 3\n",
      "new x =27\n"
     ]
    }
   ],
   "source": [
    "x = eval(input('Enter an x: '))\n",
    "if x%2==0:\n",
    "    x = x**2\n",
    "else:\n",
    "    x = x**3\n",
    "print(f'new x ={x}')"
   ]
  },
  {
   "cell_type": "code",
   "execution_count": 8,
   "metadata": {},
   "outputs": [
    {
     "name": "stdout",
     "output_type": "stream",
     "text": [
      "Enter an x: 3\n",
      "new x =27\n"
     ]
    }
   ],
   "source": [
    "# CONDITIONAL EXPRESSIONS:\n",
    "x = eval(input('Enter an x: '))\n",
    "x = x**2 if x%2==0 else x**3\n",
    "print(f'new x ={x}')"
   ]
  },
  {
   "cell_type": "code",
   "execution_count": 10,
   "metadata": {},
   "outputs": [
    {
     "name": "stdout",
     "output_type": "stream",
     "text": [
      "Enter your age: 34\n",
      "You are  old\n"
     ]
    }
   ],
   "source": [
    "age = eval(input('Enter your age: '))\n",
    "if age<30:\n",
    "    z='young'\n",
    "else:\n",
    "    z='old'\n",
    "print('You are ',z)"
   ]
  },
  {
   "cell_type": "code",
   "execution_count": 2,
   "metadata": {},
   "outputs": [
    {
     "name": "stdout",
     "output_type": "stream",
     "text": [
      "Enter your age: 26\n",
      "You are  young\n"
     ]
    }
   ],
   "source": [
    "# CONDITIONAL EXPRESSIONS:\n",
    "age = eval(input('Enter your age: '))\n",
    "z='young' if age<30 else 'old'\n",
    "print('You are ',z)"
   ]
  },
  {
   "cell_type": "code",
   "execution_count": null,
   "metadata": {},
   "outputs": [],
   "source": [
    "from math import *\n",
    "a= int(input('for an equal as this form: ax**2 + bx + c = 0, please enter a:'))\n",
    "b=eval(input(\"enter the number of b :\"))\n",
    "c=eval(input(\"enter the number of c :\"))\n",
    "delta = b**2-4*a*c\n",
    "if delta>0:\n",
    "    num1=(-b+sqrt(delta))/(2*a)\n",
    "    num2=(-b-sqrt(delta))/(2*a)\n",
    "    print('the answers=',num1,num2)\n",
    "elif delta==0:\n",
    "    num3=-b/(2*a)\n",
    "    \n",
    "    print('the answer',num3)\n",
    "else:\n",
    "    print('no answer')"
   ]
  },
  {
   "cell_type": "markdown",
   "metadata": {},
   "source": [
    "<h2 style=\"text-align: justify; direction:rtl\"> \n",
    "    حلقه های تکرار\n",
    "</h2>"
   ]
  },
  {
   "cell_type": "markdown",
   "metadata": {},
   "source": [
    "### while حلقه"
   ]
  },
  {
   "cell_type": "code",
   "execution_count": 14,
   "metadata": {},
   "outputs": [
    {
     "name": "stdout",
     "output_type": "stream",
     "text": [
      "Please enter x:5467\n",
      "7\n",
      "6\n",
      "4\n",
      "5\n"
     ]
    }
   ],
   "source": [
    "x= int(input(\"Please enter x:\"))\n",
    "while x!=0:\n",
    "    r=x%10\n",
    "    x//=10\n",
    "    print(r)"
   ]
  },
  {
   "cell_type": "code",
   "execution_count": 15,
   "metadata": {},
   "outputs": [
    {
     "name": "stdout",
     "output_type": "stream",
     "text": [
      "Please enter x:5664\n",
      "Sum=21\n"
     ]
    }
   ],
   "source": [
    "x= int(input(\"Please enter x:\"))\n",
    "s=0\n",
    "while x!=0:\n",
    "    r=x%10\n",
    "    x//=10\n",
    "    s+=r\n",
    "print(f\"Sum={s}\")"
   ]
  },
  {
   "cell_type": "code",
   "execution_count": 16,
   "metadata": {},
   "outputs": [
    {
     "name": "stdout",
     "output_type": "stream",
     "text": [
      "Please enter x:542\n",
      "N=3\n"
     ]
    }
   ],
   "source": [
    "x= int(input(\"Please enter x:\"))\n",
    "s=0\n",
    "while x!=0:\n",
    "    r=x%10\n",
    "    x//=10\n",
    "    s+=1\n",
    "print(f\"N={s}\")"
   ]
  },
  {
   "cell_type": "code",
   "execution_count": 17,
   "metadata": {},
   "outputs": [
    {
     "name": "stdout",
     "output_type": "stream",
     "text": [
      "Please enter x:654\n",
      "y=456\n"
     ]
    }
   ],
   "source": [
    "x= int(input(\"Please enter x:\"))\n",
    "s=0\n",
    "while x!=0:\n",
    "    r=x%10\n",
    "    x//=10\n",
    "    s=s*10+r\n",
    "print(f\"y={s}\")"
   ]
  },
  {
   "cell_type": "markdown",
   "metadata": {},
   "source": [
    "### range استفاده از تابع"
   ]
  },
  {
   "cell_type": "code",
   "execution_count": 3,
   "metadata": {},
   "outputs": [
    {
     "name": "stdout",
     "output_type": "stream",
     "text": [
      "[0, 2, 4, 6, 8]\n"
     ]
    }
   ],
   "source": [
    "x=list(range(0,10,2))\n",
    "print(x)\n"
   ]
  },
  {
   "cell_type": "code",
   "execution_count": 19,
   "metadata": {},
   "outputs": [
    {
     "name": "stdout",
     "output_type": "stream",
     "text": [
      "[0, 1, 2, 3, 4, 5, 6, 7, 8, 9]\n"
     ]
    }
   ],
   "source": [
    "x=list(range(10))\n",
    "print(x)"
   ]
  },
  {
   "cell_type": "code",
   "execution_count": 20,
   "metadata": {},
   "outputs": [
    {
     "name": "stdout",
     "output_type": "stream",
     "text": [
      "[0, 1, 2, 3, 4, 5, 6, 7, 8, 9]\n"
     ]
    }
   ],
   "source": [
    "x=list(range(0,10))\n",
    "print(x)"
   ]
  },
  {
   "cell_type": "code",
   "execution_count": 21,
   "metadata": {},
   "outputs": [
    {
     "name": "stdout",
     "output_type": "stream",
     "text": [
      "[10, 9, 8, 7, 6, 5, 4, 3, 2, 1]\n"
     ]
    }
   ],
   "source": [
    "x=list(range(10,0,-1))\n",
    "print(x)"
   ]
  },
  {
   "cell_type": "markdown",
   "metadata": {},
   "source": [
    "### for حلقه "
   ]
  },
  {
   "cell_type": "code",
   "execution_count": 23,
   "metadata": {},
   "outputs": [
    {
     "name": "stdout",
     "output_type": "stream",
     "text": [
      "0\n",
      "1\n",
      "2\n",
      "3\n"
     ]
    }
   ],
   "source": [
    "for i in range(4):\n",
    "    print(i)"
   ]
  },
  {
   "cell_type": "code",
   "execution_count": 5,
   "metadata": {},
   "outputs": [
    {
     "name": "stdout",
     "output_type": "stream",
     "text": [
      "0\n",
      "1\n",
      "2\n",
      "3\n",
      "4\n",
      "6\n",
      "7\n",
      "8\n",
      "9\n"
     ]
    }
   ],
   "source": [
    "for i in range(10):\n",
    "    if i==5:\n",
    "#         break\n",
    "        continue\n",
    "    print(i)"
   ]
  },
  {
   "cell_type": "code",
   "execution_count": 27,
   "metadata": {},
   "outputs": [
    {
     "name": "stdout",
     "output_type": "stream",
     "text": [
      "*\t*\t*\t*\t*\t\n",
      "*\t*\t*\t*\t\n",
      "*\t*\t*\t\n",
      "*\t*\t\n",
      "*\t\n"
     ]
    }
   ],
   "source": [
    "for i in range(5):\n",
    "    for j in range(5-i):\n",
    "        print(\"*\\t\",end='')\n",
    "    print()"
   ]
  },
  {
   "cell_type": "code",
   "execution_count": 28,
   "metadata": {},
   "outputs": [
    {
     "name": "stdout",
     "output_type": "stream",
     "text": [
      "*\t \n",
      "*\t *\t \n",
      "*\t *\t *\t \n",
      "*\t *\t *\t *\t \n",
      "*\t *\t *\t *\t *\t \n"
     ]
    }
   ],
   "source": [
    "for i in range(5):\n",
    "    for j in range(i+1):\n",
    "        print('*\\t ', end= '')\n",
    "    print()"
   ]
  },
  {
   "cell_type": "code",
   "execution_count": 29,
   "metadata": {},
   "outputs": [
    {
     "name": "stdout",
     "output_type": "stream",
     "text": [
      "1\t \n",
      "1\t 2\t \n",
      "1\t 2\t 3\t \n",
      "1\t 2\t 3\t 4\t \n",
      "1\t 2\t 3\t 4\t 5\t \n"
     ]
    }
   ],
   "source": [
    "for i in range(5):\n",
    "    for j in range(i+1):\n",
    "        print(f'{j+1}\\t ', end= '')\n",
    "    print()"
   ]
  },
  {
   "cell_type": "code",
   "execution_count": 30,
   "metadata": {},
   "outputs": [
    {
     "name": "stdout",
     "output_type": "stream",
     "text": [
      "Please enter yor name:حسین\n",
      "ح\n",
      "س\n",
      "ی\n",
      "ن\n"
     ]
    }
   ],
   "source": [
    "x=input(\"Please enter yor name:\")\n",
    "for i in x:\n",
    "    print(i)"
   ]
  },
  {
   "cell_type": "code",
   "execution_count": 31,
   "metadata": {},
   "outputs": [
    {
     "name": "stdout",
     "output_type": "stream",
     "text": [
      "Please enter yor sentence:My name is Hossein.\n",
      "MynameisHossein."
     ]
    }
   ],
   "source": [
    "x=input(\"Please enter yor sentence:\")\n",
    "for i in x:\n",
    "    if i==\" \":\n",
    "        continue\n",
    "    print(i,end='')"
   ]
  },
  {
   "cell_type": "code",
   "execution_count": null,
   "metadata": {
    "collapsed": true
   },
   "outputs": [],
   "source": []
  }
 ],
 "metadata": {
  "kernelspec": {
   "display_name": "Python 3 (ipykernel)",
   "language": "python",
   "name": "python3"
  },
  "language_info": {
   "codemirror_mode": {
    "name": "ipython",
    "version": 3
   },
   "file_extension": ".py",
   "mimetype": "text/x-python",
   "name": "python",
   "nbconvert_exporter": "python",
   "pygments_lexer": "ipython3",
   "version": "3.9.13"
  }
 },
 "nbformat": 4,
 "nbformat_minor": 2
}
