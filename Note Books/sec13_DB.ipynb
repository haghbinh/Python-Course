{
 "cells": [
  {
   "cell_type": "markdown",
   "id": "a0e4a41c",
   "metadata": {},
   "source": [
    " <h1 style=\"text-align: justify; direction:rtl\"> \n",
    "  درس 13: پایگاه داده Sqlite \n",
    "</h1>"
   ]
  },
  {
   "cell_type": "code",
   "execution_count": 2,
   "id": "ca2fcdee",
   "metadata": {},
   "outputs": [
    {
     "data": {
      "text/plain": [
       "<sqlite3.Cursor at 0x1bb634b3c70>"
      ]
     },
     "execution_count": 2,
     "metadata": {},
     "output_type": "execute_result"
    }
   ],
   "source": [
    "import sqlite3\n",
    "#Connecting to sqlite\n",
    "conn = sqlite3.connect('example.db')\n",
    "#Creating a cursor object using the cursor() method\n",
    "cursor = conn.cursor()\n",
    "#Doping EMPLOYEE table if already exists.\n",
    "cursor.execute(\"DROP TABLE IF EXISTS EMPLOYEE\")"
   ]
  },
  {
   "cell_type": "code",
   "execution_count": 3,
   "id": "04b98f7b",
   "metadata": {},
   "outputs": [
    {
     "data": {
      "text/plain": [
       "<sqlite3.Cursor at 0x1bb634b3c70>"
      ]
     },
     "execution_count": 3,
     "metadata": {},
     "output_type": "execute_result"
    }
   ],
   "source": [
    "#Creating table as per requirement\n",
    "sql ='''CREATE TABLE EMPLOYEE(\n",
    "            FIRST_NAME CHAR(20) NOT NULL,\n",
    "            LAST_NAME CHAR(20),\n",
    "            AGE INT,\n",
    "            SEX CHAR(1),\n",
    "            INCOME FLOAT) '''\n",
    "\n",
    "cursor.execute(sql)"
   ]
  },
  {
   "cell_type": "code",
   "execution_count": 4,
   "id": "e0831eb8",
   "metadata": {},
   "outputs": [
    {
     "name": "stdout",
     "output_type": "stream",
     "text": [
      "Table created successfully........\n"
     ]
    }
   ],
   "source": [
    "print(\"Table created successfully........\")\n",
    "\n",
    "# Commit your changes in the database\n",
    "conn.commit()\n",
    "#Closing the connection\n",
    "conn.close()\n"
   ]
  },
  {
   "cell_type": "markdown",
   "id": "30628e9b",
   "metadata": {},
   "source": [
    "## Insert Data"
   ]
  },
  {
   "cell_type": "code",
   "execution_count": 5,
   "id": "34093659",
   "metadata": {},
   "outputs": [],
   "source": [
    "import sqlite3\n",
    "conn = sqlite3.connect('example.db')\n",
    "cursor = conn.cursor()\n",
    "\n",
    "q1 = '''INSERT INTO EMPLOYEE(FIRST_NAME, LAST_NAME, AGE, SEX, INCOME) \t\tVALUES ('Fatemeh', 'Rahmani', 27, 'F', 9000) ''' \n",
    "q2 = '''INSERT INTO EMPLOYEE(FIRST_NAME, LAST_NAME, AGE, SEX,INCOME) \t\t\tVALUES ('Vahid', 'Bahmabi', 20, 'M', 6000)''' \n",
    "q3 = '''INSERT INTO EMPLOYEE(FIRST_NAME, LAST_NAME, AGE, SEX,INCOME) \t\t\tVALUES ('Shahin', 'Sheikhi', 25, 'M', 8300 )''' \n",
    "q4 = '''INSERT INTO EMPLOYEE(FIRST_NAME, LAST_NAME, AGE, SEX,INCOME) \t\t\tVALUES ('Sarmira', 'Sharmsar', 26, 'F', 10000)''' \n",
    "q5 = '''INSERT INTO EMPLOYEE(FIRST_NAME, LAST_NAME, AGE, SEX,INCOME) \t\t\tVALUES ('Tahereh', 'Mishekari', 24, 'F', 6000) '''"
   ]
  },
  {
   "cell_type": "code",
   "execution_count": 6,
   "id": "657b1704",
   "metadata": {},
   "outputs": [],
   "source": [
    "cursor.execute(q1)\n",
    "cursor.execute(q2)\n",
    "cursor.execute(q3)\n",
    "cursor.execute(q4)\n",
    "cursor.execute(q5)\n",
    "conn.commit()\n",
    "conn.close()"
   ]
  },
  {
   "cell_type": "code",
   "execution_count": 11,
   "id": "df176c02",
   "metadata": {},
   "outputs": [
    {
     "name": "stdout",
     "output_type": "stream",
     "text": [
      "('Fatemeh', 'Rahmani', 27, 'F', 9000.0)\n",
      "[('Vahid', 'Bahmabi', 20, 'M', 6000.0), ('Shahin', 'Sheikhi', 25, 'M', 8300.0), ('Sarmira', 'Sharmsar', 26, 'F', 10000.0), ('Tahereh', 'Mishekari', 24, 'F', 6000.0)]\n"
     ]
    }
   ],
   "source": [
    "import sqlite3\n",
    "conn = sqlite3.connect('example.db')\n",
    "cursor = conn.cursor()\n",
    "cursor.execute('''SELECT * from EMPLOYEE''')\n",
    "result = cursor.fetchone();\n",
    "print(result)\n",
    "#Fetching 1st row from the table\n",
    "result = cursor.fetchall();\n",
    "print(result)\n",
    "conn.commit()\n",
    "conn.close() "
   ]
  },
  {
   "cell_type": "markdown",
   "id": "202ac8f5",
   "metadata": {},
   "source": [
    "## Where Clause Syntax"
   ]
  },
  {
   "cell_type": "code",
   "execution_count": 12,
   "id": "a2a5a6b5",
   "metadata": {},
   "outputs": [
    {
     "name": "stdout",
     "output_type": "stream",
     "text": [
      "[('Vahid', 'Bahmabi', 20, 'M', 6000.0)]\n"
     ]
    }
   ],
   "source": [
    "import sqlite3\n",
    "conn = sqlite3.connect('example.db')\n",
    "cursor = conn.cursor()\n",
    "cursor.execute(\"SELECT * from EMPLOYEE WHERE AGE <23\")\n",
    "print(cursor.fetchall())\n",
    "conn.commit()\n",
    "conn.close()\n"
   ]
  },
  {
   "cell_type": "markdown",
   "id": "22f2e0f3",
   "metadata": {},
   "source": [
    "## Order By"
   ]
  },
  {
   "cell_type": "code",
   "execution_count": 13,
   "id": "82788927",
   "metadata": {},
   "outputs": [
    {
     "name": "stdout",
     "output_type": "stream",
     "text": [
      "[('Vahid', 'Bahmabi', 20, 'M', 6000.0), ('Tahereh', 'Mishekari', 24, 'F', 6000.0), ('Shahin', 'Sheikhi', 25, 'M', 8300.0), ('Sarmira', 'Sharmsar', 26, 'F', 10000.0), ('Fatemeh', 'Rahmani', 27, 'F', 9000.0)]\n"
     ]
    }
   ],
   "source": [
    "import sqlite3\n",
    "conn = sqlite3.connect('example.db')\n",
    "cursor = conn.cursor()\n",
    "#Retrieving specific records using the ORDER BY clause\n",
    "cursor.execute(\"SELECT * from EMPLOYEE ORDER BY AGE\")\n",
    "print(cursor.fetchall())\n",
    "conn.close()"
   ]
  },
  {
   "cell_type": "markdown",
   "id": "fe1ed14d",
   "metadata": {},
   "source": [
    "## Update Table"
   ]
  },
  {
   "cell_type": "code",
   "execution_count": 15,
   "id": "e2891e74",
   "metadata": {},
   "outputs": [
    {
     "name": "stdout",
     "output_type": "stream",
     "text": [
      "Contents of the Employee table: \n",
      "[('Fatemeh', 'Rahmani', 27, 'F', 9000.0), ('Vahid', 'Bahmabi', 21, 'M', 6000.0), ('Shahin', 'Sheikhi', 26, 'M', 8300.0), ('Sarmira', 'Sharmsar', 26, 'F', 10000.0), ('Tahereh', 'Mishekari', 24, 'F', 6000.0)]\n",
      "Contents of the Employee table after the update operation: \n",
      "[('Fatemeh', 'Rahmani', 27, 'F', 9000.0), ('Vahid', 'Bahmabi', 22, 'M', 6000.0), ('Shahin', 'Sheikhi', 27, 'M', 8300.0), ('Sarmira', 'Sharmsar', 26, 'F', 10000.0), ('Tahereh', 'Mishekari', 24, 'F', 6000.0)]\n"
     ]
    }
   ],
   "source": [
    "import sqlite3\n",
    "conn = sqlite3.connect('example.db')\n",
    "cursor = conn.cursor()\n",
    "#Fetching all the rows before the update\n",
    "print(\"Contents of the Employee table: \")\n",
    "cursor.execute('''SELECT * from EMPLOYEE''')\n",
    "print(cursor.fetchall())\n",
    "#Updating the records\n",
    "sql = '''UPDATE EMPLOYEE SET AGE=AGE+1 WHERE SEX = 'M' '''\n",
    "cursor.execute(sql)\n",
    "print(\"Contents of the Employee table after the update operation: \")\n",
    "cursor.execute('''SELECT * from EMPLOYEE''')\n",
    "print(cursor.fetchall())\n",
    "#Commit your changes in the database\n",
    "conn.commit()\n",
    "conn.close()\n"
   ]
  },
  {
   "cell_type": "markdown",
   "id": "ae47d628",
   "metadata": {},
   "source": [
    "## Delete Data"
   ]
  },
  {
   "cell_type": "code",
   "execution_count": 16,
   "id": "6052e3ce",
   "metadata": {},
   "outputs": [
    {
     "name": "stdout",
     "output_type": "stream",
     "text": [
      "[('Fatemeh', 'Rahmani', 27, 'F', 9000.0), ('Vahid', 'Bahmabi', 22, 'M', 6000.0), ('Shahin', 'Sheikhi', 27, 'M', 8300.0), ('Sarmira', 'Sharmsar', 26, 'F', 10000.0), ('Tahereh', 'Mishekari', 24, 'F', 6000.0)]\n",
      "Contents of the table after delete operation \n",
      "[('Vahid', 'Bahmabi', 22, 'M', 6000.0), ('Tahereh', 'Mishekari', 24, 'F', 6000.0)]\n"
     ]
    }
   ],
   "source": [
    "import sqlite3\n",
    "conn = sqlite3.connect('example.db')\n",
    "cursor = conn.cursor()\n",
    "cursor.execute('''SELECT * from EMPLOYEE''')\n",
    "print(cursor.fetchall())\n",
    "#Deleting records\n",
    "cursor.execute('''DELETE FROM EMPLOYEE WHERE AGE > 25''')\n",
    "#Retrieving data after delete\n",
    "print(\"Contents of the table after delete operation \")\n",
    "cursor.execute(\"SELECT * from EMPLOYEE\")\n",
    "print(cursor.fetchall())\n",
    "#Commit your changes in the database\n",
    "conn.commit()\n",
    "conn.close()\n"
   ]
  },
  {
   "cell_type": "markdown",
   "id": "1ee7be1e",
   "metadata": {},
   "source": [
    "## Join"
   ]
  },
  {
   "cell_type": "code",
   "execution_count": 17,
   "id": "a80e4baf",
   "metadata": {},
   "outputs": [],
   "source": [
    "import sqlite3\n",
    "conn = sqlite3.connect('example.db')\n",
    "cursor = conn.cursor()\n",
    "cursor.execute(\"DROP TABLE IF EXISTS Score\")\n",
    "sql ='''CREATE TABLE Score(\n",
    "            FIRST_NAME CHAR(20) NOT NULL,\n",
    "            LAST_NAME CHAR(20),\n",
    "            Grade INT)'''\n",
    "q1 = '''INSERT INTO Score(FIRST_NAME, LAST_NAME, Grade) \n",
    "            VALUES ('Fatemeh', 'Rahmani', 15) '''\n",
    "q2 = '''INSERT INTO Score(FIRST_NAME, LAST_NAME, Grade)\n",
    "                VALUES ('Vahid', 'Bahmabi', 18)'''\n",
    "q3 = '''INSERT INTO Score(FIRST_NAME, LAST_NAME, Grade)\n",
    "                VALUES ('Shahin', 'Sheikhi', 19)'''\n",
    "q4 = '''INSERT INTO Score(FIRST_NAME, LAST_NAME, Grade)\n",
    "                VALUES ('Sarmira', 'Sharmsar', 16)'''\n"
   ]
  },
  {
   "cell_type": "code",
   "execution_count": 18,
   "id": "1c139ad7",
   "metadata": {},
   "outputs": [
    {
     "name": "stdout",
     "output_type": "stream",
     "text": [
      "[('Vahid', 'Bahmabi', 22, 'M', 6000.0, 'Vahid', 'Bahmabi', 18)]\n"
     ]
    }
   ],
   "source": [
    "cursor.execute(sql)\n",
    "cursor.execute(q1)\n",
    "cursor.execute(q2)\n",
    "cursor.execute(q3)\n",
    "cursor.execute(q4)\n",
    "conn.commit()\n",
    "\n",
    "sql = '''SELECT * from EMPLOYEE \n",
    "     JOIN Score ON EMPLOYEE.LAST_NAME=Score.LAST_NAME'''\n",
    "cursor.execute(sql)\n",
    "result = cursor.fetchall();\n",
    "print(result)\n",
    "conn.commit()\n",
    "conn.close()\n"
   ]
  },
  {
   "cell_type": "markdown",
   "id": "356d73c9",
   "metadata": {},
   "source": [
    "## نکات تکمیلی SQLite"
   ]
  },
  {
   "cell_type": "code",
   "execution_count": 19,
   "id": "74156182",
   "metadata": {},
   "outputs": [],
   "source": [
    "import sqlite3\n",
    "conn = sqlite3.connect('example.db')\n",
    "cursor = conn.cursor()\n",
    "q1 = '''INSERT INTO EMPLOYEE VALUES ('Ali', 'Rezaie', 27, 'M', 9000) '''\n",
    "q2 = '''INSERT INTO EMPLOYEE VALUES ('Zahra', 'Rezaie', ?, 'F', ?) '''\n",
    "cursor.execute(q1)\n",
    "cursor.execute(q2,(23,8500))\n",
    "conn.commit()\n",
    "conn.close()\n"
   ]
  },
  {
   "cell_type": "code",
   "execution_count": 20,
   "id": "f4123736",
   "metadata": {},
   "outputs": [
    {
     "name": "stdout",
     "output_type": "stream",
     "text": [
      "Data inserted successfully ...\n"
     ]
    }
   ],
   "source": [
    "def insert(name, family, age, gender, inc):\n",
    "    conn = sqlite3.connect('example.db')\n",
    "    cur = conn.cursor()\n",
    "    q = \"INSERT INTO EMPLOYEE VALUES (?, ?, ?, ?, ?) \"\n",
    "    name = name.capitalize()\n",
    "    family = family.capitalize()\n",
    "    cur.execute(q,(name, family, age, gender, inc))\n",
    "    out = cur.fetchall()\n",
    "    conn.commit()\n",
    "    conn.close()\n",
    "    print('Data inserted successfully ...')\n",
    "\n",
    "insert('Ahmad', 'Rahimi', 27, 'M', 12000)\n"
   ]
  },
  {
   "cell_type": "code",
   "execution_count": 21,
   "id": "70f663fe",
   "metadata": {},
   "outputs": [
    {
     "data": {
      "text/plain": [
       "[('Ali', 'Rezaie', 27, 'M', 9000.0), ('Ahmad', 'Rahimi', 27, 'M', 12000.0)]"
      ]
     },
     "execution_count": 21,
     "metadata": {},
     "output_type": "execute_result"
    }
   ],
   "source": [
    "import sqlite3\n",
    "conn = sqlite3.connect('example.db')\n",
    "cursor = conn.cursor()\n",
    "q1 = '''SELECT * from EMPLOYEE  WHERE AGE>? '''\n",
    "q2 = '''SELECT * from EMPLOYEE  WHERE AGE>? OR INCOME>? '''\n",
    "cursor.execute(q1,(20,))\n",
    "cursor.fetchall()\n",
    "cursor.execute(q2,(26,8500))\n",
    "cursor.fetchall()\n"
   ]
  },
  {
   "cell_type": "code",
   "execution_count": 22,
   "id": "f57a43bf",
   "metadata": {},
   "outputs": [
    {
     "data": {
      "text/plain": [
       "[('Tahereh', 'Mishekari', 24, 'F', 6000.0)]"
      ]
     },
     "execution_count": 22,
     "metadata": {},
     "output_type": "execute_result"
    }
   ],
   "source": [
    "def search(name,family):\n",
    "    conn = sqlite3.connect('example.db')\n",
    "    cur = conn.cursor()\n",
    "    q = \"SELECT * FROM EMPLOYEE WHERE FIRST_NAME=? and LAST_NAME=?\"\n",
    "    name = name.capitalize()\n",
    "    family = family.capitalize()\n",
    "    cur.execute(q,(name,family))\n",
    "    out = cur.fetchall()\n",
    "    return out\n",
    "\n",
    "search('Tahereh','mishekari')\n"
   ]
  },
  {
   "cell_type": "code",
   "execution_count": 23,
   "id": "6b13469d",
   "metadata": {},
   "outputs": [],
   "source": [
    "def view():\n",
    "    connection = sqlite3.connect(\"example.db\")\n",
    "    cur = connection.cursor()\n",
    "    q1 = \"\"\"\n",
    "    SELECT * FROM EMPLOYEE\n",
    "    \"\"\"\n",
    "    cur.execute(q1)\n",
    "    rows = cur.fetchall()\n",
    "    connection.commit()\n",
    "    connection.close()\n",
    "    return rows\n"
   ]
  },
  {
   "cell_type": "markdown",
   "id": "249cf168",
   "metadata": {},
   "source": [
    "### مثال: تعریف نام کاربری و رمز عبور  "
   ]
  },
  {
   "cell_type": "code",
   "execution_count": 24,
   "id": "f4d19b3d",
   "metadata": {},
   "outputs": [],
   "source": [
    "import sqlite3\n",
    "conn = sqlite3.connect('example.db')\n",
    "cur = conn.cursor()\n",
    "cur.execute(\"DROP TABLE IF EXISTS users\")\n",
    "q1='''\n",
    "CREATE TABLE users (\n",
    "    ID INTEGER PRIMARY KEY AUTOINCREMENT,\n",
    "    username  CHAR(20) NOT NULL,\n",
    "    password  CHAR(20) NOT NULL)\n",
    "'''\n",
    "q2 = \"INSERT INTO users VALUES (NULL,'admin','admin')\"\n",
    "cur.execute(q1)\n",
    "cur.execute(q2)\n",
    "conn.commit()\n",
    "conn.close()\n"
   ]
  },
  {
   "cell_type": "code",
   "execution_count": 25,
   "id": "bf348dcc",
   "metadata": {},
   "outputs": [
    {
     "name": "stdout",
     "output_type": "stream",
     "text": [
      "Login failed...\n"
     ]
    }
   ],
   "source": [
    "def connect(username,password):\n",
    "    conn = sqlite3.connect(\"example.db\")\n",
    "    cur = conn.cursor()\n",
    "    q = f\"SELECT username from users WHERE username='{username}' AND Password = \t\t\t\t'{password}';\"\n",
    "    cur.execute(q)\n",
    "    if not cur.fetchone():  # An empty result evaluates to False.\n",
    "        print(\"Login failed...\")\n",
    "        conn.close()\n",
    "    else:\n",
    "         print(\"Welcome...\")\n",
    "\n",
    "connect('boss','1234')\n"
   ]
  }
 ],
 "metadata": {
  "kernelspec": {
   "display_name": "Python 3 (ipykernel)",
   "language": "python",
   "name": "python3"
  },
  "language_info": {
   "codemirror_mode": {
    "name": "ipython",
    "version": 3
   },
   "file_extension": ".py",
   "mimetype": "text/x-python",
   "name": "python",
   "nbconvert_exporter": "python",
   "pygments_lexer": "ipython3",
   "version": "3.9.13"
  }
 },
 "nbformat": 4,
 "nbformat_minor": 5
}
