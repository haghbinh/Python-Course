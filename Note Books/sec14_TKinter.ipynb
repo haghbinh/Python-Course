{
 "cells": [
  {
   "cell_type": "markdown",
   "id": "a0e4a41c",
   "metadata": {},
   "source": [
    " <h1 style=\"text-align: justify; direction:rtl\"> \n",
    " درس 14: کار با رابط کاربری tkinter \n",
    "</h1>"
   ]
  },
  {
   "cell_type": "code",
   "execution_count": 1,
   "id": "ec7bc7a1",
   "metadata": {},
   "outputs": [],
   "source": [
    "from tkinter import *\n",
    "root = Tk()\n",
    "root.mainloop()"
   ]
  },
  {
   "cell_type": "code",
   "execution_count": 2,
   "id": "582ab3d2",
   "metadata": {},
   "outputs": [],
   "source": [
    "from tkinter import *\n",
    "root = Tk()\n",
    "root.title(\"New window\")\n",
    "root.mainloop()"
   ]
  },
  {
   "cell_type": "code",
   "execution_count": 3,
   "id": "16da4a68",
   "metadata": {},
   "outputs": [],
   "source": [
    "from tkinter import *\n",
    "root = Tk()\n",
    "root.title(\"New window\")\n",
    "text1 = 'Hello Hossein.'\n",
    "label = Label(root,text=text1)\n",
    "label.place(x=0,y=0)\n",
    "root.mainloop()"
   ]
  },
  {
   "cell_type": "code",
   "execution_count": 4,
   "id": "260bb008",
   "metadata": {},
   "outputs": [],
   "source": [
    "from tkinter import *\n",
    "root = Tk()\n",
    "root.title(\"New window\")\n",
    "root.geometry(\"500x400\")\n",
    "root.resizable(width=False,height=False)\n",
    "root.mainloop()"
   ]
  },
  {
   "cell_type": "code",
   "execution_count": 5,
   "id": "3b7bc9dd",
   "metadata": {},
   "outputs": [],
   "source": [
    "from tkinter import *\n",
    "root = Tk()\n",
    "root.title(\"New window\")\n",
    "root.title(\"New window\")\n",
    "root.geometry(\"500x400\")\n",
    "text2 = 'Click on this Button!'\n",
    "btn = Button(root, text=text2)\n",
    "btn.place(x=200,y=10)\n",
    "root.mainloop()"
   ]
  },
  {
   "cell_type": "code",
   "execution_count": 6,
   "id": "38c40b71",
   "metadata": {},
   "outputs": [
    {
     "name": "stdout",
     "output_type": "stream",
     "text": [
      "Hello Hossein\n"
     ]
    }
   ],
   "source": [
    "from tkinter import *\n",
    "root = Tk()\n",
    "root.title(\"New window\")\n",
    "root.title(\"New window\")\n",
    "root.geometry(\"500x400\")\n",
    "\n",
    "text2 = 'Click on this Button!'\n",
    "def my_name(name):\n",
    "    print(f\"Hello {name}\")\n",
    "name0 = \"Hossein\"\n",
    "\n",
    "btn = Button(root, text=text2,command= lambda : my_name(name0))\n",
    "btn.place(x=200,y=10)\n",
    "root.mainloop()"
   ]
  },
  {
   "cell_type": "code",
   "execution_count": 7,
   "id": "3e3c4437",
   "metadata": {},
   "outputs": [],
   "source": [
    "from tkinter import *\n",
    "root = Tk()\n",
    "root.title(\"New window\")\n",
    "root.title(\"New window\")\n",
    "root.geometry(\"500x400\")\n",
    "\n",
    "text2 = 'Click on this Button!'\n",
    "text3 = StringVar()\n",
    "def my_name(name):\n",
    "    text3.set(name)\n",
    "name0 = \"Hossein\"\n",
    "\n",
    "btn = Button(root, text=text2,command= lambda : my_name(name0))\n",
    "btn.place(x=200,y=10)\n",
    "\n",
    "label = Label(root,textvariable =text3)\n",
    "label.place(x=200,y=200)\n",
    "\n",
    "root.mainloop()"
   ]
  },
  {
   "cell_type": "code",
   "execution_count": 8,
   "id": "ba8f99ee",
   "metadata": {},
   "outputs": [],
   "source": [
    "from tkinter import *\n",
    "root = Tk()\n",
    "root.title(\"New window\")\n",
    "root.title(\"New window\")\n",
    "root.geometry(\"500x400\")\n",
    "\n",
    "label = Label(root,text =\"Please enter your name:\")\n",
    "label.place(x=10,y=10)\n",
    "\n",
    "input1 = Entry(root)\n",
    "input1.place(x=10,y=30)\n",
    "\n",
    "name = StringVar()\n",
    "btn = Button(root, text=\"Say Hello\",command= lambda : name.set(\"Hello \"+input1.get()))\n",
    "btn.place(x=10,y=60)\n",
    "\n",
    "label = Label(root,textvariable =name)\n",
    "label.place(x=200,y=200)\n",
    "\n",
    "root.mainloop()"
   ]
  },
  {
   "cell_type": "code",
   "execution_count": 9,
   "id": "6474a365",
   "metadata": {},
   "outputs": [],
   "source": [
    "from tkinter import *\n",
    "root = Tk()\n",
    "root.title(\"New window\")\n",
    "root.title(\"New window\")\n",
    "root.geometry(\"500x400\")\n",
    "color1 = 'cyan'\n",
    "root.configure(bg=color1)\n",
    "label = Label(root,text =\"Please enter your name:\")\n",
    "label.place(x=10,y=10)\n",
    "label.configure(bg=color1)\n",
    "input1 = Entry(root)\n",
    "input1.place(x=10,y=30)\n",
    "\n",
    "name = StringVar()\n",
    "btn = Button(root, text=\"Say Hello\",command= lambda : name.set(\"Hello \"+input1.get()))\n",
    "btn.place(x=10,y=60)\n",
    "\n",
    "label2 = Label(root,textvariable =name)\n",
    "label2.place(x=200,y=200)\n",
    "label2.configure(bg=color1)\n",
    "root.mainloop()"
   ]
  },
  {
   "cell_type": "code",
   "execution_count": 11,
   "id": "38cec1fd",
   "metadata": {},
   "outputs": [],
   "source": [
    "from tkinter import *\n",
    "root = Tk()\n",
    "root.title(\"New window\")\n",
    "root.title(\"New window\")\n",
    "root.geometry(\"600x600\")\n",
    "color = 'gray'\n",
    "root.configure(bg=color)\n",
    "fr1 = Frame(root,width=600,height=200,bg='red')\n",
    "fr1.pack(side=TOP) #BOTTOM\n",
    "\n",
    "fr2 = Frame(root,width=600,height=200,bg='cyan')\n",
    "fr2.pack(side=TOP)\n",
    "\n",
    "root.mainloop()"
   ]
  },
  {
   "cell_type": "code",
   "execution_count": 12,
   "id": "97dc2c89",
   "metadata": {},
   "outputs": [],
   "source": [
    "from tkinter import *\n",
    "root = Tk()\n",
    "root.title(\"New window\")\n",
    "root.title(\"New window\")\n",
    "root.geometry(\"600x600\")\n",
    "color = 'gray'\n",
    "root.configure(bg=color)\n",
    "fr1 = Frame(root,width=600,height=200,bg='red')\n",
    "fr1.pack(side=TOP) #BOTTOM\n",
    "\n",
    "fr2 = Frame(root,width=600,height=200,bg='cyan')\n",
    "fr2.pack(side=TOP)\n",
    "\n",
    "\n",
    "text0 = 'Click on root'\n",
    "text1 = 'Click on frame 1'\n",
    "text2 = 'Click on frame 2'\n",
    "\n",
    "btn = Button(root, text=text0)\n",
    "btn.place(x=200,y=410)\n",
    "\n",
    "btn1 = Button(fr1, text=text1)\n",
    "btn1.place(x=200,y=10)\n",
    "\n",
    "btn2 = Button(fr2, text=text2)\n",
    "btn2.place(x=200,y=10)\n",
    "\n",
    "root.mainloop()"
   ]
  },
  {
   "cell_type": "markdown",
   "id": "1a3ca2c3",
   "metadata": {},
   "source": [
    "### Lables"
   ]
  },
  {
   "cell_type": "code",
   "execution_count": 13,
   "id": "2dde004a",
   "metadata": {},
   "outputs": [],
   "source": [
    "from tkinter import *\n",
    "root = Tk()\n",
    "l1 = Label(root, text=\"Title\")\n",
    "l1.grid(row=0,column=0)\n",
    "\n",
    "l2 = Label(root, text=\"Author\")\n",
    "l2.grid(row=0,column=1)\n",
    "\n",
    "l3 = Label(root, text=\"Year\")\n",
    "l3.grid(row=0,column=2)"
   ]
  },
  {
   "cell_type": "markdown",
   "id": "bf6ec402",
   "metadata": {},
   "source": [
    "### Entry"
   ]
  },
  {
   "cell_type": "code",
   "execution_count": null,
   "id": "a852d2c0",
   "metadata": {},
   "outputs": [],
   "source": [
    "title_text = StringVar()\n",
    "e1 = Entry(root,textvariable=title_text)\n",
    "e1.grid(row=1,column=0)\n",
    "\n",
    "Author_text = StringVar()\n",
    "e1 = Entry(root,textvariable=Author_text)\n",
    "e1.grid(row=1,column=1)\n",
    "\n",
    "Year_text = StringVar()\n",
    "e1 = Entry(root,textvariable=Year_text)\n",
    "e1.grid(row=1,column=2)\n",
    "\n",
    "list1 =Listbox(root, width=40,height=6)\n",
    "list1.grid(row=2,column=0,rowspan=6,columnspan=2)\n",
    "\n",
    "sb1 = Scrollbar(root)\n",
    "sb1.grid(row=2,column=2)\n",
    "\n",
    "list1.configure(yscrollcommand=sb1.set)\n",
    "sb1.configure(command=list1.yview)\n",
    "\n",
    "b1 =Button(root, text=\"Search\",width=10)\n",
    "b1.grid(row=3,column=3)\n",
    "b2 =Button(root, text=\"Close\",width=10)\n",
    "b2.grid(row=4,column=3)\n",
    "\n",
    "root.mainloop()"
   ]
  },
  {
   "cell_type": "code",
   "execution_count": null,
   "id": "7a8d895a",
   "metadata": {},
   "outputs": [],
   "source": [
    "import sqlite3\n",
    "\n",
    "def connection():\n",
    "    connection = sqlite3.connect(\"./books.db\")\n",
    "    cur = connection.cursor()\n",
    "    q1 = \"\"\"\n",
    "    CREATE TABLE IF NOT EXISTS book (id interger primary key, title TEXT, author TEXT, year INTEGER)\n",
    "    \"\"\"\n",
    "    cur.execute(q1)\n",
    "    connection.commit()\n",
    "    connection.close()\n",
    "\n",
    "def insert(title,author,year):\n",
    "    connection = sqlite3.connect(\"./books.db\")\n",
    "    cur = connection.cursor()\n",
    "    q1 = \"INSERT INTO book VALUES (NULL,?,?,?)\"\n",
    "    cur.execute(q1,(title,author,year))\n",
    "    connection.commit()\n",
    "    connection.close()\n",
    "\n",
    "\n",
    "\n",
    "def view():\n",
    "    connection = sqlite3.connect(\"./books.db\")\n",
    "    cur = connection.cursor()\n",
    "    q1 = \"\"\"\n",
    "    SELECT * FROM book\n",
    "    \"\"\"\n",
    "    cur.execute(q1)\n",
    "    rows = cur.fetchall()\n",
    "    connection.commit()\n",
    "    connection.close()\n",
    "    return rows\n",
    "\n",
    "\n",
    "\n",
    "def search(title=\"\",author=\"\",year=\"\"):\n",
    "    connection = sqlite3.connect(\"./books.db\")\n",
    "    cur = connection.cursor()\n",
    "    q1 = \"\"\"\n",
    "    SELECT * FROM book WHERE title=? OR author=? OR  year =?\n",
    "    \"\"\"\n",
    "    cur.execute(q1,(title,author,year))\n",
    "    rows = cur.fetchall()\n",
    "    connection.commit()\n",
    "    connection.close()\n",
    "    return rows\n",
    "\n",
    "connection()\n",
    "insert(\"python book\",\"Hossein\",\"2020\")\n",
    "print(view())"
   ]
  }
 ],
 "metadata": {
  "kernelspec": {
   "display_name": "Python 3 (ipykernel)",
   "language": "python",
   "name": "python3"
  },
  "language_info": {
   "codemirror_mode": {
    "name": "ipython",
    "version": 3
   },
   "file_extension": ".py",
   "mimetype": "text/x-python",
   "name": "python",
   "nbconvert_exporter": "python",
   "pygments_lexer": "ipython3",
   "version": "3.9.13"
  }
 },
 "nbformat": 4,
 "nbformat_minor": 5
}
