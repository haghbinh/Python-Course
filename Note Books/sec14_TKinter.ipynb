{
 "cells": [
  {
   "cell_type": "markdown",
   "id": "a0e4a41c",
   "metadata": {},
   "source": [
    " <h1 style=\"text-align: justify; direction:rtl\"> \n",
    " درس 14: کار با رابط کاربری tkinter \n",
    "</h1>"
   ]
  },
  {
   "cell_type": "markdown",
   "id": "16b4ae84",
   "metadata": {},
   "source": [
    "<h6 style=\"text-align: justify; direction:rtl\"> \n",
    "رابط کاربری گرافیکی (GUI)  به کاربران امکان می‌دهد با استفاده از نشانگرهای بصری مانند آیکون‌ها، منوها، پنجره‌ها و غیره با رایانه‌ها تعامل داشته باشند. این رابط کاربری مزایایی نسبت به رابط خط فرمان (CLI) دارد که کاربران در آن با استفاده از صفحه کلید فقط دستورات را نوشته و از نظر استفاده مشکل‌تر است.\n",
    "</h6>"
   ]
  },
  {
   "cell_type": "markdown",
   "id": "41310ac8",
   "metadata": {},
   "source": [
    "Some other Python Libraries available for creating our own GUI applications are\n",
    "\n",
    "* Kivy\n",
    "* Python Qt\n",
    "* wxPython\n",
    "\n",
    "Among all Tkinter is most widely used "
   ]
  },
  {
   "cell_type": "code",
   "execution_count": 2,
   "id": "2ba2e859",
   "metadata": {},
   "outputs": [],
   "source": [
    "from tkinter import *\n",
    "root = Tk()\n",
    "root.mainloop()"
   ]
  },
  {
   "cell_type": "code",
   "execution_count": 4,
   "id": "d3592c92",
   "metadata": {},
   "outputs": [],
   "source": [
    "import tkinter as tk\n",
    "root = tk.Tk()\n",
    "root.mainloop()"
   ]
  },
  {
   "cell_type": "markdown",
   "id": "42220334",
   "metadata": {},
   "source": [
    "## Widgets \n",
    "In general,  Widget is an element of Graphical User Interface (GUI) that displays/illustrates information or gives a way for the user to interact with the OS.  In Tkinter , Widgets are objects ; instances of classes that represent buttons, frames, and so on.  "
   ]
  },
  {
   "cell_type": "code",
   "execution_count": 11,
   "id": "172254ad",
   "metadata": {},
   "outputs": [],
   "source": [
    "from tkinter import *\n",
    "root = Tk()\n",
    "root.title(\"First_Program\")\n",
    "label = Label(root, text =\"Hello World !\").pack()\n",
    "# calling mainloop method which is used when your application is ready to run and it tells the code to keep displaying\n",
    "root.mainloop()"
   ]
  },
  {
   "cell_type": "code",
   "execution_count": 9,
   "id": "16da4a68",
   "metadata": {},
   "outputs": [],
   "source": [
    "from tkinter import *\n",
    "root = Tk()\n",
    "root.title(\"New window\")\n",
    "text1 = 'Hello Hossein.'\n",
    "label = Label(root,text=text1)\n",
    "label.place(x=50,y=30)\n",
    "root.mainloop()"
   ]
  },
  {
   "cell_type": "code",
   "execution_count": 12,
   "id": "260bb008",
   "metadata": {},
   "outputs": [],
   "source": [
    "from tkinter import *\n",
    "root = Tk()\n",
    "root.title(\"New window\")\n",
    "root.geometry(\"500x400\")\n",
    "root.resizable(width=False,height=False)\n",
    "root.mainloop()"
   ]
  },
  {
   "cell_type": "code",
   "execution_count": 13,
   "id": "3b7bc9dd",
   "metadata": {},
   "outputs": [],
   "source": [
    "from tkinter import *\n",
    "root = Tk()\n",
    "root.title(\"New window\")\n",
    "root.geometry(\"500x400\")\n",
    "text2 = 'Click on this Button!'\n",
    "btn = Button(root, text=text2)\n",
    "btn.place(x=200,y=10)\n",
    "root.mainloop()"
   ]
  },
  {
   "cell_type": "markdown",
   "id": "7a9508b9",
   "metadata": {},
   "source": [
    "## Creating a button in tkinter"
   ]
  },
  {
   "cell_type": "markdown",
   "id": "257d48c3",
   "metadata": {},
   "source": [
    "tkinter.ttk is used to create modern GUI (Graphical User Interface) applications that cannot be achieved by tkinter itself."
   ]
  },
  {
   "cell_type": "markdown",
   "id": "63d4913c",
   "metadata": {},
   "source": [
    "**Code #1:** Creating button using Tkinter. "
   ]
  },
  {
   "cell_type": "code",
   "execution_count": 21,
   "id": "37f21312",
   "metadata": {},
   "outputs": [],
   "source": [
    "# import everything from tkinter module\n",
    "from tkinter import *\n",
    "\n",
    "# create a tkinter window\n",
    "root = Tk()\n",
    "\n",
    "# Open window having dimension 100x100\n",
    "root.geometry('100x100')\n",
    "\n",
    "# Create a Button\n",
    "btn = Button(root, text = 'Click me !',command = root.destroy)\n",
    "\n",
    "# Set the position of button on the top of window.\n",
    "btn.pack(side = 'top')\n",
    "\n",
    "root.mainloop()\n"
   ]
  },
  {
   "cell_type": "markdown",
   "id": "b24a5c6c",
   "metadata": {},
   "source": [
    "**Code #2:** Creation of Button without using tk themed widget. "
   ]
  },
  {
   "cell_type": "code",
   "execution_count": 24,
   "id": "75f48073",
   "metadata": {},
   "outputs": [],
   "source": [
    "# import tkinter module\n",
    "from tkinter import *\t\n",
    "\n",
    "# Following will import tkinter.ttk module and\n",
    "# automatically override all the widgets\n",
    "# which are present in tkinter module.\n",
    "from tkinter.ttk import *\n",
    "\n",
    "# Create Object\n",
    "root = Tk()\n",
    "\n",
    "# Initialize tkinter window with dimensions 100x100\t\t\t\n",
    "root.geometry('100x100')\n",
    "\n",
    "btn = Button(root, text = 'Click me !', command = root.destroy)\n",
    "\n",
    "# Set the position of button on the top of window\n",
    "btn.pack(side = 'top')\t\n",
    "\n",
    "root.mainloop()\n"
   ]
  },
  {
   "cell_type": "markdown",
   "id": "c1846885",
   "metadata": {},
   "source": [
    "## Tkinter – Label\n"
   ]
  },
  {
   "cell_type": "markdown",
   "id": "f1ae3e06",
   "metadata": {},
   "source": [
    "Tkinter Label is a widget that is used to implement display boxes where you can place text or images. "
   ]
  },
  {
   "cell_type": "code",
   "execution_count": 26,
   "id": "22f2f6d7",
   "metadata": {},
   "outputs": [],
   "source": [
    "from tkinter import *\n",
    "\n",
    "\n",
    "top = Tk()\n",
    "top.geometry(\"450x300\")\n",
    "\n",
    "# the label for user_name\n",
    "user_name = Label(top,text = \"Username\").place(x = 40,y = 60)\n",
    "\n",
    "# the label for user_password\n",
    "user_password = Label(top,text = \"Password\").place(x = 40,y = 100)\n",
    "\n",
    "submit_button = Button(top,text = \"Submit\").place(x = 40,y = 130)\n",
    "\n",
    "user_name_input_area = Entry(top,width = 30).place(x = 110,y = 60)\n",
    "\n",
    "user_password_entry_area = Entry(top,width = 30).place(x = 110,y = 100)\n",
    "\n",
    "top.mainloop()\n"
   ]
  },
  {
   "cell_type": "markdown",
   "id": "c908a5de",
   "metadata": {},
   "source": [
    "## RadioButton in Tkinter"
   ]
  },
  {
   "cell_type": "markdown",
   "id": "81ef45ee",
   "metadata": {},
   "source": [
    "The Radiobutton is a standard Tkinter widget used to implement **one-of-many selections.**"
   ]
  },
  {
   "cell_type": "markdown",
   "id": "e43ed541",
   "metadata": {},
   "source": [
    "#### Code #1: \n",
    "Radio buttons, but not in the form of buttons, in form of button box. In order to display button box, indicatoron/indicator option should be set to 0. "
   ]
  },
  {
   "cell_type": "code",
   "execution_count": 37,
   "id": "8839b747",
   "metadata": {},
   "outputs": [],
   "source": [
    "# Importing Tkinter module\n",
    "from tkinter import *\n",
    "# from tkinter.ttk import *\n",
    "\n",
    "# Creating master Tkinter window\n",
    "master = Tk()\n",
    "master.geometry(\"175x175\")\n",
    "\n",
    "# Tkinter string variable\n",
    "# able to store any string value\n",
    "v = StringVar(master, \"1\")\n",
    "\n",
    "# Dictionary to create multiple buttons\n",
    "values = {\"RadioButton 1\" : \"1\",\n",
    "\t\t\"RadioButton 2\" : \"2\",\n",
    "\t\t\"RadioButton 3\" : \"3\",\n",
    "\t\t\"RadioButton 4\" : \"4\",\n",
    "\t\t\"RadioButton 5\" : \"5\"}\n",
    "\n",
    "# Loop is used to create multiple Radiobuttons\n",
    "# rather than creating each button separately\n",
    "for (text, value) in values.items():\n",
    "\tRadiobutton(master, text = text, variable = v,\n",
    "\t\t\t\tvalue = value, indicator = 0,\n",
    "\t\t\t\tbackground = \"light blue\").pack(fill = X, ipady = 5)\n",
    "\n",
    "# Infinite loop can be terminated by\n",
    "# keyboard or mouse interrupt\n",
    "# or by any predefined function (destroy())\n",
    "mainloop()\n"
   ]
  },
  {
   "cell_type": "code",
   "execution_count": 28,
   "id": "4cc1c58d",
   "metadata": {},
   "outputs": [
    {
     "data": {
      "text/plain": [
       "dict_items([('RadioButton 1', '1'), ('RadioButton 2', '2'), ('RadioButton 3', '3'), ('RadioButton 4', '4'), ('RadioButton 5', '5')])"
      ]
     },
     "execution_count": 28,
     "metadata": {},
     "output_type": "execute_result"
    }
   ],
   "source": [
    "values.items()"
   ]
  },
  {
   "cell_type": "markdown",
   "id": "e37058e0",
   "metadata": {},
   "source": [
    "#### Code #2: \n",
    "Changing button boxes into standard radio buttons. For this remove indicatoron option. "
   ]
  },
  {
   "cell_type": "code",
   "execution_count": 2,
   "id": "d4d20de8",
   "metadata": {},
   "outputs": [],
   "source": [
    "# Importing Tkinter module\n",
    "from tkinter import *\n",
    "from tkinter.ttk import *\n",
    "\n",
    "# Creating master Tkinter window\n",
    "master = Tk()\n",
    "master.geometry(\"175x175\")\n",
    "\n",
    "# Tkinter string variable\n",
    "# able to store any string value\n",
    "v = StringVar(master, \"1\")\n",
    "# v = StringVar()\n",
    "# v.set(\"1\")\n",
    "# Dictionary to create multiple buttons\n",
    "values = {\"RadioButton 1\" : \"1\",\n",
    "\t\t\"RadioButton 2\" : \"2\",\n",
    "\t\t\"RadioButton 3\" : \"3\",\n",
    "\t\t\"RadioButton 4\" : \"4\",\n",
    "\t\t\"RadioButton 5\" : \"5\"}\n",
    "\n",
    "for (text, value) in values.items():\n",
    "\tRadiobutton(master, text = text, variable = v,\n",
    "\t\tvalue = value).pack(side = TOP, ipady = 5)\n",
    "mainloop()"
   ]
  },
  {
   "cell_type": "markdown",
   "id": "8f8443d2",
   "metadata": {},
   "source": [
    "### Code #3:\n",
    "Adding Style to Radio Button using style class. "
   ]
  },
  {
   "cell_type": "code",
   "execution_count": 41,
   "id": "24f81ef5",
   "metadata": {},
   "outputs": [],
   "source": [
    "from tkinter import *\n",
    "from tkinter.ttk import *\n",
    "\n",
    "master = Tk()\n",
    "master.geometry('175x175')\n",
    "\n",
    "v = StringVar(master, \"1\")\n",
    "\n",
    "# Style class to add style to Radiobutton\n",
    "# it can be used to style any ttk widget\n",
    "style = Style(master)\n",
    "style.configure(\"TRadiobutton\", background = \"light green\",\n",
    "    foreground = \"red\", font = (\"arial\", 10, \"bold\"))\n",
    "\n",
    "values = {\"RadioButton 1\" : \"1\",\n",
    "\t\t\"RadioButton 2\" : \"2\",\n",
    "\t\t\"RadioButton 3\" : \"3\",\n",
    "\t\t\"RadioButton 4\" : \"4\",\n",
    "\t\t\"RadioButton 5\" : \"5\"}\n",
    "\n",
    "for (text, value) in values.items():\n",
    "\tRadiobutton(master, text = text, variable = v,\n",
    "\t\t\t\tvalue = value).pack(side = TOP, ipady = 5)\n",
    "\n",
    "mainloop()"
   ]
  },
  {
   "cell_type": "code",
   "execution_count": 1,
   "id": "0f853642",
   "metadata": {},
   "outputs": [],
   "source": [
    "from tkinter import *\n",
    "from tkinter.ttk import *\n",
    "\n",
    "master = Tk()\n",
    "master.geometry('175x175')\n",
    "\n",
    "label = Label(master, text=\"Selected value: \")\n",
    "label.pack(side=TOP)\n",
    "\n",
    "v = StringVar(master, \"1\")\n",
    "# v.set(\"2\")\n",
    "def update_label():\n",
    "    selected_value = v.get()\n",
    "    label.config(text=f\"Selected value: {selected_value}\")\n",
    "\n",
    "values = {\"RadioButton 1\" : \"1\",\n",
    "\t\t\"RadioButton 2\" : \"2\",\n",
    "\t\t\"RadioButton 3\" : \"3\",\n",
    "\t\t\"RadioButton 4\" : \"4\",\n",
    "\t\t\"RadioButton 5\" : \"5\"}\n",
    "\n",
    "for (text, value) in values.items():\n",
    "    Radiobutton(master,\n",
    "                text = text,\n",
    "                variable = v,\n",
    "                value = value,\n",
    "                command=update_label).pack(side = TOP, ipady = 5)\n",
    "\n",
    "mainloop()"
   ]
  },
  {
   "cell_type": "code",
   "execution_count": 1,
   "id": "c601b29a",
   "metadata": {},
   "outputs": [],
   "source": [
    "# How to convert it to a class object.\n",
    "\n",
    "from tkinter import *\n",
    "from tkinter.ttk import *\n",
    "\n",
    "class radio_window:\n",
    "    def __init__(self,values):\n",
    "        self.values = values\n",
    "        self.master = Tk()\n",
    "        self.master.geometry('175x175')\n",
    "        self.label = Label(self.master, text=\"Selected value: \")\n",
    "        self.label.pack(side=TOP)\n",
    "        self.v = StringVar(self.master, \"1\")\n",
    "        for (text, value) in self.values.items():\n",
    "            Radiobutton(self.master,\n",
    "                text = text,\n",
    "                variable = self.v,\n",
    "                value = value,\n",
    "                command=self.update_label).pack(side = TOP, ipady = 5)\n",
    "            \n",
    "    def update_label(self):\n",
    "        selected_value = self.v.get()\n",
    "        self.label.config(text=f\"Selected value: {selected_value}\")\n",
    "    def start(self):\n",
    "        self.master.mainloop()\n",
    "    \n",
    "    \n",
    "\n",
    "values = {\"RadioButton 1\" : \"1\",\n",
    "\t\t\"RadioButton 2\" : \"2\",\n",
    "\t\t\"RadioButton 3\" : \"3\",\n",
    "\t\t\"RadioButton 4\" : \"4\",\n",
    "\t\t\"RadioButton 5\" : \"5\"}\n",
    "\n",
    "if __name__ == '__main__':\n",
    "    window_1 = radio_window(values)\n",
    "    window_1.start()"
   ]
  },
  {
   "cell_type": "markdown",
   "id": "031feb4e",
   "metadata": {},
   "source": [
    "## Tkinter – Checkbutton Widget"
   ]
  },
  {
   "cell_type": "markdown",
   "id": "351ef72f",
   "metadata": {},
   "source": [
    "The Checkbutton widget is a standard Tkinter widget that is used to implement **on/off selections.**"
   ]
  },
  {
   "cell_type": "markdown",
   "id": "fcb0f2b0",
   "metadata": {},
   "source": [
    "#### Beginner style"
   ]
  },
  {
   "cell_type": "code",
   "execution_count": 2,
   "id": "5c841c94",
   "metadata": {},
   "outputs": [],
   "source": [
    "from tkinter import *\n",
    "\n",
    "root = Tk()\n",
    "root.geometry(\"300x200\")\n",
    "\n",
    "w = Label(root, text ='PGU University', font = \"50\")\n",
    "w.pack()\n",
    "\n",
    "Checkbutton1 = IntVar()\n",
    "Checkbutton2 = IntVar()\n",
    "Checkbutton3 = IntVar()\n",
    "\n",
    "Button1 = Checkbutton(root, text = \"Tutorial\",\n",
    "\t\t\t\t\tvariable = Checkbutton1,\n",
    "\t\t\t\t\tonvalue = 1,\n",
    "\t\t\t\t\toffvalue = 0,\n",
    "\t\t\t\t\theight = 2,\n",
    "\t\t\t\t\twidth = 10)\n",
    "\n",
    "Button2 = Checkbutton(root, text = \"Student\",\n",
    "\t\t\t\t\tvariable = Checkbutton2,\n",
    "\t\t\t\t\tonvalue = 1,\n",
    "\t\t\t\t\toffvalue = 0,\n",
    "\t\t\t\t\theight = 2,\n",
    "\t\t\t\t\twidth = 10)\n",
    "\n",
    "Button3 = Checkbutton(root, text = \"Courses\",\n",
    "\t\t\t\t\tvariable = Checkbutton3,\n",
    "\t\t\t\t\tonvalue = 1,\n",
    "\t\t\t\t\toffvalue = 0,\n",
    "\t\t\t\t\theight = 2,\n",
    "\t\t\t\t\twidth = 10)\n",
    "\t\n",
    "Button1.pack()\n",
    "Button2.pack()\n",
    "Button3.pack()\n",
    "\n",
    "mainloop()\n"
   ]
  },
  {
   "cell_type": "markdown",
   "id": "1a4d0542",
   "metadata": {},
   "source": [
    "#### Advanced style:"
   ]
  },
  {
   "cell_type": "code",
   "execution_count": 3,
   "id": "97d587af",
   "metadata": {},
   "outputs": [],
   "source": [
    "import tkinter as tk\n",
    "\n",
    "\n",
    "class MyCheckbutton(tk.Checkbutton):\n",
    "    def __init__(self, master, text, variable):\n",
    "        super().__init__(\n",
    "            master,\n",
    "            text=text,\n",
    "            variable=variable,\n",
    "            onvalue=1,\n",
    "            offvalue=0,\n",
    "            height=2,\n",
    "            width=10\n",
    "        )\n",
    "\n",
    "\n",
    "class CheckWindow:\n",
    "    def __init__(self):\n",
    "        self.root = tk.Tk()\n",
    "        self.root.geometry(\"300x200\")\n",
    "        self.w = tk.Label(self.root, text='PGU University', font=\"50\")\n",
    "        self.w.pack()\n",
    "        self.checkbutton1 = tk.IntVar()\n",
    "        self.checkbutton2 = tk.IntVar()\n",
    "        self.checkbutton3 = tk.IntVar()\n",
    "        MyCheckbutton(self.root, \"Tutorial\", self.checkbutton1).pack()\n",
    "        MyCheckbutton(self.root, \"Student\", self.checkbutton2).pack()\n",
    "        MyCheckbutton(self.root, \"Courses\", self.checkbutton3).pack()\n",
    "\n",
    "    def start(self):\n",
    "        self.root.mainloop()\n",
    "\n",
    "\n",
    "window = CheckWindow()\n",
    "window.start()\n"
   ]
  },
  {
   "cell_type": "markdown",
   "id": "1077343f",
   "metadata": {},
   "source": [
    "#### Professional style:"
   ]
  },
  {
   "cell_type": "code",
   "execution_count": 26,
   "id": "fe691552",
   "metadata": {},
   "outputs": [],
   "source": [
    "import tkinter as tk\n",
    "\n",
    "\n",
    "class MyCheckbutton(tk.Checkbutton):\n",
    "    def __init__(self, master, text, variable):\n",
    "        super().__init__(\n",
    "            master,\n",
    "            text=text,\n",
    "            variable=variable,\n",
    "            onvalue=1,\n",
    "            offvalue=0,\n",
    "            height=2,\n",
    "            width=10\n",
    "        )\n",
    "\n",
    "\n",
    "class CheckWindow:\n",
    "    def __init__(self):\n",
    "        self.root = tk.Tk()\n",
    "        self.root.geometry(\"300x200\")\n",
    "        self.create_title_label()\n",
    "        self.create_checkbuttons()\n",
    "\n",
    "    def create_title_label(self):\n",
    "        title_label = tk.Label(self.root, text='PGU University', font=\"50\")\n",
    "        title_label.pack()\n",
    "\n",
    "    def create_checkbuttons(self):\n",
    "        checkbutton_texts = [\"Tutorial\", \"Student\", \"Courses\"]\n",
    "        self.checkbutton_vars = [tk.IntVar() for _ in checkbutton_texts]\n",
    "        for text, var in zip(checkbutton_texts, self.checkbutton_vars):\n",
    "            MyCheckbutton(self.root, text, var).pack()\n",
    "\n",
    "    def start(self):\n",
    "        self.root.mainloop()\n",
    "\n",
    "\n",
    "def main():\n",
    "    window = CheckWindow()\n",
    "    window.start()\n",
    "\n",
    "\n",
    "if __name__ == '__main__':\n",
    "    main()\n"
   ]
  },
  {
   "cell_type": "markdown",
   "id": "d3a49bf8",
   "metadata": {},
   "source": [
    "## Combobox Widget"
   ]
  },
  {
   "cell_type": "markdown",
   "id": "fc871502",
   "metadata": {},
   "source": [
    "It is one of the Tkinter widgets where it contains a down arrow to select from a list of options. It helps the users to select according to the list of options displayed."
   ]
  },
  {
   "cell_type": "code",
   "execution_count": 6,
   "id": "472637cb",
   "metadata": {},
   "outputs": [],
   "source": [
    "import tkinter as tk\n",
    "from tkinter import ttk\n",
    "\n",
    "# Creating tkinter window\n",
    "window = tk.Tk()\n",
    "window.geometry('350x250')\n",
    "# Label\n",
    "ttk.Label(window,\n",
    "          text = \"Select the Month :\",\n",
    "          font = (\"Times New Roman\", 10)).grid(column = 0,\n",
    "                                               row = 15,\n",
    "                                               padx = 10,\n",
    "                                               pady = 25)\n",
    "\n",
    "n = tk.StringVar()\n",
    "monthchoosen = ttk.Combobox(window, width = 27,textvariable = n)\n",
    "\n",
    "# Adding combobox drop down list\n",
    "monthchoosen['values'] = (' January',\n",
    "\t\t\t\t\t\t' February',\n",
    "\t\t\t\t\t\t' March',\n",
    "\t\t\t\t\t\t' April',\n",
    "\t\t\t\t\t\t' May',\n",
    "\t\t\t\t\t\t' June',\n",
    "\t\t\t\t\t\t' July',\n",
    "\t\t\t\t\t\t' August',\n",
    "\t\t\t\t\t\t' September',\n",
    "\t\t\t\t\t\t' October',\n",
    "\t\t\t\t\t\t' November',\n",
    "\t\t\t\t\t\t' December')\n",
    "\n",
    "monthchoosen.grid(column = 1, row = 15)\n",
    "\n",
    "# Shows february as a default value\n",
    "monthchoosen.current()\n",
    "window.mainloop()\n"
   ]
  },
  {
   "cell_type": "markdown",
   "id": "6022b7eb",
   "metadata": {},
   "source": [
    "#### Professional style:"
   ]
  },
  {
   "cell_type": "code",
   "execution_count": 9,
   "id": "0b108396",
   "metadata": {},
   "outputs": [],
   "source": [
    "import tkinter as tk\n",
    "from tkinter import ttk\n",
    "import calendar\n",
    "\n",
    "class combowindow:\n",
    "    def __init__(self,values):\n",
    "        self.window = tk.Tk()\n",
    "        self.window.geometry('350x250')\n",
    "        self.creat_title_lable(\"Select the Month :\")\n",
    "        self.n = tk.StringVar()\n",
    "        self.creat_combobox(values)\n",
    "    def creat_title_lable(self,text):\n",
    "        title_label = ttk.Label(self.window,\n",
    "                                text = text,\n",
    "                                font = (\"Times New Roman\", 10)).grid(column = 0,\n",
    "                                                                     row = 15,\n",
    "                                                                     padx = 10,\n",
    "                                                                     pady = 25)\n",
    "    def creat_combobox(self,values):\n",
    "        monthchoosen = ttk.Combobox(self.window, width = 27,textvariable = self.n)\n",
    "        monthchoosen['values'] = values\n",
    "        monthchoosen.grid(column=1, row=15)\n",
    "        monthchoosen.current(1)\n",
    "    def start(self):\n",
    "        self.window.mainloop()\n",
    "#___________________________________________________________\n",
    "def main():\n",
    "    month_names = calendar.month_name[0:]\n",
    "    window = combowindow(month_names)\n",
    "    window.start()\n",
    "\n",
    "if __name__ == '__main__':\n",
    "    main()"
   ]
  },
  {
   "cell_type": "markdown",
   "id": "767d6cc3",
   "metadata": {},
   "source": [
    "## Entry Widget"
   ]
  },
  {
   "cell_type": "markdown",
   "id": "1c3350a0",
   "metadata": {},
   "source": [
    "The Entry Widget is a Tkinter Widget used to Enter or display a single line of text. "
   ]
  },
  {
   "cell_type": "code",
   "execution_count": 13,
   "id": "3a2e8f16",
   "metadata": {},
   "outputs": [],
   "source": [
    "# Program to make a simple\n",
    "# login screen\n",
    "\n",
    "\n",
    "import tkinter as tk\n",
    "\n",
    "root=tk.Tk()\n",
    "\n",
    "# setting the windows size\n",
    "root.geometry(\"600x400\")\n",
    "\n",
    "# declaring string variable\n",
    "# for storing name and password\n",
    "name_var=tk.StringVar()\n",
    "passw_var=tk.StringVar()\n",
    "\n",
    "\n",
    "# defining a function that will\n",
    "# get the name and password and\n",
    "# print them on the screen\n",
    "def submit():\n",
    "\tname=name_var.get()\n",
    "\tpassword=passw_var.get()\n",
    "\tprint(\"The name is : \" + name)\n",
    "\tprint(\"The password is : \" + password)\n",
    "\tname_var.set(\"\")\n",
    "\tpassw_var.set(\"\")\n",
    "\t\n",
    "\t\n",
    "# creating a label for\n",
    "# name using widget Label\n",
    "name_label = tk.Label(root, text = 'Username', font=('calibre',10, 'bold'))\n",
    "\n",
    "# creating a entry for input\n",
    "# name using widget Entry\n",
    "name_entry = tk.Entry(root,textvariable = name_var, font=('calibre',10,'normal'))\n",
    "\n",
    "# creating a label for password\n",
    "passw_label = tk.Label(root, text = 'Password', font = ('calibre',10,'bold'))\n",
    "\n",
    "# creating a entry for password\n",
    "passw_entry=tk.Entry(root, textvariable = passw_var, font = ('calibre',10,'normal'), show = '*')\n",
    "\n",
    "# creating a button using the widget\n",
    "# Button that will call the submit function\n",
    "sub_btn=tk.Button(root,text = 'Submit', command = submit)\n",
    "\n",
    "# placing the label and entry in\n",
    "# the required position using grid\n",
    "# method\n",
    "name_label.grid(row=0,column=0)\n",
    "name_entry.grid(row=0,column=1)\n",
    "passw_label.grid(row=1,column=0)\n",
    "passw_entry.grid(row=1,column=1)\n",
    "sub_btn.grid(row=2,column=1)\n",
    "\n",
    "# performing an infinite loop\n",
    "# for the window to display\n",
    "root.mainloop()\n"
   ]
  },
  {
   "cell_type": "markdown",
   "id": "261e2f2d",
   "metadata": {},
   "source": [
    "## Text Widget"
   ]
  },
  {
   "cell_type": "markdown",
   "id": "c4b006ac",
   "metadata": {},
   "source": [
    "Text Widget is used where a user wants to insert multiline text fields"
   ]
  },
  {
   "cell_type": "code",
   "execution_count": 14,
   "id": "86f5b8ac",
   "metadata": {},
   "outputs": [],
   "source": [
    "import tkinter as tk\n",
    "\n",
    "\n",
    "root = Tk()\n",
    "\n",
    "# specify size of window.\n",
    "root.geometry(\"250x170\")\n",
    "\n",
    "# Create text widget and specify size.\n",
    "T = Text(root, height = 5, width = 52)\n",
    "\n",
    "# Create label\n",
    "l = Label(root, text = \"Fact of the Day\")\n",
    "l.config(font =(\"Courier\", 14))\n",
    "\n",
    "Fact = \"\"\"My name is Hossein\n",
    "I program in python.\"\"\"\n",
    "\n",
    "# Create button for next text.\n",
    "b1 = Button(root, text = \"Next\")\n",
    "\n",
    "# Create an Exit button.\n",
    "b2 = Button(root, text = \"Exit\",\n",
    "\t\t\tcommand = root.destroy)\n",
    "\n",
    "l.pack()\n",
    "T.pack()\n",
    "b1.pack()\n",
    "b2.pack()\n",
    "\n",
    "# Insert The Fact.\n",
    "T.insert(tk.END, Fact) #Text inserted at the end position\n",
    "\n",
    "tk.mainloop()\n"
   ]
  },
  {
   "cell_type": "code",
   "execution_count": 20,
   "id": "9869fb1e",
   "metadata": {},
   "outputs": [],
   "source": [
    "import tkinter as tk\n",
    "\n",
    "\n",
    "root = Tk()\n",
    "\n",
    "# specify size of window.\n",
    "root.geometry(\"250x170\")\n",
    "\n",
    "# Create text widget and specify size.\n",
    "T = Text(root, height = 5, width = 52)\n",
    "\n",
    "# Create label\n",
    "l = Label(root, text = \"Fact of the Day\")\n",
    "l.config(font =(\"Courier\", 14))\n",
    "\n",
    "Fact = \"\"\"A man can be arrested in\n",
    "Italy for wearing a skirt in public.\"\"\"\n",
    "def insert():\n",
    "    T.insert(\"1.1\", Fact) # Text inserted at line 2, character 3\n",
    "#     T.insert(tk.END,Fact)\n",
    "    \n",
    "# Create button for next text.\n",
    "b1 = Button(root, text = \"Next\",command=insert)\n",
    "\n",
    "# Create an Exit button.\n",
    "b2 = Button(root, text = \"Exit\",\n",
    "\t\t\tcommand = root.destroy)\n",
    "\n",
    "l.pack()\n",
    "T.pack()\n",
    "b1.pack()\n",
    "b2.pack()\n",
    "\n",
    "# Insert The Fact.\n",
    "# T.insert(tk.END, Fact)\n",
    "\n",
    "\n",
    "tk.mainloop()\n"
   ]
  },
  {
   "cell_type": "code",
   "execution_count": 22,
   "id": "54229d79",
   "metadata": {},
   "outputs": [
    {
     "name": "stdout",
     "output_type": "stream",
     "text": [
      "120\n"
     ]
    }
   ],
   "source": [
    "from tkinter import *\n",
    "\n",
    "root = Tk()\n",
    "root.geometry(\"300x300\")\n",
    "root.title(\" Q&A \")\n",
    "\n",
    "l = Label(text = \"What is 24 * 5 ? \")\n",
    "\n",
    "inputtxt = Text(root, height = 10,\n",
    "                width = 25,bg = \"light yellow\")\n",
    "\n",
    "Output = Text(root, height = 5,width = 25,bg = \"light cyan\")\n",
    "\n",
    "def Take_input():\n",
    "    Output.delete(1.0,END)\n",
    "    INPUT = inputtxt.get(\"1.0\", \"end-1c\")\n",
    "    print(INPUT)\n",
    "    if(INPUT == \"120\"):\n",
    "        Output.insert(END, 'Correct')\n",
    "    else:\n",
    "        Output.insert(END, \"Wrong answer\")\n",
    "    \n",
    "\n",
    "\n",
    "Display = Button(root, height = 2,\n",
    "                 width = 20,\n",
    "                 text =\"Show\",\n",
    "                 command = Take_input)\n",
    "\n",
    "l.pack()\n",
    "inputtxt.pack()\n",
    "Display.pack()\n",
    "Output.pack()\n",
    "\n",
    "mainloop()\n",
    "\n",
    "\n",
    "# random_number = random.randint(1, 10)  #generates a random integer between 1 and 10 "
   ]
  },
  {
   "cell_type": "markdown",
   "id": "82440c43",
   "metadata": {},
   "source": [
    "## Tkinter – Message"
   ]
  },
  {
   "cell_type": "markdown",
   "id": "b2dab602",
   "metadata": {},
   "source": [
    "The Message widget is used to show the message to the user regarding the behavior of the python application. The message text contains more than one line."
   ]
  },
  {
   "cell_type": "code",
   "execution_count": 34,
   "id": "9c719e55",
   "metadata": {},
   "outputs": [],
   "source": [
    "from tkinter import *\n",
    "\n",
    "root = Tk()\n",
    "root.geometry(\"300x200\")\n",
    "\n",
    "w = Label(root, text ='PGU', font = \"50\")\n",
    "w.pack()\n",
    "\n",
    "msg = Message( root, text = \"A Python programming for PGU\")\n",
    "msg.pack()\n",
    "\n",
    "root.mainloop()\n"
   ]
  },
  {
   "cell_type": "markdown",
   "id": "ed03b760",
   "metadata": {},
   "source": [
    "## Menu widget in Tkinter"
   ]
  },
  {
   "cell_type": "markdown",
   "id": "b6f67bbb",
   "metadata": {},
   "source": [
    "Menus are the important part of any GUI. A common use of menus is to provide convenient access to various operations such as saving or opening a file, quitting a program, or manipulating data."
   ]
  },
  {
   "cell_type": "code",
   "execution_count": 119,
   "id": "69895515",
   "metadata": {},
   "outputs": [],
   "source": [
    "# importing only those functions\n",
    "# which are needed\n",
    "from tkinter import *\n",
    "from tkinter.ttk import *\n",
    "from time import strftime\n",
    "\n",
    "# creating tkinter window\n",
    "root = Tk()\n",
    "root.title('Menu Demonstration')\n",
    "\n",
    "# Creating Menubar\n",
    "menubar = Menu(root)\n",
    "\n",
    "# Adding File Menu and commands\n",
    "file = Menu(menubar, tearoff = 0)\n",
    "menubar.add_cascade(label ='File', menu = file)\n",
    "file.add_command(label ='New File', command = None)\n",
    "file.add_command(label ='Open...', command = None)\n",
    "file.add_command(label ='Save', command = None)\n",
    "file.add_separator()\n",
    "file.add_command(label ='Exit', command = root.destroy)\n",
    "\n",
    "# Adding Edit Menu and commands\n",
    "edit = Menu(menubar, tearoff = 0)\n",
    "menubar.add_cascade(label ='Edit', menu = edit)\n",
    "edit.add_command(label ='Cut', command = None)\n",
    "edit.add_command(label ='Copy', command = None)\n",
    "edit.add_command(label ='Paste', command = None)\n",
    "edit.add_command(label ='Select All', command = None)\n",
    "edit.add_separator()\n",
    "edit.add_command(label ='Find...', command = None)\n",
    "edit.add_command(label ='Find again', command = None)\n",
    "\n",
    "# Adding Help Menu\n",
    "help_ = Menu(menubar, tearoff = 0)\n",
    "menubar.add_cascade(label ='Help', menu = help_)\n",
    "help_.add_command(label ='Tk Help', command = None)\n",
    "help_.add_command(label ='Demo', command = None)\n",
    "help_.add_separator()\n",
    "help_.add_command(label ='About Tk', command = None)\n",
    "\n",
    "# display Menu\n",
    "root.config(menu = menubar)\n",
    "mainloop()\n"
   ]
  },
  {
   "cell_type": "markdown",
   "id": "c6014294",
   "metadata": {},
   "source": [
    "## Tkinter – SpinBox"
   ]
  },
  {
   "cell_type": "markdown",
   "id": "7c1f9dbe",
   "metadata": {},
   "source": [
    "The Spinbox widget is used to select from a fixed number of values. It is an alternative Entry widget and provides the range of values to the user."
   ]
  },
  {
   "cell_type": "code",
   "execution_count": 21,
   "id": "22f65881",
   "metadata": {},
   "outputs": [],
   "source": [
    "from tkinter import *\n",
    "\n",
    "root = Tk()\n",
    "root.geometry(\"300x200\")\n",
    "\n",
    "w = Label(root, text ='PGU', font = \"50\")\n",
    "w.pack()\n",
    "\n",
    "sp = Spinbox(root, from_= 0, to = 20)\n",
    "sp.pack()\n",
    "\n",
    "root.mainloop()\n"
   ]
  },
  {
   "cell_type": "markdown",
   "id": "856deaa5",
   "metadata": {},
   "source": [
    "## Tkinter Scrollbar"
   ]
  },
  {
   "cell_type": "markdown",
   "id": "0a97d7d0",
   "metadata": {},
   "source": [
    "The scrollbar widget is used to scroll down the content. We can also create the horizontal scrollbars to the Entry widget."
   ]
  },
  {
   "cell_type": "code",
   "execution_count": 125,
   "id": "355c5b1c",
   "metadata": {},
   "outputs": [],
   "source": [
    "from tkinter import *\n",
    "\n",
    "root = Tk()\n",
    "root.geometry(\"150x200\")\n",
    "\n",
    "w = Label(root, text ='PGU',font = \"50\")\n",
    "\n",
    "w.pack()\n",
    "\n",
    "scroll_bar = Scrollbar(root)\n",
    "\n",
    "scroll_bar.pack( side = RIGHT,fill = Y )\n",
    "\n",
    "mylist = Listbox(root,yscrollcommand = scroll_bar.set )\n",
    "\n",
    "for line in range(1, 26):\n",
    "\tmylist.insert(END, \"PGU \" + str(line))\n",
    "\n",
    "mylist.pack( side = LEFT, fill = BOTH )\n",
    "\n",
    "scroll_bar.config( command = mylist.yview )\n",
    "\n",
    "root.mainloop()\n"
   ]
  },
  {
   "cell_type": "code",
   "execution_count": 127,
   "id": "faef3868",
   "metadata": {},
   "outputs": [],
   "source": [
    "from tkinter import *\n",
    "\n",
    "class ScrollBar:\n",
    "\t\n",
    "\t# constructor\n",
    "\tdef __init__(self):\n",
    "\t\t\n",
    "\t\t# create root window\n",
    "\t\troot = Tk()\n",
    "\n",
    "\t\t# create a horizontal scrollbar by\n",
    "\t\t# setting orient to horizontal\n",
    "\t\th = Scrollbar(root, orient = 'horizontal')\n",
    "\n",
    "\t\t# attach Scrollbar to root window at\n",
    "\t\t# the bootom\n",
    "\t\th.pack(side = BOTTOM, fill = X)\n",
    "\n",
    "\t\t# create a vertical scrollbar-no need\n",
    "\t\t# to write orient as it is by\n",
    "\t\t# default vertical\n",
    "\t\tv = Scrollbar(root)\n",
    "\n",
    "\t\t# attach Scrollbar to root window on\n",
    "\t\t# the side\n",
    "\t\tv.pack(side = RIGHT, fill = Y)\n",
    "\t\t\n",
    "\n",
    "\t\t# create a Text widget with 15 chars\n",
    "\t\t# width and 15 lines height\n",
    "\t\t# here xscrollcomannd is used to attach Text\n",
    "\t\t# widget to the horizontal scrollbar\n",
    "\t\t# here yscrollcomannd is used to attach Text\n",
    "\t\t# widget to the vertical scrollbar\n",
    "\t\tt = Text(root, width = 15, height = 15, wrap = NONE,\n",
    "\t\t\t\txscrollcommand = h.set,\n",
    "\t\t\t\tyscrollcommand = v.set)\n",
    "\n",
    "\t\t# insert some text into the text widget\n",
    "\t\tfor i in range(20):\n",
    "\t\t\tt.insert(END,\"this is some text\\n\")\n",
    "\n",
    "\t\t# attach Text widget to root window at top\n",
    "\t\tt.pack(side=TOP, fill=X)\n",
    "\n",
    "\t\t# here command represents the method to\n",
    "\t\t# be executed xview is executed on\n",
    "\t\t# object 't' Here t may represent any\n",
    "\t\t# widget\n",
    "\t\th.config(command=t.xview)\n",
    "\n",
    "\t\t# here command represents the method to\n",
    "\t\t# be executed yview is executed on\n",
    "\t\t# object 't' Here t may represent any\n",
    "\t\t# widget\n",
    "\t\tv.config(command=t.yview)\n",
    "\n",
    "\t\t# the root window handles the mouse\n",
    "\t\t# click event\n",
    "\t\troot.mainloop()\n",
    "\n",
    "# create an object to Scrollbar class\n",
    "s = ScrollBar()\n",
    "\t\t\n"
   ]
  },
  {
   "cell_type": "code",
   "execution_count": null,
   "id": "6ba45dc4",
   "metadata": {},
   "outputs": [],
   "source": []
  }
 ],
 "metadata": {
  "kernelspec": {
   "display_name": "Python 3 (ipykernel)",
   "language": "python",
   "name": "python3"
  },
  "language_info": {
   "codemirror_mode": {
    "name": "ipython",
    "version": 3
   },
   "file_extension": ".py",
   "mimetype": "text/x-python",
   "name": "python",
   "nbconvert_exporter": "python",
   "pygments_lexer": "ipython3",
   "version": "3.9.13"
  }
 },
 "nbformat": 4,
 "nbformat_minor": 5
}
