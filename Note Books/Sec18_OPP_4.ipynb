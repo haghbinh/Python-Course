{
 "cells": [
  {
   "cell_type": "markdown",
   "metadata": {},
   "source": [
    "<h2 style=\"text-align: justify; direction:rtl\">   \n",
    "درس هجدهم: \n",
    "</h2>"
   ]
  },
  {
   "cell_type": "markdown",
   "metadata": {},
   "source": [
    "<h1 style=\"text-align: justify; direction:rtl\">   \n",
    " چندریختی (Polymorphism) در پایتون\n",
    "</h1>"
   ]
  },
  {
   "cell_type": "code",
   "execution_count": 1,
   "metadata": {},
   "outputs": [],
   "source": [
    "def P(x):\n",
    "    return(4*x)"
   ]
  },
  {
   "cell_type": "code",
   "execution_count": 3,
   "metadata": {},
   "outputs": [
    {
     "data": {
      "text/plain": [
       "12"
      ]
     },
     "execution_count": 3,
     "metadata": {},
     "output_type": "execute_result"
    }
   ],
   "source": [
    "P(3)"
   ]
  },
  {
   "cell_type": "code",
   "execution_count": 5,
   "metadata": {},
   "outputs": [],
   "source": [
    "def P(x,y):\n",
    "    return(2*(x+y))"
   ]
  },
  {
   "cell_type": "code",
   "execution_count": 7,
   "metadata": {},
   "outputs": [
    {
     "data": {
      "text/plain": [
       "10"
      ]
     },
     "execution_count": 7,
     "metadata": {},
     "output_type": "execute_result"
    }
   ],
   "source": [
    "P(2,3)"
   ]
  },
  {
   "cell_type": "code",
   "execution_count": 9,
   "metadata": {},
   "outputs": [],
   "source": [
    "def P(x,y=None):\n",
    "    if(y is None):\n",
    "        z = 4*x\n",
    "    else: \n",
    "        z = 2*(x+y)\n",
    "    return(z)"
   ]
  },
  {
   "cell_type": "code",
   "execution_count": 11,
   "metadata": {},
   "outputs": [
    {
     "data": {
      "text/plain": [
       "12"
      ]
     },
     "execution_count": 11,
     "metadata": {},
     "output_type": "execute_result"
    }
   ],
   "source": [
    "P(3)"
   ]
  },
  {
   "cell_type": "code",
   "execution_count": 12,
   "metadata": {},
   "outputs": [
    {
     "data": {
      "text/plain": [
       "10"
      ]
     },
     "execution_count": 12,
     "metadata": {},
     "output_type": "execute_result"
    }
   ],
   "source": [
    "P(2,3)"
   ]
  },
  {
   "cell_type": "code",
   "execution_count": 16,
   "metadata": {},
   "outputs": [],
   "source": [
    "class shape():\n",
    "    name = 'shape'\n",
    "    def printinfo(self):\n",
    "        print(\"This is a\",self.name)"
   ]
  },
  {
   "cell_type": "code",
   "execution_count": 17,
   "metadata": {},
   "outputs": [
    {
     "name": "stdout",
     "output_type": "stream",
     "text": [
      "This is a shape\n"
     ]
    }
   ],
   "source": [
    "A1 = shape()\n",
    "A1.printinfo()"
   ]
  },
  {
   "cell_type": "code",
   "execution_count": 27,
   "metadata": {},
   "outputs": [],
   "source": [
    "class circle(shape):\n",
    "    name = 'circle'\n",
    "    def __init__(self,r):\n",
    "        self.r=r\n",
    "    def printinfo(self):\n",
    "        print(\"This is a\",self.name,\"with a radius\",self.r)\n",
    "    def P(self):\n",
    "        return(2*3.14*self.r)\n",
    "        "
   ]
  },
  {
   "cell_type": "code",
   "execution_count": 28,
   "metadata": {},
   "outputs": [
    {
     "name": "stdout",
     "output_type": "stream",
     "text": [
      "This is a circle with a radius 2\n"
     ]
    }
   ],
   "source": [
    "A2 = circle(2)\n",
    "A2.printinfo()"
   ]
  },
  {
   "cell_type": "code",
   "execution_count": 29,
   "metadata": {},
   "outputs": [
    {
     "data": {
      "text/plain": [
       "12.56"
      ]
     },
     "execution_count": 29,
     "metadata": {},
     "output_type": "execute_result"
    }
   ],
   "source": [
    "A2.P()"
   ]
  },
  {
   "cell_type": "code",
   "execution_count": 23,
   "metadata": {},
   "outputs": [],
   "source": [
    "class rect(shape):\n",
    "    name = 'rectangle'\n",
    "    def __init__(self,x,y):\n",
    "        self.x=x\n",
    "        self.y=y\n",
    "    def P(self):\n",
    "        return(2*(self.x+self.y))"
   ]
  },
  {
   "cell_type": "code",
   "execution_count": 30,
   "metadata": {},
   "outputs": [
    {
     "data": {
      "text/plain": [
       "10"
      ]
     },
     "execution_count": 30,
     "metadata": {},
     "output_type": "execute_result"
    }
   ],
   "source": [
    "A3 = rect(2,3)\n",
    "A3.P()"
   ]
  },
  {
   "cell_type": "code",
   "execution_count": 50,
   "metadata": {},
   "outputs": [],
   "source": [
    "from numpy import array\n",
    "class student():\n",
    "    scores=None\n",
    "    def __init__(self,name,id):\n",
    "        self.Name=name\n",
    "        self.ID=id\n",
    "    def set_scores(self,scores):\n",
    "        self.scores=array(scores)\n",
    "    def get_scores(self):\n",
    "        if self.scores is not None:\n",
    "            print(self.scores)\n",
    "        else:\n",
    "            print('Please set scores first.')\n",
    "    def info(self):\n",
    "        print('Name:',self.Name,'\\nID:',self.ID)\n",
    "       "
   ]
  },
  {
   "cell_type": "code",
   "execution_count": 51,
   "metadata": {},
   "outputs": [],
   "source": [
    "S1 = student('Ali',967548)"
   ]
  },
  {
   "cell_type": "code",
   "execution_count": 52,
   "metadata": {},
   "outputs": [],
   "source": [
    "S1.set_scores([13,15,13])"
   ]
  },
  {
   "cell_type": "code",
   "execution_count": 53,
   "metadata": {},
   "outputs": [
    {
     "name": "stdout",
     "output_type": "stream",
     "text": [
      "[13 15 13]\n"
     ]
    }
   ],
   "source": [
    "S1.get_scores()"
   ]
  },
  {
   "cell_type": "code",
   "execution_count": 54,
   "metadata": {},
   "outputs": [
    {
     "name": "stdout",
     "output_type": "stream",
     "text": [
      "Name: Ali \n",
      "ID: 967548\n"
     ]
    }
   ],
   "source": [
    "S1.info()"
   ]
  },
  {
   "cell_type": "code",
   "execution_count": 44,
   "metadata": {},
   "outputs": [],
   "source": [
    "class BS_student(student):\n",
    "    def set_major(self,m):\n",
    "        self.major=m\n",
    "    def info(self):\n",
    "        if self.scores is not None:\n",
    "            x1= self.scores.mean()\n",
    "            x2= sum(self.scores>=10)\n",
    "            x3= len(self.scores)\n",
    "            x4= self.scores[self.scores>=10].mean()\n",
    "            print('Name:',self.Name,'\\nID:',self.ID,'\\nMajor:',self.major,\n",
    "              '\\nTotal Ave.:',x1,'\\nNum. of pass:',\n",
    "              x2,'\\nNum. of courses:',x3,'\\nPassed courses Ave.:',x4)\n",
    "        else:\n",
    "            print('Name:',self.Name,' ID:',self.ID)"
   ]
  },
  {
   "cell_type": "code",
   "execution_count": 55,
   "metadata": {},
   "outputs": [],
   "source": [
    "class MA_student(student):\n",
    "    def set_major(self,m):\n",
    "        self.major=m\n",
    "    def info(self):\n",
    "        if self.scores is not None:\n",
    "            x1= self.scores.mean()\n",
    "            x2= sum(self.scores>=12)\n",
    "            x3= len(self.scores)\n",
    "            x4= self.scores[self.scores>=12].mean()\n",
    "            print('Name:',self.Name,'\\nID:',self.ID,'\\nMajor:',self.major,\n",
    "              '\\nTotal Ave.:',x1,'\\nNum. of pass:',\n",
    "              x2,'\\nNum. of courses:',x3,'\\nPassed courses Ave.:',x4)\n",
    "        else:\n",
    "            print('Name:',self.Name,' ID:',self.ID)"
   ]
  },
  {
   "cell_type": "code",
   "execution_count": 57,
   "metadata": {},
   "outputs": [
    {
     "name": "stdout",
     "output_type": "stream",
     "text": [
      "Name: Ahmad \n",
      "ID: 9957461 \n",
      "Major: Computer \n",
      "Total Ave.: 13.0 \n",
      "Num. of pass: 5 \n",
      "Num. of courses: 7 \n",
      "Passed courses Ave.: 14.8\n"
     ]
    }
   ],
   "source": [
    "S2 = BS_student('Ahmad',9957461)\n",
    "S2.set_major('Computer')\n",
    "S2.set_scores([16,12,10,19,8,17,9])\n",
    "S2.info()"
   ]
  },
  {
   "cell_type": "code",
   "execution_count": 58,
   "metadata": {},
   "outputs": [
    {
     "name": "stdout",
     "output_type": "stream",
     "text": [
      "Name: Mohammad \n",
      "ID: 9961461 \n",
      "Major: Computer \n",
      "Total Ave.: 13.0 \n",
      "Num. of pass: 4 \n",
      "Num. of courses: 7 \n",
      "Passed courses Ave.: 16.0\n"
     ]
    }
   ],
   "source": [
    "S3 = MA_student('Mohammad',9961461)\n",
    "S3.set_major('Computer')\n",
    "S3.set_scores([16,12,10,19,8,17,9])\n",
    "S3.info()"
   ]
  },
  {
   "cell_type": "code",
   "execution_count": null,
   "metadata": {},
   "outputs": [],
   "source": []
  }
 ],
 "metadata": {
  "kernelspec": {
   "display_name": "Python 3",
   "language": "python",
   "name": "python3"
  },
  "language_info": {
   "codemirror_mode": {
    "name": "ipython",
    "version": 3
   },
   "file_extension": ".py",
   "mimetype": "text/x-python",
   "name": "python",
   "nbconvert_exporter": "python",
   "pygments_lexer": "ipython3",
   "version": "3.7.6"
  }
 },
 "nbformat": 4,
 "nbformat_minor": 4
}
