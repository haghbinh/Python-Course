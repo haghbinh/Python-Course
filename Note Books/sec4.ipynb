{
 "cells": [
  {
   "cell_type": "markdown",
   "metadata": {
    "collapsed": true
   },
   "source": [
    "# جلسه چهارم: کنترل جریان"
   ]
  },
  {
   "cell_type": "markdown",
   "metadata": {},
   "source": [
    "## عبارات شرطی"
   ]
  },
  {
   "cell_type": "markdown",
   "metadata": {},
   "source": [
    "یک عبارت بولی عبارتی است که \n",
    "\n",
    "True = درسـت\n",
    "\n",
    "یـا \n",
    "\n",
    "False = نادرسـت\n",
    "\n",
    "اسـت. در پـایتون عبارتی که درست است مقدار  1 و عبارتی که نادرست است مقدار  0 را دارا است"
   ]
  },
  {
   "cell_type": "code",
   "execution_count": 3,
   "metadata": {},
   "outputs": [
    {
     "data": {
      "text/plain": [
       "True"
      ]
     },
     "execution_count": 3,
     "metadata": {},
     "output_type": "execute_result"
    }
   ],
   "source": [
    "x = 5\n",
    "x == 5"
   ]
  },
  {
   "cell_type": "markdown",
   "metadata": {},
   "source": [
    ":عملگر == یکی از عملگرهاي مقایسهاي است. دیگر عملگرهاي مقایسهاي عبارتند از\n",
    "\n",
    "x != y  :  نابرابری\n",
    "\n",
    "x > y یا  x <y \n",
    "\n",
    "x >=y\n",
    "\n",
    "x<= y"
   ]
  },
  {
   "cell_type": "markdown",
   "metadata": {},
   "source": [
    "## عملگرهاي منطقی"
   ]
  },
  {
   "cell_type": "markdown",
   "metadata": {},
   "source": [
    "در پایتون سه عملگر منطقی وجود دارد\n",
    "\n",
    "and, or, not."
   ]
  },
  {
   "cell_type": "code",
   "execution_count": 9,
   "metadata": {},
   "outputs": [
    {
     "data": {
      "text/plain": [
       "True"
      ]
     },
     "execution_count": 9,
     "metadata": {},
     "output_type": "execute_result"
    }
   ],
   "source": [
    "x = 24\n",
    "(x % 3 == 0) and (x >= 10)"
   ]
  },
  {
   "cell_type": "code",
   "execution_count": 2,
   "metadata": {},
   "outputs": [
    {
     "data": {
      "text/plain": [
       "True"
      ]
     },
     "execution_count": 2,
     "metadata": {},
     "output_type": "execute_result"
    }
   ],
   "source": [
    "x=4\n",
    "0 < x and x <= 5"
   ]
  },
  {
   "cell_type": "code",
   "execution_count": 3,
   "metadata": {},
   "outputs": [
    {
     "data": {
      "text/plain": [
       "True"
      ]
     },
     "execution_count": 3,
     "metadata": {},
     "output_type": "execute_result"
    }
   ],
   "source": [
    "x = 4\n",
    "0 < x <= 5"
   ]
  },
  {
   "cell_type": "markdown",
   "metadata": {},
   "source": [
    "## دستورات شرطی "
   ]
  },
  {
   "cell_type": "code",
   "execution_count": 10,
   "metadata": {},
   "outputs": [
    {
     "name": "stdout",
     "output_type": "stream",
     "text": [
      "x is positive.\n"
     ]
    }
   ],
   "source": [
    "def f(x):\n",
    "    if x>0:\n",
    "        print(\"x is positive.\")\n",
    "f(2)"
   ]
  },
  {
   "cell_type": "code",
   "execution_count": 11,
   "metadata": {
    "collapsed": true
   },
   "outputs": [],
   "source": [
    "f(-1)"
   ]
  },
  {
   "cell_type": "code",
   "execution_count": 13,
   "metadata": {},
   "outputs": [
    {
     "name": "stdout",
     "output_type": "stream",
     "text": [
      "x is negative.\n"
     ]
    }
   ],
   "source": [
    "def f(x):\n",
    "    if x>0:\n",
    "        print(\"x is positive.\")\n",
    "    else:\n",
    "        print(\"x is negative.\")      \n",
    "f(-22)"
   ]
  },
  {
   "cell_type": "markdown",
   "metadata": {
    "collapsed": true
   },
   "source": [
    "## دستورات شرطی زنجیرهاي"
   ]
  },
  {
   "cell_type": "code",
   "execution_count": 1,
   "metadata": {},
   "outputs": [
    {
     "name": "stdout",
     "output_type": "stream",
     "text": [
      "5 is less than 7\n"
     ]
    }
   ],
   "source": [
    "def compare(x,y):\n",
    "    if x < y:\n",
    "        print (x, \"is less than\", y)\n",
    "    elif x > y:\n",
    "        print (x, \"is greater than\", y)\n",
    "    else:\n",
    "        print (x, \"and\", y, \"are equal\")\n",
    "        \n",
    "\n",
    "compare(5,7)"
   ]
  },
  {
   "cell_type": "code",
   "execution_count": 10,
   "metadata": {},
   "outputs": [
    {
     "data": {
      "text/plain": [
       "3"
      ]
     },
     "execution_count": 10,
     "metadata": {},
     "output_type": "execute_result"
    }
   ],
   "source": [
    "def f(x):\n",
    "    if 0 < x <= 5:\n",
    "        y = 2*x-1\n",
    "    elif 5 < x <= 8:\n",
    "        y = x ** 3\n",
    "    elif 8 <= x < 10:\n",
    "        y = x-4\n",
    "    else:\n",
    "        y=x+3\n",
    "    return y\n",
    "f(4)\n",
    "x\n"
   ]
  },
  {
   "cell_type": "markdown",
   "metadata": {},
   "source": [
    "## حلقه های تکرار\n",
    "While"
   ]
  },
  {
   "cell_type": "code",
   "execution_count": 13,
   "metadata": {},
   "outputs": [
    {
     "name": "stdout",
     "output_type": "stream",
     "text": [
      "3\n",
      "Salam!\n",
      "2\n",
      "Salam!\n",
      "1\n",
      "Salam!\n"
     ]
    }
   ],
   "source": [
    "def salam(n):\n",
    "    while n > 0:\n",
    "        print (n)\n",
    "        n -=1\n",
    "        print (\"Salam!\")\n",
    "\n",
    "salam(3)"
   ]
  },
  {
   "cell_type": "markdown",
   "metadata": {},
   "source": [
    "### for حلقه"
   ]
  },
  {
   "cell_type": "markdown",
   "metadata": {},
   "source": [
    "در این درس از این حلقه به شکل مقدماتی استفاده خواهد بخ و بعد از دزس لیست ها شکل های کامل تر آن را خواهیم دید."
   ]
  },
  {
   "cell_type": "code",
   "execution_count": 3,
   "metadata": {},
   "outputs": [
    {
     "name": "stdout",
     "output_type": "stream",
     "text": [
      "1\n",
      "2\n",
      "3\n",
      "4\n",
      "5\n",
      "6\n",
      "7\n",
      "8\n",
      "9\n"
     ]
    }
   ],
   "source": [
    "for i in range(1,10):\n",
    "    print(i)\n"
   ]
  },
  {
   "cell_type": "markdown",
   "metadata": {},
   "source": [
    "## جدول ها"
   ]
  },
  {
   "cell_type": "markdown",
   "metadata": {},
   "source": [
    "یکی از کاربردهاي حلقه ها در جدولبندي داده ها است. "
   ]
  },
  {
   "cell_type": "code",
   "execution_count": 15,
   "metadata": {},
   "outputs": [
    {
     "name": "stdout",
     "output_type": "stream",
     "text": [
      "1.0 \t 0.0\n",
      "2.0 \t 0.6931471805599453\n",
      "3.0 \t 1.0986122886681098\n",
      "4.0 \t 1.3862943611198906\n",
      "5.0 \t 1.6094379124341003\n",
      "6.0 \t 1.791759469228055\n",
      "7.0 \t 1.9459101490553132\n",
      "8.0 \t 2.0794415416798357\n",
      "9.0 \t 2.1972245773362196\n"
     ]
    }
   ],
   "source": [
    "import math\n",
    "x = 1.0\n",
    "while x < 10.0:\n",
    "    print (x, '\\t', math.log(x))\n",
    "    x += 1.0\n"
   ]
  },
  {
   "cell_type": "markdown",
   "metadata": {},
   "source": [
    "#### جدول ضرب"
   ]
  },
  {
   "cell_type": "code",
   "execution_count": 14,
   "metadata": {},
   "outputs": [
    {
     "name": "stdout",
     "output_type": "stream",
     "text": [
      "3     6     9     12     15     18     21     24     27     30     \n"
     ]
    }
   ],
   "source": [
    "def printMultiples(n):\n",
    "    i = 1\n",
    "    while i <= 10:\n",
    "        print (n*i, '   ',end=' ')\n",
    "        i += 1\n",
    "    print(\"\")\n",
    "\n",
    "printMultiples(3)"
   ]
  },
  {
   "cell_type": "code",
   "execution_count": 17,
   "metadata": {},
   "outputs": [
    {
     "name": "stdout",
     "output_type": "stream",
     "text": [
      "5     10     15     20     25     30     35     40     45     50     \n",
      "6     12     18     24     30     36     42     48     54     60     \n",
      "7     14     21     28     35     42     49     56     63     70     \n",
      "8     16     24     32     40     48     56     64     72     80     \n",
      "9     18     27     36     45     54     63     72     81     90     \n"
     ]
    }
   ],
   "source": [
    "for n in range(5,10):\n",
    "    printMultiples(n)"
   ]
  },
  {
   "cell_type": "code",
   "execution_count": null,
   "metadata": {
    "collapsed": true
   },
   "outputs": [],
   "source": []
  }
 ],
 "metadata": {
  "kernelspec": {
   "display_name": "Python 3",
   "language": "python",
   "name": "python3"
  },
  "language_info": {
   "codemirror_mode": {
    "name": "ipython",
    "version": 3
   },
   "file_extension": ".py",
   "mimetype": "text/x-python",
   "name": "python",
   "nbconvert_exporter": "python",
   "pygments_lexer": "ipython3",
   "version": "3.6.3"
  }
 },
 "nbformat": 4,
 "nbformat_minor": 2
}
