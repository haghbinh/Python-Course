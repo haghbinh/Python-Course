{
 "cells": [
  {
   "cell_type": "markdown",
   "id": "48d5592a",
   "metadata": {},
   "source": [
    "# ASSIGNING VALUE TO A VARIABLE"
   ]
  },
  {
   "cell_type": "code",
   "execution_count": 1,
   "id": "f49fff33",
   "metadata": {},
   "outputs": [],
   "source": [
    "Z = 1"
   ]
  },
  {
   "cell_type": "code",
   "execution_count": 2,
   "id": "725e3032",
   "metadata": {},
   "outputs": [],
   "source": [
    "radius = 5\n",
    "R = radius + Z\n",
    "E =(5 + 10 * (10 + 5))"
   ]
  },
  {
   "cell_type": "code",
   "execution_count": 3,
   "id": "f823d9ee",
   "metadata": {},
   "outputs": [],
   "source": [
    "P = Q = R = 100"
   ]
  },
  {
   "cell_type": "code",
   "execution_count": 4,
   "id": "33bc8814",
   "metadata": {},
   "outputs": [],
   "source": [
    "P, Q = 2,3"
   ]
  },
  {
   "cell_type": "code",
   "execution_count": 5,
   "id": "6d132fd4",
   "metadata": {},
   "outputs": [],
   "source": [
    "P, Q = Q,P"
   ]
  },
  {
   "cell_type": "markdown",
   "id": "f426f06b",
   "metadata": {},
   "source": [
    "# WRITING SIMPLE PROGRAMS IN PYTHON"
   ]
  },
  {
   "cell_type": "markdown",
   "id": "f1a26fbb",
   "metadata": {},
   "source": [
    "### Algorithm to Calculate the Area of a Rectangle"
   ]
  },
  {
   "cell_type": "code",
   "execution_count": 8,
   "id": "54504f91",
   "metadata": {},
   "outputs": [
    {
     "name": "stdout",
     "output_type": "stream",
     "text": [
      "Length =  10 Breadth = 20\n",
      "Area of Rectangle is = 200\n"
     ]
    }
   ],
   "source": [
    "length = 10\n",
    "breadth = 20\n",
    "print('Length = ',length, 'Breadth =' ,breadth)\n",
    "area = length * breadth\n",
    "print( 'Area of Rectangle is =' ,area)"
   ]
  },
  {
   "cell_type": "markdown",
   "id": "99b44d79",
   "metadata": {},
   "source": [
    "# THE input() FUNCTION"
   ]
  },
  {
   "cell_type": "code",
   "execution_count": 9,
   "id": "873f270d",
   "metadata": {},
   "outputs": [
    {
     "name": "stdout",
     "output_type": "stream",
     "text": [
      "Please Enter the Number:23\n",
      "Entered Number is: 23\n",
      "<class 'str'>\n"
     ]
    }
   ],
   "source": [
    "X = input('Please Enter the Number:')\n",
    "print('Entered Number is:',X)\n",
    "print(type(X))"
   ]
  },
  {
   "cell_type": "code",
   "execution_count": 11,
   "id": "9eb6cda1",
   "metadata": {},
   "outputs": [
    {
     "name": "stdout",
     "output_type": "stream",
     "text": [
      "Please Enter Number:24\n",
      "<class 'int'>\n"
     ]
    }
   ],
   "source": [
    "Num1 = int(input('Please Enter Number:'))\n",
    "print(type(Num1))"
   ]
  },
  {
   "cell_type": "code",
   "execution_count": 12,
   "id": "df061bf5",
   "metadata": {},
   "outputs": [
    {
     "name": "stdout",
     "output_type": "stream",
     "text": [
      " Enter Length of Rectangle: 23\n",
      "Enter Breadth of Rectangle: 12\n",
      "-----Details of Rectangle------\n",
      "Area of rectangle is : 276\n"
     ]
    }
   ],
   "source": [
    "Length = int(input(' Enter Length of Rectangle: ' )) #Read Length of Rectangle\n",
    "Breadth = int(input('Enter Breadth of Rectangle: ')) #Read Breadth of Rectangle\n",
    "Area = Length * Breadth #Compute Area of Rectangle\n",
    "print('-----Details of Rectangle------')\n",
    "print( 'Area of rectangle is :',Area)"
   ]
  },
  {
   "cell_type": "markdown",
   "id": "8dfebb71",
   "metadata": {},
   "source": [
    "# THE eval() FUNCTION"
   ]
  },
  {
   "cell_type": "markdown",
   "id": "50b40785",
   "metadata": {},
   "source": [
    "The full form of eval function is to evaluate. It takes a string as parameter and returns it as if it\n",
    "is a Python expression. "
   ]
  },
  {
   "cell_type": "code",
   "execution_count": 13,
   "id": "357d2600",
   "metadata": {},
   "outputs": [
    {
     "name": "stdout",
     "output_type": "stream",
     "text": [
      "Hello\n"
     ]
    }
   ],
   "source": [
    "eval('print(\"Hello\")')"
   ]
  },
  {
   "cell_type": "code",
   "execution_count": 14,
   "id": "ee4d0355",
   "metadata": {},
   "outputs": [
    {
     "data": {
      "text/plain": [
       "123"
      ]
     },
     "execution_count": 14,
     "metadata": {},
     "output_type": "execute_result"
    }
   ],
   "source": [
    "X = eval('123')\n",
    "X"
   ]
  },
  {
   "cell_type": "markdown",
   "id": "69201b63",
   "metadata": {},
   "source": [
    "### Apply eval() to input() Function"
   ]
  },
  {
   "cell_type": "markdown",
   "id": "b74603b8",
   "metadata": {},
   "source": [
    "By making use of eval() function, we can avoid specifying a particular type in front of input()\n",
    "function."
   ]
  },
  {
   "cell_type": "code",
   "execution_count": 20,
   "id": "6ca1432d",
   "metadata": {},
   "outputs": [
    {
     "name": "stdout",
     "output_type": "stream",
     "text": [
      "Enter the Number: 35\n",
      "<class 'int'>\n"
     ]
    }
   ],
   "source": [
    "X = eval(input('Enter the Number: '))\n",
    "print(type(X))"
   ]
  },
  {
   "cell_type": "markdown",
   "id": "d674c009",
   "metadata": {},
   "source": [
    "# FORMATTING NUMBER AND STRINGS"
   ]
  },
  {
   "cell_type": "code",
   "execution_count": 2,
   "id": "13eb0629",
   "metadata": {},
   "outputs": [
    {
     "name": "stdout",
     "output_type": "stream",
     "text": [
      "Please Enter the Radius of Circle:2\n",
      "Radius = 2\n",
      "Area of Circle is: 12.5712\n"
     ]
    }
   ],
   "source": [
    "radius = eval(input('Please Enter the Radius of Circle:' ))\n",
    "print('Radius =', radius)\n",
    "PI = 3.1428\n",
    "Area = PI * radius * radius\n",
    "print('Area of Circle is:',Area)"
   ]
  },
  {
   "cell_type": "code",
   "execution_count": 16,
   "id": "e6a78af2",
   "metadata": {},
   "outputs": [
    {
     "name": "stdout",
     "output_type": "stream",
     "text": [
      "Please Enter number of womans:8\n",
      "Please Enter total number:15\n",
      "Frequency of Womans is: 53%\n"
     ]
    }
   ],
   "source": [
    "woman = eval(input('Please Enter number of womans:' ))\n",
    "N = eval(input('Please Enter total number:' ))\n",
    "f = woman/N\n",
    "# print('Frequency of Womans is:',round(f*100,2),'%')\n",
    "print('Frequency of Womans is:',format(f,'0.0%'))"
   ]
  },
  {
   "cell_type": "markdown",
   "id": "b3d6c0f7",
   "metadata": {},
   "source": [
    "### Formatting as a Percentage"
   ]
  },
  {
   "cell_type": "code",
   "execution_count": 25,
   "id": "73867510",
   "metadata": {},
   "outputs": [
    {
     "name": "stdout",
     "output_type": "stream",
     "text": [
      "    31.46%\n"
     ]
    }
   ],
   "source": [
    "print(format(0.31456,\"10.2%\"))"
   ]
  },
  {
   "cell_type": "code",
   "execution_count": 26,
   "id": "912454d1",
   "metadata": {},
   "outputs": [
    {
     "name": "stdout",
     "output_type": "stream",
     "text": [
      "   176.50%\n"
     ]
    }
   ],
   "source": [
    "print(format(1.765,\"10.2%\"))"
   ]
  },
  {
   "cell_type": "code",
   "execution_count": 12,
   "id": "976a8c8e",
   "metadata": {},
   "outputs": [
    {
     "name": "stdout",
     "output_type": "stream",
     "text": [
      "My name is Ali and I am 23 years old.\n"
     ]
    }
   ],
   "source": [
    "Name = 'Ali'\n",
    "age = 23\n",
    "print('My name is {} and I am {} years old.'.format(Name,age))"
   ]
  },
  {
   "cell_type": "code",
   "execution_count": 7,
   "id": "ca7cfb59",
   "metadata": {},
   "outputs": [
    {
     "name": "stdout",
     "output_type": "stream",
     "text": [
      "My name is Ali and I am 23 years old.\n"
     ]
    }
   ],
   "source": [
    "Name = 'Ali'\n",
    "age = 23\n",
    "print(f'My name is {Name} and I am {age} years old.')"
   ]
  },
  {
   "cell_type": "markdown",
   "id": "2926996e",
   "metadata": {},
   "source": [
    "## حلقه ها"
   ]
  },
  {
   "cell_type": "markdown",
   "id": "ad3dc4c2",
   "metadata": {},
   "source": [
    "### for loop"
   ]
  },
  {
   "cell_type": "code",
   "execution_count": 17,
   "id": "a21567b1",
   "metadata": {},
   "outputs": [
    {
     "name": "stdout",
     "output_type": "stream",
     "text": [
      "0\n",
      "1\n",
      "2\n",
      "3\n",
      "4\n"
     ]
    }
   ],
   "source": [
    "for i in range(5):\n",
    "    print(i)"
   ]
  },
  {
   "cell_type": "code",
   "execution_count": 18,
   "id": "9c41aae2",
   "metadata": {},
   "outputs": [
    {
     "name": "stdout",
     "output_type": "stream",
     "text": [
      "5\n",
      "6\n",
      "7\n",
      "8\n",
      "9\n"
     ]
    }
   ],
   "source": [
    "for i in range(5,10):\n",
    "    print(i)"
   ]
  },
  {
   "cell_type": "code",
   "execution_count": 19,
   "id": "afff78e8",
   "metadata": {},
   "outputs": [
    {
     "name": "stdout",
     "output_type": "stream",
     "text": [
      "5\n",
      "8\n",
      "11\n",
      "14\n",
      "17\n"
     ]
    }
   ],
   "source": [
    "for i in range(5,20,3):\n",
    "    print(i)"
   ]
  },
  {
   "cell_type": "code",
   "execution_count": null,
   "id": "4f0a2293",
   "metadata": {},
   "outputs": [],
   "source": []
  }
 ],
 "metadata": {
  "kernelspec": {
   "display_name": "Python 3 (ipykernel)",
   "language": "python",
   "name": "python3"
  },
  "language_info": {
   "codemirror_mode": {
    "name": "ipython",
    "version": 3
   },
   "file_extension": ".py",
   "mimetype": "text/x-python",
   "name": "python",
   "nbconvert_exporter": "python",
   "pygments_lexer": "ipython3",
   "version": "3.10.2"
  }
 },
 "nbformat": 4,
 "nbformat_minor": 5
}
