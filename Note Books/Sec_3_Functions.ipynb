{
 "cells": [
  {
   "cell_type": "markdown",
   "id": "787c5ae7",
   "metadata": {},
   "source": [
    "# Functions  -  توابع"
   ]
  },
  {
   "cell_type": "raw",
   "id": "59ec23bd",
   "metadata": {},
   "source": [
    "# definition of a function:\n",
    "\n",
    "def namefun(arg1,arg2):\n",
    "    statment 1\n",
    "    statment 2\n",
    "    ...\n"
   ]
  },
  {
   "cell_type": "code",
   "execution_count": 2,
   "id": "c57cf80c",
   "metadata": {},
   "outputs": [],
   "source": [
    "# تعریف تابع\n",
    "def display():\n",
    "    print(\"Wellcome to Python programming.\")"
   ]
  },
  {
   "cell_type": "code",
   "execution_count": 4,
   "id": "0ddd8029",
   "metadata": {},
   "outputs": [
    {
     "name": "stdout",
     "output_type": "stream",
     "text": [
      "Wellcome to Python programming.\n"
     ]
    }
   ],
   "source": [
    "# صدا زدن تابع call\n",
    "display()"
   ]
  },
  {
   "cell_type": "code",
   "execution_count": 12,
   "id": "336fdca9",
   "metadata": {},
   "outputs": [
    {
     "name": "stdout",
     "output_type": "stream",
     "text": [
      "Please enter your name:Hossein\n",
      "Dear Hossein wellcome to Python programming.\n"
     ]
    }
   ],
   "source": [
    "def print_msg():\n",
    "    x = input(\"Please enter your name:\")\n",
    "    print(\"Dear\",x,\"wellcome to Python programming.\")\n",
    "\n",
    "print_msg()"
   ]
  },
  {
   "cell_type": "code",
   "execution_count": 13,
   "id": "c63b2dd9",
   "metadata": {},
   "outputs": [
    {
     "name": "stdout",
     "output_type": "stream",
     "text": [
      "Dear Hossein wellcome to Python programming.\n"
     ]
    }
   ],
   "source": [
    "def print_msg(x):\n",
    "    print(\"Dear\",x,\"wellcome to Python programming.\")\n",
    "\n",
    "print_msg(\"Hossein\")"
   ]
  },
  {
   "cell_type": "markdown",
   "id": "0f11aca1",
   "metadata": {},
   "source": [
    "**Example 1**: Write a program to add the sum of digits from 1 to 25, 50 to 76 and 90 to 101 using three different for loops."
   ]
  },
  {
   "cell_type": "code",
   "execution_count": 17,
   "id": "b7382346",
   "metadata": {},
   "outputs": [
    {
     "name": "stdout",
     "output_type": "stream",
     "text": [
      "sum of 1-25: 325\n",
      "sum of 50-76: 1701\n",
      "sum of 90-101: 1146\n"
     ]
    }
   ],
   "source": [
    "m = 0\n",
    "for i in range(1,26):\n",
    "    m = m+i\n",
    "print(\"sum of 1-25:\",m)\n",
    "\n",
    "#________________\n",
    "m = 0\n",
    "for i in range(50,77):\n",
    "    m = m+i\n",
    "print(\"sum of 50-76:\",m)\n",
    "\n",
    "\n",
    "#________________\n",
    "m = 0\n",
    "for i in range(90,102):\n",
    "    m = m+i\n",
    "print(\"sum of 90-101:\",m)"
   ]
  },
  {
   "cell_type": "code",
   "execution_count": 18,
   "id": "597c23c9",
   "metadata": {},
   "outputs": [],
   "source": [
    "def sum_ab(a,b):\n",
    "    m = 0\n",
    "    for i in range(a,b+1):\n",
    "        m = m+i\n",
    "    print(\"sum of\",a,\"-\",b,\":\",m)"
   ]
  },
  {
   "cell_type": "code",
   "execution_count": 21,
   "id": "b2c83530",
   "metadata": {},
   "outputs": [
    {
     "name": "stdout",
     "output_type": "stream",
     "text": [
      "sum of 1 - 25 : 325\n",
      "sum of 50 - 76 : 1701\n",
      "sum of 90 - 101 : 1146\n"
     ]
    }
   ],
   "source": [
    "sum_ab(1,25)\n",
    "sum_ab(50,76)\n",
    "sum_ab(90,101)"
   ]
  },
  {
   "cell_type": "markdown",
   "id": "585b4a6f",
   "metadata": {},
   "source": [
    "**Problem 1:** Write a function to find the maximum of two numbers."
   ]
  },
  {
   "cell_type": "raw",
   "id": "c2f1c823",
   "metadata": {},
   "source": [
    "def max_ab(a,b):\n",
    "    ????\n",
    "\n",
    "خروجی:\n",
    "max_ab(3,6)\n",
    "6"
   ]
  },
  {
   "cell_type": "markdown",
   "id": "1caa6898",
   "metadata": {},
   "source": [
    "### Positional arguments"
   ]
  },
  {
   "cell_type": "code",
   "execution_count": 26,
   "id": "3fc51bc9",
   "metadata": {},
   "outputs": [],
   "source": [
    "def Display(x,y):\n",
    "    print(\"Name=\",x,\"\\nAge=\",y)"
   ]
  },
  {
   "cell_type": "code",
   "execution_count": 28,
   "id": "999e6df6",
   "metadata": {},
   "outputs": [
    {
     "name": "stdout",
     "output_type": "stream",
     "text": [
      "Name= Hossein \n",
      "Age= 40\n"
     ]
    }
   ],
   "source": [
    "Display(\"Hossein\",40)"
   ]
  },
  {
   "cell_type": "code",
   "execution_count": 29,
   "id": "a438b6e9",
   "metadata": {},
   "outputs": [
    {
     "name": "stdout",
     "output_type": "stream",
     "text": [
      "Name= 40 \n",
      "Age= Hossein\n"
     ]
    }
   ],
   "source": [
    "Display(40,\"Hossein\")"
   ]
  },
  {
   "cell_type": "code",
   "execution_count": 30,
   "id": "c79c044b",
   "metadata": {},
   "outputs": [
    {
     "name": "stdout",
     "output_type": "stream",
     "text": [
      "Name= Hossein \n",
      "Age= 40\n"
     ]
    }
   ],
   "source": [
    "Display(y=40,x=\"Hossein\")"
   ]
  },
  {
   "cell_type": "markdown",
   "id": "b60e9461",
   "metadata": {},
   "source": [
    "### Arguments with defult values"
   ]
  },
  {
   "cell_type": "code",
   "execution_count": 31,
   "id": "1544425e",
   "metadata": {},
   "outputs": [],
   "source": [
    "def greet(name,msg):\n",
    "    print(\"Hello\",name,msg)"
   ]
  },
  {
   "cell_type": "code",
   "execution_count": 32,
   "id": "9d1ba0e9",
   "metadata": {},
   "outputs": [
    {
     "name": "stdout",
     "output_type": "stream",
     "text": [
      "Hello Hossein Wellcome to python programming.\n"
     ]
    }
   ],
   "source": [
    "greet(\"Hossein\",\"Wellcome to python programming.\")"
   ]
  },
  {
   "cell_type": "code",
   "execution_count": 33,
   "id": "a80b9fe9",
   "metadata": {},
   "outputs": [
    {
     "ename": "TypeError",
     "evalue": "greet() missing 1 required positional argument: 'msg'",
     "output_type": "error",
     "traceback": [
      "\u001b[1;31m---------------------------------------------------------------------------\u001b[0m",
      "\u001b[1;31mTypeError\u001b[0m                                 Traceback (most recent call last)",
      "Input \u001b[1;32mIn [33]\u001b[0m, in \u001b[0;36m<module>\u001b[1;34m\u001b[0m\n\u001b[1;32m----> 1\u001b[0m \u001b[43mgreet\u001b[49m\u001b[43m(\u001b[49m\u001b[38;5;124;43m\"\u001b[39;49m\u001b[38;5;124;43mHossein\u001b[39;49m\u001b[38;5;124;43m\"\u001b[39;49m\u001b[43m)\u001b[49m\n",
      "\u001b[1;31mTypeError\u001b[0m: greet() missing 1 required positional argument: 'msg'"
     ]
    }
   ],
   "source": [
    "greet(\"Hossein\")"
   ]
  },
  {
   "cell_type": "code",
   "execution_count": 34,
   "id": "dbc26567",
   "metadata": {},
   "outputs": [],
   "source": [
    "def greet(name,msg=\"Wellcome to python programming.\"):\n",
    "    print(\"Hello\",name,msg)"
   ]
  },
  {
   "cell_type": "code",
   "execution_count": 35,
   "id": "09952b68",
   "metadata": {},
   "outputs": [
    {
     "name": "stdout",
     "output_type": "stream",
     "text": [
      "Hello Hossein Wellcome to python programming.\n"
     ]
    }
   ],
   "source": [
    "greet(\"Hossein\")"
   ]
  },
  {
   "cell_type": "code",
   "execution_count": 36,
   "id": "7a5f5690",
   "metadata": {},
   "outputs": [
    {
     "name": "stdout",
     "output_type": "stream",
     "text": [
      "Hello Hossein How are you?\n"
     ]
    }
   ],
   "source": [
    "greet(\"Hossein\",\"How are you?\")"
   ]
  },
  {
   "cell_type": "markdown",
   "id": "a66c1e67",
   "metadata": {},
   "source": [
    "**Example 2:** برنامه محاسبه مساحت یک دایره"
   ]
  },
  {
   "cell_type": "code",
   "execution_count": 38,
   "id": "5536ca2c",
   "metadata": {},
   "outputs": [],
   "source": [
    "def area_circle(radius):\n",
    "    pi = 3.14\n",
    "    area = pi * radius**2\n",
    "    print(\"The area of the circle with radius\",radius,\"is\",area)"
   ]
  },
  {
   "cell_type": "code",
   "execution_count": 39,
   "id": "bf4f5662",
   "metadata": {},
   "outputs": [
    {
     "name": "stdout",
     "output_type": "stream",
     "text": [
      "The area of the circle with radius 1 is 3.14\n"
     ]
    }
   ],
   "source": [
    "area_circle(1)"
   ]
  },
  {
   "cell_type": "code",
   "execution_count": 41,
   "id": "81aec436",
   "metadata": {},
   "outputs": [
    {
     "ename": "TypeError",
     "evalue": "area_circle() missing 1 required positional argument: 'radius'",
     "output_type": "error",
     "traceback": [
      "\u001b[1;31m---------------------------------------------------------------------------\u001b[0m",
      "\u001b[1;31mTypeError\u001b[0m                                 Traceback (most recent call last)",
      "Input \u001b[1;32mIn [41]\u001b[0m, in \u001b[0;36m<module>\u001b[1;34m\u001b[0m\n\u001b[1;32m----> 1\u001b[0m \u001b[43marea_circle\u001b[49m\u001b[43m(\u001b[49m\u001b[43m)\u001b[49m\n",
      "\u001b[1;31mTypeError\u001b[0m: area_circle() missing 1 required positional argument: 'radius'"
     ]
    }
   ],
   "source": [
    "area_circle()"
   ]
  },
  {
   "cell_type": "code",
   "execution_count": 42,
   "id": "d8879774",
   "metadata": {},
   "outputs": [],
   "source": [
    "def area_circle(radius=1):\n",
    "    pi = 3.14\n",
    "    area = pi * radius**2\n",
    "    print(\"The area of the circle with radius\",radius,\"is\",area)"
   ]
  },
  {
   "cell_type": "code",
   "execution_count": 51,
   "id": "fd4d60e0",
   "metadata": {},
   "outputs": [
    {
     "name": "stdout",
     "output_type": "stream",
     "text": [
      "The area of the circle with radius 1 is 3.14\n"
     ]
    }
   ],
   "source": [
    "area_circle()"
   ]
  },
  {
   "cell_type": "markdown",
   "id": "10d2118a",
   "metadata": {},
   "source": [
    "### THE LOCAL AND GLOBAL VARIABLE"
   ]
  },
  {
   "cell_type": "code",
   "execution_count": 44,
   "id": "ba358fe3",
   "metadata": {},
   "outputs": [],
   "source": [
    "def Demo():\n",
    "    p=10\n",
    "    print(\"p=\",p)\n",
    "    print(\"q=\",q)"
   ]
  },
  {
   "cell_type": "code",
   "execution_count": 45,
   "id": "29a73ab2",
   "metadata": {},
   "outputs": [
    {
     "ename": "NameError",
     "evalue": "name 'q' is not defined",
     "output_type": "error",
     "traceback": [
      "\u001b[1;31m---------------------------------------------------------------------------\u001b[0m",
      "\u001b[1;31mNameError\u001b[0m                                 Traceback (most recent call last)",
      "Input \u001b[1;32mIn [45]\u001b[0m, in \u001b[0;36m<module>\u001b[1;34m\u001b[0m\n\u001b[1;32m----> 1\u001b[0m \u001b[43mq\u001b[49m\n",
      "\u001b[1;31mNameError\u001b[0m: name 'q' is not defined"
     ]
    }
   ],
   "source": [
    "q"
   ]
  },
  {
   "cell_type": "code",
   "execution_count": 46,
   "id": "d059ca68",
   "metadata": {},
   "outputs": [
    {
     "name": "stdout",
     "output_type": "stream",
     "text": [
      "p= 10\n"
     ]
    },
    {
     "ename": "NameError",
     "evalue": "name 'q' is not defined",
     "output_type": "error",
     "traceback": [
      "\u001b[1;31m---------------------------------------------------------------------------\u001b[0m",
      "\u001b[1;31mNameError\u001b[0m                                 Traceback (most recent call last)",
      "Input \u001b[1;32mIn [46]\u001b[0m, in \u001b[0;36m<module>\u001b[1;34m\u001b[0m\n\u001b[1;32m----> 1\u001b[0m \u001b[43mDemo\u001b[49m\u001b[43m(\u001b[49m\u001b[43m)\u001b[49m\n",
      "Input \u001b[1;32mIn [44]\u001b[0m, in \u001b[0;36mDemo\u001b[1;34m()\u001b[0m\n\u001b[0;32m      2\u001b[0m p\u001b[38;5;241m=\u001b[39m\u001b[38;5;241m10\u001b[39m\n\u001b[0;32m      3\u001b[0m \u001b[38;5;28mprint\u001b[39m(\u001b[38;5;124m\"\u001b[39m\u001b[38;5;124mp=\u001b[39m\u001b[38;5;124m\"\u001b[39m,p)\n\u001b[1;32m----> 4\u001b[0m \u001b[38;5;28mprint\u001b[39m(\u001b[38;5;124m\"\u001b[39m\u001b[38;5;124mq=\u001b[39m\u001b[38;5;124m\"\u001b[39m,\u001b[43mq\u001b[49m)\n",
      "\u001b[1;31mNameError\u001b[0m: name 'q' is not defined"
     ]
    }
   ],
   "source": [
    "Demo()"
   ]
  },
  {
   "cell_type": "code",
   "execution_count": 47,
   "id": "a2909915",
   "metadata": {},
   "outputs": [],
   "source": [
    "q = 3"
   ]
  },
  {
   "cell_type": "code",
   "execution_count": 48,
   "id": "495e9d70",
   "metadata": {},
   "outputs": [
    {
     "name": "stdout",
     "output_type": "stream",
     "text": [
      "p= 10\n",
      "q= 3\n"
     ]
    }
   ],
   "source": [
    "Demo()"
   ]
  },
  {
   "cell_type": "code",
   "execution_count": 49,
   "id": "99d97f9a",
   "metadata": {},
   "outputs": [
    {
     "ename": "NameError",
     "evalue": "name 'p' is not defined",
     "output_type": "error",
     "traceback": [
      "\u001b[1;31m---------------------------------------------------------------------------\u001b[0m",
      "\u001b[1;31mNameError\u001b[0m                                 Traceback (most recent call last)",
      "Input \u001b[1;32mIn [49]\u001b[0m, in \u001b[0;36m<module>\u001b[1;34m\u001b[0m\n\u001b[1;32m----> 1\u001b[0m \u001b[43mp\u001b[49m\n",
      "\u001b[1;31mNameError\u001b[0m: name 'p' is not defined"
     ]
    }
   ],
   "source": [
    "p"
   ]
  },
  {
   "cell_type": "code",
   "execution_count": 50,
   "id": "a36e64ec",
   "metadata": {},
   "outputs": [
    {
     "data": {
      "text/plain": [
       "3"
      ]
     },
     "execution_count": 50,
     "metadata": {},
     "output_type": "execute_result"
    }
   ],
   "source": [
    "q"
   ]
  },
  {
   "cell_type": "code",
   "execution_count": 52,
   "id": "2bce51a2",
   "metadata": {},
   "outputs": [],
   "source": [
    "def Demo():\n",
    "    p=10\n",
    "    q=5\n",
    "    print(\"p=\",p)\n",
    "    print(\"q=\",q)"
   ]
  },
  {
   "cell_type": "code",
   "execution_count": 53,
   "id": "5e10c3b1",
   "metadata": {},
   "outputs": [
    {
     "name": "stdout",
     "output_type": "stream",
     "text": [
      "p= 10\n",
      "q= 5\n"
     ]
    }
   ],
   "source": [
    "q = 3\n",
    "Demo()"
   ]
  },
  {
   "cell_type": "code",
   "execution_count": 54,
   "id": "acd29fc1",
   "metadata": {},
   "outputs": [
    {
     "data": {
      "text/plain": [
       "3"
      ]
     },
     "execution_count": 54,
     "metadata": {},
     "output_type": "execute_result"
    }
   ],
   "source": [
    "q"
   ]
  },
  {
   "cell_type": "code",
   "execution_count": 55,
   "id": "e7fbbf19",
   "metadata": {},
   "outputs": [
    {
     "ename": "NameError",
     "evalue": "name 'p' is not defined",
     "output_type": "error",
     "traceback": [
      "\u001b[1;31m---------------------------------------------------------------------------\u001b[0m",
      "\u001b[1;31mNameError\u001b[0m                                 Traceback (most recent call last)",
      "Input \u001b[1;32mIn [55]\u001b[0m, in \u001b[0;36m<module>\u001b[1;34m\u001b[0m\n\u001b[1;32m----> 1\u001b[0m \u001b[43mp\u001b[49m\n",
      "\u001b[1;31mNameError\u001b[0m: name 'p' is not defined"
     ]
    }
   ],
   "source": [
    "p"
   ]
  },
  {
   "cell_type": "code",
   "execution_count": 56,
   "id": "2a085a23",
   "metadata": {},
   "outputs": [],
   "source": [
    "def Demo():\n",
    "    global q\n",
    "    p=10\n",
    "    q=5\n",
    "    print(\"p=\",p)\n",
    "    print(\"q=\",q)"
   ]
  },
  {
   "cell_type": "code",
   "execution_count": 57,
   "id": "36030884",
   "metadata": {},
   "outputs": [
    {
     "data": {
      "text/plain": [
       "3"
      ]
     },
     "execution_count": 57,
     "metadata": {},
     "output_type": "execute_result"
    }
   ],
   "source": [
    "q"
   ]
  },
  {
   "cell_type": "code",
   "execution_count": 58,
   "id": "37863583",
   "metadata": {},
   "outputs": [
    {
     "name": "stdout",
     "output_type": "stream",
     "text": [
      "p= 10\n",
      "q= 5\n"
     ]
    }
   ],
   "source": [
    "Demo()"
   ]
  },
  {
   "cell_type": "code",
   "execution_count": 59,
   "id": "44c76928",
   "metadata": {},
   "outputs": [
    {
     "data": {
      "text/plain": [
       "5"
      ]
     },
     "execution_count": 59,
     "metadata": {},
     "output_type": "execute_result"
    }
   ],
   "source": [
    "q"
   ]
  },
  {
   "cell_type": "markdown",
   "id": "c6a610cc",
   "metadata": {},
   "source": [
    "### THE **return** STATEMENT"
   ]
  },
  {
   "cell_type": "code",
   "execution_count": 62,
   "id": "314c8429",
   "metadata": {},
   "outputs": [
    {
     "name": "stdout",
     "output_type": "stream",
     "text": [
      "9\n"
     ]
    }
   ],
   "source": [
    "def f(x):\n",
    "    y=x**2\n",
    "    print(y)\n",
    "\n",
    "f(3)"
   ]
  },
  {
   "cell_type": "code",
   "execution_count": 64,
   "id": "760e51d8",
   "metadata": {},
   "outputs": [
    {
     "name": "stdout",
     "output_type": "stream",
     "text": [
      "9\n"
     ]
    }
   ],
   "source": [
    "a = f(3)"
   ]
  },
  {
   "cell_type": "code",
   "execution_count": 65,
   "id": "eac79df6",
   "metadata": {},
   "outputs": [],
   "source": [
    "a"
   ]
  },
  {
   "cell_type": "code",
   "execution_count": 68,
   "id": "ce4e0ff2",
   "metadata": {},
   "outputs": [],
   "source": [
    "def f(x):\n",
    "    y=x**2\n",
    "    return y\n",
    "\n",
    "a = f(3)"
   ]
  },
  {
   "cell_type": "code",
   "execution_count": 67,
   "id": "f6411af1",
   "metadata": {},
   "outputs": [
    {
     "data": {
      "text/plain": [
       "9"
      ]
     },
     "execution_count": 67,
     "metadata": {},
     "output_type": "execute_result"
    }
   ],
   "source": [
    "a"
   ]
  },
  {
   "cell_type": "markdown",
   "id": "a0bd5414",
   "metadata": {},
   "source": [
    "**Example 3:**  برنامه ای بنویسید که که شعاع یک دایره را دریافت کند و محیط و مساحت آن را بازگرداند"
   ]
  },
  {
   "cell_type": "code",
   "execution_count": 71,
   "id": "8f9dca5c",
   "metadata": {},
   "outputs": [],
   "source": [
    "def area_circle(radius=1):\n",
    "    pi = 3.14\n",
    "    area = pi * radius**2\n",
    "    p = 2*pi*radius\n",
    "    return area,p"
   ]
  },
  {
   "cell_type": "code",
   "execution_count": 72,
   "id": "17956e41",
   "metadata": {},
   "outputs": [
    {
     "data": {
      "text/plain": [
       "(3.14, 6.28)"
      ]
     },
     "execution_count": 72,
     "metadata": {},
     "output_type": "execute_result"
    }
   ],
   "source": [
    "area_circle()"
   ]
  },
  {
   "cell_type": "code",
   "execution_count": 76,
   "id": "b0b52511",
   "metadata": {},
   "outputs": [],
   "source": [
    "A,P = area_circle(4)"
   ]
  },
  {
   "cell_type": "code",
   "execution_count": 77,
   "id": "fb008cff",
   "metadata": {},
   "outputs": [
    {
     "data": {
      "text/plain": [
       "50.24"
      ]
     },
     "execution_count": 77,
     "metadata": {},
     "output_type": "execute_result"
    }
   ],
   "source": [
    "A"
   ]
  },
  {
   "cell_type": "code",
   "execution_count": 78,
   "id": "23c52161",
   "metadata": {},
   "outputs": [
    {
     "data": {
      "text/plain": [
       "25.12"
      ]
     },
     "execution_count": 78,
     "metadata": {},
     "output_type": "execute_result"
    }
   ],
   "source": [
    "P"
   ]
  },
  {
   "cell_type": "code",
   "execution_count": null,
   "id": "102367b8",
   "metadata": {},
   "outputs": [],
   "source": []
  }
 ],
 "metadata": {
  "kernelspec": {
   "display_name": "Python 3 (ipykernel)",
   "language": "python",
   "name": "python3"
  },
  "language_info": {
   "codemirror_mode": {
    "name": "ipython",
    "version": 3
   },
   "file_extension": ".py",
   "mimetype": "text/x-python",
   "name": "python",
   "nbconvert_exporter": "python",
   "pygments_lexer": "ipython3",
   "version": "3.10.2"
  }
 },
 "nbformat": 4,
 "nbformat_minor": 5
}
