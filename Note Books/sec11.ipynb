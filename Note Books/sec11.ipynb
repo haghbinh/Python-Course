{
 "cells": [
  {
   "cell_type": "markdown",
   "metadata": {},
   "source": [
    "\n",
    "#  class objects\n",
    "    \n",
    "# اشیاء کلاس\n"
   ]
  },
  {
   "cell_type": "markdown",
   "metadata": {},
   "source": [
    "<div style=\"text-align: right\"> \n",
    "به دسته ای از متغیرها گفته می شود که خارج از بدنه ی متدهای دیگر و به صورت مستقل و مستقیم در بدنه اصلی خود کلاس  تعریف می شوند.\n",
    "</div>"
   ]
  },
  {
   "cell_type": "markdown",
   "metadata": {},
   "source": [
    "<div style=\"text-align: right\"> \n",
    "<span style=\"color:blue\">\n",
    "    \n",
    "### مثال:  \n",
    "</span>\n",
    "</div>"
   ]
  },
  {
   "cell_type": "code",
   "execution_count": 11,
   "metadata": {},
   "outputs": [],
   "source": [
    "class Myjob():\n",
    "    job='Data scientist'"
   ]
  },
  {
   "cell_type": "markdown",
   "metadata": {},
   "source": [
    "<div style=\"text-align: right\"> \n",
    "اشیا کلاس را به دو صورت می توان بکار برد: \n",
    "    \n",
    "    1-instantiation\n",
    " \n",
    "    2-attribute references\n",
    "    \n",
    "     روش اول که روش نمونه سازی نیز نامیده می شود برای اینکه به شی کلاس دسترسی داشته باشیم یا تغییر در آن ایجاد کنیم نیازی به ساختن  یک شی از آن کلاس نداریم و\n",
    "     فقط کافیست نام شی کلاس را از طریق نقطه گذاری پس از نام کلاس استفاده کنیم . \n",
    "</div>"
   ]
  },
  {
   "cell_type": "code",
   "execution_count": 6,
   "metadata": {},
   "outputs": [
    {
     "data": {
      "text/plain": [
       "'Data scientist'"
      ]
     },
     "execution_count": 6,
     "metadata": {},
     "output_type": "execute_result"
    }
   ],
   "source": [
    "Myjob.job"
   ]
  },
  {
   "cell_type": "code",
   "execution_count": 17,
   "metadata": {},
   "outputs": [
    {
     "data": {
      "text/plain": [
       "'programmer'"
      ]
     },
     "execution_count": 17,
     "metadata": {},
     "output_type": "execute_result"
    }
   ],
   "source": [
    "Myjob.job='programmer'\n",
    "Myjob.job"
   ]
  },
  {
   "cell_type": "markdown",
   "metadata": {},
   "source": [
    "<div style=\"text-align: right\">\n",
    "    توجه شود که در این روش کل کلاس تغییر می کند و در نتیجه اشیائی که از این پس از این کلاس ایجاد می شوند نیز تغییر خواهند کرد. در روش دوم که روش مرجع صفت نامیده \n",
    "    شد ابتدا یک شی از کلاس ساخته می شود و سپس هر تغییراتی را روی شی ساخته شده اعمال خواهیم نمود. در این روش کلاس اصلی تغییری نخواهد کرد\n",
    "</div>"
   ]
  },
  {
   "cell_type": "code",
   "execution_count": 18,
   "metadata": {},
   "outputs": [
    {
     "data": {
      "text/plain": [
       "'programmer'"
      ]
     },
     "execution_count": 18,
     "metadata": {},
     "output_type": "execute_result"
    }
   ],
   "source": [
    "job1 = Myjob()\n",
    "job1.job"
   ]
  },
  {
   "cell_type": "code",
   "execution_count": 19,
   "metadata": {},
   "outputs": [
    {
     "data": {
      "text/plain": [
       "'Data scientist'"
      ]
     },
     "execution_count": 19,
     "metadata": {},
     "output_type": "execute_result"
    }
   ],
   "source": [
    "job1.job = 'Data scientist'\n",
    "job1.job"
   ]
  },
  {
   "cell_type": "code",
   "execution_count": 20,
   "metadata": {},
   "outputs": [
    {
     "data": {
      "text/plain": [
       "'programmer'"
      ]
     },
     "execution_count": 20,
     "metadata": {},
     "output_type": "execute_result"
    }
   ],
   "source": [
    "Myjob.job"
   ]
  },
  {
   "cell_type": "markdown",
   "metadata": {},
   "source": [
    "\n",
    "#  instance objects\n",
    "    \n",
    "# اشیاء نمونه\n"
   ]
  },
  {
   "cell_type": "markdown",
   "metadata": {},
   "source": [
    "<div style=\"text-align: right\"> \n",
    "یکی دیگر از متغیرهاییی که درون کلاس ها تعریف می شود اشیاء نمونه است .دلیل این نام گذاری این است که آنها را تنها می توان از روی شیء (نمونه) ساخته شده از روی کلاس \n",
    "    ساخت نه مستقسم توسط خود کلاس.به بیان دیگر تنها راه دسترسی و یا تغییر این متغیرها از راه مرجع صفت است. این نوع متغیرها باید داخل متدهای تعریف شده در داخل کلاسمان تعریف کنیم \n",
    "    و در تعریف و استفاده از آنها در داخل کلاس از کلمه \n",
    "    \n",
    "    self\n",
    "    \n",
    "    استفاده کنیم.همانطور که گفته شد در تابع سازنده کلاس این متغیر باید اولین آرگومان باشد\n",
    "</div>"
   ]
  },
  {
   "cell_type": "code",
   "execution_count": 46,
   "metadata": {},
   "outputs": [],
   "source": [
    "class Myhair():\n",
    "    hair0='brown0'\n",
    "    def __init__(self):\n",
    "        self.hair='brown'"
   ]
  },
  {
   "cell_type": "code",
   "execution_count": 47,
   "metadata": {},
   "outputs": [
    {
     "data": {
      "text/plain": [
       "'brown'"
      ]
     },
     "execution_count": 47,
     "metadata": {},
     "output_type": "execute_result"
    }
   ],
   "source": [
    "A = Myhair()\n",
    "A.hair"
   ]
  },
  {
   "cell_type": "code",
   "execution_count": 48,
   "metadata": {},
   "outputs": [
    {
     "ename": "AttributeError",
     "evalue": "type object 'Myhair' has no attribute 'hair'",
     "output_type": "error",
     "traceback": [
      "\u001b[1;31m---------------------------------------------------------------------------\u001b[0m",
      "\u001b[1;31mAttributeError\u001b[0m                            Traceback (most recent call last)",
      "\u001b[1;32m<ipython-input-48-476ea4136d9b>\u001b[0m in \u001b[0;36m<module>\u001b[1;34m\u001b[0m\n\u001b[1;32m----> 1\u001b[1;33m \u001b[0mMyhair\u001b[0m\u001b[1;33m.\u001b[0m\u001b[0mhair\u001b[0m\u001b[1;33m\u001b[0m\u001b[1;33m\u001b[0m\u001b[0m\n\u001b[0m",
      "\u001b[1;31mAttributeError\u001b[0m: type object 'Myhair' has no attribute 'hair'"
     ]
    }
   ],
   "source": [
    "Myhair.hair"
   ]
  },
  {
   "cell_type": "code",
   "execution_count": 49,
   "metadata": {},
   "outputs": [
    {
     "data": {
      "text/plain": [
       "'brown0'"
      ]
     },
     "execution_count": 49,
     "metadata": {},
     "output_type": "execute_result"
    }
   ],
   "source": [
    "Myhair.hair0"
   ]
  },
  {
   "cell_type": "markdown",
   "metadata": {},
   "source": [
    "\n",
    "    \n",
    "# دسترسی به متدها\n"
   ]
  },
  {
   "cell_type": "markdown",
   "metadata": {},
   "source": [
    "<div style=\"text-align: right\"> \n",
    "روش های مختلفی برای دسترسی به متدها وجود دارد. در این باره می توان گفت که متدهایی که در کلاس با متغیر ورودی \n",
    "    \n",
    "    self\n",
    "    \n",
    "    نوشته شوند متدهایی خواهند بود که تنها از طریف صفت مرجع قابلیت دسترسی یا تغییر را دارند ولی صفت هایی که بدون این متغیر تعریف می شوند فقط و فقط با روش\n",
    "    نمونه سازی قابلیت دسترسی را دارند. \n",
    "</div>"
   ]
  },
  {
   "cell_type": "code",
   "execution_count": 51,
   "metadata": {},
   "outputs": [],
   "source": [
    "class Mynewclass():\n",
    "    def print_it():\n",
    "        print(\"Python course 1\")\n",
    "    def __init__(self):\n",
    "        self.name='Hossein'\n",
    "        self.language=\"farsi\"\n",
    "    def getlang(self):\n",
    "        return(self.language)"
   ]
  },
  {
   "cell_type": "code",
   "execution_count": 52,
   "metadata": {},
   "outputs": [
    {
     "name": "stdout",
     "output_type": "stream",
     "text": [
      "Python course 1\n"
     ]
    }
   ],
   "source": [
    "Mynewclass.print_it()"
   ]
  },
  {
   "cell_type": "code",
   "execution_count": 53,
   "metadata": {},
   "outputs": [
    {
     "ename": "TypeError",
     "evalue": "getlang() missing 1 required positional argument: 'self'",
     "output_type": "error",
     "traceback": [
      "\u001b[1;31m---------------------------------------------------------------------------\u001b[0m",
      "\u001b[1;31mTypeError\u001b[0m                                 Traceback (most recent call last)",
      "\u001b[1;32m<ipython-input-53-23ea8ce8de7b>\u001b[0m in \u001b[0;36m<module>\u001b[1;34m\u001b[0m\n\u001b[1;32m----> 1\u001b[1;33m \u001b[0mMynewclass\u001b[0m\u001b[1;33m.\u001b[0m\u001b[0mgetlang\u001b[0m\u001b[1;33m(\u001b[0m\u001b[1;33m)\u001b[0m\u001b[1;33m\u001b[0m\u001b[1;33m\u001b[0m\u001b[0m\n\u001b[0m",
      "\u001b[1;31mTypeError\u001b[0m: getlang() missing 1 required positional argument: 'self'"
     ]
    }
   ],
   "source": [
    "Mynewclass.getlang()"
   ]
  },
  {
   "cell_type": "code",
   "execution_count": 55,
   "metadata": {},
   "outputs": [
    {
     "data": {
      "text/plain": [
       "'farsi'"
      ]
     },
     "execution_count": 55,
     "metadata": {},
     "output_type": "execute_result"
    }
   ],
   "source": [
    "A = Mynewclass()\n",
    "A.getlang()"
   ]
  },
  {
   "cell_type": "code",
   "execution_count": 58,
   "metadata": {},
   "outputs": [
    {
     "ename": "TypeError",
     "evalue": "getlang() takes 1 positional argument but 2 were given",
     "output_type": "error",
     "traceback": [
      "\u001b[1;31m---------------------------------------------------------------------------\u001b[0m",
      "\u001b[1;31mTypeError\u001b[0m                                 Traceback (most recent call last)",
      "\u001b[1;32m<ipython-input-58-fad4bc396721>\u001b[0m in \u001b[0;36m<module>\u001b[1;34m\u001b[0m\n\u001b[0;32m      1\u001b[0m \u001b[0mB\u001b[0m \u001b[1;33m=\u001b[0m \u001b[0mMynewclass\u001b[0m\u001b[1;33m(\u001b[0m\u001b[1;33m)\u001b[0m\u001b[1;33m\u001b[0m\u001b[1;33m\u001b[0m\u001b[0m\n\u001b[1;32m----> 2\u001b[1;33m \u001b[0mB\u001b[0m\u001b[1;33m.\u001b[0m\u001b[0mgetlang\u001b[0m\u001b[1;33m(\u001b[0m\u001b[1;34m'english'\u001b[0m\u001b[1;33m)\u001b[0m\u001b[1;33m\u001b[0m\u001b[1;33m\u001b[0m\u001b[0m\n\u001b[0m",
      "\u001b[1;31mTypeError\u001b[0m: getlang() takes 1 positional argument but 2 were given"
     ]
    }
   ],
   "source": [
    "B = Mynewclass()\n",
    "B.getlang('english')"
   ]
  }
 ],
 "metadata": {
  "kernelspec": {
   "display_name": "Python 3",
   "language": "python",
   "name": "python3"
  },
  "language_info": {
   "codemirror_mode": {
    "name": "ipython",
    "version": 3
   },
   "file_extension": ".py",
   "mimetype": "text/x-python",
   "name": "python",
   "nbconvert_exporter": "python",
   "pygments_lexer": "ipython3",
   "version": "3.6.8"
  }
 },
 "nbformat": 4,
 "nbformat_minor": 2
}
