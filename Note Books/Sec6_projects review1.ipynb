{
 "cells": [
  {
   "cell_type": "markdown",
   "id": "0e130ab8",
   "metadata": {},
   "source": [
    " <h1 style=\"text-align: justify; direction:rtl\"> \n",
    "  درس ششم:  مرور چند مینی پروژه  \n",
    "</h1>"
   ]
  },
  {
   "cell_type": "markdown",
   "id": "ae7732f1",
   "metadata": {},
   "source": [
    "## 1. Generate Random Password:"
   ]
  },
  {
   "cell_type": "markdown",
   "id": "96bace24",
   "metadata": {},
   "source": [
    "<h6 style=\"text-align: justify; direction:rtl\"> \n",
    "پروژه تولید رمز تصادفی: در این برنامه کاربر طول رمز عبور را وارد کرده و برنامه یک رمز عبور تصادفی برای کاربر تولید می کند.\n",
    "</h6>"
   ]
  },
  {
   "cell_type": "code",
   "execution_count": 1,
   "id": "085cc28b",
   "metadata": {},
   "outputs": [
    {
     "name": "stdout",
     "output_type": "stream",
     "text": [
      "enter the length of password5\n",
      "Your password is: 8eWr5\n"
     ]
    }
   ],
   "source": [
    "import random\n",
    "passlen = int(input(\"enter the length of password\"))\n",
    "s=\"abcdefghijklmnopqrstuvwxyz01234567890ABCDEFGHIJKLMNOPQRSTUVWXYZ!@#$%^&*()?\"\n",
    "p = \"\".join(random.sample(s,passlen ))\n",
    "print('Your password is:',p)"
   ]
  },
  {
   "cell_type": "markdown",
   "id": "a185b5d0",
   "metadata": {},
   "source": [
    "## 2. Story Generator with Python"
   ]
  },
  {
   "cell_type": "markdown",
   "id": "c6609fb4",
   "metadata": {},
   "source": [
    "<h6 style=\"text-align: justify; direction:rtl\"> \n",
    "ساخت یک داستان تصادفی: در این پروژه هدف ساخت یک داستان تصادفی با استفاده از یک مجموعه کلمات می باشد. \n",
    "</h6>"
   ]
  },
  {
   "cell_type": "code",
   "execution_count": 2,
   "id": "9f2fe4a7",
   "metadata": {},
   "outputs": [
    {
     "name": "stdout",
     "output_type": "stream",
     "text": [
      "A long time ago, a turtle that lived in Venice, went to the cinema and Eats a burger\n"
     ]
    }
   ],
   "source": [
    "import random\n",
    "when = ['A few years ago', 'Yesterday', 'Last night', 'A long time ago','On 20th Jan']\n",
    "who = ['a rabbit', 'an elephant', 'a mouse', 'a turtle','a cat']\n",
    "name = ['Ali', 'Miriam','daniel', 'Hoouk', 'Starwalker']\n",
    "residence = ['Barcelona','India', 'Germany', 'Venice', 'England']\n",
    "went = ['cinema', 'university','seminar', 'school', 'laundry']\n",
    "happened = ['made a lot of friends','Eats a burger', 'found a secret key', 'solved a mistery', 'wrote a book']\n",
    "output=random.choice(when) + ', ' + random.choice(who) + ' that lived in ' + random.choice(residence) + ', went to the ' + random.choice(went) + ' and ' + random.choice(happened)\n",
    "print(output)"
   ]
  },
  {
   "cell_type": "markdown",
   "id": "bd224022",
   "metadata": {},
   "source": [
    "## 3. Email Slicer with Python\n"
   ]
  },
  {
   "cell_type": "markdown",
   "id": "0ebea94b",
   "metadata": {},
   "source": [
    "<h6 style=\"text-align: justify; direction:rtl\"> \n",
    "بخش کردن ایمیل: در این پروژه کاربر ایمیل خود را وارد کرده و برنامه تشخیص می دهد که کدام بخش از ایمیل مربوط به نام کاربری و کدام بخش مربوط به دامنه ایمیل می باشد.\n",
    "</h6>"
   ]
  },
  {
   "cell_type": "code",
   "execution_count": 3,
   "id": "350ecc5b",
   "metadata": {},
   "outputs": [
    {
     "name": "stdout",
     "output_type": "stream",
     "text": [
      "Enter Your Email: haghbinh@gmail.com\n",
      "Your user name is 'haghbinh' and your domain is 'gmail.com'\n"
     ]
    }
   ],
   "source": [
    "email = input(\"Enter Your Email: \").strip()\n",
    "username = email[:email.index(\"@\")]\n",
    "domain_name = email[email.index(\"@\")+1:]\n",
    "format_ = (f\"Your user name is '{username}' and your domain is '{domain_name}'\")\n",
    "print(format_)"
   ]
  },
  {
   "cell_type": "markdown",
   "id": "728ea480",
   "metadata": {},
   "source": [
    "## 4. Create Acronyms"
   ]
  },
  {
   "cell_type": "markdown",
   "id": "08193d36",
   "metadata": {},
   "source": [
    "<h6 style=\"text-align: justify; direction:rtl\"> \n",
    "ساخت کلمات اختصاری: در این پروژه کاربر یک عبارت وارد می کند و حروف اول کلمات آن عبارت را به عنوان نام اختصاری آن عبارت دریافت خواهد نمود.\n",
    "</h6>"
   ]
  },
  {
   "cell_type": "code",
   "execution_count": 5,
   "id": "8d305087",
   "metadata": {},
   "outputs": [
    {
     "name": "stdout",
     "output_type": "stream",
     "text": [
      "Enter a Phrase: Advaced programming with python\n",
      " APWP\n"
     ]
    }
   ],
   "source": [
    "user_input = str(input(\"Enter a Phrase: \"))\n",
    "text = user_input.split()\n",
    "a = \" \"\n",
    "for i in text:\n",
    "    a = a+str(i[0]).upper()\n",
    "print(a)"
   ]
  },
  {
   "cell_type": "code",
   "execution_count": null,
   "id": "3f6e777f",
   "metadata": {},
   "outputs": [],
   "source": []
  }
 ],
 "metadata": {
  "kernelspec": {
   "display_name": "Python 3 (ipykernel)",
   "language": "python",
   "name": "python3"
  },
  "language_info": {
   "codemirror_mode": {
    "name": "ipython",
    "version": 3
   },
   "file_extension": ".py",
   "mimetype": "text/x-python",
   "name": "python",
   "nbconvert_exporter": "python",
   "pygments_lexer": "ipython3",
   "version": "3.9.13"
  }
 },
 "nbformat": 4,
 "nbformat_minor": 5
}
