{
 "cells": [
  {
   "cell_type": "markdown",
   "id": "55abfd11",
   "metadata": {},
   "source": [
    "# Functions  -  توابع"
   ]
  },
  {
   "cell_type": "raw",
   "id": "824dfdeb",
   "metadata": {},
   "source": [
    "def name_of_function(Parameters):  #Function Header\n",
    "    statement1\n",
    "    statement2\n",
    "    statement3\n",
    "    ……………………………\n",
    "\n",
    "    Function Body\n",
    "    ……………………………\n",
    "    \n",
    "    statementN"
   ]
  },
  {
   "cell_type": "code",
   "execution_count": 2,
   "id": "95048a37",
   "metadata": {},
   "outputs": [],
   "source": [
    "def Display():\n",
    "    print(\"Welcome to Python Programming\" )"
   ]
  },
  {
   "cell_type": "code",
   "execution_count": 4,
   "id": "a1774092",
   "metadata": {},
   "outputs": [
    {
     "name": "stdout",
     "output_type": "stream",
     "text": [
      "Welcome to Python Programming\n"
     ]
    }
   ],
   "source": [
    "#call function\n",
    "Display() "
   ]
  },
  {
   "cell_type": "code",
   "execution_count": 5,
   "id": "ff81ae87",
   "metadata": {},
   "outputs": [
    {
     "name": "stdout",
     "output_type": "stream",
     "text": [
      "Welcome to Python Programming\n"
     ]
    }
   ],
   "source": [
    "Display() "
   ]
  },
  {
   "cell_type": "code",
   "execution_count": 6,
   "id": "f91ddd76",
   "metadata": {},
   "outputs": [
    {
     "name": "stdout",
     "output_type": "stream",
     "text": [
      "Please Enter Your Name:Hossein\n",
      "Dear  Hossein . Welcome to Python Programming \n"
     ]
    }
   ],
   "source": [
    "def print_msg():\n",
    "    str1=input(\"Please Enter Your Name:\")\n",
    "    print(\"Dear \",str1,\". Welcome to Python Programming \")\n",
    "#call function\n",
    "print_msg() "
   ]
  },
  {
   "cell_type": "code",
   "execution_count": 7,
   "id": "231c43bb",
   "metadata": {},
   "outputs": [
    {
     "name": "stdout",
     "output_type": "stream",
     "text": [
      "Please Enter Your Name:Zahra\n",
      "Dear  Zahra . Welcome to Python Programming \n"
     ]
    }
   ],
   "source": [
    "print_msg()"
   ]
  },
  {
   "cell_type": "code",
   "execution_count": 9,
   "id": "2737298e",
   "metadata": {},
   "outputs": [
    {
     "name": "stdout",
     "output_type": "stream",
     "text": [
      "Dear  Hossein . Welcome to Python Programming \n"
     ]
    }
   ],
   "source": [
    "def print_msg2(str1):\n",
    "    print(\"Dear \",str1,\". Welcome to Python Programming \")\n",
    "#call function\n",
    "print_msg2(\"Hossein\") "
   ]
  },
  {
   "cell_type": "code",
   "execution_count": 10,
   "id": "bdb9603d",
   "metadata": {},
   "outputs": [
    {
     "name": "stdout",
     "output_type": "stream",
     "text": [
      "Dear  Zahra . Welcome to Python Programming \n"
     ]
    }
   ],
   "source": [
    "print_msg2(\"Zahra\")"
   ]
  },
  {
   "cell_type": "markdown",
   "id": "c5ac5991",
   "metadata": {},
   "source": [
    "Write a program to add the sum of digits from 1 to 25, 50 to 76 and 90 to 101 using three different for loops."
   ]
  },
  {
   "cell_type": "code",
   "execution_count": 13,
   "id": "03f6af4a",
   "metadata": {},
   "outputs": [
    {
     "name": "stdout",
     "output_type": "stream",
     "text": [
      "Sum of integers from 1 to 25 is: 325\n",
      "Sum of integers from 50 to 76 is: 1701\n",
      "Sum of integers from 90 to 101 is: 1146\n"
     ]
    }
   ],
   "source": [
    "sum=0\n",
    "for i in range(1,26):\n",
    "    sum=sum+i\n",
    "print(\"Sum of integers from 1 to 25 is:\",sum)\n",
    "\n",
    "sum=0\n",
    "for i in range(50,77):\n",
    "    sum=sum+i\n",
    "print(\"Sum of integers from 50 to 76 is:\",sum)\n",
    "\n",
    "sum=0\n",
    "for i in range(90,102):\n",
    "    sum=sum+i\n",
    "print(\"Sum of integers from 90 to 101 is:\",sum)"
   ]
  },
  {
   "cell_type": "code",
   "execution_count": 14,
   "id": "0295f671",
   "metadata": {},
   "outputs": [
    {
     "name": "stdout",
     "output_type": "stream",
     "text": [
      "Sum of integers from 1 to 25 is: 325\n",
      "Sum of integers from 50 to 76 is: 1701\n",
      "Sum of integers from 90 to 101 is: 1146\n"
     ]
    }
   ],
   "source": [
    "def sum(x,y):\n",
    "    sum=0\n",
    "    for i in range(x,y+1):\n",
    "        sum=sum+i\n",
    "    print(f\"Sum of integers from {x} to {y} is:\",sum)\n",
    "\n",
    "sum(1,25)\n",
    "sum(50,76)\n",
    "sum(90,101)"
   ]
  },
  {
   "cell_type": "code",
   "execution_count": 15,
   "id": "c934ffb1",
   "metadata": {},
   "outputs": [
    {
     "name": "stdout",
     "output_type": "stream",
     "text": [
      "Sum of integers from 13 to 250 is: 31297\n"
     ]
    }
   ],
   "source": [
    "sum(13,250)"
   ]
  },
  {
   "cell_type": "markdown",
   "id": "13474aeb",
   "metadata": {},
   "source": [
    "Write a program to find the maximum of two numbers."
   ]
  },
  {
   "cell_type": "code",
   "execution_count": 16,
   "id": "fddd7a6a",
   "metadata": {},
   "outputs": [
    {
     "name": "stdout",
     "output_type": "stream",
     "text": [
      "The Number 20 is Greater than 10\n"
     ]
    }
   ],
   "source": [
    "def printMax(num1,num2):\n",
    "    if num1>num2:\n",
    "        print(f\"The Number {num1} is Greater than {num2}\")\n",
    "    elif num2>num1:\n",
    "        print(f\"The Number {num2} is Greater than {num1}\")\n",
    "    else:\n",
    "        print(f\"Both Numbers {num1} and {num2} are equal\")\n",
    "\n",
    "\n",
    "printMax(20,10)"
   ]
  },
  {
   "cell_type": "markdown",
   "id": "040e6530",
   "metadata": {},
   "source": [
    "تابعی بنویسید که فاکتوریال یک عدد را محاسبه نماید"
   ]
  },
  {
   "cell_type": "code",
   "execution_count": 2,
   "id": "594a910a",
   "metadata": {},
   "outputs": [],
   "source": [
    "def calc_factorial(num):\n",
    "    fact=1\n",
    "    for i in range(1,num+1):\n",
    "        fact=fact*i\n",
    "    print(f\"Factorial of Number {num} is = {fact}\")"
   ]
  },
  {
   "cell_type": "code",
   "execution_count": 3,
   "id": "86b7eeac",
   "metadata": {},
   "outputs": [
    {
     "data": {
      "text/plain": [
       "6"
      ]
     },
     "execution_count": 3,
     "metadata": {},
     "output_type": "execute_result"
    }
   ],
   "source": [
    "def f(n):\n",
    "    s=0\n",
    "    for i in range(1,n+1):\n",
    "        s=s+i\n",
    "    return s\n",
    "f(3)"
   ]
  },
  {
   "cell_type": "code",
   "execution_count": 20,
   "id": "2a120ca2",
   "metadata": {},
   "outputs": [
    {
     "name": "stdout",
     "output_type": "stream",
     "text": [
      "Factorial of Number 5 is = 120\n"
     ]
    }
   ],
   "source": [
    "calc_factorial(5)"
   ]
  },
  {
   "cell_type": "markdown",
   "id": "0ff9b5b3",
   "metadata": {},
   "source": [
    "### positional argument"
   ]
  },
  {
   "cell_type": "code",
   "execution_count": 21,
   "id": "a559bf76",
   "metadata": {},
   "outputs": [
    {
     "name": "stdout",
     "output_type": "stream",
     "text": [
      "Name =  John , age =  25\n"
     ]
    }
   ],
   "source": [
    "def Display(Name,age):\n",
    "    print(\"Name = \",Name,\", age = \",age)\n",
    "\n",
    "Display(\"John\",25)"
   ]
  },
  {
   "cell_type": "code",
   "execution_count": 12,
   "id": "f4f23250",
   "metadata": {},
   "outputs": [
    {
     "name": "stdout",
     "output_type": "stream",
     "text": [
      "Out= 12\n",
      "Out= 9\n",
      "Out= 12\n"
     ]
    }
   ],
   "source": [
    "def f(x,y):\n",
    "    w = x+2*y\n",
    "    print(\"Out=\",w)\n",
    "\n",
    "f(y=5,x=2)\n",
    "f(5,2)\n",
    "f(2,5)\n"
   ]
  },
  {
   "cell_type": "code",
   "execution_count": 22,
   "id": "35febd95",
   "metadata": {},
   "outputs": [
    {
     "name": "stdout",
     "output_type": "stream",
     "text": [
      "Name =  40 , age =  Hossein\n"
     ]
    }
   ],
   "source": [
    "Display(40,\"Hossein\")"
   ]
  },
  {
   "cell_type": "code",
   "execution_count": 23,
   "id": "9a6a0484",
   "metadata": {},
   "outputs": [
    {
     "ename": "TypeError",
     "evalue": "Display() missing 1 required positional argument: 'age'",
     "output_type": "error",
     "traceback": [
      "\u001b[1;31m---------------------------------------------------------------------------\u001b[0m",
      "\u001b[1;31mTypeError\u001b[0m                                 Traceback (most recent call last)",
      "\u001b[1;32m~\\AppData\\Local\\Temp/ipykernel_6148/993931984.py\u001b[0m in \u001b[0;36m<module>\u001b[1;34m\u001b[0m\n\u001b[1;32m----> 1\u001b[1;33m \u001b[0mDisplay\u001b[0m\u001b[1;33m(\u001b[0m\u001b[1;34m\"Hossein\"\u001b[0m\u001b[1;33m)\u001b[0m\u001b[1;33m\u001b[0m\u001b[1;33m\u001b[0m\u001b[0m\n\u001b[0m",
      "\u001b[1;31mTypeError\u001b[0m: Display() missing 1 required positional argument: 'age'"
     ]
    }
   ],
   "source": [
    "Display(\"Hossein\")"
   ]
  },
  {
   "cell_type": "code",
   "execution_count": 24,
   "id": "d4c491ac",
   "metadata": {},
   "outputs": [
    {
     "name": "stdout",
     "output_type": "stream",
     "text": [
      "Name =  Hossein , age =  40\n"
     ]
    }
   ],
   "source": [
    "Display(age=40,Name=\"Hossein\")"
   ]
  },
  {
   "cell_type": "markdown",
   "id": "77cd58be",
   "metadata": {},
   "source": [
    "### Parameter with Default Values"
   ]
  },
  {
   "cell_type": "code",
   "execution_count": 25,
   "id": "b5fa0bf7",
   "metadata": {},
   "outputs": [
    {
     "name": "stdout",
     "output_type": "stream",
     "text": [
      "Hello  Hossein Welcome to Python!!\n"
     ]
    }
   ],
   "source": [
    "def greet(name,msg=\"Welcome to Python!!\"):\n",
    "    print(\"Hello \",name,msg)\n",
    "    \n",
    "greet(\"Hossein\")"
   ]
  },
  {
   "cell_type": "code",
   "execution_count": 26,
   "id": "6aa3facb",
   "metadata": {},
   "outputs": [
    {
     "name": "stdout",
     "output_type": "stream",
     "text": [
      "Hello  Hossein How are You?\n"
     ]
    }
   ],
   "source": [
    "greet(\"Hossein\",\"How are You?\")"
   ]
  },
  {
   "cell_type": "code",
   "execution_count": 27,
   "id": "310adcd8",
   "metadata": {},
   "outputs": [
    {
     "name": "stdout",
     "output_type": "stream",
     "text": [
      "Hello  Hossein How are You?\n"
     ]
    }
   ],
   "source": [
    "greet(msg=\"How are You?\",name=\"Hossein\")"
   ]
  },
  {
   "cell_type": "code",
   "execution_count": 30,
   "id": "d8310ed1",
   "metadata": {},
   "outputs": [
    {
     "ename": "TypeError",
     "evalue": "greet() got multiple values for argument 'name'",
     "output_type": "error",
     "traceback": [
      "\u001b[1;31m---------------------------------------------------------------------------\u001b[0m",
      "\u001b[1;31mTypeError\u001b[0m                                 Traceback (most recent call last)",
      "\u001b[1;32m~\\AppData\\Local\\Temp/ipykernel_6148/1690048885.py\u001b[0m in \u001b[0;36m<module>\u001b[1;34m\u001b[0m\n\u001b[1;32m----> 1\u001b[1;33m \u001b[0mgreet\u001b[0m\u001b[1;33m(\u001b[0m\u001b[1;34m\"How are You?\"\u001b[0m\u001b[1;33m,\u001b[0m\u001b[0mname\u001b[0m\u001b[1;33m=\u001b[0m\u001b[1;34m\"Hossein\"\u001b[0m\u001b[1;33m)\u001b[0m\u001b[1;33m\u001b[0m\u001b[1;33m\u001b[0m\u001b[0m\n\u001b[0m",
      "\u001b[1;31mTypeError\u001b[0m: greet() got multiple values for argument 'name'"
     ]
    }
   ],
   "source": [
    "greet(\"How are You?\",name=\"Hossein\")"
   ]
  },
  {
   "cell_type": "markdown",
   "id": "5a93fb0b",
   "metadata": {},
   "source": [
    "برنامه محاسبه مساحت یک دایره"
   ]
  },
  {
   "cell_type": "code",
   "execution_count": 13,
   "id": "05036844",
   "metadata": {},
   "outputs": [
    {
     "name": "stdout",
     "output_type": "stream",
     "text": [
      "radius= 1\n",
      " The area of Circle =  3.14\n"
     ]
    }
   ],
   "source": [
    "def area_circle(pi=3.14,radius=1):\n",
    "    area=pi*radius**2\n",
    "    print(\"radius=\",radius)\n",
    "    print(\" The area of Circle = \",area)\n",
    "    \n",
    "area_circle()"
   ]
  },
  {
   "cell_type": "code",
   "execution_count": null,
   "id": "fcab68ac",
   "metadata": {},
   "outputs": [],
   "source": [
    "def area(x=1,y=1):\n",
    "    area=0.5*x*y\n",
    "    print(\"area=\",area)\n",
    "    \n",
    "area_circle()"
   ]
  },
  {
   "cell_type": "code",
   "execution_count": 32,
   "id": "57d6088c",
   "metadata": {},
   "outputs": [
    {
     "name": "stdout",
     "output_type": "stream",
     "text": [
      "radius= 5\n",
      " The area of Circle =  78.5\n"
     ]
    }
   ],
   "source": [
    "area_circle(radius=5)"
   ]
  },
  {
   "cell_type": "code",
   "execution_count": 14,
   "id": "b6180b1c",
   "metadata": {},
   "outputs": [
    {
     "name": "stdout",
     "output_type": "stream",
     "text": [
      "a =  15  b =  10 c=  20\n"
     ]
    }
   ],
   "source": [
    "def disp_values(a,b=10,c=20):\n",
    "    print(\"a = \",a,\" b = \",b,\"c= \",c)\n",
    "    \n",
    "disp_values(15)"
   ]
  },
  {
   "cell_type": "code",
   "execution_count": 29,
   "id": "9b2b4f3c",
   "metadata": {},
   "outputs": [
    {
     "name": "stdout",
     "output_type": "stream",
     "text": [
      "a= 5 \n",
      "b= 8 \n",
      "c= 1 \n",
      "d= 0\n"
     ]
    }
   ],
   "source": [
    "def disp(a,b,c=2,d=0):\n",
    "    print(\"a=\",a,\"\\nb=\",b,\"\\nc=\",c,\"\\nd=\",d) \n",
    "disp(5,8,1)"
   ]
  },
  {
   "cell_type": "code",
   "execution_count": 36,
   "id": "d6710dd1",
   "metadata": {},
   "outputs": [
    {
     "name": "stdout",
     "output_type": "stream",
     "text": [
      "a =  50  b =  30 c=  20\n"
     ]
    }
   ],
   "source": [
    "disp_values(50,b=30)"
   ]
  },
  {
   "cell_type": "code",
   "execution_count": 37,
   "id": "dd86cfa4",
   "metadata": {},
   "outputs": [
    {
     "name": "stdout",
     "output_type": "stream",
     "text": [
      "a =  25  b =  35 c=  80\n"
     ]
    }
   ],
   "source": [
    "disp_values(c=80,a=25,b=35)"
   ]
  },
  {
   "cell_type": "code",
   "execution_count": null,
   "id": "07efdb51",
   "metadata": {},
   "outputs": [],
   "source": []
  }
 ],
 "metadata": {
  "kernelspec": {
   "display_name": "Python 3 (ipykernel)",
   "language": "python",
   "name": "python3"
  },
  "language_info": {
   "codemirror_mode": {
    "name": "ipython",
    "version": 3
   },
   "file_extension": ".py",
   "mimetype": "text/x-python",
   "name": "python",
   "nbconvert_exporter": "python",
   "pygments_lexer": "ipython3",
   "version": "3.11.0"
  }
 },
 "nbformat": 4,
 "nbformat_minor": 5
}
