{
 "cells": [
  {
   "cell_type": "markdown",
   "id": "305d83a7",
   "metadata": {},
   "source": [
    " <h1 style=\"text-align: justify; direction:rtl\"> \n",
    "    درس سوم: تعریف توابع\n",
    "</h1>"
   ]
  },
  {
   "cell_type": "code",
   "execution_count": 2,
   "id": "7c197687",
   "metadata": {},
   "outputs": [],
   "source": [
    "def Display():\n",
    "     print(\"Welcome to Python Programming\" )"
   ]
  },
  {
   "cell_type": "code",
   "execution_count": 3,
   "id": "a8e78e87",
   "metadata": {},
   "outputs": [
    {
     "name": "stdout",
     "output_type": "stream",
     "text": [
      "Welcome to Python Programming\n"
     ]
    }
   ],
   "source": [
    "Display()"
   ]
  },
  {
   "cell_type": "code",
   "execution_count": 1,
   "id": "6bf8c873",
   "metadata": {},
   "outputs": [
    {
     "name": "stdout",
     "output_type": "stream",
     "text": [
      "Please Enter Your Name:Hossin\n",
      "Dear  Hossin . Welcome to Python Programming \n"
     ]
    }
   ],
   "source": [
    " def print_msg():\n",
    "     str1=input(\"Please Enter Your Name:\")\n",
    "     print(\"Dear \",str1,\". Welcome to Python Programming \")\n",
    "\n",
    "#  call function\n",
    " print_msg()"
   ]
  },
  {
   "cell_type": "code",
   "execution_count": 6,
   "id": "bc61b4c6",
   "metadata": {},
   "outputs": [
    {
     "name": "stdout",
     "output_type": "stream",
     "text": [
      "Dear  Hossein . Welcome to Python Programming \n"
     ]
    }
   ],
   "source": [
    " def print_msg(str1):\n",
    "     print(\"Dear \",str1,\". Welcome to Python Programming \")\n",
    "#  call function\n",
    " print_msg(\"Hossein\")"
   ]
  },
  {
   "cell_type": "code",
   "execution_count": 7,
   "id": "71ccf345",
   "metadata": {},
   "outputs": [
    {
     "name": "stdout",
     "output_type": "stream",
     "text": [
      "Sum of integers from 1 to 25 is: 325\n"
     ]
    }
   ],
   "source": [
    " sum=0\n",
    " for i in range(1,26):\n",
    "     sum=sum+i\n",
    " print(\"Sum of integers from 1 to 25 is:\",sum)"
   ]
  },
  {
   "cell_type": "code",
   "execution_count": 8,
   "id": "15683a87",
   "metadata": {},
   "outputs": [
    {
     "name": "stdout",
     "output_type": "stream",
     "text": [
      "Sum of integers from 50 to 76 is: 1701\n"
     ]
    }
   ],
   "source": [
    " sum=0\n",
    " for i in range(50,77):\n",
    "     sum=sum+i\n",
    " print(\"Sum of integers from 50 to 76 is:\",sum)"
   ]
  },
  {
   "cell_type": "code",
   "execution_count": 9,
   "id": "1adad377",
   "metadata": {},
   "outputs": [
    {
     "name": "stdout",
     "output_type": "stream",
     "text": [
      "Sum of integers from 90 to 101 is: 1146\n"
     ]
    }
   ],
   "source": [
    " sum=0\n",
    " for i in range(90,102):\n",
    "     sum=sum+i\n",
    " print(\"Sum of integers from 90 to 101 is:\",sum)"
   ]
  },
  {
   "cell_type": "code",
   "execution_count": 2,
   "id": "320d34b1",
   "metadata": {},
   "outputs": [
    {
     "name": "stdout",
     "output_type": "stream",
     "text": [
      "Sum of integers from 1 to 25 is: 325\n",
      "Sum of integers from 50 to 76 is: 1701\n",
      "Sum of integers from 90 to 101 is: 1146\n"
     ]
    }
   ],
   "source": [
    " def mysum(x,y):\n",
    "     sum = 0\n",
    "     for i in range(x, y+1):\n",
    "         sum = sum + i\n",
    "     print(f\"Sum of integers from {x} to {y} is:\", sum)\n",
    "\n",
    " mysum(1,25)\n",
    " mysum(50,76)\n",
    " mysum(90,101)"
   ]
  },
  {
   "cell_type": "code",
   "execution_count": 12,
   "id": "c0afc3ee",
   "metadata": {},
   "outputs": [
    {
     "name": "stdout",
     "output_type": "stream",
     "text": [
      "please Enter number: 5\n",
      "The factorial of 5 is: 120\n"
     ]
    }
   ],
   "source": [
    " number = int(input(\"please Enter number: \"))\n",
    " factorial = 1\n",
    " for i in range(1, number+1):\n",
    "     factorial = factorial * i\n",
    " print(\"The factorial of {} is: {}\".format(number, factorial))"
   ]
  },
  {
   "cell_type": "code",
   "execution_count": 14,
   "id": "376cae93",
   "metadata": {},
   "outputs": [
    {
     "name": "stdout",
     "output_type": "stream",
     "text": [
      "3!= 6\n"
     ]
    }
   ],
   "source": [
    " def fact(x):\n",
    "     sum=1\n",
    "     for i in range(1,x+1):\n",
    "         sum*=i\n",
    "     print(f\"{x}!= {sum}\")\n",
    "\n",
    " fact(3)\n"
   ]
  },
  {
   "cell_type": "markdown",
   "id": "1457636b",
   "metadata": {},
   "source": [
    "## positional arguments in python:"
   ]
  },
  {
   "cell_type": "code",
   "execution_count": 2,
   "id": "f12ad63c",
   "metadata": {},
   "outputs": [
    {
     "name": "stdout",
     "output_type": "stream",
     "text": [
      "Name =  John , age =  25\n"
     ]
    }
   ],
   "source": [
    " def Display(Name,age):\n",
    "     print(\"Name = \",Name,\", age = \",age)\n",
    "\n",
    " Display(\"John\",25)"
   ]
  },
  {
   "cell_type": "code",
   "execution_count": 17,
   "id": "9082a791",
   "metadata": {},
   "outputs": [
    {
     "name": "stdout",
     "output_type": "stream",
     "text": [
      "Name =  25 , age =  John\n"
     ]
    }
   ],
   "source": [
    "Display(25,\"John\")"
   ]
  },
  {
   "cell_type": "code",
   "execution_count": 18,
   "id": "f06c8b17",
   "metadata": {},
   "outputs": [
    {
     "name": "stdout",
     "output_type": "stream",
     "text": [
      "Name =  John , age =  25\n"
     ]
    }
   ],
   "source": [
    " Display(age=25,Name=\"John\")"
   ]
  },
  {
   "cell_type": "code",
   "execution_count": 19,
   "id": "f3e083be",
   "metadata": {},
   "outputs": [
    {
     "ename": "TypeError",
     "evalue": "Display() missing 1 required positional argument: 'age'",
     "output_type": "error",
     "traceback": [
      "\u001b[1;31m---------------------------------------------------------------------------\u001b[0m",
      "\u001b[1;31mTypeError\u001b[0m                                 Traceback (most recent call last)",
      "\u001b[1;32m~\\AppData\\Local\\Temp\\ipykernel_9504\\2952993919.py\u001b[0m in \u001b[0;36m<module>\u001b[1;34m\u001b[0m\n\u001b[1;32m----> 1\u001b[1;33m \u001b[0mDisplay\u001b[0m\u001b[1;33m(\u001b[0m\u001b[1;34m\"John\"\u001b[0m\u001b[1;33m)\u001b[0m\u001b[1;33m\u001b[0m\u001b[1;33m\u001b[0m\u001b[0m\n\u001b[0m",
      "\u001b[1;31mTypeError\u001b[0m: Display() missing 1 required positional argument: 'age'"
     ]
    }
   ],
   "source": [
    " Display(\"John\")"
   ]
  },
  {
   "cell_type": "markdown",
   "id": "4806c91c",
   "metadata": {},
   "source": [
    "##  Parameter with Default Values\n"
   ]
  },
  {
   "cell_type": "code",
   "execution_count": 20,
   "id": "085cb02b",
   "metadata": {},
   "outputs": [
    {
     "name": "stdout",
     "output_type": "stream",
     "text": [
      "Hello  Hossein Welcome to Python!!\n"
     ]
    }
   ],
   "source": [
    " def greet(name, msg=\"Welcome to Python!!\"):\n",
    "     print(\"Hello \", name, msg)\n",
    " greet(\"Hossein\")"
   ]
  },
  {
   "cell_type": "code",
   "execution_count": 21,
   "id": "4903d6bd",
   "metadata": {},
   "outputs": [
    {
     "name": "stdout",
     "output_type": "stream",
     "text": [
      "Hello  Hossein How are You?\n"
     ]
    }
   ],
   "source": [
    " greet(\"Hossein\",\"How are You?\")\n"
   ]
  },
  {
   "cell_type": "code",
   "execution_count": 22,
   "id": "d0fa2bae",
   "metadata": {},
   "outputs": [
    {
     "name": "stdout",
     "output_type": "stream",
     "text": [
      "Area: 12.56\n",
      "perimeter: 12.56\n"
     ]
    }
   ],
   "source": [
    " def circle(r=1):\n",
    "     s=3.14*r**2\n",
    "     d=2*3.14*r\n",
    "     print(\"Area:\",s)\n",
    "     print(\"perimeter:\",d)\n",
    "\n",
    " circle(2)\n"
   ]
  },
  {
   "cell_type": "code",
   "execution_count": 23,
   "id": "30a75435",
   "metadata": {},
   "outputs": [
    {
     "name": "stdout",
     "output_type": "stream",
     "text": [
      "p= 10\n"
     ]
    }
   ],
   "source": [
    " p = 20\n",
    " def Demo():\n",
    "     p = 10\n",
    "     print(\"p=\",p)\n",
    " Demo()"
   ]
  },
  {
   "cell_type": "code",
   "execution_count": 24,
   "id": "8146477d",
   "metadata": {},
   "outputs": [
    {
     "name": "stdout",
     "output_type": "stream",
     "text": [
      "p= 10\n"
     ]
    }
   ],
   "source": [
    " p = 20\n",
    " def Demo():\n",
    "     global p\n",
    "     p = 10\n",
    "     print(\"p=\",p)\n",
    " Demo()"
   ]
  },
  {
   "cell_type": "code",
   "execution_count": 25,
   "id": "c7d52a13",
   "metadata": {},
   "outputs": [
    {
     "name": "stdout",
     "output_type": "stream",
     "text": [
      "I Love Python\n"
     ]
    }
   ],
   "source": [
    " def Demo():\n",
    "     print(S)\n",
    "\n",
    " S='I Love Python'\n",
    " Demo()"
   ]
  },
  {
   "cell_type": "markdown",
   "id": "79284eea",
   "metadata": {},
   "source": [
    "## THE return STATEMENT:\n"
   ]
  },
  {
   "cell_type": "code",
   "execution_count": 7,
   "id": "5f39e7ef",
   "metadata": {},
   "outputs": [],
   "source": [
    " def f(x):\n",
    "     y = 2\n",
    "     print(x*y)"
   ]
  },
  {
   "cell_type": "code",
   "execution_count": 8,
   "id": "20006aad",
   "metadata": {},
   "outputs": [
    {
     "name": "stdout",
     "output_type": "stream",
     "text": [
      "6\n"
     ]
    }
   ],
   "source": [
    " z= f(3)"
   ]
  },
  {
   "cell_type": "code",
   "execution_count": 9,
   "id": "6c63d20d",
   "metadata": {},
   "outputs": [
    {
     "name": "stdout",
     "output_type": "stream",
     "text": [
      "None\n"
     ]
    }
   ],
   "source": [
    "print(z)"
   ]
  },
  {
   "cell_type": "code",
   "execution_count": 10,
   "id": "f0f38ad0",
   "metadata": {},
   "outputs": [],
   "source": [
    " def f2(x):\n",
    "     y = 2\n",
    "     return(x*y)\n",
    " z=f2(3)"
   ]
  },
  {
   "cell_type": "code",
   "execution_count": 11,
   "id": "47156fec",
   "metadata": {},
   "outputs": [
    {
     "name": "stdout",
     "output_type": "stream",
     "text": [
      "6\n"
     ]
    }
   ],
   "source": [
    "print(z)"
   ]
  },
  {
   "cell_type": "code",
   "execution_count": 12,
   "id": "e488a35d",
   "metadata": {},
   "outputs": [
    {
     "name": "stdout",
     "output_type": "stream",
     "text": [
      "Both the numbers are equal\n"
     ]
    }
   ],
   "source": [
    "\n",
    " def minimum(a, b):\n",
    "     if a < b:\n",
    "         return a\n",
    "     elif b < a:\n",
    "         return b\n",
    "     else:\n",
    "         return \"Both the numbers are equal\"\n",
    "\n",
    "\n",
    " x = minimum(85, 85)\n",
    " print(x)\n"
   ]
  },
  {
   "cell_type": "markdown",
   "id": "fb3eadb6",
   "metadata": {},
   "source": [
    "## Returning Multiple Values\n"
   ]
  },
  {
   "cell_type": "code",
   "execution_count": 15,
   "id": "4a54baa4",
   "metadata": {},
   "outputs": [
    {
     "name": "stdout",
     "output_type": "stream",
     "text": [
      "Mohit=28.2743, Masahat=18.8496\n"
     ]
    }
   ],
   "source": [
    "from math import pi\n",
    "def calc_circle(r):\n",
    "    s=round(pi*r**2,4)\n",
    "    p=round(2*pi*r,4)\n",
    "    return s,p\n",
    "\n",
    "mohit,masahat=calc_circle(3)\n",
    "print(f\"Mohit={mohit}, Masahat={masahat}\")"
   ]
  },
  {
   "cell_type": "code",
   "execution_count": 16,
   "id": "e3167d75",
   "metadata": {},
   "outputs": [
    {
     "data": {
      "text/plain": [
       "(28.2743, 18.8496)"
      ]
     },
     "execution_count": 16,
     "metadata": {},
     "output_type": "execute_result"
    }
   ],
   "source": [
    "x=calc_circle(3)\n",
    "x"
   ]
  },
  {
   "cell_type": "code",
   "execution_count": null,
   "id": "87c9b638",
   "metadata": {},
   "outputs": [],
   "source": []
  }
 ],
 "metadata": {
  "kernelspec": {
   "display_name": "Python 3 (ipykernel)",
   "language": "python",
   "name": "python3"
  },
  "language_info": {
   "codemirror_mode": {
    "name": "ipython",
    "version": 3
   },
   "file_extension": ".py",
   "mimetype": "text/x-python",
   "name": "python",
   "nbconvert_exporter": "python",
   "pygments_lexer": "ipython3",
   "version": "3.9.13"
  }
 },
 "nbformat": 4,
 "nbformat_minor": 5
}
