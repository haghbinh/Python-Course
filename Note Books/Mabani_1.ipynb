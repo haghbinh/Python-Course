{
 "cells": [
  {
   "cell_type": "markdown",
   "id": "1dd60fd7",
   "metadata": {},
   "source": [
    "## Keywords\n",
    "\n",
    "and del from None True </br>\n",
    "as elif global nonlocal try</br>\n",
    "assert else if not while</br>\n",
    "break except import or with</br>\n",
    "class False in pass yield</br>\n",
    "continue fi nally is raise</br>\n",
    "def for lambda return</br>"
   ]
  },
  {
   "cell_type": "code",
   "execution_count": 1,
   "id": "d2ce34f0",
   "metadata": {
    "scrolled": false
   },
   "outputs": [
    {
     "name": "stdout",
     "output_type": "stream",
     "text": [
      "32\n"
     ]
    }
   ],
   "source": [
    "x = 32\n",
    "print(x)"
   ]
  },
  {
   "cell_type": "code",
   "execution_count": 3,
   "id": "f73bed7c",
   "metadata": {},
   "outputs": [
    {
     "data": {
      "text/plain": [
       "float"
      ]
     },
     "execution_count": 3,
     "metadata": {},
     "output_type": "execute_result"
    }
   ],
   "source": [
    "x=4.0\n",
    "type(x)"
   ]
  },
  {
   "cell_type": "markdown",
   "id": "a600736f",
   "metadata": {},
   "source": [
    "## Operator  عملگرها\n",
    "\n",
    "عملگرهای حسابی Arithmetic Operator:   + - * / // % ** </br>\n",
    "عملگرهای نسبیRelational Operator: == != <> <= >=  </br>\n",
    "Logical Operator:  and not or  </br>\n"
   ]
  },
  {
   "cell_type": "code",
   "execution_count": 5,
   "id": "9aae66a6",
   "metadata": {},
   "outputs": [
    {
     "data": {
      "text/plain": [
       "1.5"
      ]
     },
     "execution_count": 5,
     "metadata": {},
     "output_type": "execute_result"
    }
   ],
   "source": [
    "x = 10\n",
    "y = 15\n",
    "y/x"
   ]
  },
  {
   "cell_type": "code",
   "execution_count": 6,
   "id": "8735ba4a",
   "metadata": {},
   "outputs": [
    {
     "data": {
      "text/plain": [
       "1"
      ]
     },
     "execution_count": 6,
     "metadata": {},
     "output_type": "execute_result"
    }
   ],
   "source": [
    "y//x"
   ]
  },
  {
   "cell_type": "code",
   "execution_count": 7,
   "id": "d18b6d91",
   "metadata": {},
   "outputs": [
    {
     "data": {
      "text/plain": [
       "5"
      ]
     },
     "execution_count": 7,
     "metadata": {},
     "output_type": "execute_result"
    }
   ],
   "source": [
    "y%x"
   ]
  },
  {
   "cell_type": "code",
   "execution_count": 8,
   "id": "8abb32b7",
   "metadata": {},
   "outputs": [
    {
     "data": {
      "text/plain": [
       "100"
      ]
     },
     "execution_count": 8,
     "metadata": {},
     "output_type": "execute_result"
    }
   ],
   "source": [
    "x**2"
   ]
  },
  {
   "cell_type": "code",
   "execution_count": 9,
   "id": "58bd6ec7",
   "metadata": {},
   "outputs": [
    {
     "data": {
      "text/plain": [
       "False"
      ]
     },
     "execution_count": 9,
     "metadata": {},
     "output_type": "execute_result"
    }
   ],
   "source": [
    "x == 100/5"
   ]
  },
  {
   "cell_type": "code",
   "execution_count": 10,
   "id": "6421fe16",
   "metadata": {},
   "outputs": [
    {
     "data": {
      "text/plain": [
       "20.0"
      ]
     },
     "execution_count": 10,
     "metadata": {},
     "output_type": "execute_result"
    }
   ],
   "source": [
    "x = 100/5\n",
    "x"
   ]
  },
  {
   "cell_type": "code",
   "execution_count": 11,
   "id": "8803039c",
   "metadata": {},
   "outputs": [
    {
     "data": {
      "text/plain": [
       "True"
      ]
     },
     "execution_count": 11,
     "metadata": {},
     "output_type": "execute_result"
    }
   ],
   "source": [
    "x == 20"
   ]
  },
  {
   "cell_type": "code",
   "execution_count": 12,
   "id": "ec6e13a6",
   "metadata": {},
   "outputs": [
    {
     "data": {
      "text/plain": [
       "True"
      ]
     },
     "execution_count": 12,
     "metadata": {},
     "output_type": "execute_result"
    }
   ],
   "source": [
    "x!=y"
   ]
  },
  {
   "cell_type": "code",
   "execution_count": 18,
   "id": "c7ded25b",
   "metadata": {},
   "outputs": [
    {
     "data": {
      "text/plain": [
       "True"
      ]
     },
     "execution_count": 18,
     "metadata": {},
     "output_type": "execute_result"
    }
   ],
   "source": [
    "(x%2==0) and (x>5)"
   ]
  },
  {
   "cell_type": "code",
   "execution_count": 20,
   "id": "675add32",
   "metadata": {},
   "outputs": [],
   "source": [
    "x=10"
   ]
  },
  {
   "cell_type": "code",
   "execution_count": 22,
   "id": "00ff2180",
   "metadata": {},
   "outputs": [
    {
     "data": {
      "text/plain": [
       "True"
      ]
     },
     "execution_count": 22,
     "metadata": {},
     "output_type": "execute_result"
    }
   ],
   "source": [
    "(8<=x) and (x<15)"
   ]
  },
  {
   "cell_type": "code",
   "execution_count": 25,
   "id": "ef3d43be",
   "metadata": {},
   "outputs": [
    {
     "data": {
      "text/plain": [
       "True"
      ]
     },
     "execution_count": 25,
     "metadata": {},
     "output_type": "execute_result"
    }
   ],
   "source": [
    "8<=x<15"
   ]
  },
  {
   "cell_type": "code",
   "execution_count": 26,
   "id": "bcb53195",
   "metadata": {},
   "outputs": [
    {
     "data": {
      "text/plain": [
       "True"
      ]
     },
     "execution_count": 26,
     "metadata": {},
     "output_type": "execute_result"
    }
   ],
   "source": [
    "(x%5==0) or (x%3==0)"
   ]
  },
  {
   "cell_type": "markdown",
   "id": "ceab78d0",
   "metadata": {},
   "source": [
    "## Delimiter\n",
    "\n",
    "symbols that perform a special role</br>\n",
    "\n",
    "( )   [ ]   { } , : . ‘ = ; += -= *= /= //= %= &= |= ^= >>= <<= **="
   ]
  },
  {
   "cell_type": "code",
   "execution_count": 27,
   "id": "9e74d23f",
   "metadata": {},
   "outputs": [
    {
     "data": {
      "text/plain": [
       "4"
      ]
     },
     "execution_count": 27,
     "metadata": {},
     "output_type": "execute_result"
    }
   ],
   "source": [
    "x = 1\n",
    "x += 3   # x = x+3\n",
    "x"
   ]
  },
  {
   "cell_type": "code",
   "execution_count": 37,
   "id": "2e8cc551",
   "metadata": {},
   "outputs": [
    {
     "data": {
      "text/plain": [
       "12"
      ]
     },
     "execution_count": 37,
     "metadata": {},
     "output_type": "execute_result"
    }
   ],
   "source": [
    "x = 123\n",
    "x //= 10   \n",
    "x"
   ]
  },
  {
   "cell_type": "code",
   "execution_count": null,
   "id": "4a97317a",
   "metadata": {},
   "outputs": [],
   "source": [
    "x = 10\n",
    "x *= 3   \n",
    "x"
   ]
  },
  {
   "cell_type": "markdown",
   "id": "c5a473bd",
   "metadata": {},
   "source": [
    "# DATA TYPE   نوع داده ها"
   ]
  },
  {
   "cell_type": "code",
   "execution_count": 38,
   "id": "40911296",
   "metadata": {
    "scrolled": true
   },
   "outputs": [
    {
     "data": {
      "text/plain": [
       "int"
      ]
     },
     "execution_count": 38,
     "metadata": {},
     "output_type": "execute_result"
    }
   ],
   "source": [
    "x=123\n",
    "type(x)"
   ]
  },
  {
   "cell_type": "code",
   "execution_count": 39,
   "id": "10add28d",
   "metadata": {},
   "outputs": [
    {
     "data": {
      "text/plain": [
       "float"
      ]
     },
     "execution_count": 39,
     "metadata": {},
     "output_type": "execute_result"
    }
   ],
   "source": [
    "type(12.654)"
   ]
  },
  {
   "cell_type": "code",
   "execution_count": 43,
   "id": "a119b9fc",
   "metadata": {
    "scrolled": true
   },
   "outputs": [
    {
     "data": {
      "text/plain": [
       "str"
      ]
     },
     "execution_count": 43,
     "metadata": {},
     "output_type": "execute_result"
    }
   ],
   "source": [
    "z='Hello World'\n",
    "type(z)"
   ]
  },
  {
   "cell_type": "markdown",
   "id": "b403d612",
   "metadata": {},
   "source": [
    "## Integer  عدد صحیح"
   ]
  },
  {
   "cell_type": "code",
   "execution_count": 45,
   "id": "4a5f4bae",
   "metadata": {},
   "outputs": [
    {
     "data": {
      "text/plain": [
       "int"
      ]
     },
     "execution_count": 45,
     "metadata": {},
     "output_type": "execute_result"
    }
   ],
   "source": [
    "x = 134\n",
    "type(x)"
   ]
  },
  {
   "cell_type": "code",
   "execution_count": 46,
   "id": "a8afc595",
   "metadata": {},
   "outputs": [
    {
     "data": {
      "text/plain": [
       "float"
      ]
     },
     "execution_count": 46,
     "metadata": {},
     "output_type": "execute_result"
    }
   ],
   "source": [
    "x = 134.2\n",
    "type(x)"
   ]
  },
  {
   "cell_type": "code",
   "execution_count": 8,
   "id": "d17fe3e6",
   "metadata": {},
   "outputs": [
    {
     "data": {
      "text/plain": [
       "12"
      ]
     },
     "execution_count": 8,
     "metadata": {},
     "output_type": "execute_result"
    }
   ],
   "source": [
    "int(12.456)"
   ]
  },
  {
   "cell_type": "code",
   "execution_count": 47,
   "id": "3a01d587",
   "metadata": {},
   "outputs": [
    {
     "data": {
      "text/plain": [
       "123"
      ]
     },
     "execution_count": 47,
     "metadata": {},
     "output_type": "execute_result"
    }
   ],
   "source": [
    "int('123')"
   ]
  },
  {
   "cell_type": "code",
   "execution_count": 49,
   "id": "ed96528c",
   "metadata": {},
   "outputs": [
    {
     "data": {
      "text/plain": [
       "str"
      ]
     },
     "execution_count": 49,
     "metadata": {},
     "output_type": "execute_result"
    }
   ],
   "source": [
    "x='123'\n",
    "type(x)"
   ]
  },
  {
   "cell_type": "code",
   "execution_count": 52,
   "id": "bae634da",
   "metadata": {},
   "outputs": [
    {
     "data": {
      "text/plain": [
       "123"
      ]
     },
     "execution_count": 52,
     "metadata": {},
     "output_type": "execute_result"
    }
   ],
   "source": [
    "y = int(x)\n",
    "y"
   ]
  },
  {
   "cell_type": "code",
   "execution_count": 54,
   "id": "d3136d3c",
   "metadata": {},
   "outputs": [
    {
     "data": {
      "text/plain": [
       "int"
      ]
     },
     "execution_count": 54,
     "metadata": {},
     "output_type": "execute_result"
    }
   ],
   "source": [
    "type(y)"
   ]
  },
  {
   "cell_type": "code",
   "execution_count": 55,
   "id": "89c15c9b",
   "metadata": {},
   "outputs": [
    {
     "ename": "ValueError",
     "evalue": "invalid literal for int() with base 10: 'Hossein'",
     "output_type": "error",
     "traceback": [
      "\u001b[1;31m---------------------------------------------------------------------------\u001b[0m",
      "\u001b[1;31mValueError\u001b[0m                                Traceback (most recent call last)",
      "\u001b[1;32m~\\AppData\\Local\\Temp/ipykernel_7452/3551336580.py\u001b[0m in \u001b[0;36m<module>\u001b[1;34m\u001b[0m\n\u001b[1;32m----> 1\u001b[1;33m \u001b[0mint\u001b[0m\u001b[1;33m(\u001b[0m\u001b[1;34m'Hossein'\u001b[0m\u001b[1;33m)\u001b[0m\u001b[1;33m\u001b[0m\u001b[1;33m\u001b[0m\u001b[0m\n\u001b[0m",
      "\u001b[1;31mValueError\u001b[0m: invalid literal for int() with base 10: 'Hossein'"
     ]
    }
   ],
   "source": [
    "int('Hossein')"
   ]
  },
  {
   "cell_type": "markdown",
   "id": "697e6b38",
   "metadata": {},
   "source": [
    "## Floating Point Number"
   ]
  },
  {
   "cell_type": "code",
   "execution_count": 62,
   "id": "6c4619e9",
   "metadata": {},
   "outputs": [
    {
     "data": {
      "text/plain": [
       "float"
      ]
     },
     "execution_count": 62,
     "metadata": {},
     "output_type": "execute_result"
    }
   ],
   "source": [
    "x = 37.0\n",
    "type(x)"
   ]
  },
  {
   "cell_type": "code",
   "execution_count": 63,
   "id": "1ebb3314",
   "metadata": {},
   "outputs": [
    {
     "data": {
      "text/plain": [
       "37.0"
      ]
     },
     "execution_count": 63,
     "metadata": {},
     "output_type": "execute_result"
    }
   ],
   "source": [
    "x"
   ]
  },
  {
   "cell_type": "code",
   "execution_count": 65,
   "id": "4b474826",
   "metadata": {},
   "outputs": [
    {
     "data": {
      "text/plain": [
       "37.0"
      ]
     },
     "execution_count": 65,
     "metadata": {},
     "output_type": "execute_result"
    }
   ],
   "source": [
    "# Scientific Notation نماد گذاری علمی\n",
    "x = 3.7e1\n",
    "x"
   ]
  },
  {
   "cell_type": "code",
   "execution_count": 66,
   "id": "52221c7f",
   "metadata": {},
   "outputs": [
    {
     "data": {
      "text/plain": [
       "370.0"
      ]
     },
     "execution_count": 66,
     "metadata": {},
     "output_type": "execute_result"
    }
   ],
   "source": [
    "x = 3.7e2\n",
    "x"
   ]
  },
  {
   "cell_type": "code",
   "execution_count": 68,
   "id": "ddea6c5b",
   "metadata": {},
   "outputs": [
    {
     "data": {
      "text/plain": [
       "10.0"
      ]
     },
     "execution_count": 68,
     "metadata": {},
     "output_type": "execute_result"
    }
   ],
   "source": [
    "x = '10'\n",
    "float(x)"
   ]
  },
  {
   "cell_type": "markdown",
   "id": "65e6b2d8",
   "metadata": {},
   "source": [
    "## Boolean Type  نوع بولین"
   ]
  },
  {
   "cell_type": "code",
   "execution_count": 70,
   "id": "8a9c5876",
   "metadata": {},
   "outputs": [
    {
     "data": {
      "text/plain": [
       "bool"
      ]
     },
     "execution_count": 70,
     "metadata": {},
     "output_type": "execute_result"
    }
   ],
   "source": [
    "type(True)"
   ]
  },
  {
   "cell_type": "code",
   "execution_count": 74,
   "id": "10dbc8cb",
   "metadata": {},
   "outputs": [
    {
     "data": {
      "text/plain": [
       "bool"
      ]
     },
     "execution_count": 74,
     "metadata": {},
     "output_type": "execute_result"
    }
   ],
   "source": [
    "x = False\n",
    "type(x)"
   ]
  },
  {
   "cell_type": "code",
   "execution_count": 76,
   "id": "7e85416e",
   "metadata": {},
   "outputs": [
    {
     "data": {
      "text/plain": [
       "False"
      ]
     },
     "execution_count": 76,
     "metadata": {},
     "output_type": "execute_result"
    }
   ],
   "source": [
    "x = (5 == 4)\n",
    "x"
   ]
  },
  {
   "cell_type": "markdown",
   "id": "613aa7d7",
   "metadata": {},
   "source": [
    "## String Type رشته ای"
   ]
  },
  {
   "cell_type": "code",
   "execution_count": 78,
   "id": "7c9c70ea",
   "metadata": {},
   "outputs": [
    {
     "data": {
      "text/plain": [
       "'Hello World'"
      ]
     },
     "execution_count": 78,
     "metadata": {},
     "output_type": "execute_result"
    }
   ],
   "source": [
    "D = 'Hello World'\n",
    "D"
   ]
  },
  {
   "cell_type": "code",
   "execution_count": 79,
   "id": "4cc4d5eb",
   "metadata": {},
   "outputs": [
    {
     "data": {
      "text/plain": [
       "str"
      ]
     },
     "execution_count": 79,
     "metadata": {},
     "output_type": "execute_result"
    }
   ],
   "source": [
    "type(D)"
   ]
  },
  {
   "cell_type": "code",
   "execution_count": 1,
   "id": "9288e35b",
   "metadata": {},
   "outputs": [],
   "source": [
    "Sentence = \"\"\" Hello, How are you? Welcome to\n",
    "the world of Python Programming. It is just the\n",
    "beginning. Let us move on to the next topic.\"\"\""
   ]
  },
  {
   "cell_type": "code",
   "execution_count": 2,
   "id": "2da1a35c",
   "metadata": {},
   "outputs": [
    {
     "data": {
      "text/plain": [
       "str"
      ]
     },
     "execution_count": 2,
     "metadata": {},
     "output_type": "execute_result"
    }
   ],
   "source": [
    "type(Sentence)"
   ]
  },
  {
   "cell_type": "code",
   "execution_count": 84,
   "id": "17948ebc",
   "metadata": {},
   "outputs": [
    {
     "name": "stdout",
     "output_type": "stream",
     "text": [
      " Hello, How are you? Welcome to\n",
      "the world of Python Programming. It is just the\n",
      "beginning. Let us move on to the next topic.\n"
     ]
    }
   ],
   "source": [
    "print(Sentence)"
   ]
  },
  {
   "cell_type": "code",
   "execution_count": 29,
   "id": "e363cbd1",
   "metadata": {},
   "outputs": [
    {
     "data": {
      "text/plain": [
       "'12.5'"
      ]
     },
     "execution_count": 29,
     "metadata": {},
     "output_type": "execute_result"
    }
   ],
   "source": [
    "str(12.5)"
   ]
  },
  {
   "cell_type": "code",
   "execution_count": 82,
   "id": "833072d3",
   "metadata": {},
   "outputs": [
    {
     "data": {
      "text/plain": [
       "'False'"
      ]
     },
     "execution_count": 82,
     "metadata": {},
     "output_type": "execute_result"
    }
   ],
   "source": [
    "x = (5 == 4)\n",
    "str(x)"
   ]
  },
  {
   "cell_type": "markdown",
   "id": "bdbbf816",
   "metadata": {},
   "source": [
    "# THE print() FUNCTION"
   ]
  },
  {
   "cell_type": "code",
   "execution_count": 88,
   "id": "063f1c6a",
   "metadata": {},
   "outputs": [
    {
     "name": "stdout",
     "output_type": "stream",
     "text": [
      "The flight attendant asked, 'May I see yourboarding pass'\n"
     ]
    }
   ],
   "source": [
    "print('The flight attendant asked, \\'May I see yourboarding pass\\'')"
   ]
  },
  {
   "cell_type": "code",
   "execution_count": 90,
   "id": "fe6183ef",
   "metadata": {},
   "outputs": [
    {
     "name": "stdout",
     "output_type": "stream",
     "text": [
      "The flight attendant asked,\n",
      " \"May I see yourboarding pass?\"\n"
     ]
    }
   ],
   "source": [
    "print(\"The flight attendant asked,\\n \\\"May I see yourboarding pass?\\\"\")"
   ]
  },
  {
   "cell_type": "code",
   "execution_count": 1,
   "id": "7ad07f46",
   "metadata": {},
   "outputs": [
    {
     "name": "stdout",
     "output_type": "stream",
     "text": [
      "The flight attendant asked,\t \"May I see yourboarding pass?\"\n"
     ]
    }
   ],
   "source": [
    "print(\"The flight attendant asked,\\t \\\"May I see yourboarding pass?\\\"\")"
   ]
  },
  {
   "cell_type": "code",
   "execution_count": 3,
   "id": "1b09079b",
   "metadata": {},
   "outputs": [
    {
     "name": "stdout",
     "output_type": "stream",
     "text": [
      "I am a \"statistics\" student.,\n",
      "I Love my major.\n"
     ]
    }
   ],
   "source": [
    "print(\"I am a \\\"statistics\\\" student.,\")\n",
    "print(\"I Love my major.\")"
   ]
  },
  {
   "cell_type": "code",
   "execution_count": 92,
   "id": "9f798782",
   "metadata": {},
   "outputs": [
    {
     "name": "stdout",
     "output_type": "stream",
     "text": [
      "Hello\n",
      "World\n",
      "Good Bye\n"
     ]
    }
   ],
   "source": [
    "print('Hello')\n",
    "print('World')\n",
    "print('Good Bye')"
   ]
  },
  {
   "cell_type": "code",
   "execution_count": 4,
   "id": "142036d8",
   "metadata": {},
   "outputs": [
    {
     "name": "stdout",
     "output_type": "stream",
     "text": [
      "Hello World**Good Bye\n"
     ]
    }
   ],
   "source": [
    "print('Hello World',end='**')\n",
    "print('Good Bye')"
   ]
  },
  {
   "cell_type": "code",
   "execution_count": 5,
   "id": "13953d5a",
   "metadata": {},
   "outputs": [
    {
     "name": "stdout",
     "output_type": "stream",
     "text": [
      "Hello World Good Bye\n"
     ]
    }
   ],
   "source": [
    "print('Hello World'+' Good Bye')"
   ]
  },
  {
   "cell_type": "code",
   "execution_count": 34,
   "id": "08fe66e5",
   "metadata": {},
   "outputs": [
    {
     "name": "stdout",
     "output_type": "stream",
     "text": [
      "Please enter x:65\n"
     ]
    },
    {
     "data": {
      "text/plain": [
       "65"
      ]
     },
     "execution_count": 34,
     "metadata": {},
     "output_type": "execute_result"
    }
   ],
   "source": [
    "x = eval(input('Please enter x:'))\n",
    "x"
   ]
  },
  {
   "cell_type": "code",
   "execution_count": 33,
   "id": "35d100ad",
   "metadata": {},
   "outputs": [
    {
     "data": {
      "text/plain": [
       "23"
      ]
     },
     "execution_count": 33,
     "metadata": {},
     "output_type": "execute_result"
    }
   ],
   "source": [
    "x"
   ]
  },
  {
   "cell_type": "code",
   "execution_count": 10,
   "id": "c1f0a7f8",
   "metadata": {},
   "outputs": [],
   "source": [
    "s = \"\"\" This\n",
    "is\n",
    "a note\"\"\""
   ]
  },
  {
   "cell_type": "code",
   "execution_count": 11,
   "id": "9f2c2400",
   "metadata": {},
   "outputs": [
    {
     "data": {
      "text/plain": [
       "str"
      ]
     },
     "execution_count": 11,
     "metadata": {},
     "output_type": "execute_result"
    }
   ],
   "source": [
    "type(s)"
   ]
  },
  {
   "cell_type": "code",
   "execution_count": 12,
   "id": "c9be02d2",
   "metadata": {},
   "outputs": [
    {
     "name": "stdout",
     "output_type": "stream",
     "text": [
      " This\n",
      "is\n",
      "a note\n"
     ]
    }
   ],
   "source": [
    "print(s)"
   ]
  },
  {
   "cell_type": "code",
   "execution_count": 13,
   "id": "adafbc90",
   "metadata": {},
   "outputs": [
    {
     "data": {
      "text/plain": [
       "' This\\nis\\na note'"
      ]
     },
     "execution_count": 13,
     "metadata": {},
     "output_type": "execute_result"
    }
   ],
   "source": [
    "s"
   ]
  },
  {
   "cell_type": "code",
   "execution_count": null,
   "id": "98038666",
   "metadata": {},
   "outputs": [],
   "source": []
  }
 ],
 "metadata": {
  "kernelspec": {
   "display_name": "Python 3 (ipykernel)",
   "language": "python",
   "name": "python3"
  },
  "language_info": {
   "codemirror_mode": {
    "name": "ipython",
    "version": 3
   },
   "file_extension": ".py",
   "mimetype": "text/x-python",
   "name": "python",
   "nbconvert_exporter": "python",
   "pygments_lexer": "ipython3",
   "version": "3.10.2"
  }
 },
 "nbformat": 4,
 "nbformat_minor": 5
}
