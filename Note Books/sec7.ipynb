{
 "cells": [
  {
   "cell_type": "markdown",
   "metadata": {},
   "source": [
    "#  فایل ها و اعتراض ها"
   ]
  },
  {
   "cell_type": "raw",
   "metadata": {},
   "source": [
    "مادامی که یک برنامه در حال اجرا است، داده هایش در حافظـه قـرار دارد. وقتـی برنامـه خاتمـه\n",
    "یافت و یا کامپیوتر خاموش شد، داده ها در حافظه ناپدید می شوند. بـراي نگهـداري داده هـا بـه صـورت\n",
    "دائمی باید آنها را در یک فایل بگذارید"
   ]
  },
  {
   "cell_type": "raw",
   "metadata": {},
   "source": [
    "کار کردن با فایل ها بسیار شبیه به کار با کتاب ها است. براي استفاده از یک کتاب شما بایـد آن\n",
    "را باز کنید. وقتی کارتان با کتاب تمام شد باید آن را ببندید. تا وقتی که کتاب باز است می توانید در آن\n",
    "بنویسید و یا از مطالبش بخوانید. "
   ]
  },
  {
   "cell_type": "raw",
   "metadata": {},
   "source": [
    "باز کردن یک فایل، یک شی فایل می سازد. "
   ]
  },
  {
   "cell_type": "code",
   "execution_count": 79,
   "metadata": {},
   "outputs": [
    {
     "data": {
      "text/plain": [
       "_io.TextIOWrapper"
      ]
     },
     "execution_count": 79,
     "metadata": {},
     "output_type": "execute_result"
    }
   ],
   "source": [
    "f = open('workfile.txt', 'w') # opens the workfile file\n",
    "type(f)\n"
   ]
  },
  {
   "cell_type": "code",
   "execution_count": 80,
   "metadata": {},
   "outputs": [],
   "source": [
    "f.write('This is a the line 1.\\nThis is the line 2.')\n",
    "f.write('\\nThis is a the line 3.')\n",
    "f.close()"
   ]
  },
  {
   "cell_type": "code",
   "execution_count": 81,
   "metadata": {},
   "outputs": [
    {
     "ename": "ValueError",
     "evalue": "I/O operation on closed file.",
     "output_type": "error",
     "traceback": [
      "\u001b[1;31m---------------------------------------------------------------------------\u001b[0m",
      "\u001b[1;31mValueError\u001b[0m                                Traceback (most recent call last)",
      "\u001b[1;32m<ipython-input-81-6acccbe7598d>\u001b[0m in \u001b[0;36m<module>\u001b[1;34m\u001b[0m\n\u001b[1;32m----> 1\u001b[1;33m \u001b[0mf\u001b[0m\u001b[1;33m.\u001b[0m\u001b[0mwrite\u001b[0m\u001b[1;33m(\u001b[0m\u001b[1;34m'\\nThis is a the  line 4.'\u001b[0m\u001b[1;33m)\u001b[0m\u001b[1;33m\u001b[0m\u001b[1;33m\u001b[0m\u001b[0m\n\u001b[0m",
      "\u001b[1;31mValueError\u001b[0m: I/O operation on closed file."
     ]
    }
   ],
   "source": [
    "f.write('\\nThis is a the  line 4.')"
   ]
  },
  {
   "cell_type": "code",
   "execution_count": 88,
   "metadata": {},
   "outputs": [
    {
     "data": {
      "text/plain": [
       "'This is a the line 1.\\nThis is the line 2.\\nThis is a the line 3.'"
      ]
     },
     "execution_count": 88,
     "metadata": {},
     "output_type": "execute_result"
    }
   ],
   "source": [
    "f = open('workfile.txt', 'r')\n",
    "s = f.read()\n",
    "s"
   ]
  },
  {
   "cell_type": "code",
   "execution_count": 83,
   "metadata": {},
   "outputs": [
    {
     "name": "stdout",
     "output_type": "stream",
     "text": [
      "This is a the line 1.\n",
      "This is the line 2.\n",
      "This is a the line 3.\n"
     ]
    }
   ],
   "source": [
    "print(s)"
   ]
  },
  {
   "cell_type": "raw",
   "metadata": {},
   "source": [
    "توجه شود که هربار که یک فایل را با سبک\n",
    "w\n",
    "می خوانیم فایل قبلی پاک می شود"
   ]
  },
  {
   "cell_type": "code",
   "execution_count": 60,
   "metadata": {},
   "outputs": [
    {
     "name": "stdout",
     "output_type": "stream",
     "text": [
      "This is a Test.\n"
     ]
    }
   ],
   "source": [
    "f = open('workfile.txt', 'w')\n",
    "f.write('This is a Test.')\n",
    "f.close()\n",
    "f = open('workfile.txt', 'r')\n",
    "s = f.read()\n",
    "print(s)"
   ]
  },
  {
   "cell_type": "raw",
   "metadata": {},
   "source": [
    "برای هر بار خواندن نیاز به دستور\n",
    "open\n",
    "می باشد"
   ]
  },
  {
   "cell_type": "code",
   "execution_count": 62,
   "metadata": {},
   "outputs": [
    {
     "name": "stdout",
     "output_type": "stream",
     "text": [
      "\n"
     ]
    }
   ],
   "source": [
    "s = f.read()\n",
    "print(s)"
   ]
  },
  {
   "cell_type": "code",
   "execution_count": 63,
   "metadata": {},
   "outputs": [
    {
     "name": "stdout",
     "output_type": "stream",
     "text": [
      "This is a Test.\n"
     ]
    }
   ],
   "source": [
    "f = open('workfile.txt', 'r')\n",
    "s = f.read()\n",
    "print(s)"
   ]
  },
  {
   "cell_type": "code",
   "execution_count": 143,
   "metadata": {},
   "outputs": [],
   "source": [
    "f = open('workfile2.txt', 'w')\n",
    "f.write('This is a the line 1.\\nThis is the line 2.')\n",
    "f.write('\\nThis is a the line 3.\\nThis is the line 4.')\n",
    "f.close()"
   ]
  },
  {
   "cell_type": "raw",
   "metadata": {},
   "source": [
    "می توان فقط تعداد مشخصی از کاراکترهای یک فایل را خواند"
   ]
  },
  {
   "cell_type": "code",
   "execution_count": 85,
   "metadata": {},
   "outputs": [
    {
     "name": "stdout",
     "output_type": "stream",
     "text": [
      "This is a the line 1.\n",
      "This is the line 2.\n"
     ]
    }
   ],
   "source": [
    "f = open('workfile2.txt', 'r')\n",
    "s = f.read(41)\n",
    "print(s)"
   ]
  },
  {
   "cell_type": "code",
   "execution_count": 92,
   "metadata": {},
   "outputs": [
    {
     "data": {
      "text/plain": [
       "['This is a the line 1.\\n',\n",
       " 'This is the line 2.\\n',\n",
       " 'This is a the line 3.\\n',\n",
       " 'This is the line 4.']"
      ]
     },
     "execution_count": 92,
     "metadata": {},
     "output_type": "execute_result"
    }
   ],
   "source": [
    "f = open('workfile2.txt', 'r')\n",
    "s1 = f.readlines()\n",
    "s1"
   ]
  },
  {
   "cell_type": "code",
   "execution_count": 144,
   "metadata": {
    "scrolled": true
   },
   "outputs": [
    {
     "data": {
      "text/plain": [
       "['This is a the line 1.',\n",
       " 'This is the line 2.',\n",
       " 'This is a the line 3.',\n",
       " 'This is the line 4.']"
      ]
     },
     "execution_count": 144,
     "metadata": {},
     "output_type": "execute_result"
    }
   ],
   "source": [
    "f2 = open('workfile2.txt', 'r+')\n",
    "s2  = f2.read()\n",
    "s2.splitlines()"
   ]
  },
  {
   "cell_type": "code",
   "execution_count": 145,
   "metadata": {},
   "outputs": [],
   "source": [
    "f2.write(\"\\nThis is the line 5.\")\n",
    "f2.close()"
   ]
  },
  {
   "cell_type": "raw",
   "metadata": {},
   "source": [
    "تمرین\n",
    "تابعی بتویسید که یک فایل متنی را دریافت کند \n",
    "و یک لیست که هر عضو آن شامل یک سطر کامل از فایل باشد را برگرداند. "
   ]
  },
  {
   "cell_type": "code",
   "execution_count": 102,
   "metadata": {},
   "outputs": [
    {
     "data": {
      "text/plain": [
       "['This is a the line 1.',\n",
       " 'This is the line 2.',\n",
       " 'This is a the line 3.',\n",
       " 'This is the line 4.']"
      ]
     },
     "execution_count": 102,
     "metadata": {},
     "output_type": "execute_result"
    }
   ],
   "source": [
    "f2 = open('workfile2.txt', 'r')\n",
    "s2  = f2.read()\n",
    "mylist = s2.splitlines()\n",
    "mylist"
   ]
  },
  {
   "cell_type": "code",
   "execution_count": 146,
   "metadata": {},
   "outputs": [
    {
     "data": {
      "text/plain": [
       "['This is a the line 1.',\n",
       " 'This is the line 2.',\n",
       " 'This is a the line 3.',\n",
       " 'This is the line 4.',\n",
       " 'This is the line 5.']"
      ]
     },
     "execution_count": 146,
     "metadata": {},
     "output_type": "execute_result"
    }
   ],
   "source": [
    "f2 = open('workfile2.txt', 'r')\n",
    "s2  = f2.read()\n",
    "s2.splitlines()"
   ]
  },
  {
   "cell_type": "markdown",
   "metadata": {},
   "source": [
    "# دایرکتوري ها"
   ]
  },
  {
   "cell_type": "markdown",
   "metadata": {},
   "source": [
    "### خواندن از مسیرهای خاص"
   ]
  },
  {
   "cell_type": "markdown",
   "metadata": {},
   "source": [
    "وقتی که شما فایلی را بـهوسـیلۀ بـازکردن و نوشـتن بـر روي آن مـیسـازید، \n",
    "فایـل جدیـد بـه دایرکتوري جاري میرود )هر جا که شما برنامه را اجرا کردهاید.\n",
    "( بـهطـور مشـابه وقتـی فـایلی را بـراي\n",
    "خواندن باز میکنید، \n",
    "پایتون در دایرکتوري جاري به دنبال آن میگردد\n",
    "اگر میخواهید فایلی را در جاي دیگري باز کنید، \n",
    "باید مسیري براي فایـل مشـخص کنیـد کـه\n",
    "این مسیر دایرکتوري )پوشهاي( است که فایل در آن قرار گرفته است:"
   ]
  },
  {
   "cell_type": "code",
   "execution_count": 147,
   "metadata": {},
   "outputs": [
    {
     "data": {
      "text/plain": [
       "['This is a the line 1.',\n",
       " 'This is the line 2.',\n",
       " 'This is a the line 3.',\n",
       " 'This is the line 4.',\n",
       " 'This is the line 5.']"
      ]
     },
     "execution_count": 147,
     "metadata": {},
     "output_type": "execute_result"
    }
   ],
   "source": [
    "f3 = open('C://python/workfile3.txt', 'r')\n",
    "s3  = f3.read()\n",
    "s3.splitlines()"
   ]
  },
  {
   "cell_type": "markdown",
   "metadata": {},
   "source": [
    "### نوشتن اعداد در فایل ها"
   ]
  },
  {
   "cell_type": "code",
   "execution_count": 163,
   "metadata": {},
   "outputs": [
    {
     "data": {
      "text/plain": [
       "'2'"
      ]
     },
     "execution_count": 163,
     "metadata": {},
     "output_type": "execute_result"
    }
   ],
   "source": [
    "f4 = open('workfile4.txt', 'w')\n",
    "f4.write(str(2))\n",
    "f4.close()\n",
    "s4"
   ]
  },
  {
   "cell_type": "code",
   "execution_count": 162,
   "metadata": {},
   "outputs": [
    {
     "data": {
      "text/plain": [
       "2"
      ]
     },
     "execution_count": 162,
     "metadata": {},
     "output_type": "execute_result"
    }
   ],
   "source": [
    "f4 = open('workfile4.txt', 'r')\n",
    "s4 = f4.read()\n",
    "int(s4)"
   ]
  },
  {
   "cell_type": "code",
   "execution_count": null,
   "metadata": {},
   "outputs": [],
   "source": []
  },
  {
   "cell_type": "raw",
   "metadata": {},
   "source": [
    "تمرین\n",
    "تابعی بنویسید که نام یک فایل را دریافت کند و بعد از باز کزدن و خواندن فایل\n",
    "خطوطی را که در ابتدای آنها علامت\n",
    "#\n",
    "وجود دارد را حذف کند و سپس با نامی مشابه با نام اولیه به اضافه پسوند عدد 2 ذخیره کند.\n",
    "مثلا اگر فایل ورودی \n",
    "workfile.txt\n",
    "باشد فایل خروجی\n",
    "workfile2.txt\n",
    "باشد."
   ]
  },
  {
   "cell_type": "markdown",
   "metadata": {},
   "source": [
    "# اعتراض"
   ]
  },
  {
   "cell_type": "markdown",
   "metadata": {},
   "source": [
    "هر زمان که یک خطاي زمان اجرا اتفاق می افتد، \n",
    "مفسر پایتون یک اعتراض را تولیـد مـی کنـد.\n",
    "\n",
    "در این حالت معمولاً برنامه متوقف می شود و پایتون پیغام خطایی را چاپ می کند.\n",
    "\n",
    "براي مثال تقسیم بر صفر یک اعتراض میسازد:"
   ]
  },
  {
   "cell_type": "code",
   "execution_count": 2,
   "metadata": {},
   "outputs": [
    {
     "ename": "ZeroDivisionError",
     "evalue": "division by zero",
     "output_type": "error",
     "traceback": [
      "\u001b[1;31m---------------------------------------------------------------------------\u001b[0m",
      "\u001b[1;31mZeroDivisionError\u001b[0m                         Traceback (most recent call last)",
      "\u001b[1;32m<ipython-input-2-e8326a161779>\u001b[0m in \u001b[0;36m<module>\u001b[1;34m\u001b[0m\n\u001b[1;32m----> 1\u001b[1;33m \u001b[1;36m2\u001b[0m\u001b[1;33m/\u001b[0m\u001b[1;36m0\u001b[0m\u001b[1;33m\u001b[0m\u001b[1;33m\u001b[0m\u001b[0m\n\u001b[0m",
      "\u001b[1;31mZeroDivisionError\u001b[0m: division by zero"
     ]
    }
   ],
   "source": [
    "2/0"
   ]
  },
  {
   "cell_type": "markdown",
   "metadata": {},
   "source": [
    "همچنین دستیابی به عنصري از لیست که وجود ندارد"
   ]
  },
  {
   "cell_type": "code",
   "execution_count": 3,
   "metadata": {},
   "outputs": [
    {
     "ename": "IndexError",
     "evalue": "list index out of range",
     "output_type": "error",
     "traceback": [
      "\u001b[1;31m---------------------------------------------------------------------------\u001b[0m",
      "\u001b[1;31mIndexError\u001b[0m                                Traceback (most recent call last)",
      "\u001b[1;32m<ipython-input-3-fe2176671edf>\u001b[0m in \u001b[0;36m<module>\u001b[1;34m\u001b[0m\n\u001b[0;32m      1\u001b[0m \u001b[0ma\u001b[0m \u001b[1;33m=\u001b[0m \u001b[1;33m[\u001b[0m\u001b[1;36m2\u001b[0m\u001b[1;33m,\u001b[0m\u001b[1;36m6\u001b[0m\u001b[1;33m,\u001b[0m\u001b[1;36m1\u001b[0m\u001b[1;33m]\u001b[0m\u001b[1;33m\u001b[0m\u001b[1;33m\u001b[0m\u001b[0m\n\u001b[1;32m----> 2\u001b[1;33m \u001b[0ma\u001b[0m\u001b[1;33m[\u001b[0m\u001b[1;36m5\u001b[0m\u001b[1;33m]\u001b[0m\u001b[1;33m\u001b[0m\u001b[1;33m\u001b[0m\u001b[0m\n\u001b[0m",
      "\u001b[1;31mIndexError\u001b[0m: list index out of range"
     ]
    }
   ],
   "source": [
    "a = [2,6,1]\n",
    "a[5]"
   ]
  },
  {
   "cell_type": "markdown",
   "metadata": {},
   "source": [
    "گاهی اوقات ما می خواهیم عملیاتی را که میتواند به یک اعتراض منجر شـود، اجـرا کنـیم، \n",
    "\n",
    "امـا\n",
    "نمی خـواهیم برنامـه متوقـف شـود. \n",
    "مـا مـی تـوانیم بـه وسـیلۀ دسـتورات\n",
    "\n",
    "tryو\n",
    "except\n",
    "\n",
    "از اعتـراض\n",
    "پیشگیري کنیم."
   ]
  },
  {
   "cell_type": "markdown",
   "metadata": {},
   "source": [
    "براي مثال ممکن است ما به کاربر اعلان کنیم که نام فایلی را وارد کند و سپس سعی کنیم کـه\n",
    "\n",
    "آن فایل را باز کنیم. اگر فایل وجود نداشت، ما نمی خواهیم که برنامه خراب شـود بلکـه مـی خـواهیم از\n",
    "اعتراض پیشگیري کنیم"
   ]
  },
  {
   "cell_type": "code",
   "execution_count": 29,
   "metadata": {},
   "outputs": [],
   "source": [
    "def f0():\n",
    "    try:\n",
    "        filename = input('Please inter a file name: ')\n",
    "        f = open (filename, \"r\")\n",
    "        return(f)\n",
    "    except:\n",
    "        print ('There is no file named', filename)\n",
    "        return(0)"
   ]
  },
  {
   "cell_type": "code",
   "execution_count": 31,
   "metadata": {},
   "outputs": [
    {
     "name": "stdout",
     "output_type": "stream",
     "text": [
      "Please inter a file name: qwew\n",
      "There is no file named qwew\n"
     ]
    }
   ],
   "source": [
    "f=f0()"
   ]
  },
  {
   "cell_type": "code",
   "execution_count": 32,
   "metadata": {},
   "outputs": [
    {
     "data": {
      "text/plain": [
       "0"
      ]
     },
     "execution_count": 32,
     "metadata": {},
     "output_type": "execute_result"
    }
   ],
   "source": [
    "f"
   ]
  },
  {
   "cell_type": "markdown",
   "metadata": {},
   "source": [
    "### تمرین:"
   ]
  },
  {
   "cell_type": "raw",
   "metadata": {},
   "source": [
    "الف) برنامه ای بنویسید که نام و سن کاربر را از کیبورد دریافت کرده و پیغام زیر را برای یک کاربر با نام\n",
    "......\n",
    "و \n",
    "سن\n",
    ".......\n",
    "چاپ کند\n",
    "'My name is ...... and I am ..... years old.'\n",
    "\n",
    "ب) برنامه را طوری تغییر دهید که اگر فرد یکی از اطلاعات خود را وارد نکرد \n",
    "پیغامی چاپ کند که مجددا از او درخواست ورود اطلاعات مورد نظر را کند"
   ]
  },
  {
   "cell_type": "markdown",
   "metadata": {},
   "source": [
    "### تمرین:"
   ]
  },
  {
   "cell_type": "raw",
   "metadata": {},
   "source": [
    "تابعی بنویسید که ورودی آن عددی طبیعی باشد که نشان دهنده تعداد افراد باشد و \n",
    "سپس نام و سن همان تعداد کاربر را از کیبورد دریافت کرده و به صورت دو ستون در یک فایل به نام\n",
    "\n",
    "data.txt\n",
    "\n",
    "ذخیره کند به طوری که نام ستون اول \n",
    "\n",
    "name\n",
    "\n",
    "و نام ستون دوم\n",
    "\n",
    "age\n",
    "\n",
    "باشد.\n",
    "\n",
    "ب) برنامه را طوری تغییر دهید که در اگر کاربر تعداد را عددی منفی وارد نمود پیغامی چاپ کند که از او درخواست کند مجدد عدد درست را وارد کند"
   ]
  },
  {
   "cell_type": "code",
   "execution_count": null,
   "metadata": {},
   "outputs": [],
   "source": []
  }
 ],
 "metadata": {
  "kernelspec": {
   "display_name": "Python 3",
   "language": "python",
   "name": "python3"
  },
  "language_info": {
   "codemirror_mode": {
    "name": "ipython",
    "version": 3
   },
   "file_extension": ".py",
   "mimetype": "text/x-python",
   "name": "python",
   "nbconvert_exporter": "python",
   "pygments_lexer": "ipython3",
   "version": "3.7.1"
  }
 },
 "nbformat": 4,
 "nbformat_minor": 2
}
