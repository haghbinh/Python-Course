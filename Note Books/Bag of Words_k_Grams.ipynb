{
 "cells": [
  {
   "cell_type": "markdown",
   "id": "c097f913",
   "metadata": {},
   "source": [
    "# Bag of Words/ k-Grams Models in Python"
   ]
  },
  {
   "cell_type": "markdown",
   "id": "48c61e28",
   "metadata": {},
   "source": [
    "#### Example page 66 of the book Jeff M. Phillips"
   ]
  },
  {
   "cell_type": "code",
   "execution_count": 17,
   "id": "f94c73d8",
   "metadata": {},
   "outputs": [],
   "source": [
    "D1 = \"I am Sam\"\n",
    "D2 = \"Sam I am\"\n",
    "D3 = \"I do not like jelly and ham\"\n",
    "D4 = \"I do not do not like them Sam I am\"\n",
    "corpus = [D1,D2,D3,D4]"
   ]
  },
  {
   "cell_type": "code",
   "execution_count": 18,
   "id": "886c6ffa",
   "metadata": {},
   "outputs": [
    {
     "data": {
      "text/plain": [
       "array(['am', 'and', 'do', 'ham', 'jelly', 'like', 'not', 'sam', 'them'],\n",
       "      dtype=object)"
      ]
     },
     "execution_count": 18,
     "metadata": {},
     "output_type": "execute_result"
    }
   ],
   "source": [
    "from sklearn.feature_extraction.text import CountVectorizer\n",
    "vectorizer = CountVectorizer()\n",
    "X = vectorizer.fit_transform(corpus)\n",
    "vectorizer.get_feature_names_out()"
   ]
  },
  {
   "cell_type": "code",
   "execution_count": 6,
   "id": "0ab6a1f1",
   "metadata": {},
   "outputs": [
    {
     "name": "stdout",
     "output_type": "stream",
     "text": [
      "[[1 0 0 0 0 0 0 1 0]\n",
      " [1 0 0 0 0 0 0 1 0]\n",
      " [0 1 1 1 1 1 1 0 0]\n",
      " [1 0 2 0 0 1 2 1 1]]\n"
     ]
    }
   ],
   "source": [
    "V = X.toarray()\n",
    "print(V)"
   ]
  },
  {
   "cell_type": "code",
   "execution_count": 20,
   "id": "13ccc555",
   "metadata": {},
   "outputs": [],
   "source": [
    "import numpy as np\n",
    "from numpy import linalg as LA\n",
    "import scipy as sp\n",
    "from scipy import stats\n",
    "\n",
    "v1=V[0]\n",
    "v2=V[1]\n",
    "v3=V[2]\n",
    "v4=V[3]"
   ]
  },
  {
   "cell_type": "code",
   "execution_count": 21,
   "id": "253c8034",
   "metadata": {},
   "outputs": [
    {
     "name": "stdout",
     "output_type": "stream",
     "text": [
      "[0.0, 2.8284271247461903, 3.1622776601683795, 2.8284271247461903, 3.1622776601683795, 2.8284271247461903]\n"
     ]
    }
   ],
   "source": [
    "#Euclidean distance\n",
    "print([LA.norm(v1-v2), LA.norm(v1-v3), LA.norm(v1-v4), LA.norm(v2-v3),\n",
    "LA.norm(v2-v4), LA.norm(v3-v4)])"
   ]
  },
  {
   "cell_type": "code",
   "execution_count": 22,
   "id": "b00cfbfb",
   "metadata": {},
   "outputs": [
    {
     "name": "stdout",
     "output_type": "stream",
     "text": [
      "[2.220446049250313e-16, 1.0, 0.591751709536137, 1.0, 0.591751709536137, 0.41074434901121026]\n"
     ]
    }
   ],
   "source": [
    "#normalized vectors\n",
    "v1n = v1/LA.norm(v1)\n",
    "v2n = v2/LA.norm(v2)\n",
    "v3n = v3/LA.norm(v3)\n",
    "v4n = v4/LA.norm(v4)\n",
    "#Cosine distance\n",
    "print([1-v1n.dot(v2n), 1-v1n.dot(v3n), 1-v1n.dot(v4n), 1-v2n.dot(v3n),1-v2n.dot(v4n),1-v3n.dot(v4n)])"
   ]
  },
  {
   "cell_type": "code",
   "execution_count": 26,
   "id": "05897b6d",
   "metadata": {},
   "outputs": [
    {
     "name": "stdout",
     "output_type": "stream",
     "text": [
      "[0.0, 0.0, 5.397539620055548, 1.2585515031329115]\n",
      "[0.0, 0.0, 5.397539620055548, 1.2585515031329115]\n",
      "[3.507745528051499, 3.507745528051499, 0.0, 2.329174258587312]\n",
      "[2.4341532798280534, 2.4341532798280534, 1.769401650184088, 0.0]\n"
     ]
    }
   ],
   "source": [
    "#regularizer required for KL (it cannot handle 0 terms)\n",
    "reg = 0.01\n",
    "v1r = v1+reg\n",
    "v2r = v2+reg\n",
    "v3r = v3+reg\n",
    "v4r = v4+reg\n",
    "\n",
    "# KL-divergence (the entropy function L1-normalizes vectors internally)\n",
    "print([stats.entropy(v1r,v1r),\n",
    "       stats.entropy(v1r,v2r),\n",
    "       stats.entropy(v1r,v3r),\n",
    "       stats.entropy(v1r,v4r)])\n",
    "\n",
    "print([stats.entropy(v2r,v1r),\n",
    "       stats.entropy(v2r,v2r),\n",
    "       stats.entropy(v2r,v3r),\n",
    "       stats.entropy(v2r,v4r)])\n",
    "\n",
    "print([stats.entropy(v3r,v1r),\n",
    "       stats.entropy(v3r,v2r),\n",
    "       stats.entropy(v3r,v3r),\n",
    "       stats.entropy(v3r,v4r)])\n",
    "\n",
    "print([stats.entropy(v4r,v1r),\n",
    "       stats.entropy(v4r,v2r),\n",
    "       stats.entropy(v4r,v3r),\n",
    "       stats.entropy(v4r,v4r)])"
   ]
  },
  {
   "cell_type": "markdown",
   "id": "a5fb81b6",
   "metadata": {},
   "source": [
    "#  k-Grams"
   ]
  },
  {
   "cell_type": "markdown",
   "id": "2e601496",
   "metadata": {},
   "source": [
    "##### Example of the page 70  book Jeff M. Phillips"
   ]
  },
  {
   "cell_type": "code",
   "execution_count": 19,
   "id": "7cf589d0",
   "metadata": {},
   "outputs": [
    {
     "name": "stdout",
     "output_type": "stream",
     "text": [
      "[{('am', 'Sam'), ('I', 'am')}, {('Sam', 'I'), ('I', 'am')}, {('jelly', 'and'), ('not', 'like'), ('and', 'ham'), ('I', 'do'), ('do', 'not'), ('like', 'jelly')}, {('not', 'like'), ('Sam', 'I'), ('I', 'am'), ('I', 'do'), ('do', 'not'), ('them', 'Sam'), ('like', 'them'), ('not', 'do')}]\n"
     ]
    }
   ],
   "source": [
    "from nltk import ngrams\n",
    "n = 2\n",
    "G = list()\n",
    "for x in corpus:\n",
    "    twograms = ngrams(x.split(), n)\n",
    "    G.append(set(twograms))\n",
    "\n",
    "print(G)"
   ]
  },
  {
   "cell_type": "code",
   "execution_count": 20,
   "id": "f2bb6d24",
   "metadata": {},
   "outputs": [],
   "source": [
    "G1=G[0]\n",
    "G2=G[1]\n",
    "G3=G[2]\n",
    "G4=G[3]"
   ]
  },
  {
   "cell_type": "code",
   "execution_count": 21,
   "id": "4851c2fc",
   "metadata": {},
   "outputs": [],
   "source": [
    "# Define the jaccard distance\n",
    "def jacard(x,y):\n",
    "    return 1-len(x.intersection(y))/len(x.union(y))"
   ]
  },
  {
   "cell_type": "code",
   "execution_count": 77,
   "id": "e43c21fc",
   "metadata": {},
   "outputs": [
    {
     "name": "stdout",
     "output_type": "stream",
     "text": [
      "[[0.    0.667 1.    0.889]\n",
      " [0.667 0.    1.    0.75 ]\n",
      " [1.    1.    0.    0.727]\n",
      " [0.889 0.75  0.727 0.   ]]\n"
     ]
    }
   ],
   "source": [
    "import numpy as np\n",
    "d_J = np.zeros((4,4))\n",
    "for i in range(4):\n",
    "    Gi = G[i]\n",
    "    for j in range(4):\n",
    "        Gj = G[j]\n",
    "        d_J[i,j] = round(jacard(Gi,Gj),3)\n",
    "print(d_J)"
   ]
  },
  {
   "cell_type": "code",
   "execution_count": null,
   "id": "5ce01305",
   "metadata": {},
   "outputs": [],
   "source": []
  }
 ],
 "metadata": {
  "kernelspec": {
   "display_name": "Python 3 (ipykernel)",
   "language": "python",
   "name": "python3"
  },
  "language_info": {
   "codemirror_mode": {
    "name": "ipython",
    "version": 3
   },
   "file_extension": ".py",
   "mimetype": "text/x-python",
   "name": "python",
   "nbconvert_exporter": "python",
   "pygments_lexer": "ipython3",
   "version": "3.11.0"
  }
 },
 "nbformat": 4,
 "nbformat_minor": 5
}
