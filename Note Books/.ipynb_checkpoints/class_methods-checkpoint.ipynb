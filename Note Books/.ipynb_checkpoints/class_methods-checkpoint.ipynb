{
 "cells": [
  {
   "cell_type": "markdown",
   "metadata": {},
   "source": [
    "<div style=\"text-align: right\"> \n",
    "\n",
    "#  کلاس ها و متدها\n",
    "\n",
    "</div>"
   ]
  },
  {
   "cell_type": "markdown",
   "metadata": {},
   "source": [
    "<div style=\"text-align: right\"> \n",
    "همانطور که گفته شده یک کلاس شامل دو نوع عضو می باشد: 1- فیلدها یا صفت ها 2- توابع عضو یا متدها\n",
    "درباره فیلدها و روش های تعریف آنها و بکارگیری آنها در فصل های قبل بحث شد. در اینجا می خواهیم درباره متدهای یک کلاس بحث کنیم.\n",
    "هر متـد بـه یـک کـلاس\n",
    "متصل است و براي احضار بر روي اشیاء تولید شده از کلاس بوجود آمده است.\n",
    "    \n",
    "<div style=\"text-align: right\">\n",
    " متدها درست شبیه به توابعند اما دو تفاوت دارند\n",
    "\n",
    "\n",
    "<div style=\"text-align: right\"> \n",
    " متدها درون تعریف یک کلاس تعریف می شوند، به طوريکه رابطـه اي بـین کـلاس و متـد\n",
    "صریح به وجود می آید\n",
    " \n",
    "<div style=\"text-align: right\"> \n",
    " نحوة نگارش براي احضار یک متد با نحوة فراخوانی یک تابع متفاوت است.\n",
    "</div>"
   ]
  },
  {
   "cell_type": "markdown",
   "metadata": {},
   "source": [
    "<div style=\"text-align: right\"> \n",
    "<span style=\"color:blue\">\n",
    "    \n",
    "### مثال:  شی زمان\n",
    "</span>\n",
    "</div>"
   ]
  },
  {
   "cell_type": "markdown",
   "metadata": {},
   "source": [
    "<div style=\"text-align: right\"> \n",
    "شی زمان فصل قبل را دوباره در نظر بگیرید و تلاش کنید که برای آن دستور چاپ بنویسید."
   ]
  },
  {
   "cell_type": "code",
   "execution_count": 2,
   "metadata": {},
   "outputs": [],
   "source": [
    "class Time:\n",
    "    pass"
   ]
  },
  {
   "cell_type": "code",
   "execution_count": 3,
   "metadata": {},
   "outputs": [],
   "source": [
    "def printTime(Time):\n",
    "    print(Time.hours,\":\",Time.minutes,\":\",Time.seconds)"
   ]
  },
  {
   "cell_type": "code",
   "execution_count": 5,
   "metadata": {},
   "outputs": [
    {
     "name": "stdout",
     "output_type": "stream",
     "text": [
      "9 : 14 : 30\n"
     ]
    }
   ],
   "source": [
    "currentTime = Time()\n",
    "currentTime.hours = 9\n",
    "currentTime.minutes = 14\n",
    "currentTime.seconds = 30\n",
    "printTime(currentTime)"
   ]
  },
  {
   "cell_type": "markdown",
   "metadata": {},
   "source": [
    "<div style=\"text-align: right\"> \n",
    "براي اینکه  این تابع را به یک متد تبدیل کنیم، تمام کاري که باید انجـام دهـیم انتقـال\n",
    "تعریف تابع درون تعریف کلاس است."
   ]
  },
  {
   "cell_type": "code",
   "execution_count": 7,
   "metadata": {},
   "outputs": [],
   "source": [
    "class Time:\n",
    "    def printTime(Time):\n",
    "        print(Time.hours,\":\",Time.minutes,\":\",Time.seconds)"
   ]
  },
  {
   "cell_type": "markdown",
   "metadata": {},
   "source": [
    "<div style=\"text-align: right\"> \n",
    "حال ما می توانیم با استفاده از نشانه گذاري نقطه  این متد را احضار کنیم"
   ]
  },
  {
   "cell_type": "code",
   "execution_count": 9,
   "metadata": {},
   "outputs": [
    {
     "name": "stdout",
     "output_type": "stream",
     "text": [
      "9 : 14 : 30\n"
     ]
    }
   ],
   "source": [
    "currentTime = Time()\n",
    "currentTime.hours = 9\n",
    "currentTime.minutes = 14\n",
    "currentTime.seconds = 30\n",
    "currentTime.printTime()"
   ]
  },
  {
   "cell_type": "markdown",
   "metadata": {},
   "source": [
    "<div style=\"text-align: right\"> \n",
    " شیئی که متد بر روي آن احضار شده، به پارامتر اول متد نسبت داده می شود\n",
    "بنا به قرارداد پارامتر اول متد\n",
    "    \n",
    "    self\n",
    "    \n",
    "    نامیده میشود "
   ]
  },
  {
   "cell_type": "markdown",
   "metadata": {},
   "source": [
    "<div style=\"text-align: right\"> \n",
    "<span style=\"color:blue\">\n",
    "    \n",
    "### مثالی دیگر\n",
    "</span>\n",
    "</div>"
   ]
  },
  {
   "cell_type": "code",
   "execution_count": 10,
   "metadata": {},
   "outputs": [],
   "source": [
    "class Time:\n",
    "    def printTime(Time):\n",
    "        print(Time.hours,\":\",Time.minutes,\":\",Time.seconds)\n",
    "    def increment(self, seconds):\n",
    "        self.seconds = seconds + self.seconds\n",
    "        while self.seconds >= 60:\n",
    "            self.seconds = self.seconds - 60\n",
    "            self.minutes = self.minutes + 1\n",
    "        while self.minutes >= 60:\n",
    "            self.minutes = self.minutes - 60\n",
    "            self.hours = self.hours + 1"
   ]
  },
  {
   "cell_type": "code",
   "execution_count": 12,
   "metadata": {},
   "outputs": [
    {
     "name": "stdout",
     "output_type": "stream",
     "text": [
      "9 : 22 : 50\n"
     ]
    }
   ],
   "source": [
    "currentTime = Time()\n",
    "currentTime.hours = 9\n",
    "currentTime.minutes = 14\n",
    "currentTime.seconds = 30\n",
    "currentTime.increment(500)\n",
    "currentTime.printTime()"
   ]
  },
  {
   "cell_type": "markdown",
   "metadata": {},
   "source": [
    "<div style=\"text-align: right\"> \n",
    "<span style=\"color:blue\">\n",
    "    \n",
    "### مقدار دهی اولیه\n",
    "</span>\n",
    "</div>"
   ]
  },
  {
   "cell_type": "markdown",
   "metadata": {},
   "source": [
    "<div style=\"text-align: right\"> \n",
    "متد مقداردهی اولیه متد ویژهاي است که هنگام ساختن یک شیء احضار میشـود. نـام ایـن\n",
    "متد\n",
    "\n",
    "<div style=\"text-align: right\"> \n",
    "__ init__\n",
    "\n",
    "<div style=\"text-align: right\"> \n",
    "است\n"
   ]
  },
  {
   "cell_type": "code",
   "execution_count": 2,
   "metadata": {},
   "outputs": [],
   "source": [
    "class Time:\n",
    "    def __init__(self, hours=0, minutes=0, seconds=0):\n",
    "        self.hours = hours\n",
    "        self.minutes = minutes\n",
    "        self.seconds = seconds\n",
    "    def printTime(Time):\n",
    "        print(Time.hours,\":\",Time.minutes,\":\",Time.seconds)\n",
    "    def increment(self, seconds):\n",
    "        self.seconds = seconds + self.seconds\n",
    "        while self.seconds >= 60:\n",
    "            self.seconds = self.seconds - 60\n",
    "            self.minutes = self.minutes + 1\n",
    "        while self.minutes >= 60:\n",
    "            self.minutes = self.minutes - 60\n",
    "            self.hours = self.hours + 1"
   ]
  },
  {
   "cell_type": "code",
   "execution_count": 3,
   "metadata": {},
   "outputs": [
    {
     "name": "stdout",
     "output_type": "stream",
     "text": [
      "9 : 14 : 30\n"
     ]
    }
   ],
   "source": [
    "currentTime = Time(9, 14, 30)\n",
    "currentTime.printTime()"
   ]
  },
  {
   "cell_type": "code",
   "execution_count": 4,
   "metadata": {},
   "outputs": [
    {
     "name": "stdout",
     "output_type": "stream",
     "text": [
      "9 : 14 : 0\n"
     ]
    }
   ],
   "source": [
    "currentTime = Time (9, 14)\n",
    "currentTime.printTime()"
   ]
  },
  {
   "cell_type": "code",
   "execution_count": 6,
   "metadata": {},
   "outputs": [
    {
     "name": "stdout",
     "output_type": "stream",
     "text": [
      "9 : 0 : 30\n"
     ]
    }
   ],
   "source": [
    "currentTime = Time(seconds = 30, hours = 9)\n",
    "currentTime.printTime()"
   ]
  },
  {
   "cell_type": "markdown",
   "metadata": {},
   "source": [
    "<div style=\"text-align: right\"> \n",
    "<span style=\"color:blue\">\n",
    "    \n",
    "## باردهی اضافی عملگر"
   ]
  },
  {
   "cell_type": "markdown",
   "metadata": {},
   "source": [
    "<div style=\"text-align: right\"> \n",
    "بعضی زبانهـا، تغییـر تعریـف عملگرهـاي پـیش سـاخته را وقتـی کـه بـه وسـیلۀ انـواع داده هاي\n",
    "کاربر-تعریف استفاده می شوند، ممکن می سازند. این خصیصه باردهی اضافی عملگر نامیده مـی شـود.\n"
   ]
  },
  {
   "cell_type": "markdown",
   "metadata": {},
   "source": [
    "<div style=\"text-align: right\"> \n",
    "<span style=\"color:blue\">\n",
    "    \n",
    "### مثالی دیگر از نقطه\n",
    "</span>\n",
    "</div>"
   ]
  },
  {
   "cell_type": "code",
   "execution_count": 23,
   "metadata": {},
   "outputs": [],
   "source": [
    "class Point:\n",
    "    def __init__(self, x=0, y=0):\n",
    "        self.x = x\n",
    "        self.y = y\n",
    "    def __str__(self):\n",
    "        return '(' + str(self.x) + ', ' + str(self.y) + ')'"
   ]
  },
  {
   "cell_type": "code",
   "execution_count": 24,
   "metadata": {},
   "outputs": [
    {
     "data": {
      "text/plain": [
       "'(3, 4)'"
      ]
     },
     "execution_count": 24,
     "metadata": {},
     "output_type": "execute_result"
    }
   ],
   "source": [
    "p = Point(3, 4)\n",
    "str(p)"
   ]
  },
  {
   "cell_type": "code",
   "execution_count": 25,
   "metadata": {},
   "outputs": [
    {
     "name": "stdout",
     "output_type": "stream",
     "text": [
      "(3, 4)\n"
     ]
    }
   ],
   "source": [
    "print(p)"
   ]
  },
  {
   "cell_type": "markdown",
   "metadata": {},
   "source": [
    "<div style=\"text-align: right\"> \n",
    "<span style=\"color:blue\">\n",
    "    \n",
    "### مثالی دیگر \n",
    "</span>\n",
    "</div>"
   ]
  },
  {
   "cell_type": "code",
   "execution_count": 29,
   "metadata": {},
   "outputs": [],
   "source": [
    "class Point:\n",
    "    def __init__(self, x=0, y=0):\n",
    "        self.x = x\n",
    "        self.y = y\n",
    "    def __str__(self):\n",
    "        return '(' + str(self.x) + ', ' + str(self.y) + ')'\n",
    "    def __add__(self, other):\n",
    "        return Point(self.x + other.x, self.y + other.y)"
   ]
  },
  {
   "cell_type": "code",
   "execution_count": 32,
   "metadata": {},
   "outputs": [
    {
     "name": "stdout",
     "output_type": "stream",
     "text": [
      "(8, 11)\n"
     ]
    }
   ],
   "source": [
    "p1 = Point(3, 4)\n",
    "p2 = Point(5, 7)\n",
    "p3 = p1 + p2\n",
    "print (p3)"
   ]
  },
  {
   "cell_type": "code",
   "execution_count": 37,
   "metadata": {},
   "outputs": [],
   "source": [
    "class Point:\n",
    "    def __init__(self, x=0, y=0):\n",
    "        self.x = x\n",
    "        self.y = y\n",
    "    def __str__(self):\n",
    "        return '(' + str(self.x) + ', ' + str(self.y) + ')'\n",
    "    def __add__(self, other):\n",
    "        return Point(self.x + other.x, self.y + other.y)\n",
    "    def __mul__(self, other):\n",
    "        return self.x * other.x + self.y * other.y"
   ]
  },
  {
   "cell_type": "code",
   "execution_count": 38,
   "metadata": {},
   "outputs": [
    {
     "name": "stdout",
     "output_type": "stream",
     "text": [
      "43\n"
     ]
    }
   ],
   "source": [
    "p1 = Point(3, 4)\n",
    "p2 = Point(5, 7)\n",
    "print (p1 * p2)"
   ]
  },
  {
   "cell_type": "code",
   "execution_count": 42,
   "metadata": {},
   "outputs": [],
   "source": [
    "class Point:\n",
    "    def __init__(self, x=0, y=0):\n",
    "        self.x = x\n",
    "        self.y = y\n",
    "    def __str__(self):\n",
    "        return '(' + str(self.x) + ', ' + str(self.y) + ')'\n",
    "    def __add__(self, other):\n",
    "        return Point(self.x + other.x, self.y + other.y)\n",
    "    def __mul__(self, other):\n",
    "        return self.x * other.x + self.y * other.y\n",
    "    def __rmul__(self, other):\n",
    "        return Point(other * self.x, other * self.y)"
   ]
  },
  {
   "cell_type": "code",
   "execution_count": 46,
   "metadata": {},
   "outputs": [
    {
     "name": "stdout",
     "output_type": "stream",
     "text": [
      "(6, 8)\n"
     ]
    }
   ],
   "source": [
    "p2 = Point(3, 4)\n",
    "print (2 * p2)"
   ]
  },
  {
   "cell_type": "code",
   "execution_count": 48,
   "metadata": {},
   "outputs": [
    {
     "ename": "AttributeError",
     "evalue": "'int' object has no attribute 'x'",
     "output_type": "error",
     "traceback": [
      "\u001b[1;31m---------------------------------------------------------------------------\u001b[0m",
      "\u001b[1;31mAttributeError\u001b[0m                            Traceback (most recent call last)",
      "\u001b[1;32m<ipython-input-48-a174ed46980d>\u001b[0m in \u001b[0;36m<module>\u001b[1;34m\u001b[0m\n\u001b[1;32m----> 1\u001b[1;33m \u001b[0mprint\u001b[0m \u001b[1;33m(\u001b[0m\u001b[0mp2\u001b[0m \u001b[1;33m*\u001b[0m \u001b[1;36m2\u001b[0m\u001b[1;33m)\u001b[0m\u001b[1;33m\u001b[0m\u001b[1;33m\u001b[0m\u001b[0m\n\u001b[0m",
      "\u001b[1;32m<ipython-input-42-80f0f8cc2a60>\u001b[0m in \u001b[0;36m__mul__\u001b[1;34m(self, other)\u001b[0m\n\u001b[0;32m      8\u001b[0m         \u001b[1;32mreturn\u001b[0m \u001b[0mPoint\u001b[0m\u001b[1;33m(\u001b[0m\u001b[0mself\u001b[0m\u001b[1;33m.\u001b[0m\u001b[0mx\u001b[0m \u001b[1;33m+\u001b[0m \u001b[0mother\u001b[0m\u001b[1;33m.\u001b[0m\u001b[0mx\u001b[0m\u001b[1;33m,\u001b[0m \u001b[0mself\u001b[0m\u001b[1;33m.\u001b[0m\u001b[0my\u001b[0m \u001b[1;33m+\u001b[0m \u001b[0mother\u001b[0m\u001b[1;33m.\u001b[0m\u001b[0my\u001b[0m\u001b[1;33m)\u001b[0m\u001b[1;33m\u001b[0m\u001b[1;33m\u001b[0m\u001b[0m\n\u001b[0;32m      9\u001b[0m     \u001b[1;32mdef\u001b[0m \u001b[0m__mul__\u001b[0m\u001b[1;33m(\u001b[0m\u001b[0mself\u001b[0m\u001b[1;33m,\u001b[0m \u001b[0mother\u001b[0m\u001b[1;33m)\u001b[0m\u001b[1;33m:\u001b[0m\u001b[1;33m\u001b[0m\u001b[1;33m\u001b[0m\u001b[0m\n\u001b[1;32m---> 10\u001b[1;33m         \u001b[1;32mreturn\u001b[0m \u001b[0mself\u001b[0m\u001b[1;33m.\u001b[0m\u001b[0mx\u001b[0m \u001b[1;33m*\u001b[0m \u001b[0mother\u001b[0m\u001b[1;33m.\u001b[0m\u001b[0mx\u001b[0m \u001b[1;33m+\u001b[0m \u001b[0mself\u001b[0m\u001b[1;33m.\u001b[0m\u001b[0my\u001b[0m \u001b[1;33m*\u001b[0m \u001b[0mother\u001b[0m\u001b[1;33m.\u001b[0m\u001b[0my\u001b[0m\u001b[1;33m\u001b[0m\u001b[1;33m\u001b[0m\u001b[0m\n\u001b[0m\u001b[0;32m     11\u001b[0m     \u001b[1;32mdef\u001b[0m \u001b[0m__rmul__\u001b[0m\u001b[1;33m(\u001b[0m\u001b[0mself\u001b[0m\u001b[1;33m,\u001b[0m \u001b[0mother\u001b[0m\u001b[1;33m)\u001b[0m\u001b[1;33m:\u001b[0m\u001b[1;33m\u001b[0m\u001b[1;33m\u001b[0m\u001b[0m\n\u001b[0;32m     12\u001b[0m         \u001b[1;32mreturn\u001b[0m \u001b[0mPoint\u001b[0m\u001b[1;33m(\u001b[0m\u001b[0mother\u001b[0m \u001b[1;33m*\u001b[0m \u001b[0mself\u001b[0m\u001b[1;33m.\u001b[0m\u001b[0mx\u001b[0m\u001b[1;33m,\u001b[0m \u001b[0mother\u001b[0m \u001b[1;33m*\u001b[0m \u001b[0mself\u001b[0m\u001b[1;33m.\u001b[0m\u001b[0my\u001b[0m\u001b[1;33m)\u001b[0m\u001b[1;33m\u001b[0m\u001b[1;33m\u001b[0m\u001b[0m\n",
      "\u001b[1;31mAttributeError\u001b[0m: 'int' object has no attribute 'x'"
     ]
    }
   ],
   "source": [
    "print (p2 * 2)"
   ]
  },
  {
   "cell_type": "code",
   "execution_count": null,
   "metadata": {},
   "outputs": [],
   "source": []
  }
 ],
 "metadata": {
  "kernelspec": {
   "display_name": "Python 3 (ipykernel)",
   "language": "python",
   "name": "python3"
  },
  "language_info": {
   "codemirror_mode": {
    "name": "ipython",
    "version": 3
   },
   "file_extension": ".py",
   "mimetype": "text/x-python",
   "name": "python",
   "nbconvert_exporter": "python",
   "pygments_lexer": "ipython3",
   "version": "3.9.13"
  }
 },
 "nbformat": 4,
 "nbformat_minor": 2
}
