{
 "cells": [
  {
   "cell_type": "markdown",
   "metadata": {},
   "source": [
    "<div style=\"text-align: right\"> \n",
    "\n",
    "# کلاسها و توابع\n",
    "\n",
    "</div>"
   ]
  },
  {
   "cell_type": "markdown",
   "metadata": {},
   "source": [
    "<div style=\"text-align: right\"> \n",
    "هدف ما در ایـن فصـل ارتبـاط اشـکال مختلـف\n",
    "توابع با انواع دادهاي کاربر-تعریف است\n",
    "</div>"
   ]
  },
  {
   "cell_type": "markdown",
   "metadata": {},
   "source": [
    "<div style=\"text-align: right\"> \n",
    "<span style=\"color:blue\">\n",
    "    \n",
    "### مثال: تعریف شی زمان\n",
    "</span>\n",
    "</div>"
   ]
  },
  {
   "cell_type": "code",
   "execution_count": 3,
   "metadata": {},
   "outputs": [],
   "source": [
    "class Time:\n",
    "    pass"
   ]
  },
  {
   "cell_type": "code",
   "execution_count": 9,
   "metadata": {},
   "outputs": [],
   "source": [
    "time = Time()\n",
    "time.hours = 11\n",
    "time.minutes = 59\n",
    "time.seconds = 30"
   ]
  },
  {
   "cell_type": "code",
   "execution_count": 20,
   "metadata": {},
   "outputs": [],
   "source": [
    "def addTime(t1, t2):\n",
    "    sum = Time()\n",
    "    sum.hours = t1.hours + t2.hours\n",
    "    sum.minutes = t1.minutes + t2.minutes\n",
    "    sum.seconds = t1.seconds + t2.seconds\n",
    "    return (sum)"
   ]
  },
  {
   "cell_type": "code",
   "execution_count": 23,
   "metadata": {},
   "outputs": [],
   "source": [
    "def addTime(t1, t2):\n",
    "    sum = Time()\n",
    "    sum.hours = t1.hours + t2.hours\n",
    "    sum.minutes = t1.minutes + t2.minutes\n",
    "    sum.seconds = t1.seconds + t2.seconds\n",
    "    return (sum)"
   ]
  },
  {
   "cell_type": "code",
   "execution_count": 28,
   "metadata": {},
   "outputs": [],
   "source": [
    "def printTime(Time):\n",
    "    print(Time.hours,\":\",Time.minutes,\":\",Time.seconds)"
   ]
  },
  {
   "cell_type": "code",
   "execution_count": 35,
   "metadata": {},
   "outputs": [
    {
     "name": "stdout",
     "output_type": "stream",
     "text": [
      "12 : 49 : 30\n"
     ]
    }
   ],
   "source": [
    "Time1 = Time()\n",
    "Time1.hours = 9\n",
    "Time1.minutes = 14\n",
    "Time1.seconds = 30\n",
    "Time2 = Time()\n",
    "Time2.hours = 3\n",
    "Time2.minutes = 35\n",
    "Time2.seconds = 0\n",
    "doneTime = addTime(Time1, Time2)\n",
    "printTime(doneTime)"
   ]
  },
  {
   "cell_type": "markdown",
   "metadata": {},
   "source": [
    "<div style=\"text-align: right\"> \n",
    "مشکل آنجا است که این تابع وقتی که تعداد ثانیه ها یا دقایق بیشتر از شصت میشـود درسـت\n",
    "عمل نمی کند. وقتی این حالت اتفاق می افتد ما مجبوریم ثانیه هاي اضافی را بـه سـتون دقیقـه هـا و یـا\n",
    "دقیقه هاي اضافی را به ستون ساعت ها انتقال دهیم"
   ]
  },
  {
   "cell_type": "code",
   "execution_count": 32,
   "metadata": {},
   "outputs": [],
   "source": [
    "def addTime(t1, t2):\n",
    "    sum = Time()\n",
    "    sum.hours = t1.hours + t2.hours\n",
    "    sum.minutes = t1.minutes + t2.minutes\n",
    "    sum.seconds = t1.seconds + t2.seconds\n",
    "    if sum.seconds >= 60:\n",
    "        sum.seconds = sum.seconds - 60\n",
    "        sum.minutes = sum.minutes + 1\n",
    "    if sum.minutes >= 60:\n",
    "        sum.minutes = sum.minutes - 60\n",
    "        sum.hours = sum.hours + 1\n",
    "    return (sum)"
   ]
  },
  {
   "cell_type": "code",
   "execution_count": 42,
   "metadata": {},
   "outputs": [
    {
     "name": "stdout",
     "output_type": "stream",
     "text": [
      "12 : 50 : 10\n"
     ]
    }
   ],
   "source": [
    "Time1 = Time()\n",
    "Time1.hours = 9\n",
    "Time1.minutes = 14\n",
    "Time1.seconds = 30\n",
    "Time2 = Time()\n",
    "Time2.hours = 3\n",
    "Time2.minutes = 35\n",
    "Time2.seconds = 40\n",
    "doneTime = addTime(Time1, Time2)\n",
    "printTime(doneTime)"
   ]
  },
  {
   "cell_type": "markdown",
   "metadata": {},
   "source": [
    "<div style=\"text-align: right\"> \n",
    "<span style=\"color:blue\">\n",
    "    \n",
    "### مثال: تابع تغییر دهنده\n",
    "</span>\n",
    "</div>"
   ]
  },
  {
   "cell_type": "code",
   "execution_count": 44,
   "metadata": {},
   "outputs": [],
   "source": [
    "def increment(time, seconds):\n",
    "    time.seconds = time.seconds + seconds\n",
    "    if time.seconds >= 60:\n",
    "        time.seconds = time.seconds - 60\n",
    "        time.minutes = time.minutes + 1\n",
    "    if time.minutes >= 60:\n",
    "        time.minutes = time.minutes - 60\n",
    "        time.hours = time.hours + 1"
   ]
  },
  {
   "cell_type": "code",
   "execution_count": 46,
   "metadata": {},
   "outputs": [
    {
     "name": "stdout",
     "output_type": "stream",
     "text": [
      "9 : 14 : 30\n"
     ]
    }
   ],
   "source": [
    "printTime(Time1)"
   ]
  },
  {
   "cell_type": "code",
   "execution_count": 49,
   "metadata": {},
   "outputs": [
    {
     "name": "stdout",
     "output_type": "stream",
     "text": [
      "9 : 16 : 15\n"
     ]
    }
   ],
   "source": [
    "increment(Time1,35)\n",
    "printTime(Time1)"
   ]
  },
  {
   "cell_type": "markdown",
   "metadata": {},
   "source": [
    "<div style=\"text-align: right\"> \n",
    "توابعی که بـه ایـن صـورت کار میکنند تغییردهنده نامیده میشوند\n",
    "    در این توابع شی ای که به عنوان پارامتر برای آنها فرستاده می شود تغییر می کند"
   ]
  },
  {
   "cell_type": "markdown",
   "metadata": {},
   "source": [
    "<div style=\"text-align: right\"> \n",
    "<span style=\"color:blue\">\n",
    "    \n",
    "### روش دیگر\n",
    "</span>\n",
    "</div>"
   ]
  },
  {
   "cell_type": "code",
   "execution_count": 51,
   "metadata": {},
   "outputs": [],
   "source": [
    "def convertToSeconds(t):\n",
    "    minutes = t.hours * 60 + t.minutes\n",
    "    seconds = minutes * 60 + t.seconds\n",
    "    return (seconds)"
   ]
  },
  {
   "cell_type": "code",
   "execution_count": 53,
   "metadata": {},
   "outputs": [],
   "source": [
    "def makeTime(seconds):\n",
    "    time = Time()\n",
    "    time.hours = seconds/3600\n",
    "    seconds = seconds - time.hours * 3600\n",
    "    time.minutes = seconds/60\n",
    "    seconds = seconds - time.minutes * 60\n",
    "    time.seconds = seconds\n",
    "    return (time)"
   ]
  },
  {
   "cell_type": "code",
   "execution_count": 55,
   "metadata": {},
   "outputs": [],
   "source": [
    "def addTime(t1, t2):\n",
    "    seconds = convertToSeconds(t1) + convertToSeconds(t2)\n",
    "    return (makeTime(seconds))"
   ]
  },
  {
   "cell_type": "code",
   "execution_count": null,
   "metadata": {},
   "outputs": [],
   "source": []
  }
 ],
 "metadata": {
  "kernelspec": {
   "display_name": "Python 3",
   "language": "python",
   "name": "python3"
  },
  "language_info": {
   "codemirror_mode": {
    "name": "ipython",
    "version": 3
   },
   "file_extension": ".py",
   "mimetype": "text/x-python",
   "name": "python",
   "nbconvert_exporter": "python",
   "pygments_lexer": "ipython3",
   "version": "3.7.1"
  }
 },
 "nbformat": 4,
 "nbformat_minor": 2
}
