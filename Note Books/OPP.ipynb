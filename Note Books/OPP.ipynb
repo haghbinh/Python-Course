{
 "cells": [
  {
   "cell_type": "code",
   "execution_count": 1,
   "id": "57576339",
   "metadata": {},
   "outputs": [
    {
     "data": {
      "text/plain": [
       "str"
      ]
     },
     "execution_count": 1,
     "metadata": {},
     "output_type": "execute_result"
    }
   ],
   "source": [
    "x = \"hossein haghbin\"\n",
    "type(x)"
   ]
  },
  {
   "cell_type": "code",
   "execution_count": 2,
   "id": "86d7991b",
   "metadata": {},
   "outputs": [
    {
     "data": {
      "text/plain": [
       "2"
      ]
     },
     "execution_count": 2,
     "metadata": {},
     "output_type": "execute_result"
    }
   ],
   "source": [
    "x.count('s')"
   ]
  },
  {
   "cell_type": "code",
   "execution_count": 18,
   "id": "41be79b1",
   "metadata": {},
   "outputs": [],
   "source": [
    "y = ['a','s','d']"
   ]
  },
  {
   "cell_type": "code",
   "execution_count": 19,
   "id": "2d33873a",
   "metadata": {},
   "outputs": [
    {
     "data": {
      "text/plain": [
       "list"
      ]
     },
     "execution_count": 19,
     "metadata": {},
     "output_type": "execute_result"
    }
   ],
   "source": [
    "type(y)"
   ]
  },
  {
   "cell_type": "code",
   "execution_count": 23,
   "id": "46fd8f1b",
   "metadata": {},
   "outputs": [
    {
     "data": {
      "text/plain": [
       "['a', 'd', 's']"
      ]
     },
     "execution_count": 23,
     "metadata": {},
     "output_type": "execute_result"
    }
   ],
   "source": [
    "y.\n",
    "y"
   ]
  },
  {
   "cell_type": "code",
   "execution_count": 25,
   "id": "937eba5e",
   "metadata": {},
   "outputs": [],
   "source": [
    "class zaban2:\n",
    "    n_of_student = 20\n",
    "    t_name = \" \""
   ]
  },
  {
   "cell_type": "code",
   "execution_count": 27,
   "id": "9281d283",
   "metadata": {},
   "outputs": [
    {
     "data": {
      "text/plain": [
       "__main__.zaban2"
      ]
     },
     "execution_count": 27,
     "metadata": {},
     "output_type": "execute_result"
    }
   ],
   "source": [
    "A = zaban2()\n",
    "type(A)"
   ]
  },
  {
   "cell_type": "code",
   "execution_count": 29,
   "id": "bda08403",
   "metadata": {},
   "outputs": [
    {
     "name": "stdout",
     "output_type": "stream",
     "text": [
      "20\n"
     ]
    }
   ],
   "source": [
    "print(A.n_of_student)"
   ]
  },
  {
   "cell_type": "code",
   "execution_count": 30,
   "id": "23f7a8bc",
   "metadata": {},
   "outputs": [
    {
     "data": {
      "text/plain": [
       "' '"
      ]
     },
     "execution_count": 30,
     "metadata": {},
     "output_type": "execute_result"
    }
   ],
   "source": [
    "A.t_name"
   ]
  },
  {
   "cell_type": "code",
   "execution_count": 32,
   "id": "5e45d05f",
   "metadata": {},
   "outputs": [
    {
     "data": {
      "text/plain": [
       "'Haghbin'"
      ]
     },
     "execution_count": 32,
     "metadata": {},
     "output_type": "execute_result"
    }
   ],
   "source": [
    "A.t_name = \"Haghbin\"\n",
    "A.t_name"
   ]
  },
  {
   "cell_type": "code",
   "execution_count": 33,
   "id": "116fa527",
   "metadata": {},
   "outputs": [
    {
     "data": {
      "text/plain": [
       "' '"
      ]
     },
     "execution_count": 33,
     "metadata": {},
     "output_type": "execute_result"
    }
   ],
   "source": [
    "B = zaban2()\n",
    "B.t_name"
   ]
  },
  {
   "cell_type": "code",
   "execution_count": 34,
   "id": "39fc4610",
   "metadata": {},
   "outputs": [
    {
     "name": "stdout",
     "output_type": "stream",
     "text": [
      "Hello\n"
     ]
    }
   ],
   "source": [
    "class demo():\n",
    "    print('Hello')"
   ]
  },
  {
   "cell_type": "code",
   "execution_count": 35,
   "id": "446b1ad1",
   "metadata": {},
   "outputs": [],
   "source": [
    "A = demo()"
   ]
  },
  {
   "cell_type": "code",
   "execution_count": 36,
   "id": "daa0e2a5",
   "metadata": {},
   "outputs": [
    {
     "data": {
      "text/plain": [
       "<__main__.demo at 0x191b2286b10>"
      ]
     },
     "execution_count": 36,
     "metadata": {},
     "output_type": "execute_result"
    }
   ],
   "source": [
    "A"
   ]
  },
  {
   "cell_type": "code",
   "execution_count": 37,
   "id": "dbe58f88",
   "metadata": {},
   "outputs": [
    {
     "name": "stdout",
     "output_type": "stream",
     "text": [
      "<__main__.demo object at 0x00000191B2286B10>\n"
     ]
    }
   ],
   "source": [
    "A."
   ]
  },
  {
   "cell_type": "code",
   "execution_count": 39,
   "id": "7d6e854e",
   "metadata": {},
   "outputs": [],
   "source": [
    "class Rectangle:\n",
    "    a=0 \n",
    "    b=0"
   ]
  },
  {
   "cell_type": "code",
   "execution_count": 41,
   "id": "5cc05ae5",
   "metadata": {},
   "outputs": [
    {
     "data": {
      "text/plain": [
       "0"
      ]
     },
     "execution_count": 41,
     "metadata": {},
     "output_type": "execute_result"
    }
   ],
   "source": [
    "A = Rectangle()\n",
    "A.b"
   ]
  },
  {
   "cell_type": "code",
   "execution_count": 42,
   "id": "279e98a9",
   "metadata": {},
   "outputs": [],
   "source": [
    "A.b = 10\n",
    "A.a=15"
   ]
  },
  {
   "cell_type": "code",
   "execution_count": 43,
   "id": "524622df",
   "metadata": {},
   "outputs": [
    {
     "data": {
      "text/plain": [
       "10"
      ]
     },
     "execution_count": 43,
     "metadata": {},
     "output_type": "execute_result"
    }
   ],
   "source": [
    "A.b"
   ]
  },
  {
   "cell_type": "code",
   "execution_count": 41,
   "id": "ffd750f3",
   "metadata": {},
   "outputs": [],
   "source": [
    "class pride():\n",
    "    n_of_door = 4\n",
    "    weight= 915\n",
    "    f = 6.44\n",
    "    color=''\n",
    "    number=''\n",
    "    name=''\n",
    "    def set_color(self,col):\n",
    "        self.color = col\n",
    "    def register(self,na,nu):\n",
    "        name=na\n",
    "        number=nu\n",
    "    def display(self):\n",
    "        print(\"Car owner:\", self.name)\n",
    "        print(\"Color: \", self.color)\n",
    "        print(\"Number: \",self.number)"
   ]
  },
  {
   "cell_type": "code",
   "execution_count": 42,
   "id": "e3614815",
   "metadata": {},
   "outputs": [
    {
     "data": {
      "text/plain": [
       "''"
      ]
     },
     "execution_count": 42,
     "metadata": {},
     "output_type": "execute_result"
    }
   ],
   "source": [
    "p1 = pride()\n",
    "p1.name"
   ]
  },
  {
   "cell_type": "code",
   "execution_count": 44,
   "id": "9621d3e4",
   "metadata": {},
   "outputs": [],
   "source": [
    "p1.register('Ali Rahmani','12347546')"
   ]
  },
  {
   "cell_type": "code",
   "execution_count": 45,
   "id": "27c7a01c",
   "metadata": {},
   "outputs": [
    {
     "data": {
      "text/plain": [
       "''"
      ]
     },
     "execution_count": 45,
     "metadata": {},
     "output_type": "execute_result"
    }
   ],
   "source": [
    "p1.number"
   ]
  },
  {
   "cell_type": "code",
   "execution_count": 46,
   "id": "caa7e213",
   "metadata": {},
   "outputs": [],
   "source": [
    "p1.set_color('black')"
   ]
  },
  {
   "cell_type": "code",
   "execution_count": 47,
   "id": "e5a235fe",
   "metadata": {},
   "outputs": [
    {
     "name": "stdout",
     "output_type": "stream",
     "text": [
      "Car owner: \n",
      "Color:  black\n",
      "Number:  \n"
     ]
    }
   ],
   "source": [
    "p1.display()"
   ]
  },
  {
   "cell_type": "markdown",
   "id": "b6eb9041",
   "metadata": {},
   "source": [
    "# جلسه سوم شی گرایی"
   ]
  },
  {
   "cell_type": "code",
   "execution_count": 1,
   "id": "d6eb4b7c",
   "metadata": {},
   "outputs": [],
   "source": [
    "class pride():\n",
    "    n_of_door = 4\n",
    "    weight= 915\n",
    "    f = 6.44\n",
    "    color=''\n",
    "    number=''\n",
    "    name=''\n",
    "    def set_color(self,col):\n",
    "        self.color = col\n",
    "    def register(self,na,nu):\n",
    "        self.name=na\n",
    "        self.number=nu\n",
    "    def display(self):\n",
    "        print(\"Car owner:\", self.name)\n",
    "        print(\"Color: \", self.color)\n",
    "        print(\"Number: \",self.number)"
   ]
  },
  {
   "cell_type": "code",
   "execution_count": 2,
   "id": "02b9cc9f",
   "metadata": {},
   "outputs": [],
   "source": [
    "p1 = pride()"
   ]
  },
  {
   "cell_type": "code",
   "execution_count": 3,
   "id": "f6685086",
   "metadata": {},
   "outputs": [
    {
     "name": "stdout",
     "output_type": "stream",
     "text": [
      "Car owner: \n",
      "Color:  \n",
      "Number:  \n"
     ]
    }
   ],
   "source": [
    "p1.display()"
   ]
  },
  {
   "cell_type": "code",
   "execution_count": 4,
   "id": "00a7c46f",
   "metadata": {},
   "outputs": [],
   "source": [
    "p1.register(\"Ali Rezaie\",'48-254874')"
   ]
  },
  {
   "cell_type": "code",
   "execution_count": 5,
   "id": "21b40128",
   "metadata": {},
   "outputs": [
    {
     "name": "stdout",
     "output_type": "stream",
     "text": [
      "Car owner: Ali Rezaie\n",
      "Color:  \n",
      "Number:  48-254874\n"
     ]
    }
   ],
   "source": [
    "p1.display()"
   ]
  },
  {
   "cell_type": "code",
   "execution_count": 6,
   "id": "0db0d835",
   "metadata": {},
   "outputs": [],
   "source": [
    "p1.set_color('White')"
   ]
  },
  {
   "cell_type": "code",
   "execution_count": 7,
   "id": "a7d15a30",
   "metadata": {},
   "outputs": [
    {
     "name": "stdout",
     "output_type": "stream",
     "text": [
      "Car owner: Ali Rezaie\n",
      "Color:  White\n",
      "Number:  48-254874\n"
     ]
    }
   ],
   "source": [
    "p1.display()"
   ]
  },
  {
   "cell_type": "code",
   "execution_count": 8,
   "id": "c4f0081e",
   "metadata": {},
   "outputs": [
    {
     "data": {
      "text/plain": [
       "['__class__',\n",
       " '__delattr__',\n",
       " '__dict__',\n",
       " '__dir__',\n",
       " '__doc__',\n",
       " '__eq__',\n",
       " '__format__',\n",
       " '__ge__',\n",
       " '__getattribute__',\n",
       " '__getstate__',\n",
       " '__gt__',\n",
       " '__hash__',\n",
       " '__init__',\n",
       " '__init_subclass__',\n",
       " '__le__',\n",
       " '__lt__',\n",
       " '__module__',\n",
       " '__ne__',\n",
       " '__new__',\n",
       " '__reduce__',\n",
       " '__reduce_ex__',\n",
       " '__repr__',\n",
       " '__setattr__',\n",
       " '__sizeof__',\n",
       " '__str__',\n",
       " '__subclasshook__',\n",
       " '__weakref__',\n",
       " 'color',\n",
       " 'display',\n",
       " 'f',\n",
       " 'n_of_door',\n",
       " 'name',\n",
       " 'number',\n",
       " 'register',\n",
       " 'set_color',\n",
       " 'weight']"
      ]
     },
     "execution_count": 8,
     "metadata": {},
     "output_type": "execute_result"
    }
   ],
   "source": [
    "dir(p1)"
   ]
  },
  {
   "cell_type": "code",
   "execution_count": 9,
   "id": "4d8f2847",
   "metadata": {},
   "outputs": [
    {
     "data": {
      "text/plain": [
       "['__class__',\n",
       " '__delattr__',\n",
       " '__dict__',\n",
       " '__dir__',\n",
       " '__doc__',\n",
       " '__eq__',\n",
       " '__format__',\n",
       " '__ge__',\n",
       " '__getattribute__',\n",
       " '__getstate__',\n",
       " '__gt__',\n",
       " '__hash__',\n",
       " '__init__',\n",
       " '__init_subclass__',\n",
       " '__le__',\n",
       " '__lt__',\n",
       " '__module__',\n",
       " '__ne__',\n",
       " '__new__',\n",
       " '__reduce__',\n",
       " '__reduce_ex__',\n",
       " '__repr__',\n",
       " '__setattr__',\n",
       " '__sizeof__',\n",
       " '__str__',\n",
       " '__subclasshook__',\n",
       " '__weakref__',\n",
       " 'color',\n",
       " 'display',\n",
       " 'f',\n",
       " 'n_of_door',\n",
       " 'name',\n",
       " 'number',\n",
       " 'register',\n",
       " 'set_color',\n",
       " 'weight']"
      ]
     },
     "execution_count": 9,
     "metadata": {},
     "output_type": "execute_result"
    }
   ],
   "source": [
    "dir(pride)"
   ]
  },
  {
   "cell_type": "code",
   "execution_count": 10,
   "id": "054a10f8",
   "metadata": {},
   "outputs": [],
   "source": [
    "class pride():\n",
    "    n_of_door = 4\n",
    "    weight= 915\n",
    "    f = 6.44\n",
    "    color=''\n",
    "    number=''\n",
    "    name=''\n",
    "    def __init__(self,col):\n",
    "        self.color = col\n",
    "    def register(self,na,nu):\n",
    "        self.name=na\n",
    "        self.number=nu\n",
    "    def display(self):\n",
    "        print(\"Car owner:\", self.name)\n",
    "        print(\"Color: \", self.color)\n",
    "        print(\"Number: \",self.number)"
   ]
  },
  {
   "cell_type": "code",
   "execution_count": 11,
   "id": "dfab44e3",
   "metadata": {},
   "outputs": [],
   "source": [
    "p2=pride('Black')"
   ]
  },
  {
   "cell_type": "code",
   "execution_count": 12,
   "id": "e0282e61",
   "metadata": {},
   "outputs": [
    {
     "name": "stdout",
     "output_type": "stream",
     "text": [
      "Car owner: \n",
      "Color:  Black\n",
      "Number:  \n"
     ]
    }
   ],
   "source": [
    "p2.display()"
   ]
  },
  {
   "cell_type": "code",
   "execution_count": 13,
   "id": "875a48c8",
   "metadata": {},
   "outputs": [],
   "source": [
    "class member:\n",
    "    def __init__(self,name,member_number,student_id):\n",
    "        self.name = name\n",
    "        self.member_number = member_number\n",
    "        self.student_id=student_id\n",
    "    def display(self):\n",
    "        print(\"Name:\", self.name)\n",
    "        print(\"Member Number: \", self.member_number)\n",
    "        print(\"Student id: \",self.student_id)\n",
    "        "
   ]
  },
  {
   "cell_type": "code",
   "execution_count": 14,
   "id": "6bcf9856",
   "metadata": {},
   "outputs": [
    {
     "name": "stdout",
     "output_type": "stream",
     "text": [
      "Name: Zahra Karami\n",
      "Member Number:  140125\n",
      "Student id:  9987543\n"
     ]
    }
   ],
   "source": [
    "s1 = member('Zahra Karami','140125','9987543')\n",
    "s1.display()"
   ]
  },
  {
   "cell_type": "code",
   "execution_count": 15,
   "id": "fc2289f3",
   "metadata": {},
   "outputs": [],
   "source": [
    "s1.student_id ='99875400'"
   ]
  },
  {
   "cell_type": "code",
   "execution_count": 16,
   "id": "28efc12d",
   "metadata": {},
   "outputs": [
    {
     "name": "stdout",
     "output_type": "stream",
     "text": [
      "Name: Zahra Karami\n",
      "Member Number:  140125\n",
      "Student id:  99875400\n"
     ]
    }
   ],
   "source": [
    "s1.display()"
   ]
  },
  {
   "cell_type": "code",
   "execution_count": 1,
   "id": "151bb265",
   "metadata": {},
   "outputs": [],
   "source": [
    "class member:\n",
    "    def __init__(self,name,member_number,student_id):\n",
    "        self.name = name\n",
    "        self.member_number = member_number\n",
    "        self.__student_id=student_id\n",
    "    def display(self):\n",
    "        print(\"Name:\", self.name)\n",
    "        print(\"Member Number: \", self.member_number)\n",
    "        print(\"Student id: \",self.__student_id)"
   ]
  },
  {
   "cell_type": "code",
   "execution_count": 18,
   "id": "caa2a742",
   "metadata": {},
   "outputs": [
    {
     "name": "stdout",
     "output_type": "stream",
     "text": [
      "Name: Zahra Karami\n",
      "Member Number:  140125\n",
      "Student id:  9987543\n"
     ]
    }
   ],
   "source": [
    "s1 = member('Zahra Karami','140125','9987543')\n",
    "s1.display()"
   ]
  },
  {
   "cell_type": "code",
   "execution_count": 19,
   "id": "41b7080e",
   "metadata": {},
   "outputs": [],
   "source": [
    "s1.student_id ='99875400'"
   ]
  },
  {
   "cell_type": "code",
   "execution_count": 20,
   "id": "a8fb4447",
   "metadata": {},
   "outputs": [
    {
     "name": "stdout",
     "output_type": "stream",
     "text": [
      "Name: Zahra Karami\n",
      "Member Number:  140125\n",
      "Student id:  9987543\n"
     ]
    }
   ],
   "source": [
    "s1.display()"
   ]
  },
  {
   "cell_type": "code",
   "execution_count": 21,
   "id": "14599841",
   "metadata": {},
   "outputs": [
    {
     "ename": "AttributeError",
     "evalue": "'member' object has no attribute '__student_id'",
     "output_type": "error",
     "traceback": [
      "\u001b[1;31m---------------------------------------------------------------------------\u001b[0m",
      "\u001b[1;31mAttributeError\u001b[0m                            Traceback (most recent call last)",
      "Cell \u001b[1;32mIn [21], line 1\u001b[0m\n\u001b[1;32m----> 1\u001b[0m \u001b[43ms1\u001b[49m\u001b[38;5;241;43m.\u001b[39;49m\u001b[43m__student_id\u001b[49m\n",
      "\u001b[1;31mAttributeError\u001b[0m: 'member' object has no attribute '__student_id'"
     ]
    }
   ],
   "source": [
    "s1.__student_id"
   ]
  },
  {
   "cell_type": "raw",
   "id": "e214343a",
   "metadata": {},
   "source": [
    "class member:\n",
    "    amanat = list()\n",
    "    def __init__(self,name,member_number,student_id):\n",
    "        self.name = name\n",
    "        self.member_number = member_number\n",
    "        self.__student_id=student_id\n",
    "    def display(self):\n",
    "        print(\"Name:\", self.name)\n",
    "        print(\"Member Number: \", self.member_number)\n",
    "        print(\"Student id: \",self.__student_id)\n",
    "    def request(self,l1):       # example: l1=['book1','book2']\n",
    "        ???\n",
    "    چطور می توان لیست کتاب های سفارش داده شده توسط کاربر را به لیست کتاب های امانت گرفته شده اضافه کنیم؟"
   ]
  },
  {
   "cell_type": "raw",
   "id": "de1b7f8d",
   "metadata": {},
   "source": [
    "m1 = member('Zahra Karami','140125','9987543')\n",
    "m1.request(['book1','book2'])\n",
    "print(m1.amanat)\n",
    "\n",
    "#['book1','book2']\n",
    "\n",
    "\n",
    "m1.request(['book3','book4'])\n",
    "print(m1.amanat)\n",
    "#['book1','book2','book3','book4']"
   ]
  },
  {
   "cell_type": "markdown",
   "id": "ce5630e7",
   "metadata": {},
   "source": [
    "# جلسه چهارم"
   ]
  },
  {
   "cell_type": "code",
   "execution_count": 1,
   "id": "0e16f63a",
   "metadata": {},
   "outputs": [],
   "source": [
    "class member:\n",
    "    def __init__(self,name,member_number,student_id):\n",
    "        self.name = name\n",
    "        self.member_number = member_number\n",
    "        self.__student_id=student_id\n",
    "    def __repr__(self):\n",
    "        return self.name"
   ]
  },
  {
   "cell_type": "code",
   "execution_count": 2,
   "id": "0e54ac1c",
   "metadata": {},
   "outputs": [
    {
     "name": "stdout",
     "output_type": "stream",
     "text": [
      "Zahra Karami\n"
     ]
    }
   ],
   "source": [
    "s1 = member('Zahra Karami','140','9987543')\n",
    "print(s1)"
   ]
  },
  {
   "cell_type": "code",
   "execution_count": 3,
   "id": "cf074b10",
   "metadata": {},
   "outputs": [],
   "source": [
    "class member:\n",
    "    amanat = list()\n",
    "    def __init__(self,name,member_number,student_id):\n",
    "        self.name = name\n",
    "        self.member_number = member_number\n",
    "        self.__student_id=student_id\n",
    "    def __repr__(self):\n",
    "        return f'Name is: {self.name}\\nMember Number: {self.member_number}\\nStudent id:{self.__student_id}'\n",
    "    def request(self,l1):\n",
    "        self.amanat = self.amanat+l1"
   ]
  },
  {
   "cell_type": "code",
   "execution_count": 4,
   "id": "21d266b0",
   "metadata": {},
   "outputs": [
    {
     "name": "stdout",
     "output_type": "stream",
     "text": [
      "Name is: Zahra Karami\n",
      "Member Number: 140\n",
      "Student id:9987543\n"
     ]
    }
   ],
   "source": [
    "s1 = member('Zahra Karami','140','9987543')\n",
    "print(s1)"
   ]
  },
  {
   "cell_type": "code",
   "execution_count": 5,
   "id": "cc91fa60",
   "metadata": {},
   "outputs": [
    {
     "name": "stdout",
     "output_type": "stream",
     "text": [
      "[]\n"
     ]
    }
   ],
   "source": [
    "print(s1.amanat)"
   ]
  },
  {
   "cell_type": "code",
   "execution_count": 6,
   "id": "9cb0f070",
   "metadata": {},
   "outputs": [
    {
     "name": "stdout",
     "output_type": "stream",
     "text": [
      "['book1', 'book2']\n"
     ]
    }
   ],
   "source": [
    "s1.request(['book1','book2'])\n",
    "print(s1.amanat)"
   ]
  },
  {
   "cell_type": "code",
   "execution_count": 7,
   "id": "3dbdfc25",
   "metadata": {},
   "outputs": [
    {
     "name": "stdout",
     "output_type": "stream",
     "text": [
      "['book1', 'book2', 'book3', 'book4']\n"
     ]
    }
   ],
   "source": [
    "s1.request(['book3','book4'])\n",
    "print(s1.amanat)"
   ]
  },
  {
   "cell_type": "code",
   "execution_count": 8,
   "id": "fb8def66",
   "metadata": {},
   "outputs": [],
   "source": [
    "class member:\n",
    "    amanat = list()\n",
    "    def __init__(self,name,member_number,student_id):\n",
    "        self.name = name\n",
    "        self.member_number = member_number\n",
    "        self.__student_id=student_id\n",
    "    def __repr__(self):\n",
    "        return f'Name is: {self.name}\\nMember Number: {self.member_number}\\nStudent id:{self.__student_id}'\n",
    "    def request(self,l1):\n",
    "        self.amanat = self.amanat+l1\n",
    "    def back(self,l1): \n",
    "        for i in l1:\n",
    "            self.amanat.remove(i)"
   ]
  },
  {
   "cell_type": "code",
   "execution_count": 11,
   "id": "10e13fce",
   "metadata": {},
   "outputs": [],
   "source": [
    "s1 = member('Zahra Karami','140','9987543')"
   ]
  },
  {
   "cell_type": "code",
   "execution_count": 12,
   "id": "2319509b",
   "metadata": {},
   "outputs": [
    {
     "name": "stdout",
     "output_type": "stream",
     "text": [
      "['book1', 'book2', 'book3']\n"
     ]
    }
   ],
   "source": [
    "s1.request(['book1','book2','book3'])\n",
    "print(s1.amanat)"
   ]
  },
  {
   "cell_type": "code",
   "execution_count": 13,
   "id": "95806757",
   "metadata": {},
   "outputs": [
    {
     "name": "stdout",
     "output_type": "stream",
     "text": [
      "['book2']\n"
     ]
    }
   ],
   "source": [
    "s1.back(['book1','book3'])\n",
    "print(s1.amanat)"
   ]
  },
  {
   "cell_type": "raw",
   "id": "f493d30f",
   "metadata": {},
   "source": [
    "تمرین: کلاس را طوری تغییر دهید تا تاریخ همراه با امانت کتاب همراه شود."
   ]
  },
  {
   "cell_type": "code",
   "execution_count": 43,
   "id": "cbee2eab",
   "metadata": {},
   "outputs": [],
   "source": [
    "class member:\n",
    "    amanat = dict()\n",
    "    def __init__(self,name,member_number,student_id):\n",
    "        self.name = name\n",
    "        self.member_number = member_number\n",
    "        self.__student_id=student_id\n",
    "    def __repr__(self):\n",
    "        return f'Name is: {self.name}\\nMember Number: {self.member_number}\\nStudent id:{self.__student_id}'\n",
    "    def request(self,l1):\n",
    "        for i in l1:\n",
    "            self.amanat[i]=l1[i]\n",
    "    def back(self,l1): \n",
    "        for i in l1:\n",
    "            self.amanat.pop(i)"
   ]
  },
  {
   "cell_type": "code",
   "execution_count": 55,
   "id": "268462b0",
   "metadata": {},
   "outputs": [],
   "source": [
    "s2 = member('Zahra Karami','140','9987543')"
   ]
  },
  {
   "cell_type": "code",
   "execution_count": 56,
   "id": "1ceb62d0",
   "metadata": {},
   "outputs": [],
   "source": [
    "l1={'book1':'1401/09/10','book2':'1401/09/10'}\n",
    "l2={'book3':'1401/09/22','book4':'1401/09/22'}"
   ]
  },
  {
   "cell_type": "code",
   "execution_count": 57,
   "id": "2ddcb861",
   "metadata": {},
   "outputs": [
    {
     "name": "stdout",
     "output_type": "stream",
     "text": [
      "{'book1': '1401/09/10', 'book2': '1401/09/10'}\n"
     ]
    }
   ],
   "source": [
    "s2.request(l1)\n",
    "print(s2.amanat)"
   ]
  },
  {
   "cell_type": "code",
   "execution_count": 58,
   "id": "85b8b9d0",
   "metadata": {},
   "outputs": [
    {
     "name": "stdout",
     "output_type": "stream",
     "text": [
      "{'book1': '1401/09/10', 'book2': '1401/09/10', 'book3': '1401/09/22', 'book4': '1401/09/22'}\n"
     ]
    }
   ],
   "source": [
    "s2.request(l2)\n",
    "print(s2.amanat)"
   ]
  },
  {
   "cell_type": "code",
   "execution_count": 59,
   "id": "9c1c8b28",
   "metadata": {},
   "outputs": [
    {
     "name": "stdout",
     "output_type": "stream",
     "text": [
      "{'book3': '1401/09/22', 'book4': '1401/09/22'}\n"
     ]
    }
   ],
   "source": [
    "s2.back(l1)\n",
    "print(s2.amanat)"
   ]
  },
  {
   "cell_type": "code",
   "execution_count": null,
   "id": "52ec43f2",
   "metadata": {},
   "outputs": [],
   "source": []
  }
 ],
 "metadata": {
  "kernelspec": {
   "display_name": "Python 3 (ipykernel)",
   "language": "python",
   "name": "python3"
  },
  "language_info": {
   "codemirror_mode": {
    "name": "ipython",
    "version": 3
   },
   "file_extension": ".py",
   "mimetype": "text/x-python",
   "name": "python",
   "nbconvert_exporter": "python",
   "pygments_lexer": "ipython3",
   "version": "3.9.13"
  }
 },
 "nbformat": 4,
 "nbformat_minor": 5
}
