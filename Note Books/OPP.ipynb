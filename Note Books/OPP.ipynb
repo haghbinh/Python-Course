{
 "cells": [
  {
   "cell_type": "code",
   "execution_count": 1,
   "id": "57576339",
   "metadata": {},
   "outputs": [
    {
     "data": {
      "text/plain": [
       "str"
      ]
     },
     "execution_count": 1,
     "metadata": {},
     "output_type": "execute_result"
    }
   ],
   "source": [
    "x = \"hossein haghbin\"\n",
    "type(x)"
   ]
  },
  {
   "cell_type": "code",
   "execution_count": 2,
   "id": "86d7991b",
   "metadata": {},
   "outputs": [
    {
     "data": {
      "text/plain": [
       "2"
      ]
     },
     "execution_count": 2,
     "metadata": {},
     "output_type": "execute_result"
    }
   ],
   "source": [
    "x.count('s')"
   ]
  },
  {
   "cell_type": "code",
   "execution_count": 18,
   "id": "41be79b1",
   "metadata": {},
   "outputs": [],
   "source": [
    "y = ['a','s','d']"
   ]
  },
  {
   "cell_type": "code",
   "execution_count": 19,
   "id": "2d33873a",
   "metadata": {},
   "outputs": [
    {
     "data": {
      "text/plain": [
       "list"
      ]
     },
     "execution_count": 19,
     "metadata": {},
     "output_type": "execute_result"
    }
   ],
   "source": [
    "type(y)"
   ]
  },
  {
   "cell_type": "code",
   "execution_count": 23,
   "id": "46fd8f1b",
   "metadata": {},
   "outputs": [
    {
     "data": {
      "text/plain": [
       "['a', 'd', 's']"
      ]
     },
     "execution_count": 23,
     "metadata": {},
     "output_type": "execute_result"
    }
   ],
   "source": [
    "y.\n",
    "y"
   ]
  },
  {
   "cell_type": "code",
   "execution_count": 25,
   "id": "937eba5e",
   "metadata": {},
   "outputs": [],
   "source": [
    "class zaban2:\n",
    "    n_of_student = 20\n",
    "    t_name = \" \""
   ]
  },
  {
   "cell_type": "code",
   "execution_count": 27,
   "id": "9281d283",
   "metadata": {},
   "outputs": [
    {
     "data": {
      "text/plain": [
       "__main__.zaban2"
      ]
     },
     "execution_count": 27,
     "metadata": {},
     "output_type": "execute_result"
    }
   ],
   "source": [
    "A = zaban2()\n",
    "type(A)"
   ]
  },
  {
   "cell_type": "code",
   "execution_count": 29,
   "id": "bda08403",
   "metadata": {},
   "outputs": [
    {
     "name": "stdout",
     "output_type": "stream",
     "text": [
      "20\n"
     ]
    }
   ],
   "source": [
    "print(A.n_of_student)"
   ]
  },
  {
   "cell_type": "code",
   "execution_count": 30,
   "id": "23f7a8bc",
   "metadata": {},
   "outputs": [
    {
     "data": {
      "text/plain": [
       "' '"
      ]
     },
     "execution_count": 30,
     "metadata": {},
     "output_type": "execute_result"
    }
   ],
   "source": [
    "A.t_name"
   ]
  },
  {
   "cell_type": "code",
   "execution_count": 32,
   "id": "5e45d05f",
   "metadata": {},
   "outputs": [
    {
     "data": {
      "text/plain": [
       "'Haghbin'"
      ]
     },
     "execution_count": 32,
     "metadata": {},
     "output_type": "execute_result"
    }
   ],
   "source": [
    "A.t_name = \"Haghbin\"\n",
    "A.t_name"
   ]
  },
  {
   "cell_type": "code",
   "execution_count": 33,
   "id": "116fa527",
   "metadata": {},
   "outputs": [
    {
     "data": {
      "text/plain": [
       "' '"
      ]
     },
     "execution_count": 33,
     "metadata": {},
     "output_type": "execute_result"
    }
   ],
   "source": [
    "B = zaban2()\n",
    "B.t_name"
   ]
  },
  {
   "cell_type": "code",
   "execution_count": 34,
   "id": "39fc4610",
   "metadata": {},
   "outputs": [
    {
     "name": "stdout",
     "output_type": "stream",
     "text": [
      "Hello\n"
     ]
    }
   ],
   "source": [
    "class demo():\n",
    "    print('Hello')"
   ]
  },
  {
   "cell_type": "code",
   "execution_count": 35,
   "id": "446b1ad1",
   "metadata": {},
   "outputs": [],
   "source": [
    "A = demo()"
   ]
  },
  {
   "cell_type": "code",
   "execution_count": 36,
   "id": "daa0e2a5",
   "metadata": {},
   "outputs": [
    {
     "data": {
      "text/plain": [
       "<__main__.demo at 0x191b2286b10>"
      ]
     },
     "execution_count": 36,
     "metadata": {},
     "output_type": "execute_result"
    }
   ],
   "source": [
    "A"
   ]
  },
  {
   "cell_type": "code",
   "execution_count": 37,
   "id": "dbe58f88",
   "metadata": {},
   "outputs": [
    {
     "name": "stdout",
     "output_type": "stream",
     "text": [
      "<__main__.demo object at 0x00000191B2286B10>\n"
     ]
    }
   ],
   "source": [
    "A."
   ]
  },
  {
   "cell_type": "code",
   "execution_count": 39,
   "id": "7d6e854e",
   "metadata": {},
   "outputs": [],
   "source": [
    "class Rectangle:\n",
    "    a=0 \n",
    "    b=0"
   ]
  },
  {
   "cell_type": "code",
   "execution_count": 41,
   "id": "5cc05ae5",
   "metadata": {},
   "outputs": [
    {
     "data": {
      "text/plain": [
       "0"
      ]
     },
     "execution_count": 41,
     "metadata": {},
     "output_type": "execute_result"
    }
   ],
   "source": [
    "A = Rectangle()\n",
    "A.b"
   ]
  },
  {
   "cell_type": "code",
   "execution_count": 42,
   "id": "279e98a9",
   "metadata": {},
   "outputs": [],
   "source": [
    "A.b = 10\n",
    "A.a=15"
   ]
  },
  {
   "cell_type": "code",
   "execution_count": 43,
   "id": "524622df",
   "metadata": {},
   "outputs": [
    {
     "data": {
      "text/plain": [
       "10"
      ]
     },
     "execution_count": 43,
     "metadata": {},
     "output_type": "execute_result"
    }
   ],
   "source": [
    "A.b"
   ]
  },
  {
   "cell_type": "code",
   "execution_count": 41,
   "id": "ffd750f3",
   "metadata": {},
   "outputs": [],
   "source": [
    "class pride():\n",
    "    n_of_door = 4\n",
    "    weight= 915\n",
    "    f = 6.44\n",
    "    color=''\n",
    "    number=''\n",
    "    name=''\n",
    "    def set_color(self,col):\n",
    "        self.color = col\n",
    "    def register(self,na,nu):\n",
    "        name=na\n",
    "        number=nu\n",
    "    def display(self):\n",
    "        print(\"Car owner:\", self.name)\n",
    "        print(\"Color: \", self.color)\n",
    "        print(\"Number: \",self.number)"
   ]
  },
  {
   "cell_type": "code",
   "execution_count": 42,
   "id": "e3614815",
   "metadata": {},
   "outputs": [
    {
     "data": {
      "text/plain": [
       "''"
      ]
     },
     "execution_count": 42,
     "metadata": {},
     "output_type": "execute_result"
    }
   ],
   "source": [
    "p1 = pride()\n",
    "p1.name"
   ]
  },
  {
   "cell_type": "code",
   "execution_count": 44,
   "id": "9621d3e4",
   "metadata": {},
   "outputs": [],
   "source": [
    "p1.register('Ali Rahmani','12347546')"
   ]
  },
  {
   "cell_type": "code",
   "execution_count": 45,
   "id": "27c7a01c",
   "metadata": {},
   "outputs": [
    {
     "data": {
      "text/plain": [
       "''"
      ]
     },
     "execution_count": 45,
     "metadata": {},
     "output_type": "execute_result"
    }
   ],
   "source": [
    "p1.number"
   ]
  },
  {
   "cell_type": "code",
   "execution_count": 46,
   "id": "caa7e213",
   "metadata": {},
   "outputs": [],
   "source": [
    "p1.set_color('black')"
   ]
  },
  {
   "cell_type": "code",
   "execution_count": 47,
   "id": "e5a235fe",
   "metadata": {},
   "outputs": [
    {
     "name": "stdout",
     "output_type": "stream",
     "text": [
      "Car owner: \n",
      "Color:  black\n",
      "Number:  \n"
     ]
    }
   ],
   "source": [
    "p1.display()"
   ]
  },
  {
   "cell_type": "code",
   "execution_count": null,
   "id": "08af49b4",
   "metadata": {},
   "outputs": [],
   "source": []
  }
 ],
 "metadata": {
  "kernelspec": {
   "display_name": "Python 3 (ipykernel)",
   "language": "python",
   "name": "python3"
  },
  "language_info": {
   "codemirror_mode": {
    "name": "ipython",
    "version": 3
   },
   "file_extension": ".py",
   "mimetype": "text/x-python",
   "name": "python",
   "nbconvert_exporter": "python",
   "pygments_lexer": "ipython3",
   "version": "3.11.0"
  }
 },
 "nbformat": 4,
 "nbformat_minor": 5
}
