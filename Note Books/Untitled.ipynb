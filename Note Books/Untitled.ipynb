{
 "cells": [
  {
   "cell_type": "code",
   "execution_count": 35,
   "id": "7312f077",
   "metadata": {},
   "outputs": [],
   "source": [
    "class player():\n",
    "    def __init__(self,name,x):\n",
    "        self.name=name\n",
    "        self.mony=x\n"
   ]
  },
  {
   "cell_type": "code",
   "execution_count": 42,
   "id": "73e9d1fd",
   "metadata": {},
   "outputs": [],
   "source": [
    "class Game():\n",
    "    def __init__(self,name1,x1,name2,x2):\n",
    "        self.playar1=player(name1,x1)\n",
    "        self.playar2=player(name2,x2)\n",
    "        self.round=0\n",
    "    def play(self):\n",
    "        flag=True\n",
    "        while(self.playar1.mony>0 and self.playar2.mony>0):\n",
    "            from random import random\n",
    "            p=random()\n",
    "            x = -1 if p<0.4 else 1\n",
    "            self.playar1.mony +=x\n",
    "            self.playar2.mony +=(-x)\n",
    "            print('a1=',self.playar1.mony,' a2=',self.playar2.mony)\n",
    "            \n",
    "        if self.playar1.mony==0:\n",
    "            print(self.playar2.name,' wins!')\n",
    "        else:\n",
    "            print(self.playar1.name,' wins!')"
   ]
  },
  {
   "cell_type": "code",
   "execution_count": 44,
   "id": "44d6d1e6",
   "metadata": {},
   "outputs": [
    {
     "name": "stdout",
     "output_type": "stream",
     "text": [
      "a1= 11  a2= 4\n",
      "a1= 10  a2= 5\n",
      "a1= 9  a2= 6\n",
      "a1= 10  a2= 5\n",
      "a1= 11  a2= 4\n",
      "a1= 10  a2= 5\n",
      "a1= 11  a2= 4\n",
      "a1= 10  a2= 5\n",
      "a1= 11  a2= 4\n",
      "a1= 10  a2= 5\n",
      "a1= 11  a2= 4\n",
      "a1= 12  a2= 3\n",
      "a1= 13  a2= 2\n",
      "a1= 12  a2= 3\n",
      "a1= 13  a2= 2\n",
      "a1= 14  a2= 1\n",
      "a1= 13  a2= 2\n",
      "a1= 12  a2= 3\n",
      "a1= 11  a2= 4\n",
      "a1= 10  a2= 5\n",
      "a1= 9  a2= 6\n",
      "a1= 8  a2= 7\n",
      "a1= 7  a2= 8\n",
      "a1= 6  a2= 9\n",
      "a1= 5  a2= 10\n",
      "a1= 6  a2= 9\n",
      "a1= 5  a2= 10\n",
      "a1= 4  a2= 11\n",
      "a1= 5  a2= 10\n",
      "a1= 6  a2= 9\n",
      "a1= 5  a2= 10\n",
      "a1= 4  a2= 11\n",
      "a1= 3  a2= 12\n",
      "a1= 2  a2= 13\n",
      "a1= 1  a2= 14\n",
      "a1= 0  a2= 15\n",
      "ahmad  wins!\n"
     ]
    }
   ],
   "source": [
    "g=Game('ali',10,'ahmad',5)\n",
    "g.play()"
   ]
  },
  {
   "cell_type": "code",
   "execution_count": null,
   "id": "0893a746",
   "metadata": {},
   "outputs": [],
   "source": []
  }
 ],
 "metadata": {
  "kernelspec": {
   "display_name": "Python 3 (ipykernel)",
   "language": "python",
   "name": "python3"
  },
  "language_info": {
   "codemirror_mode": {
    "name": "ipython",
    "version": 3
   },
   "file_extension": ".py",
   "mimetype": "text/x-python",
   "name": "python",
   "nbconvert_exporter": "python",
   "pygments_lexer": "ipython3",
   "version": "3.9.13"
  }
 },
 "nbformat": 4,
 "nbformat_minor": 5
}
