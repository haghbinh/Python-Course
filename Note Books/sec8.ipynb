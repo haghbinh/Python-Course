{
 "cells": [
  {
   "cell_type": "markdown",
   "metadata": {},
   "source": [
    "<div style=\"text-align: right\"> \n",
    "\n",
    "# کلاس و اشیاء\n",
    "\n",
    "</div>"
   ]
  },
  {
   "cell_type": "markdown",
   "metadata": {},
   "source": [
    "<div style=\"text-align: right\"> \n",
    "برنامه‌نویسی شی‌گرا\n",
    "\n",
    "<div style=\"text-align: right\"> \n",
    "(Object-Oriented Programming) \n",
    "\n",
    "<div style=\"text-align: right\"> \n",
    "یا به اختصار\n",
    "\n",
    "<div style=\"text-align: right\"> \n",
    "OOP \n",
    "\n",
    "<div style=\"text-align: right\"> \n",
    "یک الگو یا شیوه تفکر در برنامه نویسی است که برگرفته از دنیای واقعی بوده و از دهه ۱۹۶۰ میلادی مطرح گشته است. به زبانی که از این الگو پشتیبانی کند، «زبان شی‌گرا» گفته می‌شود؛\n",
    "</div>"
   ]
  },
  {
   "cell_type": "markdown",
   "metadata": {},
   "source": [
    "<div style=\"text-align: right\"> \n",
    "در بسیاري از برنامه ها، به توانایی ساختن انواع دادهاي کاربر-تعریف نیاز است\n",
    "برای تعریف نوع جدید از داده ها از مفهوم \n",
    "<span style=\"color:blue\">\n",
    "کلاس\n",
    "</span>\n",
    "استفاده می شود\n",
    "یک کلاس حاوی داده ها و تعریف عملیات ها می باشد . داده های عضو یک کلاس را \n",
    "<span style=\"color:blue\">\n",
    "فیلد\n",
    "</span>\n",
    "یا\n",
    "<span style=\"color:blue\">\n",
    "صفت \n",
    "</span>\n",
    "و عملیات های کلاس را تابع عضویت یا  \n",
    "<span style=\"color:blue\">\n",
    "متد\n",
    "</span>\n",
    "می نامند.\n",
    "<span style=\"color:blue\">\n",
    "شیء\n",
    "</span>\n",
    "یک نمونه ساخته شده از یک کلاس است\n",
    "</div>"
   ]
  },
  {
   "cell_type": "markdown",
   "metadata": {},
   "source": [
    "<div style=\"text-align: right\"> \n",
    "به هر شی کلاس، یک نمونه از آن کلاس گفته می‌شود و هر زمان که یک شی از کلاسی ایجاد می‌گردد در واقع یک نمونه از آن ساخته می‌شود. به این عمل در شی‌گرایی\n",
    " نمونه‌سازی \n",
    "\n",
    "<div style=\"text-align: right\"> \n",
    "(Instantiation) \n",
    "\n",
    "<div style=\"text-align: right\"> \n",
    "گفته می‌شود.\n",
    "\n",
    "</div>"
   ]
  },
  {
   "cell_type": "markdown",
   "metadata": {},
   "source": [
    "<div style=\"text-align: right\"> \n",
    "<span style=\"color:blue\">\n",
    "    \n",
    "### مثال: تعریف شی نقطه\n",
    "</span>\n",
    "</div>"
   ]
  },
  {
   "cell_type": "code",
   "execution_count": 1,
   "metadata": {},
   "outputs": [],
   "source": [
    "class Point:\n",
    "    pass"
   ]
  },
  {
   "cell_type": "markdown",
   "metadata": {},
   "source": [
    "<div style=\"text-align: right\"> \n",
    "تعاریف کلاس میتوانند در هر جاي برنامه ظاهر شوند اما معمولاً در آغاز برنامه هستند.\n",
    "در مثال بالا دستور\n",
    "   \n",
    "<div style=\"text-align: right\"> \n",
    "pass\n",
    "\n",
    "<div style=\"text-align: right\"> \n",
    "هیچ تـأثیري نـدارد. ایـن دستور تنها به این خاطر لازم است که یک دستور ترکیبی، باید در بدنهاش چیزي وجود داشته باشد."
   ]
  },
  {
   "cell_type": "markdown",
   "metadata": {},
   "source": [
    "<div style=\"text-align: right\"> \n",
    "با ساختن کلاس\n",
    "\n",
    "<div style=\"text-align: right\"> \n",
    "Point\n",
    "\n",
    "<div style=\"text-align: right\"> \n",
    "ما یک نوع جدید ساخته ایم که آن هم\n",
    "\n",
    "<div style=\"text-align: right\"> \n",
    "Point\n",
    "\n",
    "<div style=\"text-align: right\"> \n",
    "نام دارد. اعضاي ایـن\n",
    "نوع وهله هاي نوع یا اشیاء نام دارند. ساختن یک وهلۀ جدید را وهله سازي می نامند. براي وهله سـازي شیء\n",
    "\n",
    "<div style=\"text-align: right\"> \n",
    "Point\n",
    "\n",
    "<div style=\"text-align: right\"> \n",
    "ما تابعی به نام\n",
    "\n",
    "<div style=\"text-align: right\"> \n",
    "Point\n",
    "\n",
    "<div style=\"text-align: right\"> \n",
    "را فراخوانی میکنیم: "
   ]
  },
  {
   "cell_type": "code",
   "execution_count": 2,
   "metadata": {},
   "outputs": [],
   "source": [
    "blank = Point()"
   ]
  },
  {
   "cell_type": "markdown",
   "metadata": {},
   "source": [
    "<div style=\"text-align: right\"> \n",
    "متغیر\n",
    "\n",
    "<div style=\"text-align: right\"> \n",
    "blank\n",
    "\n",
    "<div style=\"text-align: right\"> \n",
    "به یک شیء جدید\n",
    "\n",
    "<div style=\"text-align: right\"> \n",
    "Point\n",
    "\n",
    "<div style=\"text-align: right\"> \n",
    "آدرسی را اختصاص می دهد. تابعی شـبیه\n",
    "\n",
    "<div style=\"text-align: right\"> \n",
    "Point\n",
    "\n",
    "<div style=\"text-align: right\"> \n",
    "که یک شیء جدید می سازد، سازنده نامیده میشود"
   ]
  },
  {
   "cell_type": "markdown",
   "metadata": {},
   "source": [
    "<div style=\"text-align: right\"> \n",
    "در خیلی از منابع ، کلاس رو طرح و مفهوم می دونند و شی رو ، یک موجودی که از روی اون طرح ساخته شده\n",
    "مثلا ، نقشه یک ماشین رو در نظر بگیرید ، شما نمی تونید سوارش بشید ، موتورش رو نمی شه روشن کرد ، اما اگر از روی اون نقشه ، یک ماشین بسازید ، می تونید سوارش بشید ، روشنش کنید و هر جا بخواهید بروید.\n",
    "می تونید از روی اون نقشه چندین ماشین بسازید. با اینکه تمام اون ماشین ها از روی یک نقشه ساخته شده اند ، اما می تونند باهم فرق های زیادی بکنند. مثلا این که هر کدوم توی یه لحظه خاص چقدر بنزین دارند ، کجا هستند ، چه کسی سوارشونه ، حتی رنگ ماشین ها می تونه عوض بشه.\n",
    "کلاس ها تعاریفی هستند که می تونید از روی اونها چندین شی بسازید. هر کدوم از این شی ها منحصر به فرد هستند. یعنی حتی اگر تمام دو تا از این اشیا کاملا یکسان باشند (مانند دوقلو ها) باز هم دو تا هستند ، نه یکی !"
   ]
  },
  {
   "cell_type": "markdown",
   "metadata": {},
   "source": [
    "<div style=\"text-align: right\"> \n",
    "پس از نمونه‌سازی، شی حاوی تمامی اعضای داده و توابع عضوی است که توسط کلاس مربوط به آن تعریف شده است و برای دسترسی به آن‌ها از الگو: «نام شی + نقطه + نام صفت یا متد()» استفاده می‌گردد. "
   ]
  },
  {
   "cell_type": "code",
   "execution_count": 9,
   "metadata": {},
   "outputs": [],
   "source": [
    "blank.x = 3\n",
    "blank.y = 4"
   ]
  },
  {
   "cell_type": "code",
   "execution_count": 10,
   "metadata": {},
   "outputs": [
    {
     "data": {
      "text/plain": [
       "3"
      ]
     },
     "execution_count": 10,
     "metadata": {},
     "output_type": "execute_result"
    }
   ],
   "source": [
    "blank.x"
   ]
  },
  {
   "cell_type": "code",
   "execution_count": null,
   "metadata": {},
   "outputs": [],
   "source": []
  }
 ],
 "metadata": {
  "kernelspec": {
   "display_name": "Python 3",
   "language": "python",
   "name": "python3"
  },
  "language_info": {
   "codemirror_mode": {
    "name": "ipython",
    "version": 3
   },
   "file_extension": ".py",
   "mimetype": "text/x-python",
   "name": "python",
   "nbconvert_exporter": "python",
   "pygments_lexer": "ipython3",
   "version": "3.6.8"
  }
 },
 "nbformat": 4,
 "nbformat_minor": 2
}
