{
 "cells": [
  {
   "cell_type": "markdown",
   "metadata": {},
   "source": [
    "<div style=\"text-align: right\"> \n",
    "\n",
    "# پروژه های برنامه نویسی پیشرفته\n",
    "\n",
    "</div>"
   ]
  },
  {
   "cell_type": "markdown",
   "metadata": {},
   "source": [
    "<div style=\"text-align: right\"> \n",
    "<span style=\"color:blue\">\n",
    "    \n",
    "### پروژه 1\n",
    "</span>\n",
    "</div>"
   ]
  },
  {
   "cell_type": "markdown",
   "metadata": {},
   "source": [
    "<div style=\"text-align: right\"> \n",
    "کلاسی تعریف کنید که تابع چگالی احتمال پیوسته دلخواه به همراه دامنه (کراندار) را دریافت کند و با یک متد میانگین و واریانس و تابع توزیع را با روش انتگرال گیری ذوزنقه ای بدست آورد.\n",
    "</div>"
   ]
  },
  {
   "cell_type": "markdown",
   "metadata": {},
   "source": [
    "<div style=\"text-align: right\"> \n",
    "<span style=\"color:blue\">\n",
    "    \n",
    "### پروژه 2\n",
    "</span>\n",
    "</div>"
   ]
  },
  {
   "cell_type": "markdown",
   "metadata": {},
   "source": [
    "<div style=\"text-align: right\"> \n",
    "برنامه ای بنویسید که 20 متن فارسی را در ابتدای برنامه بگیرد و سپس یک متن جدید را دریافت کند و تعیین کند که این متن جدید به کدامیک از 20 متن اولیه شبیه تر است.\n",
    "</div>"
   ]
  },
  {
   "cell_type": "markdown",
   "metadata": {},
   "source": [
    "<div style=\"text-align: right\"> \n",
    "<span style=\"color:blue\">\n",
    "    \n",
    "### پروژه 3\n",
    "</span>\n",
    "</div>"
   ]
  },
  {
   "cell_type": "markdown",
   "metadata": {},
   "source": [
    "<div style=\"text-align: right\"> \n",
    "برنامه ای بنویسید که 20 عکس را در ابتدای برنامه بگیرد و سپس یک عکس جدید را دریافت کند و تعیین کند که این عکس جدید به کدامیک از 20 عکس اولیه شبیه تر است.\n",
    "</div>"
   ]
  },
  {
   "cell_type": "markdown",
   "metadata": {},
   "source": [
    "<div style=\"text-align: right\"> \n",
    "<span style=\"color:blue\">\n",
    "    \n",
    "### پروژه 4\n",
    "</span>\n",
    "</div>"
   ]
  },
  {
   "cell_type": "markdown",
   "metadata": {},
   "source": [
    "<div style=\"text-align: right\"> \n",
    "کلاسی تعریف کنید که یک فایل داده متنی دریافت شامل داده های مربوز به یک مدل رگرسییونی دریافت کند و یک مدل رگرسیون خطی چندگانه روی داده ها برازش دهد و آزمون های معناداری پارامترهای مدل را انجام دهد و گزارش کند.\n",
    "</div>"
   ]
  }
 ],
 "metadata": {
  "kernelspec": {
   "display_name": "Python 3",
   "language": "python",
   "name": "python3"
  },
  "language_info": {
   "codemirror_mode": {
    "name": "ipython",
    "version": 3
   },
   "file_extension": ".py",
   "mimetype": "text/x-python",
   "name": "python",
   "nbconvert_exporter": "python",
   "pygments_lexer": "ipython3",
   "version": "3.7.1"
  }
 },
 "nbformat": 4,
 "nbformat_minor": 2
}
