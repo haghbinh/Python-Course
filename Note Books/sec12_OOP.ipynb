{
 "cells": [
  {
   "cell_type": "markdown",
   "id": "ff4a470f",
   "metadata": {},
   "source": [
    " <h1 style=\"text-align: justify; direction:rtl\"> \n",
    "   برنامه نویسی شیء گرا در پایتون\n",
    "</h1>"
   ]
  },
  {
   "cell_type": "markdown",
   "id": "983d5de2",
   "metadata": {},
   "source": [
    "### DEFINING CLASSES"
   ]
  },
  {
   "cell_type": "markdown",
   "id": "7216ae0f",
   "metadata": {},
   "source": [
    "#### PROGRAM 1:"
   ]
  },
  {
   "cell_type": "code",
   "execution_count": 14,
   "id": "d8afb188",
   "metadata": {},
   "outputs": [
    {
     "name": "stdout",
     "output_type": "stream",
     "text": [
      "<__main__.Demo object at 0x000002D1000F0250>\n"
     ]
    }
   ],
   "source": [
    "class Demo:\n",
    "\tpass\n",
    "\n",
    "D1=Demo()   #Instance or Object of the class Demo\n",
    "print(D1)\n"
   ]
  },
  {
   "cell_type": "markdown",
   "id": "13df953e",
   "metadata": {},
   "source": [
    "#### PROGRAM 2: \n",
    "Write a program to create a simple class and print the message, “Welcome to Object-oriented Programming” and print the address of the instance of the class."
   ]
  },
  {
   "cell_type": "code",
   "execution_count": 15,
   "id": "17c0d171",
   "metadata": {},
   "outputs": [
    {
     "name": "stdout",
     "output_type": "stream",
     "text": [
      "Welcome to Object-oriented Programming\n",
      "<__main__.MyFirstProgram object at 0x000002D100107D30>\n"
     ]
    }
   ],
   "source": [
    "class MyFirstProgram:\n",
    "\tprint('Welcome to Object-oriented Programming')\n",
    "\n",
    "C=MyFirstProgram()       #Instance of class.\n",
    "print(C)"
   ]
  },
  {
   "cell_type": "markdown",
   "id": "ea7165c9",
   "metadata": {},
   "source": [
    "### Adding Attributes to a Class"
   ]
  },
  {
   "cell_type": "markdown",
   "id": "d8958351",
   "metadata": {},
   "source": [
    "#### PROGRAM 3:\n",
    "Write a program to access the attributes of a class."
   ]
  },
  {
   "cell_type": "code",
   "execution_count": 16,
   "id": "ee192977",
   "metadata": {},
   "outputs": [
    {
     "name": "stdout",
     "output_type": "stream",
     "text": [
      "0\n",
      "0\n"
     ]
    }
   ],
   "source": [
    "class Rectangle:\n",
    "\tlength=0;    \t\t #Attribute length\n",
    "\tbreadth=0;   \t\t #Attribute breadth\n",
    "\n",
    "R1 = Rectangle()     #Instance of a class\n",
    "print(R1.length)     #Access attribute length\n",
    "print(R1.breadth)    #Access attribute breadth"
   ]
  },
  {
   "cell_type": "markdown",
   "id": "4709135f",
   "metadata": {},
   "source": [
    "### Assigning Value to an Attribute"
   ]
  },
  {
   "cell_type": "markdown",
   "id": "1b1e325f",
   "metadata": {},
   "source": [
    "#### PROGRAM 4:\n",
    "Write a program to calculate the area of a rectangle by assigning the value to the attributes of a rectangle, i.e. length and breadth."
   ]
  },
  {
   "cell_type": "code",
   "execution_count": 10,
   "id": "8c2758e2",
   "metadata": {},
   "outputs": [
    {
     "name": "stdout",
     "output_type": "stream",
     "text": [
      "Initial values of Attribute\n",
      "Length =  0\n",
      "Breadth =  0\n",
      "Area of Rectangle =  0\n",
      "After reassigning the value of attributes\n",
      "Length =  20\n",
      "Breadth =  30\n",
      "Area of Rectangle is  600\n"
     ]
    }
   ],
   "source": [
    "class Rectangle:\n",
    "\tlength = 0;\n",
    "\tbreadth = 0;\n",
    "\n",
    "\n",
    "R1 = Rectangle()\n",
    "print('Initial values of Attribute')\n",
    "print('Length = ', R1.length)\n",
    "print('Breadth = ', R1.breadth)\n",
    "print('Area of Rectangle = ', R1.length * R1.breadth)\n",
    "R1.length = 20\n",
    "R1.breadth = 30\n",
    "print('After reassigning the value of attributes')\n",
    "print('Length = ', R1.length)\n",
    "print('Breadth = ', R1.breadth)\n",
    "print('Area of Rectangle is ', R1.length * R1.breadth)"
   ]
  },
  {
   "cell_type": "markdown",
   "id": "5970da9e",
   "metadata": {},
   "source": [
    "#### PROGRAM 5:"
   ]
  },
  {
   "cell_type": "code",
   "execution_count": 17,
   "id": "fb13b682",
   "metadata": {},
   "outputs": [
    {
     "name": "stdout",
     "output_type": "stream",
     "text": [
      "White\n",
      "Iran\n"
     ]
    }
   ],
   "source": [
    "class pride():\n",
    "\tfounded = '1374'\n",
    "\tcountry = 'Iran'\n",
    "\tcolor = 'White'\n",
    "\n",
    "\n",
    "\n",
    "x=pride()\n",
    "print(x.color)\n",
    "print(x.country)\n",
    "\n",
    "\n",
    "# ____________________________________________________\n",
    "\n",
    "class student:\n",
    "\tid = 0\n",
    "\tvorudi = 1400\n",
    "\treshteh = ''\n",
    "\tmaghtae =''\n",
    "\tname = ''\n",
    "\tf_name=''\n",
    "\n",
    "\n",
    "\n",
    "Ali = student()\n",
    "Ali.maghtae = 'M.S.c'\n",
    "Ali.name ='Ali Jalali'\n",
    "Ali.vorudi = 1401\n",
    "Ali.id = 4104957\n",
    "Ali.reshteh = 'Math'\n",
    "\n",
    "class course:\n",
    "\thour = 0\n",
    "\tcapacity = 100\n",
    "\ttime = 90\n",
    "\tindex = 0\n",
    "\tgroup = ''\n",
    "\tcost = 0\n",
    "\tteacher_id = 0"
   ]
  },
  {
   "cell_type": "markdown",
   "id": "884263a7",
   "metadata": {},
   "source": [
    "### The Self-parameter"
   ]
  },
  {
   "cell_type": "markdown",
   "id": "53dd4ad9",
   "metadata": {},
   "source": [
    "#### PROGRAM 6: \n",
    "Write a program to create a method Display_Message() in a class having the name MethodDemo and display the message, “Welcome to Python Programming”"
   ]
  },
  {
   "cell_type": "code",
   "execution_count": 12,
   "id": "6e98dd2b",
   "metadata": {},
   "outputs": [
    {
     "name": "stdout",
     "output_type": "stream",
     "text": [
      "Welcome to Python Programming\n"
     ]
    }
   ],
   "source": [
    "class MethodDemo:\n",
    "\ta = 10\n",
    "\tdef Display_Message(self):\n",
    "\t\tprint('Welcome to Python Programming')\n",
    "\n",
    "ob1 = MethodDemo() \t#Instance of a class\n",
    "ob1.Display_Message() #Calling Method"
   ]
  },
  {
   "cell_type": "markdown",
   "id": "733da733",
   "metadata": {},
   "source": [
    "#### PROGRAM 7:\n",
    "Write a program to create a class named Circle. Pass the parameter radius to the method named Calc _ Area() and calculate the area of the circle."
   ]
  },
  {
   "cell_type": "code",
   "execution_count": 13,
   "id": "5bc18381",
   "metadata": {},
   "outputs": [
    {
     "name": "stdout",
     "output_type": "stream",
     "text": [
      "radius =  5\n",
      "Area of circle is  78.53981633974483\n"
     ]
    }
   ],
   "source": [
    "import math\n",
    "class Circle:\n",
    "\tdef Calc_Area(self,radius):\n",
    "\t\tprint('radius = ',radius)\n",
    "\t\treturn math.pi*radius**2\n",
    "\n",
    "ob1 = Circle()\n",
    "print('Area of circle is ',ob1.Calc_Area(5))\n",
    "\n",
    "class Rectangle:\n",
    "\tdef __init__(self, l , w):\n",
    "\t\tself.length = l\n",
    "\t\tself.breadth = w\n",
    "\tdef __repr__(self):\n",
    "\t\treturn f' Rectangle with length {self.length} and breadth {self.breadth}'\n",
    "\tdef Calc_Area(self, obj):\n",
    "\t\tprint(' Length = ',obj.length)\n",
    "\t\tprint(' Breadth = ',obj.breadth)\n",
    "\t\treturn obj.length * obj.breadth"
   ]
  },
  {
   "cell_type": "markdown",
   "id": "af55bae3",
   "metadata": {},
   "source": [
    "#### PROGRAM 8:\n",
    "Write a program to calculate the area of a rectangle. Pass the length and breadth of the rectangle to the method named Calc_Rect_Area()."
   ]
  },
  {
   "cell_type": "code",
   "execution_count": 18,
   "id": "25f22de9",
   "metadata": {},
   "outputs": [
    {
     "name": "stdout",
     "output_type": "stream",
     "text": [
      "length =  5\n",
      "breadth =  4\n",
      "Area of Rectangle is  20\n"
     ]
    }
   ],
   "source": [
    "class Rectangle:\n",
    "\tdef Calc_Area_Rect(self,length,breadth):\n",
    "\t\tprint('length = ',length)\n",
    "\t\tprint('breadth = ',breadth)\n",
    "\t\treturn length*breadth\n",
    "\n",
    "\n",
    "ob1 = Rectangle()\n",
    "print('Area of Rectangle is ',ob1.Calc_Area_Rect(5,4))\n"
   ]
  },
  {
   "cell_type": "markdown",
   "id": "f8ff0e8f",
   "metadata": {},
   "source": [
    "### The Self-parameter with Instance Variable"
   ]
  },
  {
   "cell_type": "markdown",
   "id": "51790c15",
   "metadata": {},
   "source": [
    "#### PROGRAM 9\n",
    "Here x displays the value of the local variable and self.x displays\n",
    "the value of the instance variable."
   ]
  },
  {
   "cell_type": "code",
   "execution_count": 19,
   "id": "d3d56c22",
   "metadata": {},
   "outputs": [
    {
     "name": "stdout",
     "output_type": "stream",
     "text": [
      "The value of local variable x is : 50\n",
      "The value of local variable x is : 5\n"
     ]
    }
   ],
   "source": [
    "class Prac:\n",
    "    x = 5\n",
    "    def disp(self,x):\n",
    "        # x = 30\n",
    "        print('The value of local variable x is :',x)\n",
    "        print('The value of local variable x is :',self.x)\n",
    "\n",
    "obj = Prac()\n",
    "obj.disp(50)"
   ]
  },
  {
   "cell_type": "markdown",
   "id": "e5a9f332",
   "metadata": {},
   "source": [
    "### The Self-parameter with Method"
   ]
  },
  {
   "cell_type": "markdown",
   "id": "a1ac9d6c",
   "metadata": {},
   "source": [
    "#### PROGRAM 10:\n",
    "Write a program to create two methods, i.e. Method_A() and\n",
    "Method_B(). Call Method_A() from Method_B() using self"
   ]
  },
  {
   "cell_type": "code",
   "execution_count": 20,
   "id": "9678d627",
   "metadata": {},
   "outputs": [
    {
     "name": "stdout",
     "output_type": "stream",
     "text": [
      "This is Method B.\n",
      "This is Method A.\n"
     ]
    }
   ],
   "source": [
    "class Self_demo:\n",
    "    def A(self):\n",
    "        print('This is Method A.')\n",
    "    def B(self):\n",
    "        print('This is Method B.')\n",
    "        self.A()\n",
    "\n",
    "ob2 = Self_demo()\n",
    "ob2.B()"
   ]
  },
  {
   "cell_type": "markdown",
   "id": "281bedf8",
   "metadata": {},
   "source": [
    "### DISPLAY CLASS ATTRIBUTES AND METHODS\n",
    " dir(name_of_class)  or  dir(Instance_of_class)"
   ]
  },
  {
   "cell_type": "markdown",
   "id": "2753071f",
   "metadata": {},
   "source": [
    "#### PROGRAM 11"
   ]
  },
  {
   "cell_type": "code",
   "execution_count": 21,
   "id": "ab92f0d9",
   "metadata": {},
   "outputs": [
    {
     "name": "stdout",
     "output_type": "stream",
     "text": [
      "Enter name of student:Hossein\n",
      "Name =  Hossein\n",
      "Enter age of student:24\n",
      "Age =  24\n",
      "Hello\n"
     ]
    }
   ],
   "source": [
    "class Display_demo:\n",
    "    Name = ''\n",
    "    age = ''\n",
    "    def read(self):\n",
    "        Name=input('Enter name of student:')\n",
    "        print('Name = ', Name)\n",
    "        age = input('Enter age of student:')\n",
    "        print('Age = ',age)\n",
    "    def __repr__(self):\n",
    "        return 'Hello'\n",
    "ob2 = Display_demo()\n",
    "ob2.read()\n",
    "dir(ob2)\n",
    "dir(Display_demo)\n",
    "ob2.age\n",
    "\n",
    "ob2.__dir__()\n",
    "\n",
    "ob2.__repr__()\n",
    "print(ob2)"
   ]
  },
  {
   "cell_type": "markdown",
   "id": "142ecf7c",
   "metadata": {},
   "source": [
    "### THE __init__ METHOD (CONSTRUCTOR)"
   ]
  },
  {
   "cell_type": "markdown",
   "id": "a7871ba4",
   "metadata": {},
   "source": [
    "#### PROGRAM 13"
   ]
  },
  {
   "cell_type": "code",
   "execution_count": 23,
   "id": "6337737d",
   "metadata": {},
   "outputs": [
    {
     "name": "stdout",
     "output_type": "stream",
     "text": [
      "The area of Circle is  77.5\n"
     ]
    },
    {
     "data": {
      "text/plain": [
       "3.1"
      ]
     },
     "execution_count": 23,
     "metadata": {},
     "output_type": "execute_result"
    }
   ],
   "source": [
    "class Circle:\n",
    "    def __init__(self,pi):\n",
    "        self.pi = pi\n",
    "    def calc_area(self,radius):\n",
    "        return self.pi*radius**2\n",
    "\n",
    "C1 = Circle(3.1)\n",
    "print('The area of Circle is ', C1.calc_area(5))\n",
    "C1.pi\n"
   ]
  },
  {
   "cell_type": "markdown",
   "id": "5b409f5a",
   "metadata": {},
   "source": [
    "### Attributes and __init__ Method"
   ]
  },
  {
   "cell_type": "markdown",
   "id": "fa1f76aa",
   "metadata": {},
   "source": [
    "#### PROGRAM 14\n"
   ]
  },
  {
   "cell_type": "code",
   "execution_count": null,
   "id": "a110275d",
   "metadata": {},
   "outputs": [],
   "source": [
    "class Circle:\n",
    "    def __init__(self):\n",
    "        self.pi = 3.14\n",
    "        self.radius = 5\n",
    "    def calc_area(self):\n",
    "        print('Radius = ',self.radius)\n",
    "        return self.pi * self.radius ** 2\n",
    "\n",
    "C1 = Circle()\n",
    "C1.pi\n",
    "\n",
    "print('The area of Circle is ', C1.calc_area())\n",
    "\n"
   ]
  },
  {
   "cell_type": "markdown",
   "id": "e831fcd7",
   "metadata": {},
   "source": [
    "### Attributes and \\__init\\__ Method"
   ]
  },
  {
   "cell_type": "markdown",
   "id": "1668533e",
   "metadata": {},
   "source": [
    "#### PROGRAM 14:\n",
    "Write a program to initialise the value of the attributes by\n",
    "making use of the init method"
   ]
  },
  {
   "cell_type": "code",
   "execution_count": 24,
   "id": "fe36dc84",
   "metadata": {},
   "outputs": [
    {
     "name": "stdout",
     "output_type": "stream",
     "text": [
      "Radius =  5\n",
      " The area of Circle is  78.5\n"
     ]
    }
   ],
   "source": [
    "class Circle:\n",
    "    pi = 0; #Attribute pi\n",
    "    radius = 0 #Attribute radius\n",
    "    def __init__(self):\n",
    "        self.pi = 3.14\n",
    "        self.radius = 5\n",
    "    def calc_area(self):\n",
    "        print('Radius = ',self.radius)\n",
    "        return self.pi*self.radius**2\n",
    "C1=Circle()\n",
    "print(' The area of Circle is ',C1.calc_area())"
   ]
  },
  {
   "cell_type": "markdown",
   "id": "55f83e4d",
   "metadata": {},
   "source": [
    "#### PROGRAM 15:\n",
    "Write a program to calculate the volume of a box."
   ]
  },
  {
   "cell_type": "code",
   "execution_count": 25,
   "id": "661226a4",
   "metadata": {},
   "outputs": [
    {
     "name": "stdout",
     "output_type": "stream",
     "text": [
      "Width =  5\n",
      "Height =  5\n",
      "depth =  5\n",
      " The Volume of Cube is  125\n"
     ]
    }
   ],
   "source": [
    "class Box:\n",
    "    width = 0; #Member Variables\n",
    "    height = 0;\n",
    "    depth = 0;\n",
    "    volume = 0;\n",
    "    def __init__(self):\n",
    "        self.width = 5\n",
    "        self.height = 5\n",
    "        self.depth = 5\n",
    "    def calc_vol(self):\n",
    "        print('Width = ',self.width)\n",
    "        print('Height = ',self.height)\n",
    "        print('depth = ',self.depth)\n",
    "        return self.width * self.height * self.depth\n",
    "    \n",
    "    \n",
    "B1=Box()\n",
    "print(' The Volume of Cube is ',B1.calc_vol())"
   ]
  },
  {
   "cell_type": "markdown",
   "id": "2d2c7e6e",
   "metadata": {},
   "source": [
    "### ACCESSIBILITY\n",
    " In Python, there are no keywords like public, protected or private. All attributes and methods are public by default.\n",
    " \n",
    " There is one way to define private in Python. The syntax to define private attribute and methods is\n"
   ]
  },
  {
   "cell_type": "markdown",
   "id": "25cc1189",
   "metadata": {},
   "source": [
    "### PROGRAM 16:\n",
    "Write a program to illustrate the use of private"
   ]
  },
  {
   "cell_type": "code",
   "execution_count": 27,
   "id": "bf9b81e5",
   "metadata": {},
   "outputs": [
    {
     "name": "stdout",
     "output_type": "stream",
     "text": [
      "Name =  Ali\n",
      "Bank Account Number =  10101\n"
     ]
    }
   ],
   "source": [
    "class Person:\n",
    "    def __init__(self,name,x):\n",
    "        self.Name = name\n",
    "        self.__BankAccNo = x\n",
    "    def Display(self):\n",
    "        print('Name = ', self.Name)\n",
    "        print('Bank Account Number = ', self.__BankAccNo )\n",
    "\n",
    "P = Person('Ali',10101)\n",
    "P.Display()"
   ]
  },
  {
   "cell_type": "code",
   "execution_count": 28,
   "id": "e3001278",
   "metadata": {},
   "outputs": [
    {
     "ename": "AttributeError",
     "evalue": "'Person' object has no attribute '__BankAccNo'",
     "output_type": "error",
     "traceback": [
      "\u001b[1;31m---------------------------------------------------------------------------\u001b[0m",
      "\u001b[1;31mAttributeError\u001b[0m                            Traceback (most recent call last)",
      "\u001b[1;32m~\\AppData\\Local\\Temp\\ipykernel_1480\\725322776.py\u001b[0m in \u001b[0;36m<module>\u001b[1;34m\u001b[0m\n\u001b[1;32m----> 1\u001b[1;33m \u001b[0mprint\u001b[0m\u001b[1;33m(\u001b[0m\u001b[0mP\u001b[0m\u001b[1;33m.\u001b[0m\u001b[0m__BankAccNo\u001b[0m\u001b[1;33m)\u001b[0m\u001b[1;33m\u001b[0m\u001b[1;33m\u001b[0m\u001b[0m\n\u001b[0m",
      "\u001b[1;31mAttributeError\u001b[0m: 'Person' object has no attribute '__BankAccNo'"
     ]
    }
   ],
   "source": [
    "print(P.__BankAccNo)"
   ]
  },
  {
   "cell_type": "markdown",
   "id": "aab661d4",
   "metadata": {},
   "source": [
    "### PASSING AN OBJECT AS PARAMETER TO A METHOD"
   ]
  },
  {
   "cell_type": "markdown",
   "id": "71023e7e",
   "metadata": {},
   "source": [
    "#### PROGRAM 17:\n",
    "Write a program to pass an object as parameter to a method."
   ]
  },
  {
   "cell_type": "code",
   "execution_count": 30,
   "id": "90cc3792",
   "metadata": {},
   "outputs": [
    {
     "name": "stdout",
     "output_type": "stream",
     "text": [
      " Obj1 == Obj2  True\n",
      " Obj1 == Obj3  False\n"
     ]
    }
   ],
   "source": [
    "class Test:\n",
    "    def __init__(self,x,y):\n",
    "        self.a = x\n",
    "        self.b = y\n",
    "    def equals(self,obj):\n",
    "        if(obj.a == self.a and obj.b == self.b):\n",
    "            return True\n",
    "        else:\n",
    "            return False\n",
    "\n",
    "Obj1 = Test(10,20)\n",
    "Obj2 = Test(10,20)\n",
    "Obj3 = Test(12,20)\n",
    "\n",
    "print(' Obj1 == Obj2 ',Obj1.equals(Obj2))\n",
    "print(' Obj1 == Obj3 ',Obj1.equals(Obj3))"
   ]
  },
  {
   "cell_type": "markdown",
   "id": "2e402377",
   "metadata": {},
   "source": [
    "#### PROGRAM 18:\n",
    "Write a program 17 with \\__eq\\__ method."
   ]
  },
  {
   "cell_type": "code",
   "execution_count": 31,
   "id": "c2f07622",
   "metadata": {},
   "outputs": [
    {
     "name": "stdout",
     "output_type": "stream",
     "text": [
      " Obj1 == Obj2  True\n",
      " Obj1 == Obj3  False\n"
     ]
    }
   ],
   "source": [
    "class Test2:\n",
    "    def __init__(self,x,y):\n",
    "        self.a = x\n",
    "        self.b = y\n",
    "    def __eq__(self, obj):\n",
    "        if(obj.a == self.a and obj.b == self.b):\n",
    "            return True\n",
    "        else:\n",
    "            return False\n",
    "\n",
    "Obj1 = Test2(10,20)\n",
    "Obj2 = Test2(10,20)\n",
    "Obj3 = Test2(12,20)\n",
    "\n",
    "print(' Obj1 == Obj2 ',Obj1==Obj2)\n",
    "print(' Obj1 == Obj3 ',Obj1==Obj3)"
   ]
  },
  {
   "cell_type": "markdown",
   "id": "cbde5a1e",
   "metadata": {},
   "source": [
    "#### PROGRAM 19: \n",
    "Write a program to calculate the area of a rectangle by passing an object as parameter to method."
   ]
  },
  {
   "cell_type": "code",
   "execution_count": 35,
   "id": "586cbebe",
   "metadata": {},
   "outputs": [
    {
     "name": "stdout",
     "output_type": "stream",
     "text": [
      "Rectangle with length 20 and width 10\n"
     ]
    }
   ],
   "source": [
    "class Rectangle:\n",
    "    def __init__(self,l,w):\n",
    "        self.length = l\n",
    "        self.width = w\n",
    "    def __repr__(self):\n",
    "        y = f'Rectangle with length {self.length} and width {self.width}'\n",
    "        return y\n",
    "    def Area(self,obj):\n",
    "        return obj.length*obj.width\n",
    "\n",
    "Obj1 = Rectangle(20,10)\n",
    "Obj2 = Rectangle(10,10)\n",
    "print(Obj1)"
   ]
  },
  {
   "cell_type": "code",
   "execution_count": 37,
   "id": "5bd2433a",
   "metadata": {},
   "outputs": [
    {
     "name": "stdout",
     "output_type": "stream",
     "text": [
      "100\n"
     ]
    }
   ],
   "source": [
    "print(Obj1.Area(Obj2))"
   ]
  },
  {
   "cell_type": "markdown",
   "id": "f04f4916",
   "metadata": {},
   "source": [
    "#### PROGRAM 20: \n",
    "Write a program to overload the + Operator and perform the addition of two objects."
   ]
  },
  {
   "cell_type": "code",
   "execution_count": 42,
   "id": "55aa766f",
   "metadata": {},
   "outputs": [
    {
     "name": "stdout",
     "output_type": "stream",
     "text": [
      " The value of Ob1 = 20\n",
      " The value of Ob2 = 30\n",
      " The Addition of two objects is:50\n"
     ]
    }
   ],
   "source": [
    "class OprOverloadingDemo:\n",
    "    def __init__(self,X):\n",
    "        self.X = X\n",
    "    def __add__(self,other):\n",
    "        print(' The value of Ob1 =',self.X)\n",
    "        print(' The value of Ob2 =',other.X)\n",
    "        print(' The Addition of two objects is:',end='')\n",
    "        return ((self.X+other.X))\n",
    "    \n",
    "Ob1 = OprOverloadingDemo(20)\n",
    "Ob2 = OprOverloadingDemo(30)\n",
    "Ob3 = Ob1 + Ob2\n",
    "print(Ob3)"
   ]
  },
  {
   "cell_type": "markdown",
   "id": "ef3c8e60",
   "metadata": {},
   "source": [
    "#### PROGRAM 21:\n",
    "Write a program to use special methods and compare two objects.\n"
   ]
  },
  {
   "cell_type": "code",
   "execution_count": 44,
   "id": "fcca41a0",
   "metadata": {},
   "outputs": [
    {
     "name": "stdout",
     "output_type": "stream",
     "text": [
      " The value of Ob1 = 20\n",
      " The value of Ob2 = 30\n",
      " Ob1 < Ob2 :True\n",
      " Ob1 > Ob2 :False\n",
      " Ob1 <= Ob2 :True\n"
     ]
    }
   ],
   "source": [
    "class CmpOprDemo:\n",
    "\tdef __init__(self,X):\n",
    "\t\tself.X = X\n",
    "\tdef __lt__(self,other):\n",
    "\t\tprint(' The value of Ob1 =',self.X)\n",
    "\t\tprint(' The value of Ob2 =',other.X)\n",
    "\t\tprint(' Ob1 < Ob2 :',end='')\n",
    "\t\treturn self.X <other.X\n",
    "\tdef __gt__(self,other):\n",
    "\t\tprint(' Ob1 > Ob2 :',end='')\n",
    "\t\treturn self.X > other.X\n",
    "\tdef __le__(self,other):\n",
    "\t\tprint(' Ob1 <= Ob2 :',end='')\n",
    "\t\treturn self.X <= other.X\n",
    "\n",
    "Ob1 = CmpOprDemo(20)\n",
    "Ob2 = CmpOprDemo(30)\n",
    "print( Ob1 < Ob2 )\n",
    "print( Ob1 > Ob2 )\n",
    "print( Ob1 <= Ob2 )\n"
   ]
  },
  {
   "cell_type": "markdown",
   "id": "1d8ff30d",
   "metadata": {},
   "source": [
    "## INHERITANCE"
   ]
  },
  {
   "cell_type": "markdown",
   "id": "07f183e2",
   "metadata": {},
   "source": [
    "#### PROGRAM 22:\n",
    "Write a simple program on inheritance."
   ]
  },
  {
   "cell_type": "code",
   "execution_count": 50,
   "id": "12554ea4",
   "metadata": {},
   "outputs": [],
   "source": [
    "class A:\n",
    "    x = 'Hello I am in Base Class'\n",
    "\n",
    "class B(A):\n",
    "    y = 'I am in derived Class'\n",
    "\n",
    "ob = B()\n",
    "ob0 = A()"
   ]
  },
  {
   "cell_type": "markdown",
   "id": "9c6678df",
   "metadata": {},
   "source": [
    "#### PROGRAM 23: \n",
    "Write program to create a base class with Point. Defi ne the method Set_Cordinate(X,Y). Defi ne the new class New_Point, which inherits the Point class. Also add draw() method inside the subclass..\n"
   ]
  },
  {
   "cell_type": "code",
   "execution_count": 46,
   "id": "5da91f67",
   "metadata": {},
   "outputs": [
    {
     "name": "stdout",
     "output_type": "stream",
     "text": [
      "(X,Y)=(2,3)\n"
     ]
    }
   ],
   "source": [
    "class point:\n",
    "    def Set_cordinate(self,x,y):\n",
    "        self.x = x\n",
    "        self.y =y\n",
    "\n",
    "class New_point(point):\n",
    "    def draw(self):\n",
    "        print(f'(X,Y)=({self.x},{self.y})')\n",
    "\n",
    "\n",
    "p = point()\n",
    "p2 = New_point()\n",
    "p2.Set_cordinate(2,3)\n",
    "\n",
    "p2.draw()"
   ]
  },
  {
   "cell_type": "markdown",
   "id": "731f85d5",
   "metadata": {},
   "source": [
    "#### PROGRAM 24: \n",
    "Write a program to inherit attributes of the parent class to a child class\n"
   ]
  },
  {
   "cell_type": "code",
   "execution_count": 47,
   "id": "761d5026",
   "metadata": {},
   "outputs": [
    {
     "name": "stdout",
     "output_type": "stream",
     "text": [
      "i= 100  , j= 200\n",
      "i= 100  , j= 200  ,k= 300\n"
     ]
    }
   ],
   "source": [
    "class A:\n",
    "    i,j = 0,0\n",
    "    def shoij(self):\n",
    "        print('i=',self.i,' , j=',self.j)\n",
    "\n",
    "class B(A):\n",
    "    k=0\n",
    "    def shoij(self):\n",
    "        print('i=', self.i, ' , j=', self.j,' ,k=',self.k)\n",
    "\n",
    "ob1 = A()\n",
    "ob2 = B()\n",
    "ob1.i = 100\n",
    "ob1.j = 200\n",
    "ob1.shoij()\n",
    "\n",
    "ob2.i = 100\n",
    "ob2.j = 200\n",
    "ob2.k = 300\n",
    "ob2.shoij()"
   ]
  },
  {
   "cell_type": "markdown",
   "id": "c6129019",
   "metadata": {},
   "source": [
    "#### PROGRAM 25:\n",
    "Write a simple program to demonstrate the concept of multilevel inheritance."
   ]
  },
  {
   "cell_type": "code",
   "execution_count": 48,
   "id": "3e3f3673",
   "metadata": {},
   "outputs": [
    {
     "name": "stdout",
     "output_type": "stream",
     "text": [
      "Name=  \n",
      "Age= 0\n",
      "Height=  \n",
      "weight=  \n",
      "Enter name:Hossein\n",
      "Enter age:24\n",
      "Enter height:180\n",
      "Enter Weigth:90\n"
     ]
    }
   ],
   "source": [
    "class A:\n",
    "    name = ' '\n",
    "    age = 0\n",
    "\n",
    "class B(A):\n",
    "    height = ' '\n",
    "\n",
    "class c(B):\n",
    "    Weigth = ' '\n",
    "    def Read(self):\n",
    "        self.name = input('Enter name:')\n",
    "        self.age = input('Enter age:')\n",
    "        self.height = input('Enter height:')\n",
    "        self.Weigth = input('Enter Weigth:')\n",
    "    def display(self):\n",
    "        print('Name=',self.name)\n",
    "        print('Age=', self.age)\n",
    "        print('Height=', self.height)\n",
    "        print('weight=', self.Weigth)\n",
    "\n",
    "\n",
    "ob1 = c()\n",
    "ob1.display()\n",
    "ob1.Read()"
   ]
  },
  {
   "cell_type": "markdown",
   "id": "00500a48",
   "metadata": {},
   "source": [
    "#### PROGRAM 26: \n",
    "Write a simple program to demonstrate multiple inheritance"
   ]
  },
  {
   "cell_type": "code",
   "execution_count": 49,
   "id": "7c5b8e68",
   "metadata": {},
   "outputs": [
    {
     "name": "stdout",
     "output_type": "stream",
     "text": [
      "Enter a:2\n",
      "Enter b:4\n",
      "Enter c:3\n",
      "a= 2\n",
      "b= 4\n",
      "c= 3\n"
     ]
    }
   ],
   "source": [
    "class A:\n",
    "    a=0\n",
    "\n",
    "class B:\n",
    "    b=0\n",
    "\n",
    "class C(A,B):\n",
    "    c=0\n",
    "    def Read(self):\n",
    "        self.a = input('Enter a:')\n",
    "        self.b = input('Enter b:')\n",
    "        self.c = input('Enter c:')\n",
    "    def display(self):\n",
    "        print('a=',self.a)\n",
    "        print('b=', self.b)\n",
    "        print('c=', self.c)\n",
    "\n",
    "ob = C()\n",
    "ob.Read()\n",
    "ob.display()"
   ]
  },
  {
   "cell_type": "markdown",
   "id": "e4595c9c",
   "metadata": {},
   "source": [
    "#### PROGRAM 27: \n",
    "Write a program to calculate the volume of Box using the init() method"
   ]
  },
  {
   "cell_type": "code",
   "execution_count": 51,
   "id": "47860dad",
   "metadata": {},
   "outputs": [
    {
     "name": "stdout",
     "output_type": "stream",
     "text": [
      "Width = 3\n",
      "Height = 4\n",
      "Weight = 36\n",
      "Depth = 5\n",
      "Volume = 60\n"
     ]
    }
   ],
   "source": [
    "class Box:\n",
    "    def __init__(self,w,h,d):\n",
    "        self.width = w\n",
    "        self.height = h\n",
    "        self.depth = d\n",
    "    def volume(self):\n",
    "        return self.width*self.height*self.depth\n",
    "\n",
    "class childBox(Box):\n",
    "    def __init__(self,w,h,d,wt):\n",
    "        self.width = w\n",
    "        self.height = h\n",
    "        self.depth = d\n",
    "        self.weight = wt\n",
    "        \n",
    "\n",
    "class childBox(Box):\n",
    "    def __init__(self,w,h,d,wt):\n",
    "        super().__init__(w,h,d)\n",
    "        self.weight = wt\n",
    "    def display(self):\n",
    "        print(f'Width = {self.width}')\n",
    "        print(f'Height = {self.height}')\n",
    "        print(f'Weight = {self.weight}')\n",
    "        print(f'Depth = {self.depth}')\n",
    "        print(f'Volume = {self.volume()}')\n",
    "\n",
    "b1 = Box(3,4,5)\n",
    "b1.volume()\n",
    "\n",
    "b2 = childBox(3,4,5,36)\n",
    "b2.volume()\n",
    "b2.display()\n"
   ]
  },
  {
   "cell_type": "markdown",
   "id": "d8929637",
   "metadata": {},
   "source": [
    "### METHOD OVERRIDING"
   ]
  },
  {
   "cell_type": "markdown",
   "id": "bf5e5c8d",
   "metadata": {},
   "source": [
    "#### PROGRAM 28:\n",
    "Write a program to show method overriding."
   ]
  },
  {
   "cell_type": "code",
   "execution_count": 53,
   "id": "b291b733",
   "metadata": {},
   "outputs": [
    {
     "name": "stdout",
     "output_type": "stream",
     "text": [
      "I am in Subclass\n",
      "I am in super class\n"
     ]
    }
   ],
   "source": [
    "class A:\n",
    "    def display(self):\n",
    "        print('I am in super class')\n",
    "\n",
    "class B(A):\n",
    "    def display(self):\n",
    "        print('I am in Subclass')\n",
    "        super().display()\n",
    "\n",
    "\n",
    "ob = B()\n",
    "ob.display()\n",
    "\n"
   ]
  },
  {
   "cell_type": "code",
   "execution_count": 54,
   "id": "3a8cb6e8",
   "metadata": {},
   "outputs": [
    {
     "name": "stdout",
     "output_type": "stream",
     "text": [
      "I am in class D\n",
      "I am in class B\n",
      "I am in class A\n",
      "I am in class C\n",
      "I am in class A\n"
     ]
    }
   ],
   "source": [
    "class A:\n",
    "    def display(self):\n",
    "        print('I am in class A')\n",
    "\n",
    "class B(A):\n",
    "    def display(self):\n",
    "        print('I am in class B')\n",
    "        A.display(self)\n",
    "\n",
    "class C(A):\n",
    "    def display(self):\n",
    "        print('I am in class C')\n",
    "        A.display(self)\n",
    "\n",
    "class D(B,C):\n",
    "    def display(self):\n",
    "        print('I am in class D')\n",
    "        B.display(self)\n",
    "        C.display(self)\n",
    "        \n",
    "        \n",
    "ob = D()\n",
    "ob.display()"
   ]
  },
  {
   "cell_type": "code",
   "execution_count": 55,
   "id": "058433d8",
   "metadata": {},
   "outputs": [
    {
     "name": "stdout",
     "output_type": "stream",
     "text": [
      "I am in class D\n",
      "I am in class B\n",
      "I am in class C\n",
      "I am in class A\n"
     ]
    }
   ],
   "source": [
    "class A:\n",
    "    def display(self):\n",
    "        print('I am in class A')\n",
    "\n",
    "class B(A):\n",
    "    def display(self):\n",
    "        print('I am in class B')\n",
    "        super().display()\n",
    "\n",
    "class C(A):\n",
    "    def display(self):\n",
    "        print('I am in class C')\n",
    "        super().display()\n",
    "\n",
    "class D(B,C):\n",
    "    def display(self):\n",
    "        print('I am in class D')\n",
    "        super().display()\n",
    "\n",
    "ob = D()\n",
    "ob.display()"
   ]
  },
  {
   "cell_type": "markdown",
   "id": "9f0765af",
   "metadata": {},
   "source": [
    "## Super to Call Super Class Constructor"
   ]
  },
  {
   "cell_type": "markdown",
   "id": "79a5e603",
   "metadata": {},
   "source": [
    "#### PROGRAM 29: \n",
    "Use super() and call the constructor of the base class"
   ]
  },
  {
   "cell_type": "code",
   "execution_count": 57,
   "id": "3fe0f7a9",
   "metadata": {},
   "outputs": [
    {
     "name": "stdout",
     "output_type": "stream",
     "text": [
      " Contents of Base Class\n",
      "100 200 300\n",
      " Contents of Derieved Class\n",
      "10 20 30 40\n"
     ]
    }
   ],
   "source": [
    "class Demo:\n",
    "        def __init__(self,A,B,C):\n",
    "            self.a = A\n",
    "            self.b = B\n",
    "            self.c = C\n",
    "        def display(self):\n",
    "            print(self.a,self.b,self.c)\n",
    "\n",
    "class NewDemo(Demo):\n",
    "        def __init__(self,A,B,C,D):\n",
    "            self.d = D\n",
    "            super().__init__(A,B,C) #Super to call Super class\n",
    "        def display(self):\n",
    "            print(self.a,self.b,self.c,self.d)\n",
    "\n",
    "B1 = Demo(100,200,300)\n",
    "print(' Contents of Base Class')\n",
    "B1.display ()\n",
    "D1=NewDemo(10,20,30,40)\n",
    "print(' Contents of Derieved Class')\n",
    "D1.display()\n"
   ]
  },
  {
   "cell_type": "markdown",
   "id": "4c944e01",
   "metadata": {},
   "source": [
    "### METHOD OVERRIDING"
   ]
  },
  {
   "cell_type": "markdown",
   "id": "2682e010",
   "metadata": {},
   "source": [
    "### PROGRAM 30:\n",
    "Write a program to show method overriding."
   ]
  },
  {
   "cell_type": "code",
   "execution_count": 58,
   "id": "94fa3ff6",
   "metadata": {},
   "outputs": [
    {
     "name": "stdout",
     "output_type": "stream",
     "text": [
      " I am in Sub Class\n"
     ]
    }
   ],
   "source": [
    "class A: #Base Class\n",
    "        i = 0\n",
    "        def display(self):\n",
    "            print(' I am in Super Class')\n",
    "\n",
    "class B(A): #Derived Class\n",
    "        i = 0\n",
    "        def display(self): #Overridden Method\n",
    "            print(' I am in Sub Class')\n",
    "\n",
    "D1 = B()\n",
    "D1.display()\n"
   ]
  },
  {
   "cell_type": "markdown",
   "id": "9aff5684",
   "metadata": {},
   "source": [
    "#### PROGRAM 31:\n",
    "Write a program to show method overriding."
   ]
  },
  {
   "cell_type": "code",
   "execution_count": 59,
   "id": "71eac0b6",
   "metadata": {},
   "outputs": [
    {
     "name": "stdout",
     "output_type": "stream",
     "text": [
      " I am in Sub Class\n",
      " I am in Super Class\n"
     ]
    }
   ],
   "source": [
    "class A: #Base Class\n",
    "        i = 0\n",
    "        def display(self):\n",
    "            print(' I am in Super Class')\n",
    "class B(A): #Super Class\n",
    "        i = 0\n",
    "        def display(self): #Overriden Method\n",
    "            print(' I am in Sub Class')\n",
    "            super().display() #Call Display method of Base class\n",
    "\n",
    "D1 = B() #Instance of sub class\n",
    "D1.display()\n"
   ]
  },
  {
   "cell_type": "markdown",
   "id": "4fc91d2b",
   "metadata": {},
   "source": [
    "#### PROGRAM 32:\n",
    "Program to override Display() method in multiple inheritance."
   ]
  },
  {
   "cell_type": "code",
   "execution_count": 61,
   "id": "f7b2fd62",
   "metadata": {},
   "outputs": [
    {
     "name": "stdout",
     "output_type": "stream",
     "text": [
      " I am in D\n",
      "I am in B\n",
      " Iam in A\n",
      " I am in C\n",
      " Iam in A\n"
     ]
    }
   ],
   "source": [
    "class A(object):\n",
    "        def Display(self):\n",
    "            print(\" Iam in A\")\n",
    "\n",
    "class B(A):\n",
    "        def Display(self):\n",
    "            print(\"I am in B\")\n",
    "            A.Display(self) # call the parent class method too\n",
    "\n",
    "class C(A):\n",
    "        def Display(self):\n",
    "            print(\" I am in C\")\n",
    "            A.Display(self)\n",
    "class D(B,C):\n",
    "        def Display(self):\n",
    "            print(\" I am in D\")\n",
    "            B.Display(self)\n",
    "            C.Display(self)\n",
    "            \n",
    "            \n",
    "Ob = D()\n",
    "Ob.Display()\n"
   ]
  },
  {
   "cell_type": "markdown",
   "id": "3ab475fb",
   "metadata": {},
   "source": [
    "#### PROGRAM 33:\n",
    "Program to override Display() method in multiple inheritance."
   ]
  },
  {
   "cell_type": "code",
   "execution_count": 62,
   "id": "59b63819",
   "metadata": {},
   "outputs": [
    {
     "name": "stdout",
     "output_type": "stream",
     "text": [
      " I am in D\n",
      " I am in B\n",
      " I am in C\n",
      " I am in A\n"
     ]
    }
   ],
   "source": [
    "class A(object):\n",
    "        def Display(self):\n",
    "            print(\" I am in A\")\n",
    "class B(A):\n",
    "        def Display(self):\n",
    "            print(\" I am in B\")\n",
    "            super().Display() # call the parent class method too\n",
    "class C(A):\n",
    "        def Display(self):\n",
    "            print(\" I am in C\")\n",
    "            super().Display()\n",
    "class D(B, C):\n",
    "        def Display(self):\n",
    "            print(\" I am in D\")\n",
    "            super().Display()\n",
    "\n",
    "Ob = D()\n",
    "Ob.Display()\n"
   ]
  },
  {
   "cell_type": "code",
   "execution_count": null,
   "id": "fb9abfb6",
   "metadata": {},
   "outputs": [],
   "source": []
  }
 ],
 "metadata": {
  "kernelspec": {
   "display_name": "Python 3 (ipykernel)",
   "language": "python",
   "name": "python3"
  },
  "language_info": {
   "codemirror_mode": {
    "name": "ipython",
    "version": 3
   },
   "file_extension": ".py",
   "mimetype": "text/x-python",
   "name": "python",
   "nbconvert_exporter": "python",
   "pygments_lexer": "ipython3",
   "version": "3.9.13"
  }
 },
 "nbformat": 4,
 "nbformat_minor": 5
}
